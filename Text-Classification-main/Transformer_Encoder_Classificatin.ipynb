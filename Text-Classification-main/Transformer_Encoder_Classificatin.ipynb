{
 "cells": [
  {
   "cell_type": "markdown",
   "metadata": {
    "id": "Z97an_x5Bs8g"
   },
   "source": [
    "# Load Libraries, Read Data, and Label Mapping\n"
   ]
  },
  {
   "cell_type": "code",
   "execution_count": 1,
   "metadata": {
    "colab": {
     "base_uri": "https://localhost:8080/"
    },
    "id": "yv4mKXx-vSxq",
    "outputId": "7ea75ca3-4df9-48a7-a8df-15005527a215"
   },
   "outputs": [
    {
     "name": "stdout",
     "output_type": "stream",
     "text": [
      "     Category                                            Message\n",
      "1978     spam  Reply to win £100 weekly! Where will the 2006 ...\n",
      "3989      ham  Hello. Sort of out in town already. That . So ...\n",
      "3935      ham   How come guoyang go n tell her? Then u told her?\n",
      "4078      ham  Hey sathya till now we dint meet not even a si...\n",
      "4086     spam  Orange brings you ringtones from all time Char...\n"
     ]
    }
   ],
   "source": [
    "import math\n",
    "import torch\n",
    "import torch.nn as nn\n",
    "import torchtext\n",
    "import pandas as pd\n",
    "from sklearn.model_selection import train_test_split\n",
    "from torch.utils.data import DataLoader\n",
    "from tqdm import tqdm\n",
    "from torchtext.data.utils import get_tokenizer\n",
    "from torchtext.vocab import build_vocab_from_iterator\n",
    "\n",
    "device = torch.device(\"cuda\" if torch.cuda.is_available() else \"cpu\")\n",
    "\n",
    "df = pd.read_csv('spam_ham.csv')\n",
    "df_train, df_test = train_test_split(df, test_size=0.2, random_state=42)\n",
    "print(df_train.head())"
   ]
  },
  {
   "cell_type": "code",
   "execution_count": 2,
   "metadata": {
    "colab": {
     "base_uri": "https://localhost:8080/"
    },
    "id": "cg67CXnjv-KN",
    "outputId": "42bbb4cd-2ba4-4a4c-a59d-1601441936cd"
   },
   "outputs": [
    {
     "name": "stdout",
     "output_type": "stream",
     "text": [
      "{0: 'spam', 1: 'ham'}\n",
      "{'spam': 0, 'ham': 1}\n"
     ]
    }
   ],
   "source": [
    "labels = df_train[\"Category\"].unique()\n",
    "num_labels = len(labels)\n",
    "label2id, id2label = dict(), dict()\n",
    "for i, label in enumerate(labels):\n",
    "    label2id[label] = i\n",
    "    id2label[i] = label\n",
    "\n",
    "print(id2label)\n",
    "print(label2id)\n"
   ]
  },
  {
   "cell_type": "markdown",
   "metadata": {
    "id": "-mbougVLB33u"
   },
   "source": [
    "# Build Vocabulary"
   ]
  },
  {
   "cell_type": "code",
   "execution_count": 3,
   "metadata": {
    "colab": {
     "base_uri": "https://localhost:8080/"
    },
    "id": "1iMCO9MIwt1L",
    "outputId": "42cf06cf-179a-465f-e2da-90dff1208a60"
   },
   "outputs": [
    {
     "name": "stdout",
     "output_type": "stream",
     "text": [
      "['this', 'is', 'text']\n"
     ]
    }
   ],
   "source": [
    "# Load tokenizer\n",
    "tokenizer = get_tokenizer('basic_english')\n",
    "\n",
    "text = 'this is text'\n",
    "print(tokenizer(text))"
   ]
  },
  {
   "cell_type": "code",
   "execution_count": 4,
   "metadata": {
    "colab": {
     "base_uri": "https://localhost:8080/"
    },
    "id": "e7m_knq1w8C6",
    "outputId": "958dc8d8-d751-4596-b242-9a14fb1abbf6"
   },
   "outputs": [
    {
     "name": "stdout",
     "output_type": "stream",
     "text": [
      "{'somone': 7347, 'if': 46, '1/2price': 4081, 'sportsx': 7400, 'cultures': 5141, 'homeowners': 2253, 'power': 1202, 'ur': 44, '08714712412': 3974, 'neglet': 6491, 'points': 683, 'weaknesses': 7932, 'mtalk': 3370, 'latest': 331, 'addie': 2054, 'joke': 1793, 'smoke': 768, '<pad>': 0, \"'\": 7, 'inde': 5950, 'advice': 1667, '.': 2, 'nope': 758, 'pushes': 6941, 'newspapers': 6506, '<unk>': 1, 'ml': 6395, 'you': 5, 'age': 734, 'engin': 3018, 'gotten': 3129, 'land': 677, 'eek': 3010, '09066364311': 2629, 'message': 158, 'dramatic': 5319, 'all': 62, 'vat': 7842, 'to': 4, 'wee': 3793, 'credit': 866, '10': 574, 'or': 35, ')': 27, 'ac/u/natalie2k9': 4428, 'every': 188, 'mouse': 6425, 'scold': 3559, 'pc': 1197, 'way': 164, 'silent': 973, '08701237397': 3939, 'pub': 686, 'ias': 5905, 'i': 3, 'ball': 4672, '1000': 1634, 'configure': 5057, 'hello': 258, 'easter': 3006, 'tulip': 3737, 'prolly': 2391, 'drms': 2996, 'portal': 6820, 'phony': 6758, 'general': 5665, '09063440451': 4040, 'alter': 4498, 'balance': 1679, 'neighbor': 6492, 'maybe': 396, 'ring': 614, 'go': 58, 'nighters': 6514, 'audrie': 4621, 'lets': 583, '80488': 1429, ',': 6, 'suppose': 7516, 'crucify': 5127, 'upstairs': 3761, 'stubborn': 7465, 'forgot': 366, 'mum': 644, 'collapsed': 5022, 'mail': 509, 'toplay': 7695, 'm227xy': 6268, 'great': 141, '?': 8, 'conclusion': 5054, 'totally': 1597, 'but': 33, 'forget': 557, 'tariffs': 1920, '220-cm2': 2651, '9280114': 4379, 'mins': 310, 'yourself': 518, 'unhappy': 7788, 'previews': 6873, 'no>': 6530, '18': 519, 'wisheds': 7991, 'lambu': 6146, 'hun-onbus': 5892, 'moji': 2334, 'jogging': 3227, '08719181259': 3998, 'oz': 1837, '945+': 4383, 'that': 24, 'cheat': 2878, '£50award': 8116, 'firmware': 5530, 'doll': 5297, 'didnt': 462, 'garbage': 3100, 'forth': 5575, 'chat80155': 4947, 'shouldn': 1900, 'buff': 2836, 'sextextuk': 7214, 'derek': 1730, 'exchanged': 5453, '!': 10, 'stressed': 7453, 'nigeria': 1354, 'seems': 1066, 'her': 110, 'a': 9, 'nat': 2345, 'foley': 3075, 'upcharge': 7807, 'mobiles': 822, 'pansy': 6682, '09061790126': 4039, 'the': 11, 'vijay': 2537, 'awesome': 598, 'non': 6537, 'face': 389, 'flirt': 2216, 'awake': 1263, 'much': 135, 'frequently': 5602, '100': 696, 'crashing': 5113, 'girls': 802, '5digital': 4283, 'lyf': 3307, 'neville': 6501, 'harish': 5787, 'didn': 295, 'tot': 545, 'decisions': 2955, 'u’ve': 7832, 'pics': 681, 'violence': 3773, 'suply': 7511, 'decent': 5180, 'thanks': 196, 'motorola': 885, 'rply': 969, 'free-send': 3087, 'on': 25, 'used': 772, 'stuff42moro': 7472, 'specify': 7378, 'reltnship': 7032, 'advisors': 4461, '250': 1641, 'character': 1278, 'urgent': 210, 'warming': 7913, 'dress': 2182, 'files': 3064, 'it': 17, 'airport': 2749, 'u': 12, 'headache': 3150, 'str': 3649, 'traffic': 3727, 'romantic': 1882, 'and': 13, '89123': 4371, 'in': 14, 'mood': 1185, 'probably': 397, 'bored': 481, '2': 28, 'is': 15, 'yes-440': 3836, '1000s': 1635, 'able': 549, 'algebra': 4488, 'me': 16, 'profit': 2390, 'entry': 483, 'my': 18, 'shit': 348, 'for': 19, 'rent': 1566, 'm6': 3311, 'lap': 6155, 'know': 63, 'listening': 1525, 'spree': 1389, 'ü': 85, 'days': 342, 'byatch': 4874, 'off': 204, 'seen': 895, 'heart-': 5802, '80155': 4335, 'those': 489, 'your': 20, 'apologise': 2077, '-xx': 3888, 'being': 284, 'seeing': 971, 'of': 21, '2wu': 4190, 'door': 1022, 'after': 160, '09050000460': 4007, 'with': 45, 'talking': 770, '09066660100': 4060, 'students': 7468, 'dnt': 932, 'yep': 1091, 'okay': 414, 'call': 22, 'swatch': 3671, 'fundamentals': 5631, 'single': 1218, 'we': 39, 'offcampus': 6584, 'reading': 719, 'road': 1374, 'ended': 1740, 'package': 2366, 'dom': 5298, 'andre': 4521, 'house': 329, 'think': 113, 'responsibility': 3524, 'cry': 1470, 'he\\x92s': 5829, 'career': 2860, 'free': 57, '2morow': 2009, 'have': 23, 'runs': 2422, 's': 26, 'st': 978, 'tests': 3700, 'lovable': 949, '21870000>hi': 2649, 'promise': 1060, 'played': 2380, 'will': 42, 'feet*': 2207, 'flim': 5539, 'respect': 1876, 'mad': 1531, 'blue': 1117, '88222': 2711, 'finance': 5521, 'await': 597, 'dai': 5158, 'apps': 2765, 'are': 29, '09065174042': 2627, 'anything': 194, 'tons': 3723, 'kiss': 712, '18+only': 2642, 'so': 34, 'now': 30, 'right': 163, 'll': 61, 'sugar': 2485, 'verified': 3770, 'read': 764, 'spending': 3633, 'dropped': 1736, 'athletic': 4612, 'can': 31, 'risk': 7092, '02/06/03': 1631, 'tonight': 220, 'valued': 911, 'console': 2920, 'not': 32, '9': 521, 'hoops': 5860, 'do': 36, 'worc': 8011, 'm': 37, 'gals': 1762, 'publish': 6924, 'might': 379, 'fri': 748, 'at': 38, 'hrishi': 3176, 'them': 176, 'bhaji': 2798, 'impressed': 5939, 'nite': 587, 'jenne': 6044, '4': 54, 'fetch': 1487, 'decision': 2165, 'without': 479, 'fallen': 5484, 'pic': 831, 'girl': 323, 'dial': 2968, '09099725823': 4069, 'tihs': 1939, 'sts': 7463, 'contract': 1720, 'thank': 434, 't': 40, 'laid': 2290, 'tour': 2514, 'tallent': 7567, 'fish': 2210, 'lol': 207, 'wana': 987, 'up': 51, 'flame': 3071, 'rise': 7091, 'driving': 578, 'see': 91, 'be': 41, 'bid': 1115, 'canal': 2854, 'leave': 259, 'matched': 6316, 'sat': 449, 'thursday': 1595, 'order': 512, 'get': 43, 'sux': 3667, 'drive': 637, 'class': 280, '2p': 2659, 'simple': 539, 'printer': 6878, '3mins': 1648, 'premier': 3468, 'vl': 1084, 'just': 47, 'pussy': 2394, 'meal': 1817, 'mini': 2329, 'jack': 6025, 'roast': 3536, 'abt': 455, 'no': 48, 'sun': 841, '1/2': 1997, 'shell': 7233, '£100': 496, 'premarica': 6858, 'magical': 3314, 'cliff': 4998, '&lt': 52, 'blank': 4770, '1205': 4092, 'car': 364, 'postponed': 6829, 'hourish': 5872, 'taking': 689, 'arcade': 1261, 'happen': 560, '121': 4093, 'this': 49, 'mix': 3349, 'carlos': 633, 'keeps': 3241, 'suggestion': 7499, 'how': 50, 'sez': 7217, 'bringing': 1697, '£250': 777, 'updat': 7808, 'bao': 4682, 'plz': 430, 'fgkslpo': 5511, 'reason': 965, 'havebeen': 5794, 'when': 53, 'converted': 5075, 'starting': 1071, 'customer': 251, 'mm': 1183, 'movie': 510, 'what': 55, 'inconvenient': 5946, 'musthu': 3374, 'light': 881, 'jacuzzi': 6029, 'money': 243, 'funk': 3095, '09050000332': 4006, 'tones2you': 3721, 'ya': 227, 'who': 136, 'confirm': 926, '#&gt': 60, '16+': 498, 'minus': 6380, '0': 1983, 'one': 87, 'ridden': 7083, 'laurie': 6165, '88088': 4363, 'smokes': 1908, 'jokes': 2280, 'ok': 56, 'charged': 921, 'tv': 400, 'delivery': 526, 'perspective': 6743, 'times': 617, 'arm': 2768, 'robs': 7095, 'xxxx': 1971, 'shijas': 2440, 'plus': 472, 'from': 59, 'minecraft': 6375, '69101': 4303, 'good': 64, 'less': 947, '£5/month': 8113, 'warm': 988, 'jump': 6073, '1x150p/wk': 1639, 'boyfriend': 4810, 'thats': 290, 'xx': 658, '26th': 2654, 'got': 65, 'laden': 6140, 'gr8fun': 5717, 'fine': 269, 'b\\x92day': 2844, 'coins': 1714, 'matured': 1816, 'shut': 2444, 'recount': 7008, 'fact': 1299, 'out': 66, 'lion': 3275, 'greetings': 3136, 'calculation': 4884, 'tat': 1394, 'tones': 421, 'crazy': 740, 'managed': 6292, 'like': 67, 'bw': 4871, 'lessons': 1041, 'meet': 184, 'actin': 4442, '40gb': 1425, '-': 68, '20p': 1250, 'years': 494, 'bmw': 2106, '9+2+4=': 4375, 'there': 69, 'noice': 6532, 'come': 70, 'lei': 582, 'sense': 1576, 'its': 71, 'replied': 1875, 'greatest': 3135, 'then': 72, 'onum': 6616, '1172': 4090, 'princess': 447, '09058091870': 4014, 'da': 103, 'uks': 3748, '7': 321, 'am': 73, 'happy': 152, 'checking': 923, 'sources': 7360, 'love': 74, 'cabin': 1458, 'friday': 706, 'was': 75, 'snow': 688, 've': 156, 'veggie': 7846, 'time': 76, 'ending': 1141, 'he': 77, 'damn': 1131, 'day': 78, 'askin': 2082, 'keris': 6100, 'shopping': 420, 'self': 1212, 'sales': 7132, 'only': 79, 'prize': 185, 'until': 591, 'bone': 2814, 'status': 3642, 'loved': 950, 'uin': 7761, 'lotta': 6247, 'send': 80, 'about': 92, 'project': 763, 'text': 81, '81010': 4336, 'want': 82, 'as': 83, 'lookatme': 3287, 'friend': 256, 'convey': 864, 'hot': 561, 'drugs': 1292, 'smiles': 7318, 'by': 84, 'nokia': 218, '00': 994, 'matrix3': 2323, 'noe': 612, 'type': 771, 'truro': 7732, 'need': 86, 'sport': 1586, 'going': 88, 'fave': 3052, 'swear': 7533, 'shall': 431, 'forgotten': 3081, 'hor': 3170, 'home': 89, 'while': 452, 'gal-no': 5643, 'doubles': 5312, 'annoncement': 4528, 'aiyar': 2064, 'she': 90, '£5': 8112, 'subscriptions': 7482, '87021': 2039, 'walkabout': 7904, 'stop': 93, 'spain': 7367, 'stopped': 1915, 'really': 172, 'somethin': 1582, 'jolt': 3229, 'gone': 749, 'don': 94, 'wlcome': 8000, 'familiar': 5486, '84199': 1655, 'wishes': 1240, 'over': 208, 'items': 6010, 'active': 4444, 'ride': 1881, 'talk': 306, '255': 4163, 'fast': 705, 'txt': 95, 'iq': 2272, 'owed': 6668, 'pa': 380, '1hr': 2644, 'sorry': 96, 'nature': 1826, '+': 362, 'definitely': 1290, 'edition': 5366, 'instead': 1326, 'replying': 1207, 'jus': 392, 'headstart': 5797, 'still': 97, 'particularly': 6698, 'freedom': 3089, 'sort': 902, 'pls': 116, '2morro': 2658, 'bowa': 4799, 'today': 98, 'south': 1386, '09111030116': 4073, 'lor': 99, 'tooo': 3724, 'n': 100, 'rental': 834, 'specialise': 7376, 'reply': 101, 'dis': 387, 'safety': 7129, 'line': 303, 'x': 224, 'many': 237, '021': 3903, 'auction': 663, 'aww': 2779, 'helloooo': 3158, 'suffering': 7493, 'back': 102, 'stu': 7464, 'r': 104, '1/3': 4082, 'dont': 105, 'twat': 7744, 'later': 106, 'wanting': 1960, 'extra': 1027, 'wishin': 3814, 'us': 211, 'southern': 7361, 'our': 107, 'necklace': 3387, 'vco': 7844, '50perweeksub': 4273, 'please': 108, 'loveme': 3296, 'whether': 1964, 'pple': 1850, 'tell': 109, '-no': 3882, 'looked': 1812, 'final': 871, 'gud': 236, 'withdraw': 7993, 'necesity': 6483, '9-6': 4376, 'todays': 618, 'heavily': 5806, 'term': 1929, 'imf': 5930, 'hope': 142, 'mobile': 111, 'pros': 6910, 'revealed': 1568, 'collect': 459, 'payment': 3431, 'hurts': 1160, '3-maruti': 4192, 'whenever': 989, 'morn': 2336, 'new': 112, 'fran': 3086, 'lovely': 753, 'hi': 114, 'strong': 2481, 'com1win150ppmx3age16subscription': 5029, 'd=': 2944, 'sms': 274, 'js': 6069, 'words': 657, 'fifteen': 1754, 'k': 115, 'appreciate': 1260, 'been': 117, 'closer': 1713, 'cant': 203, 'camcorder': 735, 'previously': 2389, 'p': 1196, 'phone': 118, 'sc': 7165, 'noon': 1052, 'holla': 1157, 'payee': 6717, 'd': 119, 'dates': 1726, 'o': 511, 'response': 7065, 'supposed': 905, 'sh': 2437, 'born': 1691, 'affection': 2057, 'caveboy': 4928, 'kusruthi': 1798, 'wthout': 8033, 'before': 195, 'vodka': 2539, '0870737910216yrs': 3949, 'souveniers': 7362, 'hogli': 5847, 'did': 120, 'eyed-dont': 5474, 'held': 3156, 'truth': 909, 'wins': 1967, 'pix': 1552, 'could': 235, 'bold': 1269, 'take': 121, 'spoons': 7398, 'brief': 2827, 'snot': 7330, 'they': 122, 'replies': 7045, 'sw73ss': 3670, 'bout': 599, '21/f': 4150, 'murderer': 1541, '£500': 660, 'tmorow': 7668, '3wks': 4218, 'secretary': 3567, 'any': 123, 'e-tlp': 3000, 'access': 1664, 'lucky': 882, 'james': 3217, 'his': 217, 'here': 124, 'muz': 954, 'afternoon': 405, 'tenerife': 1928, 'arent': 4570, 'ate': 1676, 'jerry': 3222, '07808247860': 3921, 'mahfuuz': 6284, 'april': 1672, 'knickers': 6117, 'aha': 1110, '88888': 2712, 'flag': 939, '(': 125, 'jenny': 3221, 'dear': 126, 'bcums': 2090, 'fever': 3060, 'passwords': 3429, '4ward': 4260, 'wif': 493, 'loyalty': 1530, 'bootydelious': 4795, 'some': 138, 'bell': 2794, 'woot': 3825, 'eh': 1024, 'where': 127, 'touch': 691, 'middle': 3339, 'an': 128, 'lucy': 3304, 'dept': 5217, 'breathe': 2826, 'late': 242, 'very': 175, 'night': 129, 'urself': 1235, 'tuesday': 1081, 'sue': 3658, 'smith': 7320, 're': 130, 'subs16+1win150ppmx3': 3653, '10k': 1998, 'week': 131, 'tok': 3717, 'lapdancer': 6156, 'meh': 1536, 'trying': 300, 'boys': 1696, 'caller': 1009, 'months': 1051, 'oh': 132, 'host-based': 5868, 'change': 634, '*': 320, 'hey': 133, 'bath': 918, 'cr': 5107, 'watching': 402, 'opened': 6620, 'more': 134, 'again': 212, 'norm': 3396, '08704439680ts&cs': 3947, 'spoke': 1388, 'ree': 7013, 'woke': 1242, 'claim': 137, 'together': 655, 'met': 951, 'informed': 1325, 'well': 139, 'chicken': 2883, '1': 140, 'converter': 5076, 'make': 143, 'few': 328, '&': 144, 'others': 1054, 'potato': 6830, 'chikku': 635, 'completed': 5042, 'had': 145, '$': 1420, 'bcs': 4709, 'willing': 1617, 'videosound': 7861, '9pm': 2719, 'secs': 3568, 'address': 501, '08718720201': 1100, 'wat': 146, 'him': 147, 'fuckin': 2230, 'excuses': 3033, 'mel': 3332, 'too': 148, 'flirtparty': 5542, 'hoping': 1031, 'player': 682, 'everybody': 2199, 'filling': 3066, 'payed': 6715, 'e': 168, 'work': 149, 'nap': 2344, 'carlin': 4913, 'cool': 294, 'give': 150, 'hungry': 809, 'entey': 5411, '*i': 1978, 'dialling': 5242, 'completes': 5043, 'has': 151, 'member': 1537, 'march': 817, '500': 500, 'mis': 3343, '26/10/04': 4164, 'activate': 1253, 'handset': 1771, 'movietrivia': 3364, 'yes': 153, 'within': 990, 'finalise': 5520, 'should': 154, 'hopeu': 5864, 'tomorrow': 155, 'news': 716, 'g': 390, 'thanx': 381, 'masked': 6311, 'eleven': 5388, 'mummy': 3372, 'venugopal': 7850, 'say': 157, 'adore': 2741, '£33': 2564, 'minded': 6372, 'stay': 569, 'person': 298, 'number': 159, 'hand': 641, 'ru': 2421, 'representative': 1208, 'doing': 161, 'real1': 6984, 'nelson': 6494, 'horrible': 1775, 'pub/cafe': 6923, 'difficulties': 5254, 'always': 240, 'im': 162, 'www': 165, 'though': 476, 'beads': 4713, 'std': 1222, 'c': 166, 'sensible': 7204, 'would': 221, 'putting': 1855, 'de': 525, 'torrents': 7699, 'cust': 1725, '3': 167, 'syd': 7538, 'life': 169, 'spys': 7407, 'hit': 876, 'poker': 3450, 'wtlp': 8034, 'yeah': 170, 'snappy': 7325, 'joys': 6067, '78': 4323, 'england': 870, 'acted': 2732, 'online': 535, 'pocketbabe': 3448, 'already': 171, 'said': 173, 'medical': 1179, 'understood': 3751, 'early': 464, 'babe': 182, '&amp': 174, 'nmde': 6525, 'xxx': 422, 'won': 177, 'everywhere': 5444, 'morning': 190, 'isnt': 1329, 'better': 339, 'collecting': 2146, 'haven': 607, 'live': 289, 'bt-national-rate': 1456, 'last': 178, 'aberdeen': 4415, 'picked': 1845, 'lie': 2296, 'thenampet': 7624, 'miss': 179, 'honest': 5852, 'ask': 180, 'yr': 914, 'rcd': 6976, 'ba128nnfwfly150ppm': 4657, 'story': 653, 'b': 181, '08000839402': 731, 'dude': 604, 'suggestions': 7500, 'hows': 674, 'forward': 1304, 'speechless': 3630, 'let': 183, 'content': 739, 'undrstndng': 7782, 'don\\x92t': 2178, 'tenants': 1927, 'msg': 186, 'foregate': 5567, 'companies': 5036, 'uh': 3745, 'anymore': 1259, 'previous': 3470, 'lot': 395, 'sleep': 238, 'keep': 187, 'win': 189, 'yup': 291, 'hair': 486, 'soryda': 2464, 'join': 466, 'pick': 191, '09050000555': 4008, 'texting': 1396, 'walls': 2541, 'fuelled': 5623, 'cash': 192, 'anyones': 4542, 'dint': 1474, 'somtimes': 3621, 'year': 254, 'landing': 6149, 'cos': 193, 'creepy': 5119, 'touched': 2513, 'atleast': 4614, 'cake': 1120, 'why': 197, 'also': 198, 'sura': 1591, 'drop': 638, 'wrld': 8029, 'muchxxlove': 6437, 'enjoy': 301, 'fell': 3058, 'care': 199, 'nice': 200, 'understand': 985, '08718723815': 3989, 'yoville': 8082, 'burgundy': 4857, 'rooms': 1884, 'quickly': 2396, 'sunlight': 3663, 'pump': 6930, 'something': 201, 'ltd': 754, 'sunshine': 980, 'hw': 1779, 'fond': 5558, '£2': 853, 'sure': 202, '08719839835': 4000, 'occur': 6577, 'buy': 205, 'enemy': 2192, 'thesis': 7630, 'misscall': 6385, 'fingers': 1300, 'offer': 412, 'siguviri': 7275, 'donno': 5301, 'serious': 1577, 'feel': 206, 'shoranur': 7250, '4mths': 2020, 'happening': 1154, 'found': 872, 'takes': 723, 'sent': 209, 'com': 213, 'landline': 409, 'hip': 1772, 'hai': 1314, 'even': 214, 'everyboy': 5439, '84025': 2037, 'looking': 584, 'find': 215, 'textpod': 1930, 'coffee': 1124, 'dined': 5260, 'yo': 337, 'kallis': 1796, 'that\\x92s': 1932, 'definite': 5191, 'first': 216, 'that2worzels': 7612, 'pounds': 568, 'hon': 2254, 'thankyou': 7609, 'sec': 1892, 'e-namous': 5351, 'bc': 2785, 'coaxing': 5014, '326': 4205, 'soon': 219, 'running': 1572, 'around': 222, '09050000878': 4009, 'someone': 223, 'digital': 1134, 'borin': 2816, 'same': 273, 'doublemins': 5311, 'playing': 1847, 'information': 944, 'envelope': 1295, 'shake': 7223, 'other': 311, 'down': 225, 'stayed': 7428, 'nuclear': 6557, 'torch': 1943, 'low': 3299, 'uk': 226, 'stand': 1221, 'photo': 3438, 'contact': 228, 'rcvd': 1370, 'next': 229, 'cafe': 2124, 'three': 1934, '10p/min': 995, 'spent': 1070, '150p/mtmsgrcvd18+': 4108, 'went': 230, 'chores': 4983, 'into': 354, 'prin': 6875, 'small': 900, 'un-redeemed': 984, '*9': 1626, '150ppm': 404, 'were': 231, 'toughest': 3726, 'wnt': 1618, 'whole': 775, 'y': 283, 'favour': 1752, 'dun': 232, '07/11/04': 2587, 'either': 579, 'blame': 4769, 'in2': 3192, 'workout': 8014, 'psychic': 6920, 'thts': 1937, 'copy': 1126, 'per': 233, 'for£38': 5578, 'outside': 679, 'fones': 5561, 'wait': 234, 'watts': 7927, 'which': 239, '09066350750': 2628, 'dat': 308, 'gonna': 241, 'qing': 6947, 'games': 801, 'quiteamuzing': 6952, 'bbq': 4706, '3rd': 1649, 'place': 244, 'show': 538, 'account': 441, 'tmr': 382, 'seat': 7185, 'gastroenteritis': 5652, 'actually': 423, 'settings': 1896, 'waiting': 245, 'emily': 5397, 'dvd': 1023, 'erm': 2194, 'popped': 2384, 'swt': 1225, 'wan': 246, 'service': 247, 'kadeem': 2283, 'moby': 1822, 'first-': 5531, 'wrnog': 3828, 'latr': 1801, '09064012160': 2625, 'overdid': 6658, 'coherently': 5018, 'tick': 1399, 'starts': 1072, 'luv': 355, 'lar': 330, 'whoever': 7972, 'between': 425, 'hour': 465, '£50': 8114, 'guitar': 5755, 'express': 3041, 'thing': 248, 'stoptxtstop£1': 7447, 'jade': 6030, 'whatever': 623, 'mad1': 6276, 'beautiful': 577, 'felt': 937, 'claims': 2888, 'mila': 3340, 'told': 249, 'beehoon': 4726, 'co': 250, 'mike': 6363, 'field': 3061, 'rp176781': 7106, 'anyone': 575, 'it‘s': 3215, 'game': 505, 'treat': 725, 'getting': 252, 'fails': 3045, '3optical': 4216, 'help': 253, 'best': 255, 'sex': 897, '#5000': 2567, 'heart': 257, '£10': 1093, 'custcare': 929, 'directly': 1475, 'ymca': 8069, 'terror': 7595, '4*': 520, 'chat': 260, 'dodgey': 5290, 'prabha': 1560, 'talent': 3682, 'board': 4782, 'forwarded': 1490, 'trusting': 7733, '750': 594, '/7': 2581, '400mins': 4227, 'opportunity': 2360, 'cinema': 1123, 'ass': 859, 'friends': 261, '+get': 3873, '29/03/05': 4168, 'name': 262, '5': 263, 'inside': 1509, 'haha': 264, 'raed': 3495, 'referin': 7015, 'people': 265, 'supply': 2488, 'theyre': 7632, 'wish': 266, 'coming': 267, '08700621170150p': 2600, 'ahold': 4475, 'done': 268, 'innings': 5963, 'ave': 1003, 'guaranteed': 270, 'increments': 3194, '077xxx': 3918, 'intend': 5974, 'edu': 5367, 'apply': 424, 'holiday': 271, 'age23': 2747, 'essential': 3024, 'film': 938, 'relationship': 7027, 'natwest': 6479, 'identification': 5915, 'because': 307, 'ing': 3200, 'drinks': 2184, 'rewarding': 3529, 'flip': 5540, 'may': 272, 'educational': 5369, 'special': 275, '09058099801': 4027, 'texd': 7599, 'fancy': 744, 'doors': 2986, 'lunchtime': 6261, '50/pm': 1427, 'thk': 276, 'hussey': 5897, '£800': 1245, 'euro2004': 2198, 'attempt': 576, 'put': 416, 'confirmed': 2150, 'shaking': 7224, 'try': 277, 'v': 278, 'carpark': 4916, 'benefits': 4742, 'yet': 279, 'wkent/150p16+': 3816, 'fantasy': 1749, 'heading': 3152, 'ever': 353, 'things': 281, 'mmmmm': 3352, '~': 8099, 'vday': 7845, 'canteen': 4903, 'review': 1569, 'opposed': 6626, '89070': 2713, 'ultimatum': 3749, 'mates': 819, 'urgh': 7818, 'midnight': 1348, '09065069120': 4048, 'spider-man': 7384, 'shortbreaks': 7251, '30pp/txt': 2669, 'baaaaabe': 4659, 'tone': 282, 'bit': 285, 'real': 371, 'thinking': 654, 'chase': 2876, 'epsilon': 3021, '730': 4319, 'bluetooth': 1451, '7548': 4320, 'god': 286, 'sayin': 7164, 'return': 1209, 'likes': 2298, 'dine': 5259, 'utter': 3765, 'meets': 6339, 'billy': 4760, 'card': 789, 'stayin': 3643, 'lunch': 287, '2hook': 4180, 'than': 433, 'abusers': 4423, '89545': 2044, 'formal': 5572, 'meeting': 288, 'keeping': 1334, '50': 292, 'gym': 804, 'sleeping': 540, 'lasting': 6160, '+£400': 3874, 'quarter': 6949, '62735=£450': 4296, 'blood': 1006, 'yesterday': 453, 'check': 293, 'num': 1357, 'draw': 296, 'ranjith': 3502, 'concern': 5052, 'blocked': 4777, 'long': 297, 'mess': 3337, 'tops': 7698, 'otherwise': 890, 'stuff': 299, 'doug': 5315, 'aunties': 4624, 'scream': 2429, 'music-trivia': 6449, 'temple': 1926, 'dream': 934, 'dough': 2988, 'hav': 507, 'problem': 358, 'job': 302, 'contention': 5068, 'ill': 309, 'watched': 7921, 'baby': 351, 'pobox': 832, 'noun': 3400, '0871-872-9758': 3956, '80608': 2703, 'never': 304, 'vu': 7886, 'freaking': 5591, 'curry': 2939, 'maths': 6318, 'ready': 305, 'conducts': 2915, 'hunting': 5896, 'fridge': 5604, 'fgkslpopw': 5512, 'quiz': 687, 'stylish': 1590, 'big': 312, '09061104283': 4029, 'chance': 313, 'tm': 1942, 'remains': 2410, 'particular': 6697, '12': 996, 'combine': 2909, 'end': 314, 'gate': 5653, 'freinds': 5600, '08701417012': 1990, 'most': 446, 'voicemail': 2540, 'user': 1406, 'finish': 315, 'box': 340, 'bill': 1005, 'fm': 5553, 'wife': 437, 'ringtones': 968, 'dismay': 5276, 'having': 316, 'e-threats': 2999, 'woo': 8006, '08709222922': 2603, 'cds': 1462, 'play': 317, 'vehicle': 7847, 'sweet': 359, 'useful': 7822, 'drug': 1478, 'died': 1473, 'cup': 1285, 'smile': 318, '$95/pax': 3849, 'zebra': 8092, 'maga': 2314, 'press': 893, 'signing': 3600, 'adults': 4457, '-d': 1629, 'worst': 8016, 'super': 3665, 'id=820554ad0a1705572711&first=true¡c': 5912, 'gbp': 5658, 'use': 319, 'awarded': 322, '2000': 2645, 'wml': 3820, '28': 1642, 'national': 886, 'min': 344, 'earth': 1737, 'remixed': 7036, 'impressively': 5940, 'evo': 5448, 'conditions': 1468, 'admirer': 1109, 'nobbing': 6531, 'rentl': 1874, 'range': 3501, 'cops': 5085, 'plan': 471, '£250k': 8109, '515': 4278, 'thought': 324, 'geeee': 3104, 'children': 1015, 'j': 1331, 'word': 325, '1st': 326, 'food': 504, 'loverboy': 1529, 'figure': 1757, 'hee': 806, 'explicit': 3039, 'hppnss': 3175, 'queen': 1857, 'flash': 2214, 'infront': 5958, '6': 327, 'indians': 1783, 'bucks': 1119, 'juan': 3234, 'assessment': 4599, 'near': 887, 'propsd': 6909, 'buffy': 4850, 'man': 332, 'panren': 6681, 'conform': 5059, 'lookin': 1528, 'abi': 2050, 'woulda': 3826, 'sir': 333, 'squeezed': 7409, 'bhayandar': 4755, 'excellent': 1145, 'bus': 374, 'rebel': 6994, 'start': 334, 'enough': 428, 'm8s': 2309, 'two': 335, 'gaps': 1763, 'xavier': 2556, 'wanna': 336, 'lst': 3303, 'tough': 1402, 'ah': 338, 'catch': 1011, 'aka': 2750, 'camera': 341, 'brought': 2116, 'engaged': 5404, 'liao': 343, '08712466669': 3966, 'sib': 3599, 'mind': 345, 'fo': 5555, 'best1': 2795, 'receive': 346, 'sao': 7145, 'hates': 5791, 'questions': 963, 'intelligent': 2267, 'surprise': 981, 'cuddled': 5137, 'room': 347, 'sed': 1573, 'forgt': 5571, 'world': 349, 'aight': 350, 'hard': 805, 'missy': 6388, 'everything': 408, 'weed': 3794, 'install': 5970, 'depends': 1291, 'student': 3652, 'nokia/150p': 6535, 'official': 1360, '08704439680': 3946, 'continued': 5071, 'ice': 1322, 'called': 352, 'boye': 2112, 'com/newsletter': 5028, 'cheap': 1013, 'wipro': 3811, 'nothing': 356, 'salon': 3552, 'weeks': 848, 'sounding': 7357, 'offered': 6587, 'once': 357, 'hrs': 2257, 'pouch': 3462, 'pobox12n146tf15': 6796, 'yijue': 1414, '£1': 360, 'hero': 5825, 'passed': 1842, 'paper': 829, 'psychologist': 6921, '£1000': 361, 'buzz': 1271, '$700': 2570, 'overemphasise': 6660, 'birthday': 363, 'bt-national': 2835, 'india': 751, 'network': 411, 'complimentary': 790, 'town': 477, 'http': 877, 'sell': 972, 'eat': 365, 'shore': 3593, 'cost£1': 1469, 'guess': 367, 'b-blue': 4652, 'oooh': 3409, 'half': 368, 'across': 856, 'goin2bed': 5696, 'ana': 4517, '62220cncl': 4294, 'hear': 369, 'chill': 2139, 'mandara': 6296, '0808': 1988, 'rakhesh': 964, 'time&gt': 1940, 'kfc': 6101, 'freefone': 1761, 'heroes': 5826, 'info': 752, 'sooner': 2462, 'exhaust': 5457, 'bak': 1266, 'po': 370, 'vomiting': 3777, 'curious': 5146, 'applying': 4560, 'second': 766, 'basic': 2088, 'obviously': 2356, 'muchand': 6436, 'dinner': 463, 'shows': 372, 'places': 3445, 'pisces': 6771, '3mobile': 4215, 'ten': 724, 'txts': 983, 'another': 373, 'amongst': 2757, '08718726978': 3991, 'cost': 375, 'started': 652, 'aathi': 1661, 'amy': 4516, 'fun': 376, 'sane': 7142, 'picking': 892, 'done/want': 5300, 'left': 377, 'solve': 1909, 'cable': 4880, 'fightng': 3062, 'leh': 378, 'fireplace': 5529, 'cine': 1122, 'watch': 383, 'neither': 3390, 'buyer': 4867, 'working': 384, 'shld': 3590, 'lucozade': 1814, 'old': 827, '-*': 3875, 'nosy': 6548, 'logoff': 6228, 'ahmad': 1256, 'award': 385, 'intentions': 5976, 'blackberry': 1688, 'den': 386, 'asshole': 4600, 'does': 388, 'returning': 7076, 'massages': 6313, 'aren': 1440, 'nichols': 6509, 'sunday': 904, 'alert': 1668, 'guys': 391, 'woods': 8008, 'little': 393, 'maneesha': 2319, 'exorcist': 3037, 'ppm150': 6833, 'look': 394, 'behave': 2093, '2wt': 2663, 'function': 5628, 'cartoon': 1460, 'quite': 398, 'totes': 7704, 'ettans': 5431, 'fat': 1751, 'part': 415, '#error': 3843, 'ones': 1193, 'selected': 399, 'gets': 1151, 'congrats': 600, 'gr8': 673, 'video': 401, '08712400602450p': 2606, 'weekend': 403, 'asked': 406, '09061701461': 4032, 'callertune': 1010, 'steed': 7431, 'jap': 6036, 'bed': 407, 'genuine': 3112, 'minutes': 410, 'loads': 815, '400thousad': 4228, '08707509020': 1246, 'office': 413, 'lose': 610, 'brilliant': 1455, 'ummma': 7769, 'reach': 417, 'share': 1378, 'il': 1033, 'alright': 480, 'yay': 2558, 'ref': 1868, '0870': 1098, 'remember': 418, '85023': 1430, '08000930705': 695, 'mah': 816, 'iouri': 3206, 'weak': 1615, 'players': 1553, 'speak': 432, 'school': 419, 'packs': 3419, 'thinkthis': 7635, '2docd': 4173, 'dunno': 426, 'away': 503, '2mrw': 1423, 'anna': 2759, 'easy': 427, 'pay': 429, 'semiobscure': 7200, 'til': 435, 'least': 813, 'getzed': 1152, 'saturday': 647, 'gt': 1769, 'gotta': 803, 'anonymous': 4532, 'till': 436, 'gautham': 3102, 'natalie': 6476, 'spk': 2468, 'miwa': 6392, 'vodafone': 1610, 'wk': 438, 'lounge': 3293, 'havent': 508, 'wont': 439, '%of': 3850, '9ja': 4388, 'arng': 2079, '000': 440, 'treatin': 7721, 'realy': 1063, '09058097218': 4025, 'problum': 6889, 'ldnw15h': 3264, 'sunoco': 7506, 'anyway': 442, 'brother': 631, 'freezing': 2226, 'asthere': 4605, 'boy': 443, 'ic': 3186, 'ooooooh': 6619, 'completing': 5044, 'month': 534, 'wanted': 451, 'calls': 444, 'stream': 7452, 'gravity': 1767, 'effects': 5373, 'valentine': 986, 'summers': 7503, 'reslove': 7060, 'means': 445, 'ringtone': 448, 'says': 450, '8': 454, '1225': 4094, 'varma': 7840, 'rounds': 7104, 'ofsi': 6592, 'slow': 898, 'xclusive@clubsaisai': 8041, 'excuse': 1297, 'available': 596, 'bad': 456, 'hold': 808, 'acl03530150pm': 2730, 'bring': 552, 'ali': 2753, 'tom': 3718, 'men': 1180, 'slip': 3610, 'came': 457, 'newest': 2351, 'code': 458, 'fakeye': 5483, 'bergkamp': 4744, 'dad': 460, 'mumtaz': 1825, 'details': 461, 'front': 3092, 'goin': 529, 'made': 467, 'tt': 1599, 'geeeee': 3105, 'messages': 468, 'african': 4467, 'orange': 469, 'destiny': 5229, 'pain': 470, 'possible': 1058, 'price': 473, 'pongal': 2382, 'ringtone-get': 3534, 'laready': 6157, 'colour': 523, 'myself': 1189, 'since': 474, 'searching': 1891, 'shracomorsglsuplt': 3595, 'faith': 3046, 'tsandcs': 3736, 'texts': 475, 'recd': 2405, 'titles': 2508, 'weekly': 478, 'terrific': 3698, '-tho': 3886, 'collection': 482, 'cried': 5123, 'fuck': 484, '*teasing': 2578, '2003': 916, 'fellow': 5505, 'huh': 608, 'wonder': 1089, 'ass*': 4598, 'guy': 485, 'headin': 3151, 'song': 838, '01223585236': 3898, 'boring': 1690, 'music': 487, 'must': 488, 'ex': 1296, '150p/tone': 2004, 'update': 490, 'admin': 2738, 'erotic': 5421, 'eerie': 1738, 'lonlines': 6237, 'wake': 491, '08712402972': 3964, 'interviews': 5981, 'wen': 492, 'waves': 3788, 'yours': 495, 'tuth': 7743, 'vouchers': 621, 'defeat': 2958, 'yetty': 8065, 'fortune': 5576, '16': 497, 'control': 2923, 'statements': 7427, '2stoptxt': 2011, 'rite': 720, 'measure': 3327, 'pages': 1838, 'suite': 1917, '2nd': 499, 'sorrows': 7354, 'current': 1471, 'ard': 502, 'opt-out': 1835, 'oscar': 6642, 'gift': 506, '*missing': 3859, 'strike': 2480, 'several': 3577, 'rate': 513, 'cricketer': 2935, 'post': 613, 'run': 514, 'feels': 798, 'sch': 515, 'apartment': 1002, 'valid': 516, 'tkls': 7665, 'ava': 4631, 'wot': 517, 'meaningless': 6333, 'b‘ham': 4876, 'hotel': 1504, 'bt': 522, 'grumble': 5742, 'set': 589, 'coz': 524, 'gap': 1309, 'almost': 784, 'evening': 527, 'arun': 4588, 'family': 528, '3aj': 2674, '£600': 8118, 'transfred': 7713, 'haf': 530, 'mayb': 820, 'salam': 3551, 'french': 5601, 'important': 531, 'zouk': 8097, 'sony': 901, 'juz': 532, 'missed': 533, '0844': 3930, 'you/carlos': 8073, 'question': 536, 'hate': 2249, '09094646631': 4065, 'eg': 868, 'and/or': 4519, '542': 2024, 'sexy': 537, 'gray': 5728, 'process': 1563, 'mother': 1824, 'book': 551, 'films': 3067, 'smiling': 541, 'annoying': 4531, 't&c': 542, 'sound': 1583, 'bugis': 1270, 'kettoda': 2285, 'cock': 2904, 'test': 543, 'cheese': 4956, 'these': 544, 'luxury': 2305, 'worry': 546, 'listen': 814, 'semi': 7199, 'hlp': 3166, 'weekends': 1411, 'cash-balance': 1275, 'mins&100txt/mth': 6377, '150p': 547, 'ryan': 3548, 'internet/service': 5980, 'gving': 3141, 'trouble': 1230, '3-u': 4193, '8007': 548, 'adress': 4453, 'answer': 550, 'calling': 553, '4info': 2019, 'comes': 554, '25p': 1102, 'else': 555, 'analysis': 4518, '*stomps': 1981, '-apples&pairs&all': 3878, 'msgs': 824, 'cyclists': 5153, 'feeling': 556, 'flight': 3072, 'contents': 2154, 'friendship': 558, 'culdnt': 5140, 'email': 639, 'skillgame': 2448, 'flirting': 3073, '£150': 1418, 'glands': 5679, 'full': 559, 'recharge': 3511, 'gari': 5650, 'axis': 4645, '2channel': 4172, '08717111821': 3982, 'hours': 562, 'satthen': 7157, '@warner': 4399, 'makes': 563, 'fedex': 5501, 'doggin': 5293, 'woman': 1969, 'tee': 3694, 'mob': 564, 'tired': 845, 'net': 565, 'everyone': 670, 'wkly': 776, 'ors': 6640, '8800': 4362, 'allah': 1436, 'amore': 4511, 'okie': 566, 'oso': 567, 'sometime': 2460, 'prods': 6894, 'copied': 5083, 'sounds': 769, 't&cs': 570, 'tomo': 571, 'lib': 3268, 'nearby': 6481, 'harlem': 5788, 'japanese': 3218, 'warner': 3783, 'trip': 572, 'everytime': 5443, 'vary': 1608, 'cancer': 1274, 'true': 573, 'finished': 580, '02085076972': 3902, 'pocay': 6801, 'renewal': 3522, 'spiral': 7387, '2005': 2646, 'pass': 891, 'season': 2432, 'fooled': 5563, 'hun': 1777, 'hurt': 581, 'postcard': 3458, 'tear': 1395, 'bslvyl': 699, 'lots': 585, 'ummifying': 7768, 't4get2text': 7549, 'making': 586, 'm26': 2306, 'disturbing': 2978, 'staying': 1073, 'graphics': 5725, 'saying': 588, 'sk3': 2447, 'tried': 590, 'slowly': 899, 'cuddle': 2938, 'doesn': 668, 'actor': 2735, 'xmas': 592, 'storming': 2477, 'surprised': 3666, 'steering': 7432, 'gettin': 1493, '8p/min': 2717, 'undrstnd': 7781, 'piece': 6764, '18+': 593, 'messed': 6354, 'gave': 873, '08712460324': 1099, 'nearer': 6482, 'alone': 595, 'smth': 975, '08001950382': 1986, 'lined': 6206, 'idps': 5916, 'date': 601, 'hmm': 807, '12hrs': 661, 'ac': 1662, 'decimal&gt': 602, 'predictive': 6857, 'butt': 4864, 'aunty': 2086, 'eviction': 5446, 'double': 603, '[…]': 4403, 'mid': 1347, 'eve': 605, 'regards': 1565, 'goes': 606, 'seing': 7196, 'lost': 948, 'fucks': 5621, 'police': 833, 'leaving': 609, 'wonders': 2549, 'mean': 611, 'summer': 979, 'sim': 1578, '2/2': 4141, 'sae': 615, 'saw': 616, 'internet': 1511, 'rofl': 3538, 'top': 619, 'pending': 2370, '10p': 780, 'phb1': 6752, 'xuhui': 3831, 'bakra': 4670, 'visit': 620, 'becaus': 4718, 'hmmm': 711, 'pin': 1550, 'wasn': 913, 'pokkiri': 6806, 'wants': 622, 'shola': 7248, 'wine': 1087, 'scarcasim': 7168, 'wid': 624, 'heard': 942, 'algarve': 2752, 'losing': 1813, '8+6+3=': 4328, 'wil': 625, 'sale': 1211, 'returned': 2416, 'uttered': 7826, 'aft': 626, 'kills': 3250, 'expiry': 5466, 'angry': 662, 'anytime': 627, 'believe': 628, 'both': 629, 'wrks': 8028, 'gas': 940, 'parish': 6694, 'ad': 1432, 'break': 630, 'busy': 632, 'props': 6908, 'discuss': 2171, 'troubleshooting': 7729, 'drink': 636, 'answr': 4536, 'shd': 1214, '81303': 4337, '146tf150p': 4101, 'far': 640, 'mark': 1344, 'husband': 2258, '08450542832': 3934, 'id': 642, 'fondly': 5559, '*snuggles': 3868, 'aaooooright': 4411, 'missing': 643, 'dog': 1476, 'cudnt': 5139, 'usual': 1236, 'open': 645, 'yaxxx': 8057, 'flatter': 5534, 'operator': 646, '150p/msg': 732, 'january': 1789, 'behalf': 4735, 'minute': 715, 'wallpaper': 3781, '88600': 2043, 'search': 648, 'ecstacy': 5361, 'disagreeable': 5269, 'marriage': 1176, 'services': 649, '40411': 4231, 'issues': 1513, 'shop': 650, '09058094594': 4020, 'sis': 651, 'dogs': 5294, 'andros': 4523, 'took': 656, 'payoh': 2369, 'lov': 3294, 'flights': 1301, '£2000': 659, '0825': 3929, 'ratio': 6970, 'tirunelvali': 3710, 'bonus': 664, 'masters': 3321, 'upgrdcentre': 7811, 'kalisidare': 6086, 'ibiza': 1780, 'anywhere': 2076, 'spare': 3629, 'cause': 665, 'listening2the': 6214, 'close': 666, '09064019014': 2626, 'ignore': 1507, 'crucial': 5126, 'offers': 889, 'dating': 667, 'wherevr': 7969, 'hallaq': 3143, 'ho': 1501, 'kicchu': 6104, 'soo': 3622, 'support': 842, '153': 2639, 'convince': 5077, 'each': 669, 'frnd': 671, '530': 1428, 'wondering': 1243, 'moan': 1821, 'page': 1547, '6days': 2696, 'statement': 839, 'fucking': 672, 'lionm': 3276, 'kind': 675, 'knw': 676, 'dey': 2965, 'probpop': 6890, 'neva': 678, 'parents': 680, 'knackered': 2287, 'ugh': 1082, 'poly': 684, 'ldew': 945, 'hamster': 3145, 'enter': 935, 'cuz': 1287, 'pretty': 685, 'tho': 690, 'series': 1895, 'reaching': 1205, 'oncall': 6609, 'including': 1782, 'walk': 692, 'wonderful': 693, 'mathematics': 3323, '£5000': 694, 'rest': 967, '86688': 697, 'survey': 7524, 'boytoy': 698, 'ntt': 958, 'thread': 7644, 'selflessness': 7198, 'rats': 6971, 'charge': 700, 'jamster': 1788, '2nite': 1104, 'chennai': 701, 'college': 702, '1-u': 4078, 'adam': 2736, 'company': 703, 'horniest': 5865, 'dreams': 704, 'pehle': 6724, 'ironing': 5999, 'tncs': 1401, 'row/w1j6hl': 1886, 'frm': 707, 'payments': 6718, 'hell': 1317, 'gd': 708, '*grins*': 915, 'happened': 709, 'head': 710, 'granted': 5724, '4-6': 4221, '29/m': 4169, 'knew': 713, 'fake': 3047, 'irritated': 6000, 'lesson': 714, 'skinny': 7291, '15541': 4115, 'immediately': 878, 'success': 3656, 'secure': 7191, 'forfeit': 5568, 'purity': 1853, 'tortilla': 7700, 'luck': 755, 'ni8': 717, '800': 855, 'nt': 718, 'officially': 6590, '2/3': 4142, 'sad': 721, 'ansr': 1669, 'suckers': 7489, 'decide': 1289, '0871277810810': 2609, 'comin': 1017, 'inches': 2261, '09094646899': 4066, 'sister': 722, 'unsubscribe': 726, '85': 2709, 'constantly': 2152, 'winner': 727, 'yam': 8053, 'whom': 1966, 'signin': 7274, 'eating': 1140, 'selling': 1574, 'hooked': 5859, 'horny': 1159, 'wit': 728, 'decided': 742, 'darlin': 793, '3g': 1646, 'diet': 1732, 'worth': 729, 'celebration': 2869, 'ac/w/icmb3cktz8r7': 4429, 'kick': 1520, 'eastenders': 3005, 'unredeemed': 3756, 'jorge-shock': 6064, '…': 730, 'green': 2242, 'ip': 5992, '87066': 733, 'tyler': 1603, 'valid12hrs': 3768, 'case': 736, 'spelled': 7380, 'fall': 1483, 'choose': 737, 'anyways': 2075, 'club': 738, 'cashed': 4918, 'cut': 741, '85555': 4355, 'expires': 743, 'chosen': 2142, 'receipt': 1863, 'hv': 1778, 'jamz': 6032, 'spoken': 1912, 'uniform': 7790, 'woken': 3823, '£3': 1095, 'fone': 745, 'star': 7420, 'fr': 746, 'followed': 3076, 'idk': 2259, 'psp': 6917, 'freemsg': 747, 'legs': 3265, 'iwas+marine&that\\x92s': 6017, 'f=': 3042, 'goodmorning': 750, 'welcomes': 3797, 'timi': 7658, 'hugs': 3179, 'predicting': 6855, 'mine': 756, 'bin': 1684, '83118': 4342, 'mobileupd8': 757, 'phones': 759, 'wipe': 7989, 't-shirt': 7548, '1680': 4117, 'pm': 760, 'novelty': 6551, 'quality': 1856, 'isaiah': 6005, 'checked': 1464, 'private': 761, 'empty': 1294, 'prob': 762, 'sea': 765, '087147123779am-7pm': 3970, 'clean': 861, 'wrkin': 8026, 'roles': 7098, 'side': 767, 'gain': 3098, '09050003091': 2615, 'dhina': 2966, 'virgins': 7869, 'voucher': 773, 'bitch': 1687, '24': 4157, 'charity': 922, 'hug': 3178, 'pobox36504w45wq': 1556, 'welcome': 774, 'ayn': 2780, 'horse': 5866, '[sic]': 4402, '£350': 778, 'child': 1708, 'science': 3558, '0800': 779, '=': 781, '07808': 3920, 'event': 5435, '@': 782, '10am-9pm': 4085, '2end': 4174, 'through': 844, 'mf': 6356, 'ago': 783, 'result': 1877, 'area': 785, 'broke': 1698, 'asking': 786, 'ipod': 812, '20m12aq': 4148, 'worse': 1970, 'kaila': 6082, 'telephone': 3696, '-u': 3887, 'bank': 787, '50pm': 4274, 'moving': 3365, '114/14': 1999, 'bcoz': 788, '3510i': 1424, 'gopalettan': 5710, 'cum': 791, 'imp': 5934, 'currently': 792, 'wire3': 7990, 'screen': 2430, 'skins': 7292, 'giv': 1766, 'die': 794, 'intro': 1512, 'expression': 5468, 'citizen': 2887, 'doin': 795, 'earlier': 796, 'etc': 797, 'chinnu': 4975, 'hop': 1158, 'finally': 799, 'frnds': 800, 'warned': 7914, 'anythiing': 4544, '7am': 4325, 'sucks': 1390, 'barely': 1267, 'egg-potato': 5376, 'identifier': 810, 'invited': 811, 'wn': 3821, 'catches': 4923, 'mate': 818, 'punish': 6932, 'unlimited': 847, '8wp': 2045, 'meant': 821, 'connections': 5061, '08712405020': 1633, 'meds': 1535, 'unable': 1605, 'mr': 823, 'mu': 825, 'autocorrect': 4629, 'nyt': 826, 'pence': 3435, 'bar': 2783, 'opt': 828, 'mjzgroup': 6393, 'wihtuot': 3807, 'party': 830, 'cooking': 2155, 'vital': 7875, 'secret': 835, 'kudiyarasu': 3255, 'executive': 2201, '08002986030': 2597, 'maximize': 1345, 'semester': 836, 'shower': 837, 'stupid': 840, 'telling': 843, 'freek': 5598, 'hearts': 3154, 'uncle': 846, 'batchlor': 4699, 'lab': 1799, 'movies': 1188, 'whats': 849, 'wrong': 850, 'yar': 851, 'babies': 2781, '||': 852, '30': 854, '09099726429': 4071, 'giving': 1153, 'ans': 857, 'deeraj': 5189, 'askd': 858, 'sophas': 7353, '0776xxxxxxx': 2590, 'cherish': 2881, 'b4': 860, 'wth': 8032, 'en': 5400, '83370': 4345, 'comp': 862, '*wicked': 3871, 'ethnicity': 5430, '4wrd': 4261, 'nagar': 3376, 'congratulations': 863, 'accident': 2051, 'lager': 6143, 'course': 865, 'kept': 1335, 'download': 867, 'darren': 930, 'canary': 2855, 'slept': 1219, 'simply': 1901, 'ends': 869, 'weirdo': 7946, 'way2sms': 7930, 'ovulate': 6664, 'row': 1885, 'complete': 1279, 'ha': 874, '6pm': 2698, 'remembrs': 7034, 'happiness': 875, 'jess': 1792, 'wednesday': 1086, 'seem': 1893, 'jay': 879, 'infections': 3198, 'hostile': 5869, 'laptop': 880, '4get': 1650, 'become': 1448, 'grief': 5733, 'swimming': 2492, 'didn\\x92t': 2970, 'recharged': 7003, 'airtel': 4479, 'mom': 883, 'weight': 1412, 'loneliness': 6236, 'monday': 884, 'hands': 1498, '-msg': 3881, 'numbers': 888, 'sayhey': 7163, 'tel': 907, 'bloody': 2105, 'savamob': 894, 'upon': 7813, 'sending': 896, 'suits': 3660, 'tie-pos': 7651, 'sore': 1911, 'jan': 2275, 'store': 903, 'jetton': 6048, 'difficult': 931, 'onlyfound': 6615, '83021': 4340, 'nothin': 3398, 'imma': 1324, 'swing': 906, 'bottle': 2818, 'yor': 2561, 'thinks': 908, 'priya': 6884, 'carefully': 1701, '2day': 1103, 'acting': 2733, 'usf': 910, '8am': 2716, 'sp': 1069, 'retired': 7075, 'w': 912, 'iam': 943, 'against': 917, 'bathe': 919, 'voice]': 7878, 'i\\x92d': 6019, 'present': 1561, 'boss': 920, 'only1more': 6614, 'christmas': 924, 'pg': 1844, 'noline': 1829, 'computer': 925, 'joking': 1517, 'smoking': 2454, 'cdgt': 2867, 'correct': 927, 'goodnite': 5708, 'crave': 928, 'deus': 5233, '300': 2013, 'doctor': 933, 'shanghai': 7226, 'hasbro': 5790, 'wkend': 1968, 'mag': 3313, '08714712388': 3972, 'count': 5098, 'entered': 936, 'wear': 1961, 'downloads': 2181, 'punj': 6933, 'begin': 1449, 'goodnight': 941, 'lect': 946, 'mrng': 952, '2waxsto': 2662, '9ae': 2046, 'craziest': 2933, '2007': 4146, 'mrt': 953, 'sporadically': 7399, 'na': 955, 'needs': 956, 'fan': 5488, 'normal': 957, 'dedicate': 2956, '#150': 3842, 'orchard': 959, 'oredi': 960, 'park': 961, '0578': 2586, 'plans': 962, 'yes-910': 8064, 'themes': 7619, '8th': 1659, 'remove': 966, 'healer': 5800, 'gal-can': 5642, 'safe': 970, 'sitting': 974, 'math': 3322, 'rebtel': 6997, '*sighs*': 1421, 'biro': 4763, 'specially': 976, 'gayle': 5656, 'wed': 1963, '11': 1101, 'outstanding': 2363, 'spend': 977, 'folks': 5556, 'ts&cs': 982, '%': 2572, 'exe': 5456, 'special-call': 1584, 'worried': 991, 'wow': 992, 'uv': 7828, '//www': 993, 'purpose': 1854, '150': 997, '0a$networks': 4075, 'frankie': 5586, 'sol': 1383, 'ericsson': 3022, 'hl': 1500, '20': 998, 'laughed': 2291, '4u': 999, 'talkin': 7563, 'add': 1000, 'baller': 4673, 'belly': 1682, 'age16': 1001, 'bb': 1004, 'booked': 1007, 'ge': 1029, 'buying': 1008, 'cd': 1012, 'sexual': 7215, 'asian': 4593, 'cheers': 1014, 'cr9': 1282, 'landmark': 6151, 'learn': 1803, 'ola': 3408, '-/': 3876, 'colleagues': 1016, 'cthen': 5132, '88877': 4366, 'couple': 1018, 'lac': 6138, 'dead': 1019, 'showered': 7258, 'del': 1020, 'eatin': 1139, 'discount': 1021, 'avoids': 4641, 'kaiez': 3236, 'em': 1025, 'jen': 1791, '$140': 3845, 'exam': 1026, '449050000301': 4242, 'eyes': 1028, 'possession': 2385, 'eighth': 5380, 'hiya': 1030, 'trial': 7725, 'colleg': 5023, 'hospital': 1032, '82242': 2036, 'isn': 1034, 'yetunde': 1974, 'past': 1548, 'jobs': 3226, 'problems': 1562, 'joy': 1035, 'kate': 1036, 'rdy': 6978, 'study': 1075, 'kiss*': 1037, 'parking': 3428, 'polyph': 3455, 'frog': 5613, 'kidz': 1797, '4th': 1426, 'created': 1283, 'knows': 1038, 'mcr': 6330, 'guarantee': 5746, 'dramastorm': 5318, '391784': 4211, 'bids': 2799, 'leaves': 1039, 'grahmbell': 2239, 'arrange': 1442, 'lemme': 1040, 'stores': 3648, 'out--have': 6646, 'drivin': 2995, 'screwd': 7178, 'log': 1042, 'lover': 1043, 'transfer': 3730, 'loves': 1044, 'block': 4776, 'loving': 1045, 'kothi': 3254, 'sutra': 7526, 'peripherals': 6736, 'king': 1338, 'style': 1224, 'match': 1046, 'merry': 1047, 'appointment': 2078, 'mo': 1048, 'advance': 1255, 'moment': 1049, 'mon': 1050, 'optout': 1545, 'oops': 1053, 'videophones': 1953, 'honi': 5855, 'pete': 1055, 'blow': 2810, 'java': 1790, 'pizza': 1056, 'fruit': 5618, 'abiola': 1108, 'point': 1057, 'wahay': 7897, 'pray': 1059, 'silently': 3601, 'rain': 1061, 'regret': 1870, 'posts': 3459, 'rates': 1062, 'whn': 3801, 'option': 3412, 'chit-chat': 4977, 'rock': 1064, 'rs': 1065, 'properly': 3481, 'èn': 8123, 'slave': 1067, 'somebody': 1068, '150p/msgrcvdhg/suite342/2lands/row/w1j6hl': 2003, '2optout': 1644, 'meetins': 6338, 'infernal': 1784, 'street': 1074, 'sing': 2445, 'cardiff': 2858, 'group': 1497, 'terms': 1076, 'sphosting': 7381, 'thinkin': 1077, 'thru': 1078, 'fly': 3074, '…thanks': 8126, 'valentines': 1237, 'tonite': 1079, 'short': 1215, '08719899229': 4002, 'credits': 1129, 'trust': 1080, 'awaiting': 1445, 'via': 1083, 'water': 1085, 'telphone': 2500, 'snatch': 7326, '85233': 4354, 'wishing': 1088, 'write': 1090, 'youdoing': 8074, 'english': 1742, '|': 1092, 'din': 1734, 'hospitals': 3171, 'lightly': 6195, 'decking': 5182, '£200': 1094, 'gf': 3115, '5+-': 4263, '–': 1096, 'servs': 7209, '/': 1097, 'amnow': 4510, '3030': 1105, 'themob>hit': 7622, 'recycling': 7010, '41782': 4232, '62468': 1106, '82277': 1107, 'xy': 1621, 'alrite': 1111, 'ar': 1112, 'up4': 7806, 'asap': 1113, 'bedroom': 1114, 'whilltake': 7971, 'biz': 1116, 'model': 1539, 'burial': 4858, 'brings': 1118, 'yelling': 3834, 'cell': 1121, 'na-tuition': 2341, 'falls': 3049, 'completely': 1125, 'lecture': 1804, 'haven\\x92t': 3149, 'randomlly': 6966, 'country': 1127, 'termsapply': 7594, 'cover': 1128, 'placement': 3444, 'inspection': 5968, 'hesitation': 5828, 'cs': 1130, 'deal': 1132, 'deep': 1133, 'direct': 1135, 'dudette': 5337, 'disturb': 1136, 'halloween': 3144, 'closes': 2896, 'doesnt': 1137, 'birthdate': 4764, 'website': 1962, 'during': 1138, '08718730555': 3992, 'nah': 1190, 'skype': 1907, 'energy': 1142, 'offline': 6591, 'marking': 6307, 'entitled': 1143, 'sexychat': 7216, 'especially': 1144, 'favourite': 3054, 'failure': 5481, 'facebook': 1146, 'fantastic': 1147, '08712300220': 1632, 'rhode': 7081, 'unless': 1234, 'update_now': 7809, 'stunning': 7476, 'father': 1148, 'fixed': 1149, 'callin': 2125, 'fullonsms': 1150, 'i\\x92m': 2274, '5pm': 2690, '99': 2718, 'hg/suite342/2lands': 1155, 'holding': 1156, 'murder': 1352, 'idea': 1161, 'jia': 6052, 'hollalater': 5851, 'sathya': 3555, 'serving': 3575, 'rumbling': 7116, 'inc': 1162, 'kid': 3248, 'insurance': 1163, 'nw': 1544, 'violet': 3774, '08709501522': 3953, 'meat': 6334, 'deduct': 5185, 'interested': 1164, 'shoving': 7257, 'ive': 1165, 'doggy': 2176, 'records': 1867, 'nattil': 6478, 'factory': 5476, 'coulda': 5096, 'izzit': 1166, 'smeone': 3614, 'john': 1167, 'kinda': 1168, 'blake': 2101, 'condition': 5055, 'bbdeluxe': 4705, 'laugh': 1169, 'tackle': 7552, 'shud': 7266, 'lazy': 1170, 'tcr/w1': 2497, 'ldn': 1171, 'truly': 2515, 'link': 1172, 'amma': 4507, 'list': 1173, 'round': 1210, 'loan': 1174, 'frens': 1306, 'looks': 1175, 'sac': 7126, 'matches': 1177, 'pap': 3423, 'meaning': 1178, '-4': 3877, 'panicks': 6680, 'hides': 5832, 'menu': 1181, 'miracle': 1182, '09096102316': 4068, 'mode': 1184, 'moral': 1186, 'public': 3488, 'verifying': 7851, 'move': 1187, 'amazing': 2068, 'bruce': 2832, 'leanne': 6178, 'yuo': 1975, 'none': 1191, 'strong-buy': 3651, 'blu': 2811, 'begun': 4734, 'omw': 1192, 'opinion': 1194, 'rolled': 7099, 'minuts': 1820, 'own': 1195, '08717507382': 3984, 'pleasure': 1198, 'polys': 1199, 'merely': 6349, 'makiing': 6287, 'ke': 3240, 'amrita': 4513, 'poor': 1200, 'lighters': 6194, 'pound': 1201, 'quick': 1203, 'reached': 1204, 'box334': 4805, 'red': 1206, 'tea/coffee': 7578, 'tallahassee': 7566, 'brothas': 4833, 'seriously': 1213, 'com1win150ppmx3age16': 1715, 'kavalan': 3238, 'stick': 3646, 'roommate': 1570, 'sick': 1216, 'tiwary': 3713, 'arrive': 1443, 'sight': 1217, 'bags': 2087, 'sofa': 1220, 'stash': 7425, 'age16+£1': 4471, 'studying': 1223, 'tc': 1226, 'wet': 2545, 'their': 1227, 'tickets': 1228, 'm263uz': 2307, '1956669': 2006, 'training': 1229, 'aiya': 2063, 'txting': 1231, 'captaining': 4909, 'umma': 1232, '09066364349': 4056, 'nus': 6562, 'girlfrnd': 1311, 'seeds': 3569, 'under': 1233, 'voice': 1238, 'wap': 1239, 'atm': 2083, 'é': 1976, 'wiv': 1241, 'yahoo': 1244, 'reallyneed': 6989, '1327': 1247, '150pm': 1248, 'inviting': 1327, 'onwards': 2359, 'processed': 6893, 'humans': 5891, '1da': 4126, '2004': 1249, '5wb': 1251, 'divorce': 2979, 'accept': 1252, 'covers': 5105, '4txt/120p': 4257, 'hurry': 1506, 'added': 1254, 'reache': 6981, 'aiyo': 1257, 'al': 1258, 'asleep': 1262, 'makin': 6288, 'holder': 1502, 'cold': 1467, 'incredible': 5949, '0870241182716': 3943, 'babes': 1264, 'relieved': 7030, 'ocean': 6579, 'bag': 1265, 'behind': 1268, 'printed': 3474, 'cal': 1272, 'cancel': 1273, 'dobby': 2980, 'ta': 1918, 'cash-in': 1276, '0871277810710p/min': 3967, 'cc': 1277, '08712402902': 3963, 'degrees': 5194, 'comuk': 1280, 'causing': 4926, 'boat': 2107, 'haul': 5792, 'costa': 1281, 'callfreefone': 2850, 'croydon': 1284, '25/f': 2652, 'advise': 2743, 'cute': 1286, 'subs': 2483, 'note': 1831, 'macho': 2312, '09061749602': 4037, 'settling': 7211, 'daddy': 1288, 'kisi': 6110, 'due': 1293, 'f': 1298, 'nange': 6470, 'flower': 1302, 'following': 1303, '09061790121': 2622, 'freephone': 1305, 'images': 5928, 'funny': 1307, 'logos': 6230, 'jiu': 1516, 'thecd': 7616, 'gal': 1308, 'gay': 1310, 'sweets': 3674, 'meals': 6331, 'glad': 1312, 'cutting': 2942, 'gn': 1313, 'gm+gn+ge+gn': 2236, 'concentration': 5051, 'choice': 1465, 'jod': 6057, '09050005321': 4012, 'happens': 1315, '5p': 4286, 'heavy': 1316, 'hmv': 1318, 'planning': 1366, 'honey': 1319, 'missionary': 6386, 'bong': 4790, 'howz': 1320, 'waste': 1614, 'employee': 5399, 'hunny': 1321, 'pee': 6723, '<forwarded': 1660, 'imagine': 1323, 'timing': 3709, '145': 2001, '08081263000': 3928, 'suffers': 7494, 'ish': 1328, 'itself': 1330, 'joined': 1332, 'ifink': 5919, 'kano': 1333, 'kerala': 1336, 'guide': 1770, 'pockets': 6803, 'kids': 1337, 'la': 1339, 'taunton': 2496, 'mcat': 6328, 'lacs': 1340, 'tbs/persolvo': 7576, 'five': 1488, 'approx': 2764, 'lady': 1341, 'participate': 6696, 'london': 1342, 'uk/expressoffer': 7764, '86021': 1656, 'longer': 1343, 'lovejen': 3295, 'melle': 1346, 'escape': 2195, '1winawk': 4135, 'mistake': 1349, '02072069400': 3901, 'passport': 6706, '08702840625': 1991, 'intrude': 5985, 'moon': 1350, 'mp3': 1351, 'living': 1526, 'box97n7qp': 2111, 'depressed': 2961, 'naked': 1353, 'nimya': 1355, 'addicted': 1666, 'daily': 1472, 'msging': 3368, 'boltblue': 4788, '2-4-1': 4138, 'nobody': 1356, 'billed': 2800, 'rstm': 3541, 'nxt': 1358, 'understanding': 2523, 'habit': 3142, 'o2': 1359, 'faster': 1750, 'celebrate': 1703, 'omg': 1361, 'bcum': 4710, 'password': 1362, 'persons': 1363, 'jeetey': 6042, 'pilates': 1364, 'parts': 6701, 'ding': 2974, 'planned': 1365, 'q': 1367, 'crammed': 5109, 'showing': 1379, 'expensive': 1482, 'qatar': 1368, 'raining': 1369, 'i‘m': 1786, 'enufcredeit': 5413, 'alex': 1435, 'shy': 3596, '50/week': 1651, 'parco': 3426, '*loving': 1979, 'reference': 1371, '09095350301': 4067, 'registered': 1372, 'vitamin': 7876, 'coupla': 5101, '09061209465': 1994, 'macedonia': 6272, 'gsex': 5743, 'curtsey': 5147, 'usually': 1607, 'request': 1373, 'role': 1375, 'corrct': 5087, 'save': 1376, 'screaming': 1377, 'funeral': 3094, 'shuhui': 1380, 'nevr': 6502, 'ithink': 6012, 'sign': 1381, 'frying': 5619, 'doubletxt': 5313, 'sk38xh': 1382, 'morphine': 2337, 'maximum': 6325, 'ctla': 5133, 'sometimes': 1384, 'somewhere': 1385, 'space': 1387, 'sup': 1391, 'uptown': 7816, 'system': 1392, '08717205546': 3983, 'mary': 6310, 'tampa': 1393, 'allo': 4495, 'no1': 1542, 'th': 1397, 'web': 3791, 'tht': 1398, 'limited': 6200, 'dracula': 2990, 'max10mins': 1534, '22': 4152, 'ticket': 1400, 'towards': 1403, 'track': 1404, 'pours': 3463, 'temales': 7587, 'frosty': 5617, 'btw': 2117, '18yrs': 2643, '1stchoice': 4132, 'unsub': 1405, 'using': 1407, 'thandiyachu': 7606, 'valuable': 2532, 'version': 1408, 'creative': 5117, 'tyrone': 1948, 'vry': 1409, 'bstfrnd': 2834, 'kegger': 3242, '5we': 2026, 'wats': 1410, 'worries': 1413, 'upto': 2527, 'yoga': 1415, 'remembered': 2411, 'christmassy': 4984, 'asks': 1444, 'yrs': 1416, '48922': 4249, 'zed': 1417, '#': 1419, 'terrible': 2501, '09050090044': 1422, 'scorable': 7172, 'indian': 1508, '300p': 2667, 'pre': 6852, 'outage': 6647, 'mia': 6360, '87077': 1431, 'bx420-ip4-5we': 2123, 'air': 1433, 'yeovil': 8060, 'juswoke': 6078, 'requests': 2413, 'chillaxin': 4971, 'aiyah': 1434, 'announcement': 1437, 'bday': 2091, 'hyde': 3182, 'anybody': 1438, 'toxic': 7705, '434': 2017, 'app': 1439, 'exhausted': 3035, 'armand': 1441, 'bfore': 4753, 'throw': 1936, '087104711148': 3957, '8000930705': 4332, 'basically': 1446, 'battery': 1447, 'realised': 6985, '83039': 4341, 'black': 1450, 'permissions': 6738, 'boo': 1452, 'shag': 7219, 'bought': 1453, 'brand': 1454, 'bye': 1457, 'campus': 1459, 'deliveredtomorrow': 2167, 'groovy': 5738, 'cbe': 1461, 'step': 2475, 'changed': 1463, 'city': 1466, 'tap': 3684, 'goal': 2237, 'dogging': 1477, 'dice': 5247, 'er': 1479, 'ran': 1862, 'stagwood': 7415, 'exactly': 1480, 'irritates': 3208, 'exciting': 1481, '420': 4233, 'fantasies': 1484, 'randomly': 6967, 'curfew': 5145, 'cook': 1721, 'fault': 1485, 'readers': 3507, 'sipix': 1579, 'karo': 6092, 'feb': 1486, 'forever': 1489, 'jo': 3224, 'langport': 3260, 'santa': 1889, 'future': 1491, 'chain': 2134, 'offc': 6583, 'guilty': 3140, 'fyi': 1492, 'total': 1944, 'lionp': 3277, 'spice': 7382, 'nervous': 6495, 'gives': 1494, 'google': 1495, 'arrow': 4584, 'goto': 1496, 'high': 1499, 'hook': 1503, 'weasels': 7934, 'nosh': 6547, 'house-maid': 1505, 'chocolate': 2885, 'evng': 1744, '08718726270': 2612, 'closed': 1712, 'fated': 5494, 'slightly': 3609, 'words-': 8012, 'interesting': 1510, 'coast': 2901, 'italian': 1514, 'icon': 5910, 'gv': 5759, 'cya': 5152, 'outta': 2364, 'jazz': 1515, 'sindu': 7282, 'grow': 3138, 'elaborate': 5383, 'jst': 1518, 'rows': 7105, 'yogasana': 1623, '09056242159': 2616, 'kb': 1519, 'l8r': 1521, 'library': 1522, 'wright': 8024, 'lift': 1523, 'cars': 1702, 'howdy': 5875, 'liked': 1524, 'priscilla': 3475, 'local': 1527, 'txtstop': 7753, 'married': 1532, 'surname': 7521, 'marry': 1533, 'rebooting': 6996, 'jurong': 6075, 'natalja': 3382, 'mite': 1538, 'murdered': 1540, 'gaze': 5657, 'nvm': 1543, '09058091854': 2617, 'revealing': 7078, 'euro': 2197, 'drinkin': 2992, 'original': 1546, 'hhahhaahahah': 5830, 'pictures': 1549, '3650': 2672, 'misbehaved': 3344, 'afghanistan': 4465, 'pissed': 1551, 'plenty': 1554, 'dictionary': 1731, 'pobox334': 1555, 'pobox84': 1557, 'sub': 1916, '12mths': 2636, 'posted': 1558, 'lodging': 6226, 'ppl': 1559, 'shouted': 3594, 'r*reveal': 1564, 'toclaim': 1596, 'alibi': 4491, 'respond': 1567, '$1': 3844, 'rose': 1571, 'smiled': 7317, 'w45wq': 1957, 'clarify': 4990, 'sen': 1575, 'idu': 5917, 'concentrate': 2914, '36504': 1645, 'situation': 1580, 'social': 1581, 'spl': 1585, 'woould': 8009, 'logged': 6227, 'barry': 4693, 'tb': 1921, 'station': 1587, 'stock': 1588, 'ambitious': 4502, 'stockport': 1589, 'tissco': 3712, '09058094565': 4018, 'rawring': 6973, 'surely': 1592, 'tea': 1593, 'retrieve': 3526, 'theatre': 1594, '09058095201': 4023, 'travel': 1598, '4*lux': 4220, 'ttyl': 1600, 'relaxing': 7028, 'chex': 4963, 'buns': 1699, 'turns': 1601, 'thx': 3707, 'generally': 3107, 'txtauction': 1602, 'tensed': 7590, 'beloved': 4739, 'u-find': 1604, 'sake': 3550, 'ladies': 1800, 'when/where': 7967, 'fffff': 5508, 'uni': 1606, 'pubs': 6925, 'vikky': 1609, '09066362220': 4055, 'deposit': 5214, 'bother': 1693, 'selection': 1894, 'vote': 1611, 'dwn': 5348, 'wisdom': 3812, 'waking': 1612, 'prompts': 6903, 'motivate': 6420, 'walking': 1613, 'weather': 1616, 'works': 1619, '07046744435': 3911, 'dd': 5174, 'wun': 1620, 'built': 4851, 'yan': 1622, 'although': 2756, 'traveling': 7716, 'yun': 1624, 'tight': 3708, 'sweetest': 2491, 'pai': 6676, '£900': 1625, '*kiss*': 1627, '*smiles*': 1628, 'sells': 3571, 'cave': 4927, '-p': 1630, 'grownup': 5741, '50perwksub': 2023, '10am-7pm': 1636, 'hogolo': 5848, 'continent': 5069, '11mths': 1637, 'brain': 2113, 'alternative': 4499, '11mths+': 1638, 'idiot': 1781, 'broken': 2830, '25': 1640, '2moro': 1643, '3gbp': 1647, 'butting': 4866, '6hrs': 1652, '83355': 1653, '83600': 1654, 'glory': 5684, '09061221066': 1995, 'oga': 6593, '08718738034': 3996, 'evry1': 5450, 'singles': 1902, '20/f': 4144, 'distance': 2174, 'spile': 3634, 'teaches': 3690, '87239': 1657, 'antelope': 4537, '88039': 1658, 'acc': 1663, 'activities': 1665, 'answers': 1670, 'apparently': 1671, 'argument': 1673, 'meetin': 1819, 'fire': 3068, 'interfued': 5978, 'arrested': 1674, 'fastest': 3050, 'fresh': 5603, 'diesel': 5252, '85069': 4352, 'bay': 2784, 'ofice': 3404, 'speciale': 7374, 'assume': 1675, 'vouch4me': 7882, 'common': 1717, 'atlanta': 1677, 'theres': 7628, '4brekkie': 4251, 'bahamas': 1678, 'becoz': 1680, 'befor': 1681, 'bf': 1683, 'birds': 1685, 'ps': 6915, 'bishan': 1686, 'relax': 1872, 'body': 1689, 'verify': 3771, 'dormitory': 5308, 'boston': 1692, 'force': 2222, 'pleased': 1848, 'wc1n3xx': 3789, 'oreos': 6634, 'bowl': 1694, '861': 4356, 'box39822': 1695, 'file': 5518, 'callers': 1700, 'whose': 3803, 'personality': 2374, '*have': 2576, 'lasagna': 6159, 'centre': 1704, 'predicte': 6854, '6th': 2029, 'cha': 1705, '-pls': 3883, 'charges': 1706, 'sms-08718727870': 3615, 'cheaper': 1707, 'chinese': 1709, 'yhl': 8066, '7250i': 2030, 'standard': 1914, 'bathing': 2089, '09064017305': 4046, 'church': 1710, 'cleaning': 1711, 'http//www': 5880, 'comedy': 1716, 'taylor': 3687, 'padhe': 6675, 'tog': 3716, 'med': 1818, 'connection': 1718, 'membership': 3334, 'legal': 1805, '&gt': 2573, 'considering': 1719, 'costs': 1722, 'aint': 2062, 'stamped': 3640, '9061100010': 4377, 'cream': 1723, 'henry': 3160, 'cud': 1724, 'twice': 2519, 'allday': 4493, 'december': 1727, 'seven': 2436, 'def': 1728, 'phoenix': 3437, 'fox': 5583, 'deliver': 1729, 'mb': 3325, '09066358152': 4053, 'ahead': 2060, 'different': 1733, 'dload': 1735, 'audrey': 2775, 'email&gt': 5391, 'fix': 2212, 'embarassed': 1739, 'speaking': 7373, 'os': 3416, 'tiime': 7656, 'eng': 1741, 'california': 2847, 'jesus': 2279, 'wknd': 7999, '200': 2008, 'kalstiya': 6087, 'enjoyed': 1743, 'performed': 6733, 'exams': 1745, 'html': 5878, 'der': 5218, 'except': 1746, 'contacts': 2922, 'expecting': 1747, 'fees': 2206, 'onwords': 6617, 'message**thanks': 6351, 'amount': 2071, 'lifpartnr': 3272, 'experience': 1748, 'february': 1753, 'rush': 1887, 'fight': 1755, 'fighting': 1756, 'fill': 1758, 'fills': 1759, 'freak': 1760, 'gee': 1764, 'gently': 1765, 'ything': 8085, 'apes': 4546, 'grl': 1768, 'bigger': 2097, 'ubi': 2521, 'hols': 1773, 'raji': 2398, 'symbol': 2493, 'hum': 5889, 'hopefully': 1774, 'however': 1776, 'iz': 1785, 'jada': 1787, 'value-morning': 7836, 'jordan': 1794, 'june': 1795, 'law': 1802, 'business': 2843, '08715203028': 3975, 'url&gt': 2531, 'hsbc': 3177, 'lik': 1806, 'we‘ll': 7960, 'usb': 3763, 'linerental': 1807, 'lives': 1808, 'my-tone': 6457, 'lmao': 1809, 'sapna': 7146, 'illspeak': 5925, 'espe': 5428, 'cereals': 4933, '50/msg': 4267, 'logo': 1810, 'accidentally': 2052, '*passionate': 3861, 'lonely': 1811, 'kickboxing': 6105, 'malaria': 1815, 'guides': 5754, 'technical': 1924, 'fb': 3055, 'terrorist': 3699, 'moms': 1823, 'naughty': 1827, 'dorothy@kiefer': 5309, 'nights': 1828, 'manage': 3320, '30ish': 2668, 'norm150p/tone': 1830, 'waliking': 7903, 'notice': 1832, '87575': 2041, 'often': 1833, 'quiet': 3493, 'bck': 2786, 'oni': 1834, 'dirty': 2170, 'meive': 6340, 'oru': 1836, 'sooooo': 3623, 'paid': 1839, 'paris': 1840, 'partner': 1841, 'paying': 1843, 'walkin': 7905, 'pig': 1846, 'gokila': 5697, 'entire': 5412, 'pod': 1849, 'ppm': 1851, 'sq825': 7408, 'purchase': 1852, 'evrey': 3031, '09077818151': 4062, 'quit': 1858, 'quote': 1859, '786': 2701, '03': 3904, 'steps': 7433, 'radio': 1860, 'rally': 1861, 'received': 1864, 'exterminator': 5470, 'receiving': 1865, 'recently': 1866, 'atm/sms': 2772, 'inch': 3193, '28th': 4167, 'refused': 1869, 'ain': 2061, 'build': 2838, 'relation': 1871, '6zf': 4315, 'remain': 1873, 'results': 1878, '83383': 2708, 'returns': 1879, 'reveal': 1880, 'upset': 2526, 'wrecked': 8021, '2u': 2012, 'ron': 1883, 'logo/pic': 3286, 's&c': 1888, 'scared': 1890, 'settled': 1897, 'presents': 6865, 'pile': 6767, '08452810073': 1989, 'sha': 1898, 'shortly': 1899, 'site': 1903, 'west': 3798, 'six': 1904, 'rajnikant': 6964, 'john\\x94-sounds': 6059, '=/': 4393, 'skilgme': 1905, 'i\\x92llspeak': 6020, 'sky': 1906, 'songs': 1910, 'spook': 1913, 'takin': 1919, 'teach': 1922, 'team': 1923, 'garage': 2232, 'tells': 1925, 'nok': 3394, 'goldviking': 5700, 'thangam': 1931, 'xam': 3830, 'chic': 4966, 'admit': 2740, 'thnk': 1933, 'soladha': 7336, 'throat': 1935, 'mins/texts': 6378, 'thurs': 1938, 'countin': 2930, 't-c': 3678, '0906346330': 4042, 'sumthin': 3662, 'jewelry': 6049, 'title': 1941, 'meanwhile': 2325, 'lovingly': 3298, 'tank': 3683, 'train': 1945, 'tree': 1946, 'endof': 5402, 'tuition': 1947, 'gonnamissu': 5704, 'uncles': 1949, '9am-11pm': 2047, 'unsold': 1950, 'urgnt': 1951, '1winaweek': 2007, 'videochat': 1952, 'village': 1954, 'vomit': 1955, 'w111wx': 1956, 'spose': 7401, 'ishtamayoo': 6006, 'bcm4284': 2787, 'unhappiness': 7787, 'wah': 1958, 'compensation': 5039, 'waitin': 1959, 'callback': 2849, 'band': 4675, 'white': 1965, 'yer': 1972, 'janarige': 6033, '5th': 2025, 'victoria': 7856, 'yest': 1973, '***********': 1977, 'sorrow': 3624, 'island': 3210, 'nudist': 6558, 'ahhhh': 4474, '*pouts*': 1980, 'resubmit': 7072, 'boatin': 4783, 'appt': 2766, 'dan': 2945, '*wait': 1982, 'othrwise': 6643, '07xxxxxxxxx': 1984, '08000938767': 1985, 'nasdaq': 3381, '08002986906': 1987, 'unrecognized': 7800, '08715705022': 1992, 'audition': 2084, '087187262701': 1993, 'unbelievable': 7771, '09066362231': 1996, 'tmw': 7669, '125gift': 2000, '£1million': 8108, '15': 2002, '150ppermesssubscription': 2005, 'mailbox': 3316, '08718738002': 3995, 'capital': 2857, '2morrow': 2010, 'clas': 4991, '3qxj9': 2014, 'weird': 2543, 'lvblefrnd': 3306, '3uz': 2015, 'licks': 3269, '4-tc': 2016, '4742': 2018, 'lesser': 6189, '88066': 2042, 'roses': 7101, '50gbp/mtmsg18': 2021, 'heads': 3153, '50p': 2022, 'figures': 3063, 'fund': 5630, '60p/min': 2027, '6months': 2028, 'regarding': 2407, 'deleted': 5199, 'akon-lonely>>>': 4482, '7th': 2031, 'le': 2293, '08717890890£1': 3986, 'drugdealer': 5328, 'dsn': 2186, '80062': 2032, '80082': 2033, '30th': 4198, '80182': 2034, 'ee': 3009, '81151': 2035, 'keep-in-touch': 6097, '84128': 2038, 'individual': 3197, '89080': 4369, '87121': 2040, '_': 2048, 'aah': 2049, 'demand': 5203, '80122300p/wk': 4334, 'ache': 2053, 'adult': 2055, 'affairs': 2056, 'guesses': 5751, 'afraid': 2058, 'listn': 6215, 'ages': 2059, 'alfie': 2065, 'alive': 2066, 'along': 2067, 'art': 2081, 'july': 2281, 'tunde': 7740, 'american': 2069, 'ow': 6666, 'among': 2070, 'amt': 2072, 'max': 6323, 'answering': 2073, '09063442151': 4041, 'anythin': 2074, 'arsenal': 2080, 'darlings': 2948, 'explain': 2202, 'august': 2085, 'beer': 2092, 'landlines': 3258, 'toa': 2509, 'box326': 4804, 'bein': 2094, 'belovd': 2095, 'jaz': 6038, 'ben': 2096, '*exposes': 3856, 'biggest': 2098, 'vava': 2534, 'birla': 2099, 'blah': 2100, 'lip': 3279, 'bless': 2102, 'bloke': 2103, 'bloo': 2104, '08714712394': 3973, 'boost': 2108, 'booty': 2109, 'box95qu': 2110, 'bright': 2114, 'rough': 7102, 'imposter': 5937, 'bro': 2115, 'vettam': 2536, 'bud': 2118, '6669': 4300, 'budget': 2119, '08448714184': 3932, 'kodthini': 6123, 'invention': 5986, 'mths': 2340, 'building': 2120, 'itried2tell': 6014, 'buzy': 2121, 'taxless': 7574, 'bx420': 2122, 'cam': 2126, 'or2optout/hv9d': 6631, 'prem': 3467, 'cann': 2127, 'que': 6950, 'h&m': 5761, 'features': 5499, 'cannot': 2128, 'pases': 6703, 'rude': 3543, 'stuck': 7466, 'captain': 2129, 'practicing': 3465, 'careful': 2130, 'splleing': 3635, 'nonetheless': 6539, 'sheffield': 3582, 'caring': 2131, '0796xxxxxx': 3925, 'cat': 2132, 'caught': 2133, 'challenge': 2135, 'chatting': 2136, 'chechi': 2137, 'winnersclub': 7987, 'breaker': 4818, 'holy': 3169, 'childish': 2138, 'chillin': 2140, 'china': 2141, '*i*': 3857, '946': 4384, 'clear': 2143, 'that‘s': 3703, '*adoring': 3853, 'misundrstud': 6390, 'cleared': 2144, 'rumour': 3547, 'click': 2145, 'travelled': 7717, 'community': 2147, 'competition': 2148, 'sept': 2435, 'concert': 2149, 'connect': 2151, 'contacted': 2153, 'sleepy': 7300, 'bangb': 4677, 'crab': 2156, 'crack': 2157, 'cw25wx': 2943, 'wahleykkum': 7900, 'cramps': 2158, 'credited': 2159, 'cross': 2160, 'hearted': 5803, '20p/min': 2647, 'hari-': 5786, 'cruise': 2161, 'dare': 2162, 'darling': 2163, '08714342399': 3969, 'valuing': 7837, 'death': 2164, 'delivered': 2166, 'recpt': 7009, 'dem': 2168, 'di': 2169, 'asjesus': 4594, 'dislikes': 2172, '2stop': 2661, '08706091795': 3948, 'display': 2173, 'doc': 2175, 'dollars': 2177, 'don‘t': 2179, 'kodstini': 6122, 'dot': 2180, 'some1': 2459, 'kaypoh': 6095, 'dresser': 2183, 'fab': 3044, 'flaky': 3070, 'shouting': 7256, 'dry': 2185, 'mundhe': 6446, 'dubsack': 2187, 'hen': 5823, 'easier': 2188, 'booking': 2815, 'ec2a': 2189, 'male': 2317, 'egg': 2190, 're-schedule': 3505, 'elsewhere': 2191, 'coping': 2925, 'enuff': 2193, 'sittin': 7288, 'kalainar': 6085, 'esplanade': 2196, 'presence': 6864, 'exact': 2200, 'eye': 2203, 'failed': 2204, 'acnt': 4440, 'favor': 2205, 'finishes': 2208, '24hrs': 4160, 'finishing': 2209, '08708800282': 3952, 'txttowin': 7754, 'fit': 2211, '07821230901': 2593, 'flaked': 2213, 'flat': 2215, 'dental': 5207, 'floor': 2217, 'mycalls': 6458, 'fml': 2218, 'follow': 2219, 'fool': 2220, 'permanent': 6737, 'footprints': 2221, 'foreign': 2223, 'slap': 2450, 'literally': 3280, 'forevr': 2224, 'narcotics': 6473, 'four': 2225, 'chances': 2872, 'fren': 2227, 'yijue@hotmail': 8068, 'hugh': 5886, 'banter': 4681, 'frndship': 2228, 'fromm': 2229, 'further': 2231, 'apart': 2762, 'gardener': 2233, '*smacks': 3867, 'gary': 2234, 'given': 2235, 'hostel': 3172, 'shoot': 7249, 'gorgeous': 2238, 'gram': 2240, 'uup': 7827, 'grand': 2241, 'greet': 2243, 'h': 2244, 'stifled': 7438, 'hahaha': 2245, 'telly': 7585, 'abta': 2724, 'handed': 2246, 'handle': 2247, 'rule': 3545, 'hasn': 2248, 'thesedays': 7629, 'lousy': 2304, 'journey': 3230, 'havin': 2250, 'splash': 7391, 'havnt': 2251, 'history': 2252, 'honeybee': 2255, 'hr': 2256, 'ikea': 2260, 'improve': 3191, 'incident': 2262, 'haiyoh': 5766, 'include': 2263, 'slovely': 7306, 'flute': 5552, 'coach': 5013, 'inclusive': 2264, 'insha': 2265, 'center': 2870, 'misfits': 6382, 'instructions': 2266, 'interview': 2268, 'invite': 2269, 'invnted': 2270, 'ip4': 2271, 'urn': 3762, 'useless': 7823, 'islands': 2273, '-shakespeare-': 3884, 'msn': 3369, 'jane': 2276, 'jason': 2277, 'bluray': 4781, 'jealous': 2278, 'tension': 7591, 'no-910': 6529, '7pm': 4327, 'hide': 3164, 'tooth*': 7692, 'k52': 2282, 'tai': 7556, 'consent': 5064, 'karaoke': 2284, 'window': 3809, 'key': 2286, 'knowing': 2288, 'feng': 5506, 'dogbreath': 5292, '09701213186': 4074, 'l': 2289, 'winning': 2548, '4882': 2680, 'laughing': 2292, 'lead': 2294, 'leona': 2295, 'lifetime': 2297, '3lp': 2676, 'lines': 2299, 'pause': 6713, 'liverpool': 2300, 'locations': 2301, 'login': 2302, '42049': 4234, 'loss': 2303, '07973788240': 3926, 'm8': 2308, 'avent': 2778, 'ma': 2310, 'smith-switch': 7321, 'evil': 5447, 'machan': 2311, 'unintentional': 7791, 'madam': 2313, '**free': 3852, 'maintain': 2315, 'taka': 7559, 'rct': 6977, 'major': 2316, 'manda': 2318, 'map': 2320, 'margaret': 2321, '*devouring': 2575, 'mentionned': 6348, 'mas': 2322, 'prince': 6876, 'neighbors': 6493, 'matter': 2324, 'members': 2326, 'heater': 3155, 'messenger': 2327, 'supports': 7515, 'miles': 2328, 'minnaminunginte': 2330, 'missin': 2331, 'mmm': 2332, 'perumbavoor': 6744, 'forgiven': 3080, 'mobilesdirect': 2333, 'visitors': 7874, 'tootsie': 7694, 'monthly': 2335, 'mk45': 3350, 'starshine': 7423, 'moved': 2338, 'burning': 2840, 'railway': 3497, 'msg*': 2339, 'slower': 7307, 'names': 2342, 'spiritual': 7389, 'nan': 2343, 'ne': 2346, 'tomarrow': 2512, 'nearly': 2347, 'pobox1': 6794, 'pleassssssseeeeee': 6784, 'neighbour': 2348, 'print': 3473, 'netcollex': 2349, 'networking': 2350, 'nokias': 2352, 'normally': 2353, 'lt': 6254, 'nurungu': 2354, 'nyc': 2355, 'okey': 2357, 'knocking': 6118, 'onto': 2358, 'or2stoptxt': 2361, 'forum': 3084, 'ordered': 2362, 'imprtant': 5941, 'pack': 2365, 'parked': 2367, 'passionate': 2368, 'perfect': 2371, 'cookies': 5079, 'period': 2372, 'personal': 2373, 'ph': 2375, 'philosophy': 2376, 'upd8': 3758, 'phne': 2377, 'stands': 7419, 'significance': 7272, 'elliot': 5389, 'dent': 5206, 'photos': 2378, 'pink': 2379, 'select': 3570, 'polyphonic': 2381, 'playng': 6782, 'pop': 2383, 'postcode': 2386, '*deep': 3855, '1-month': 4077, 'preferably': 2387, 'sigh*': 7270, 'prepare': 2388, '89693': 2715, 'promises': 2392, 'emergency': 5396, 'ptbo': 2393, 'consensus': 5063, 'questioned': 2395, 'conacted': 5049, 'quoting': 2397, 'random': 2399, 'rather': 2400, 'shelf': 3583, 'rd': 2401, 'device': 5237, 'reality': 2402, 'young': 8076, 'punch': 6931, '+cheer': 3872, 'realized': 2403, 'reasons': 2404, 'clearing': 2892, 'swan': 7529, 'pixels': 6774, 'record': 2406, 'ls15hb': 3302, 'regular': 2408, 'rem': 2409, 'n8': 6466, 'beside': 4745, 'report': 2412, 'kindly': 3251, 'checkin': 4951, 'research': 2414, 'responding': 2415, 'reward': 2417, 'roads': 2418, 'is/are': 6004, 'roger': 2419, 'detroit': 2964, 'gucci': 5747, 'complain': 5041, 'row/w1jhl': 2420, 'lands': 6152, 'sachin': 2423, 'letter': 3266, 'salary': 2424, 'sam': 2425, 'nordstrom': 6543, 'satisfied': 2426, '100percent-real': 2632, 'saved': 2427, 'scary': 2428, 'hella': 3157, 'se': 2431, 'seemed': 2433, 'senthil': 2434, 'kappa': 3237, 'shoppin': 3592, 'shame': 2438, 'sheets': 2439, 'ammae': 4508, 'shortage': 2441, 'shorter': 2442, 'gpu': 3131, 'shot': 2443, 'sit': 2446, 'janx': 6035, 'afew': 4462, '09050001808': 4011, 'physics': 6761, 'skip': 2449, 'slippers': 2451, 'neway': 3391, 'chapter': 4942, 'smart': 2452, 'driver': 2994, '09058097189': 4024, 'smile*': 2453, 'sn': 2455, 'yummy': 2562, 'avatar': 2777, 'snake': 2456, 'greatness': 5731, 'soft': 2457, 'software': 2458, 'peaceful': 3433, 'sonyericsson': 2461, 'repeat': 3523, 'webpage': 7938, 'sory': 2463, 'source': 2465, 'ac/u/nat27081980': 2726, 'spanish': 2466, 'speed': 2467, 'i‘ll': 3216, 'evone': 5449, 'sports': 2469, 'sry': 2470, 'doubt': 5314, 'stamps': 2471, 'companion': 5037, 'oi': 3406, 'standing': 2472, 'stars': 2473, 'rgds': 3530, 'starwars3': 2474, '07786200117': 2592, 'stomach': 2476, 'straight': 2478, 'tarot': 7568, 'stranger': 2479, 'subpoly': 2482, 'shirt': 3588, 'subscriber': 2484, 'fatty': 5496, 'sum1': 2486, 'unconscious': 7774, 'sunny': 2487, 'suprman': 2489, 'ashley': 2771, 'surfing': 2490, 'taken': 2494, 'tape': 2495, 'constant': 2921, 'untamed': 3757, 'teacher': 2498, 'likeyour': 6196, '60p': 4292, 'tease': 2499, 'polo': 3453, 'oil': 3407, 'practising': 6839, 'algorithms': 4489, 'tessy': 2502, 'ringing': 7086, 'greatly': 5730, 'goodmate': 5707, 'textcomp': 2503, 'texted': 2504, 'thanksgiving': 2505, 'theory': 2506, 'tis': 2507, 'today-sunday': 2510, 'soc': 7333, 'toll': 2511, 'whenevr': 2546, 'tscs': 2516, 'tscs087147403231winawk': 2517, 'moves': 3363, 'lord': 6243, 'imposed': 5936, '08000407165': 2594, 'turn': 2518, 'prizes': 3476, 'txtin': 2520, 'liver': 6220, 'ummmmmaah': 2522, 'cashto': 2865, 'e=': 3001, 'unique': 2524, 'university': 2525, 'recognise': 3512, 'urawinner': 2528, 'slippery': 7304, 'ure': 2529, 'artists': 4585, 'urgently': 2530, 'karnan': 6091, 'various': 2533, 'vegetables': 2535, 'voda': 2538, '1030': 2633, 'walmart': 2542, 'clock': 2894, 'frmcloud': 5609, 'welp': 2544, 'wherever': 2547, 'workin': 2550, 'ls1': 3301, 'world*': 2551, 'ga': 5638, 'wrk': 2552, 'wt': 2553, '5000': 4270, 'wtf': 2554, 'aunt': 4622, 'wylie': 2555, '5-sankatmochan': 4265, 'mostly': 3362, 'xchat': 2557, 'yeh': 2559, 'bedbut': 4721, 'adoring': 4452, '0871750': 2610, '2morrowxxxx': 4183, 'ym': 2560, 'aids': 4477, '£3/wk': 2563, '£4': 2565, '£75': 2566, '$5': 2568, 'notxt': 3399, '$50': 2569, 'gamb': 5645, '$900': 2571, '*****up': 2574, '*kisses*': 2577, '+std': 2579, 'outsomewhere': 6656, '-sub': 2580, '07801543489': 3919, '008704050406': 2582, 'paranoid': 6691, '02/09/03': 2583, 'problms': 6888, 'recovery': 3513, '0207': 2584, '02073162414': 2585, 'radiator': 6955, '07123456789': 2588, 'mmmmmm': 3353, '07734396839': 2589, '08712400603': 3960, '07781482378': 2591, '08000776320': 2595, '08002888812': 2596, 'deciding': 2954, 'grave': 3134, 'replace': 7042, '08006344447': 2598, '3pound': 4217, '08081560665': 2599, 'whr': 3804, '08701417012150p': 2601, 'jungle': 6074, '08708034412': 2602, 'ag': 2745, 'denying': 5210, '08712101358': 2604, 'onluy': 6613, '08712317606': 2605, 'studies': 7469, '08712402050': 2607, '08712405022': 2608, 'phoned': 6757, 'fourth': 5580, 'chinchillas': 4973, '08717898035': 2611, 'switch': 3676, '08718727870': 2613, '08719181513': 2614, '09058094599': 2618, '09061221061': 2619, 'fear': 3056, 'waheeda': 7899, '09061702893': 2620, 'shelves': 7234, '09061744553': 2621, '09063458130': 2623, '09064011000': 2624, 'truffles': 3735, '09066382422': 2630, '09066612661': 2631, '10ppm': 2634, '113': 2635, '150p/day': 2637, 'gentle': 3110, 'rearrange': 6991, '150p/min': 2638, '16+only': 2640, '18+6*£1': 2641, 'wallet': 7907, '21': 2648, '21st': 2650, 'fishhead': 5532, '118p/msg': 4091, 'crap': 5110, '26': 2653, '28days': 2655, '2geva': 2656, 'aid': 4476, '2marrow': 2657, 'free-nokia': 5595, '2rcv': 2660, '2yr': 2664, '300%': 2665, 'lily': 3274, 'ak': 4481, '300603': 2666, 'bread': 2824, 'rcb': 6975, 'lanka': 6153, 'equally': 5417, '31/10/04': 2670, 'providing': 6912, 'lived': 6219, '3100': 2671, '373': 2673, '3d': 2675, 'ducking': 5335, '3ss': 2677, '40533': 2678, 'profiles': 6897, '41685': 2679, 'finding': 5522, '4a': 2681, 'location': 3284, 'irritation': 6001, 'aspects': 4597, 'help08718728876': 3159, '4d': 2682, '4eva': 2683, 'spark': 7370, '4fil': 2684, '4t&': 2685, '5free': 2686, '5k': 2687, '5min': 2688, '5p/min': 2689, '61200': 2691, 'naseeb': 6474, '61610': 2692, 'whos': 3802, '65': 2693, '69698': 2694, 'evry': 3032, '69866': 2695, '2309': 4154, '6hl': 2697, 'xxxxxx': 8047, '6wu': 2699, '77': 2700, 'frauds': 5589, 'beneficiary': 4741, '7ish': 2702, '80878': 2704, '81618-': 2705, 'flew': 5538, '83049': 2706, '83222': 2707, '8552': 2710, 'takecare': 7560, '89555': 2714, '=d': 2720, '2stoptx': 4188, '2006': 4145, 'wiskey': 3815, 'ability': 2721, 'abj': 2722, 'absolutly': 2723, 'perf': 6730, 'aburo': 2725, '08719181503': 3999, 'ths': 3706, 'academic': 2727, 'gam': 5644, 'cared': 2859, 'gail': 5639, 'accordingly': 2728, 'triumphed': 7728, 'cage': 4881, 'albi': 4485, 'accounts': 2729, 'aco&entry41': 2731, 'reckon': 7005, 'happend': 5782, 'brilliantly': 4828, 'action': 2734, 'bray': 2823, 'knock': 3252, 'sitll': 3604, 'germany': 3113, 'paragraphs': 6690, 'addamsfa': 2737, 'colours': 5025, 'chloe': 4979, 'administrator': 2739, 'breaks': 4821, 'ads': 2742, 'affair': 2744, 'northampton': 6545, 'agalla': 2746, '*possessive': 3863, 'outl8r': 6652, 'agree': 2748, 'morefrmmob': 3360, 'stalk': 7417, 'album': 2751, 'worthless': 8017, 'allow': 2754, 'panties': 6684, 'allowed': 2755, 'animation': 2758, 'tirupur': 3711, 'concerned': 5053, 'annie': 2760, 'anthony': 2761, 'birth': 2803, 'fats': 5495, 'appreciated': 2763, 'argue': 2767, 'arms': 2769, 'arts': 2770, 'attached': 2773, 'dealing': 5175, 'attend': 2774, 'auto': 2776, 'banks': 2782, 'classic': 4993, 'sharing': 3581, 'castor': 4921, 'bear': 2788, '12hours': 4096, 'staff': 3639, 'posting': 6828, 'beauty': 2789, 'director': 5265, '45pm': 4246, 'becomes': 2790, 'box139': 4802, '@shesil': 4398, 'beg': 2791, 'jas': 3219, 'tul': 7739, 'begging': 2792, 'bk': 2805, 'belive': 2793, 'virtual': 7870, 'desert': 5221, 'bet': 2796, '09064018838': 4047, 'rcv': 3504, 'head…': 5798, 'beware': 2797, 'biola': 2801, 'wizzle': 7998, 'bird': 2802, 'nd': 3385, 'proper': 6906, 'bite': 2804, 'lingo': 6207, 'bleh': 2806, 'blessing': 2807, 'couldn': 2929, 'royal': 3540, 'supose': 7512, 'blind': 2808, 'blonde': 2809, 'bluff': 2812, 'blur': 2813, 'sherawat': 7235, 'drama': 5317, 'borrow': 2817, 'box177': 2819, 'ab': 4412, 'box334sk38ch': 2820, 'ba': 4656, 'spring': 3637, 'box385': 2821, 'ciao': 4986, '08002988890': 3927, 'level': 6190, 'brandy': 2822, 'breath': 2825, 'reset': 7057, 'british': 2828, 'broad': 2829, 'bros': 2831, 'bruv': 2833, 'buffet': 2837, 'queries': 6951, 'bulbs': 2839, 'burns': 2841, 'buses': 2842, 'c52': 2845, '7+2+5=': 4316, 'calicut': 2846, 'call2optout/n9dx': 2848, 'calls£1/minmobsmorelkpobox177hp51fl': 2851, '08702490080': 3944, 'innocent': 3201, 'calls£1/minmoremobsemspobox45po139wa': 2852, 'camera/video': 2853, 'cancelled': 2856, 'cares': 2861, 'coveragd': 5104, 'oranges': 3413, 'howu': 5876, 'caroline': 2862, 'carry': 2863, 'cashbin': 2864, 'known': 6119, 'catching': 2866, 'celeb': 2868, 'certainly': 2871, 'aust': 4626, 'channel': 2873, 'shoes': 3591, 'charles': 2874, 'chart': 2875, 'importantly': 5935, 'chasing': 2877, 'cheating': 2879, 'gibbs': 3117, 'cheer': 2880, 'chest': 2882, 'chip': 2884, 'bsnl': 4843, 'remind': 3518, 'mcfly-all': 6329, '9th': 4390, 'christ': 2886, '09061213237': 4030, 'assistance': 4601, 'claire': 2889, 'provided': 3487, 'slots': 3611, 'clark': 2890, 'cld': 2891, 'lage': 6142, 'clever': 2893, '[colour=red]text[/colour]txtstar': 4400, 'clos1': 2895, 'clothes': 2897, '06': 3908, 'cme': 2898, 'cn': 2899, 'jobyet': 6055, '09058098002': 4026, 'vs': 7885, 'cnn': 2900, 'coat': 2902, 'cochin': 2903, '83435': 4346, 'coin': 2905, 'collected': 2906, 'color': 2907, 'com/index': 2908, 'elaine': 3016, 'comfort': 2910, 'sculpture': 7180, 'lrg': 6252, 'compare': 2911, 'complaint': 2912, 'compromised': 2913, 'ou': 6644, 'confirmd': 2916, 'maat': 6271, 'hellogorgeous': 5815, 'confused': 2917, 'confuses': 2918, 'consider': 2919, 'convinced': 2924, 'ft': 5620, 'cornwall': 2926, 'ltdhelpdesk': 6255, 'correction': 2927, 'costing': 2928, 'courage': 2931, 'cr01327bt': 2932, 'organizer': 6637, 'creep': 2934, 'crore': 2936, 'filthy': 5519, 'csh11': 2937, 'dokey': 2982, '$2': 3847, 'gent': 3109, 'custom': 2940, 'cutefrnd': 2941, 'learned': 6179, 'dance': 2946, 'east': 3004, 'solved': 3620, 'hiphop': 5838, 'dark': 2947, 'accessible': 4432, 'dave': 2949, 'dealer': 2950, 'dear1': 2951, 'munsters': 3373, 'dearer': 2952, 'dearly': 2953, 'sian': 3598, 'dedicated': 2957, 'delhi': 2959, 'denis': 2960, 'desparate': 2962, 'iriver': 5997, 'desperate': 2963, 'dhoni': 2967, 'comb': 5030, 'dick': 2969, 'difference': 2971, 'dificult': 2972, 'tsunamis': 7737, '150p/sms': 4110, 'dignity': 2973, 'kay': 3239, 'dippeditinadew': 2975, 'idew': 3188, 'bars': 4694, 'disconnect': 2976, 'distract': 2977, 'scores': 3561, 'doesn\\\\': 2981, 'dollar': 2983, 'don\\\\': 2984, 'keluviri': 6098, 'eaten': 3007, 'promotion': 6902, 'donate': 2985, 'screamed': 7177, 'forgets': 3079, 'matric': 6320, 'dorm': 2987, 'dr': 2989, 'racing': 3494, 'dressed': 2991, 'drinking': 2993, 'spaces': 7366, 'drunken': 2997, 'duchess': 2998, 'ear': 3002, '-the': 3885, 'easily': 3003, '08700435505150p': 3937, 'tiring': 7662, 'explosive': 3040, 'shared': 3580, 'ebay': 3008, 'callon': 4894, 'effect': 3011, 'youi': 8075, 'eggs': 3012, 'aquarius': 4567, 'eight': 3013, 'dip': 5264, 'eire': 3014, 'ela': 3015, 'electricity': 3017, 'claypot': 4995, 'enjoyin': 3019, 'environment': 3020, 'ese': 3023, 'call2optout/': 4887, 'eta': 3025, 'killing': 3249, 'gauge': 5654, 'eightish': 5381, 'eurodisinc': 3026, 'evening*': 3027, 'ovr': 6663, 'everyday': 3028, 'evn': 3029, 'evr': 3030, 'exeter': 3034, 'exmpel': 3036, 'tightly': 7654, 'maraikara': 6302, 'expect': 3038, 'week-stop': 3795, 'wifi': 7976, '69888': 4307, 'fa': 3043, 'falling': 3048, 'fathima': 3051, 'stylist': 7477, 'favorite': 3053, 'feelin': 3057, 'yupz': 8088, 'female': 3059, '087016248': 3941, 'filled': 3065, 'fixedline': 3069, 'foot': 3077, 'somewheresomeone': 7345, 'football': 3078, 'form': 3082, 'no-434': 6527, 'barmed': 4688, 'forms': 3083, '\\x93it': 8102, 'gained': 5641, '08717895698': 3987, 'forums': 3085, 'free>ringtone': 3088, 'splashmobile': 7392, 'fret': 3090, 'fringe': 3091, 'fucked': 3093, 'funky': 3096, 'furniture': 3097, 'regard': 7022, 'galileo': 3099, 'garden': 3101, 'computerless': 5048, 'gaytextbuddy': 3103, 'gender': 3106, 'genius': 3108, 'gentleman': 3111, 'getstop': 3114, 'ghost': 3116, 'kz': 3256, 'spoil': 7395, 'textoperator': 3702, 'fights': 5517, 'gifted': 3118, 'gimme': 3119, 'hvae': 5900, 'gin': 3120, 'reasonable': 3509, 'tosend': 7702, 'gist': 3121, 'go2': 3122, 'gold': 3123, 'parkin': 6695, 'gona': 3124, 'hurting': 3181, 'luks': 6260, 'goodfriend': 3125, 'goodnoon': 3126, 'brownie': 4836, 'goodo': 3127, 'likely': 3273, 'gossip': 3128, 'govt': 3130, 'gr8prizes': 3132, 'fried': 5605, 'granite': 3133, 'if/when/how': 5918, 'itz': 3214, 'papers': 3424, 'ground': 3137, 'growing': 3139, 'hardcore': 3146, 'pickle': 3440, 'gep': 5667, 'complacent': 5040, 'hardly': 3147, 'harry': 3148, '09058094583': 4019, 'herself': 3161, 'hes': 3162, 'hg/suite342/2lands/row/w1j6hl': 3163, 'ijust': 5922, 'hill': 3165, 'hm': 3167, '08715203649': 3976, 'hockey': 3168, 'hotels': 3173, '2-bajarangabali': 4139, 'housewives': 3174, 'hundred': 3180, 'ibh': 3183, 'path': 6709, 'ibhltd': 3184, 'ibn': 3185, 'ideas': 3187, 'impatient': 3189, 'impossible': 3190, 'indeed': 3195, 'indicate': 3196, 'inform': 3199, 'inshah': 3202, 'instituitions': 3203, 'tunji': 7742, 'interflora': 3204, 'pesky': 6745, 'wedding': 3792, 'asia': 4592, 'invaders': 3205, 'ipad': 3207, 'rodds1': 7096, 'iscoming': 3209, '07946746291/07880867867': 3924, 'issue': 3211, 'itcould': 3212, 'medicine': 3328, 'itwhichturnedinto': 3213, 'jd': 3220, '<fone': 4391, 'jiayin': 3223, 'evenings': 5434, 'twelve': 3739, 'joanna': 3225, '=twelve': 4394, 'jolly': 3228, 'jsco': 3231, 'jstfrnd': 3232, 'wo': 3822, 'fujitsu': 5624, 'areyouunique': 4573, 'jsut': 3233, 'juicy': 3235, 'sochte': 7334, 'a-ffectionate': 4406, 'kent': 3243, 'keys': 3244, 'kg': 3245, 'swtheart': 3677, 'poop': 3456, 'kickoff': 3246, 'celebrations': 4930, 'appear': 4554, '09065989180': 4051, 'treasure': 7720, 'kicks': 3247, '\\x91rents': 8100, 'konw': 3253, 'l8tr': 3257, 'x2': 8038, 'txt-2-shop': 7750, 'lane': 3259, 'language': 3261, 'largest': 3262, 'rights': 3533, 'lays': 3263, 'avalarr': 4633, 'letters': 3267, 'tendencies': 7589, 'lido': 3270, 'superior': 7509, 'lies': 3271, 'outs': 6654, 'facts': 5477, 'lions': 3278, 'lk': 3281, 'lo': 3282, 'visa': 7871, 'eveb-': 5433, 'loans': 3283, 'login=': 3285, 'visitor': 7873, 'loose': 3288, 'durban': 5343, 'loses': 3289, 'lotr': 3290, '4-7/12': 4222, 'lou': 3291, 't91': 7550, 'edison': 5365, '50rcvd': 4276, 'loud': 3292, 'lovers': 3297, 'topped': 7696, 'sweetie': 3673, 'loxahatchee': 3300, 'dieting': 5253, 'lush': 3305, 'zoe': 3839, 'remb': 7033, 'lyfu': 3308, 'europe': 5432, 'lyk': 3309, 'optin': 6630, '169': 4118, 'm221bp': 3310, '*sips': 3866, '*whispers*': 3870, 'mac': 3312, 'wc1n': 7931, 'mahal': 3315, 'nitro': 6521, 'mails': 3317, 'main': 3318, '10th': 4086, 'trek': 7723, 'mall': 3319, 'maturity': 3324, 'tayseer': 3688, 'mca': 3326, 'meet+greet': 3329, '18p/txt': 4122, 'mega': 3330, 'irulinae': 6002, 'seconds': 3566, 'mei': 3331, 'toot': 7691, 'shining': 3585, 'melt': 3333, '01223585334': 3899, 'liquor': 6211, 'meow': 3335, 'mesages': 3336, 'messaging': 3338, 'neekunna': 6489, 'milk': 3341, 'minimum': 3342, 'miserable': 3345, 'reunion': 7077, 'missing*': 3346, 'upgrade': 3759, 'vip': 7866, 'mistakes': 3347, 'rummer': 7117, 'mitsake': 3348, 'mmmm': 3351, 'resume': 3525, 'mobno': 3354, 'module': 3355, 'modules': 3356, 'error': 5422, 'brats': 4815, 'mojibiola': 3357, 'moments': 3358, 'mono': 3359, 'mornin': 3361, 'msg150p': 3366, 'terminated': 7593, 'msg@150p': 3367, 'muah': 3371, 'philosophical': 6754, 'lit': 6217, 'mystery': 3375, 'nahi': 3377, '08719180248': 3997, 'realize': 6987, 'name1': 3378, 'name2': 3379, 'determine': 5231, 'named': 3380, 'natural': 3383, 'nb': 3384, 'neck': 3386, 'ned': 3388, 'needed': 3389, 'nit': 3392, 'no-440': 3393, 'nokia6600': 3395, '08715203677': 3978, 'ondu': 6610, 'nos': 3397, 'picture': 6763, 'ntwk': 3401, 'nydc': 3402, 'odi': 3403, 'of£2000': 3405, 'opening': 3410, 'opinions': 3411, 'oreo': 3414, 'orig': 3415, 'otside': 3417, 'prey': 3471, 'owns': 3418, '0207-083-6089': 3900, 'realise': 3508, 'rings': 7087, 'painful': 3420, 'painting': 3421, 'panic': 3422, 'paragon': 3425, 'parent': 3427, 'tau': 7572, '07099833605': 3913, 'patty': 3430, 'peace': 3432, 'peak': 3434, 'registration': 7023, 'penis': 3436, '*turn*': 3869, 'chess': 4962, 'php': 3439, 'education': 5368, 'pie': 3441, 'pieces': 3442, 'piss': 3443, 'plaza': 3446, 'plm': 3447, 'planettalkinstant': 6778, 'ericson': 5419, 'poem': 3449, 'pole': 3451, 'lifting': 6193, 'daytime': 5171, 'politicians': 3452, 'polyh': 3454, 'position': 3457, 'potential': 3460, 'highest': 5834, 'potter': 3461, 'sensitive': 3573, 'practice': 3464, 'vewy': 3772, 'trauma': 7715, 'prefer': 3466, 'rum': 3546, 'reply-': 7046, 'premium': 3469, 'pride': 3472, 'prof': 3477, 't&csbcm4235wc1n3xx': 7545, 'glass': 5680, 'program': 3478, 'snd': 7327, 'dosomething': 5310, 'promo': 3479, 'proof': 3480, 'prepared': 6859, 'property': 3482, 'prospects': 3483, 'protect': 3484, 'todo': 7674, 'prove': 3485, 'proverb': 3486, 'ertini': 5424, 'purse': 3489, 'puttin': 3490, 'p£3': 3491, '98321561': 4385, 'ques-': 3492, 'rael': 3496, 'raise': 3498, 'randy': 3499, 'rang': 3500, 'rays': 3503, 'reaction': 3506, 'newscaster': 6505, 'recent': 3510, 'reg': 3514, 'register': 3515, 'released': 3516, 'buyers': 4868, 'remembr': 3517, 'reminder': 3519, 'second-': 7186, 'reminding': 3520, 'october': 6580, '08452810071': 3935, 'paru': 6702, 'removal': 3521, 'reverse': 3527, 'cooperative': 5082, 'revision': 3528, '6-ramaduth': 4288, 'rice': 3531, 'rich': 3532, '07753741225': 3917, 'ringtoneking': 3535, 'subscribed': 3654, 'limits': 6202, 'rocks': 3537, 'roommates': 3539, 'paypal': 6719, 'rub': 3542, 'drove': 5326, 'ruining': 3544, 'sacrifice': 3549, 'simpsons': 7279, 'sar': 3553, 'sarcastic': 3554, 'saucy': 3556, 'schools': 3557, 'bilo': 4761, 'score': 3560, 'scotch': 3562, 'scotland': 3563, 'scotsman': 3564, 'scrounge': 3565, 'hairdressers': 5765, 'sem': 3572, 'sentence': 3574, 'wamma': 7909, 'settle': 3576, 'shahjahan': 3578, 'shampain': 3579, 'failing': 5480, 'shesil': 3584, '116': 4089, 'nannys': 6472, 'uk/wrc': 3747, 'shipped': 3586, 'dismissial': 5277, 'shipping': 3587, 'planet': 6777, '06/11/04': 3909, 'shitload': 3589, 'si': 3597, 'cruisin': 5129, 'silver': 3602, 'singing': 3603, 'siva': 3605, 'skyped': 3606, 'gut': 5758, 'sleepin': 3607, 'slice': 3608, 'houseful': 5873, 'slp': 3612, 'smashed': 3613, 'smsco': 3616, '09061701851': 4033, 'snogs': 3617, 'forgiveness': 5570, 'snowman': 3618, 'soiree': 3619, '61': 4293, 'sorted': 3625, 'sorting': 3626, 'soul': 3627, '08701213186': 3938, 'soup': 3628, 'speedchat': 3631, 'spell': 3632, 'spoiled': 3636, 'regalportfolio': 7021, 'barring': 4692, 'sptv': 3638, 'fring': 5608, 'every1': 5438, 'staring': 3641, 'stays': 3644, 'bam': 4674, 'steam': 3645, 'samantha': 7138, 'stone': 3647, 'stress': 3650, 'subscription': 3655, 'despite': 5227, 'successful': 3657, 'suggest': 3659, '1/1': 4080, 'spider': 7383, 'accommodationvouchers': 4435, 'sum': 3661, 'suntec': 3664, 'suzy': 3668, 'witin': 7995, 'sw7': 3669, 'adds': 4447, 'sweetheart': 3672, 'tgxxrz': 7605, 'required': 7049, 'swiss': 3675, 't-mobile': 3679, 'readiness': 6983, 'november': 6552, 'table': 3680, '89034': 4368, 'tacos': 3681, 'taste': 3685, 'taxi': 3686, 'rpl': 7107, 'waht': 3779, 'tcs': 3689, 'yunny': 8086, 'lotz': 6248, 'tears': 3691, 'x29': 8039, 'oic': 6595, 'teasing': 3692, '09050000301': 4005, 'dysentry': 5349, 'chez': 4964, 'tech': 3693, 'teeth': 3695, 'dehydrated': 5195, 'temp': 3697, '*sent': 3865, 'textbuddy': 3701, '09065989182': 4052, 'humanities': 5890, 'thot': 3704, 'creativity': 5118, 'thoughts': 3705, 'tkts': 3714, 'witout': 7997, 'tmrw': 3715, 'tomeandsaid': 3719, 'tones2u': 3720, 'satsgettin': 7156, 'tonights': 3722, 'topic': 3725, 'r836': 6954, '09050001295': 4010, 'everyso': 5441, '92h': 4380, 'trains': 3728, 'transaction': 3729, 'transfered': 3731, 'widelive': 3806, 'trav': 3732, 'underwear': 7780, 'treated': 3733, 'trips': 3734, 'turning': 3738, 'twenty': 3740, 'twilight': 3741, 'txt>': 3742, 'bites': 4766, 'txtno': 3743, 'u4': 3744, 'uk/games': 3746, 'unbreakable': 3750, 'unemployed': 3752, 'description': 5220, 'unkempt': 3753, 'unknown': 3754, 'unnecessarily': 3755, 'upload': 3760, '20%': 4143, 'usc': 3764, 'vaazhthukkal': 3766, 'vale': 3767, 'vegas': 3769, 'tex': 7597, 'visionsms': 3775, 'clocks': 5001, 'vivek': 3776, 'w1j': 3778, 'walked': 3780, 'skye': 7294, 'pt2': 6922, 'wan2': 3782, 'warning': 3784, 'warranty': 3785, '447801259231': 4240, 'wasted': 3786, 'watever': 3787, '09058095107': 4022, 'com/etlp/dining': 5027, 'wearing': 3790, 'weigh': 3796, 'westlife': 3799, 'we‘re': 3800, 'immed': 5932, 'wicklow': 3805, 'truble': 7730, 'win-82050': 3808, 'stretch': 7455, 'billion': 4758, 'windows': 3810, 'wise': 3813, 'wkg': 3817, 'units': 7795, 'wks': 3818, '09071512433': 4061, 'nite+2': 6520, 'wld': 3819, 'ralphs': 6965, 'women': 3824, 'dirtiest': 5268, 'wrc': 3827, 'wud': 3829, '82468': 4339, 'xxxxx': 3832, 'yck': 3833, 'yellow': 3835, 'youre': 3837, 'kaaj': 6081, 'zindgi': 3838, '£1500': 3840, '7732584351': 4322, '£6': 3841, '$180': 3846, '$350': 3848, 'someplace': 7340, '&sam': 3851, '*childish': 3854, '*laughs*': 3858, '*number': 3860, '*phews*': 3862, '*pushes': 3864, '-call': 3879, '-db-': 3880, '-|': 3889, '/-': 3890, '//gotbabes': 3891, '//img': 3892, '//tms': 3893, '/oz': 3894, 'trade': 7708, '000pes': 3895, '0089': 3896, 'act': 4441, '0121': 3897, 'poly#': 6807, '0430-jul-05': 3905, '05': 3906, '050703': 3907, '07008009200': 3910, 'get4an18th': 5669, '07090298926': 3912, '0721072': 3914, '07732584351': 3915, 'courageous': 5102, 'bennys': 4743, '07742676969': 3916, '07808726822': 3922, '07815296484': 3923, 'kath': 6094, '08448350055': 3931, '0845': 3933, '08452810075over18': 3936, '0870141701216+': 3940, '087018728737': 3942, 'offering': 6588, '08704050406': 3945, '0870753331018+': 3950, 'punto': 6934, 'dungerees': 5341, '08707808226': 3951, '0871-4719-523': 3954, 'un': 7770, 'preponed': 6861, '0871-872-9755': 3955, 'shoul': 7253, 'initiate': 5960, '0871212025016': 3958, '087123002209am-7pm': 3959, '08712402578': 3961, '08712402779': 3962, 'xoxo': 8043, '08712404000': 3965, '0871277810910p/min': 3968, '08714712379': 3971, 'quizclub': 6953, 'belligerent': 4737, '08715203656': 3977, 'gmw': 5687, 'colin': 5020, '08715203694': 3979, '08715205273': 3980, '08715500022': 3981, '08717509990': 3985, '08718711108': 3988, '08718726970': 3990, '08718730666': 3993, 'passion': 6705, '08718738001': 3994, 'paracetamol': 6687, 'echo': 5359, '08719899217': 4001, '08719899230': 4003, '09041940223': 4004, 'poly3': 6810, '09057039994': 4013, '09058094454': 4015, '09058094455': 4016, 'toledo': 7679, '09058094507': 4017, '09058094597': 4021, 'forgive': 5569, '09061104276': 4028, '09061701444': 4031, '09061743386': 4034, '09061743806': 4035, '09061743810': 4036, '09061790125': 4038, 'hogidhe': 5846, '09064012103': 4043, 'delicious': 5200, '09064015307': 4044, '09064017295': 4045, '09065069154': 4049, 'restaurant': 7067, '09065171142-stopsms-08': 4050, 'salt': 7137, '09066362206': 4054, '09066364589': 4057, '09066368470': 4058, 'doesn‘t': 5291, '09066649731from': 4059, '09090204448': 4063, '09090900040': 4064, '09099726395': 4070, 'activ8': 4443, '09099726481': 4072, '1-hanuman': 4076, '1/08/03': 4079, 'ploughing': 6786, '100p/sms': 4083, '10am': 4084, 'mat': 6315, 'animal': 4525, '1120': 4087, 'thou': 7641, '1146': 4088, 'prsn': 6914, '128': 4095, '13/4/04': 4097, 'accent': 4430, '130': 4098, '650': 4298, '139': 4099, 'actual': 4445, '1405': 4100, 'panther': 6683, '14thmarch': 4102, '150p/meg': 4103, 'torture': 7701, '21/11/04': 4149, '150p/msgrcvd': 4104, '150p/mt': 4105, 'delete': 5198, '150p/mtmsg': 4106, '150p/mtmsgrcvd18': 4107, '150p/rcvd': 4109, 'shrub': 7264, '150p/text': 4111, '150p/wk': 4112, 'cappuccino': 4906, '150ppmsg': 4113, '151': 4114, 'infact': 5953, '15pm': 4116, '177': 4119, '18/11/04': 4120, '1843': 4121, 'bettr': 4749, '195': 4123, 'hits': 5841, '1apple/day=no': 4124, 'bangbabes': 4678, '1cup': 4125, '1im': 4127, 'cozy': 5106, 'applyed': 4559, '1lemon/day=no': 4128, 'lotsly': 6245, '1mega': 4129, '1pm': 4130, '1st4terms': 4131, 'sary': 7151, '1thing': 4133, '1tulsi': 4134, '1yf': 4136, '2%': 4137, '2-u': 4140, 'ruin': 7114, 'anderson': 4520, '2025050': 4147, 'poboxox36504w45wq': 6800, '21/m': 4151, '220cm2': 4153, '23f': 4155, '23g': 4156, '24/10/04': 4158, 'huai': 5881, '24/7mp': 4159, '24m': 4161, 'b4190604': 4655, '24th': 4162, 'weed-deficient': 7941, 'rajas': 6961, '2667': 4165, 'classes': 4992, '28/5': 4166, '2b': 4170, 'casting': 4920, '2c': 4171, '2ez': 4175, 'onam': 6608, '2find': 4176, '2getha': 4177, '2go': 4178, '2gthr': 4179, '2hrs': 4181, '2i': 4182, '2mro': 4184, '2mwen': 4185, 'pimples': 6769, '2nite-tell': 4186, '2optout/d3wv': 4187, 'u2moro': 7757, '2watershd': 4189, 'tobed': 7672, '2yrs': 4191, '3000': 4194, '30apr': 4195, '30pm': 4196, '30s': 4197, 'millers': 6366, '31': 4199, '31p': 4200, '32/f': 4201, '32000': 4202, 'mono#': 6415, '3230': 4203, '32323': 4204, '330': 4206, '35p': 4207, '3680': 4208, 'fav': 5497, '3750': 4209, '382': 4210, '3hrs': 4212, '3lions': 4213, 'unintentionally': 7792, 'paperwork': 6686, '3miles': 4214, '3xx': 4219, '4-pavanaputra': 4223, 'squid': 7410, '4-some1': 4224, '40': 4225, '400': 4226, '402': 4229, '4041': 4230, '4217': 4235, '42478': 4236, 'apt': 4566, '430': 4237, '44': 4238, 'respectful': 7063, '4403ldnw1a7rw18': 4239, '448712404000>please': 4241, 'dudes': 5336, '45': 4243, '450ppw': 4244, '45239': 4245, '47': 4247, 'sip': 7284, 'eggs-pert': 5377, '47per': 4248, '49/month': 4250, '4give': 4252, '4goten': 4253, '4jx': 4254, 'prizeawaiting': 6885, '4my': 4255, '850': 4351, '4t&ctxt': 4256, '4txt/ú1': 4258, '4utxt': 4259, '4years': 4262, '5+3+2=': 4264, '87070': 4359, '50%': 4266, 'prix': 6883, 'hustle': 5898, '50/mtmsgrcvd18+': 4268, '50/wk': 4269, '505060': 4271, 'myspace': 6462, '50p/wk': 4272, '50ppm': 4275, '50s': 4277, '5249': 4279, '526': 4280, 'checkmate': 4952, '528': 4281, '54': 4282, 'wined': 7984, '5ish': 4284, 'inlude': 5961, '5mls': 4285, '5wkg': 4287, '60': 4289, 'books': 4792, '600': 4290, '6031': 4291, '6230': 4295, '630': 4297, '66': 4299, 'poyyarikatur': 6832, '9153': 4378, '67441233': 4301, 'pl': 6775, '68866': 4302, '69669': 4304, '69696': 4305, '69876': 4306, '69888nyt': 4308, '69911': 4309, 'rgent': 7080, '69988': 4310, '6ish': 4311, '6missed': 4312, '6ph': 4313, 'occupied': 6575, '6times': 4314, 'indyarocks': 5951, '7-mahaveer': 4317, 'scrumptious': 7179, '7250': 4318, 'videos': 7860, '75max': 4321, 'shsex': 7265, '7876150ppm': 4324, 'piah': 6762, '7oz': 4326, 'zoom': 8096, 'mofo': 6407, 'corrupt': 5089, '8-8': 4329, 'colourful': 5024, '8-hr': 4330, '80': 4331, '80086': 4333, '81618': 4338, '83332': 4343, '83338': 4344, '83738': 4347, '84': 4348, '84122': 4349, '84484': 4350, 'doke': 5296, '85222': 4353, 'bian': 4756, '864233': 4357, 'surf': 7518, 'craving': 5114, '86888': 4358, '87131': 4360, '8714714': 4361, '88800': 4364, '8883': 4365, '88877>free': 4367, 'pulling': 6928, '89105': 4370, '8ball': 4372, '8lb': 4373, 'dinero': 5261, '8pm': 4374, '930': 4381, '9307622': 4382, '9996': 4386, 'jot': 6066, 'breakfast': 4819, '9am': 4387, 'that\\x92scool': 7613, 'starve': 7424, '9t': 4389, '<ukp>2000': 4392, '>': 4395, '>>>more': 4396, 'progress': 6899, 'no-762': 6528, '@kiosk': 4397, '[in': 4401, '____': 4404, 'avo': 4638, 'a-': 4405, 'a-green': 4407, 'a21': 4408, 'a30': 4409, 'beach': 4712, 'aaniye': 4410, 'abbey': 4413, 'misplaced': 6384, 'abdomen': 4414, 'abnormally': 4416, 'helens': 5812, 'aboutas': 4417, 'above': 4418, 'erode': 5420, 'abroad': 4419, 'absence': 4420, 'warwick': 7915, 'ditto': 5279, 'abstract': 4421, 'abuse': 4422, 'ac/smsrewards': 4424, 'ac/u/bootydelious': 4425, 'newquay-send': 6504, 'ac/u/goldviking': 4426, 'ac/u/hmmross': 4427, 'accenture': 4431, 'massage': 6312, 'accidant': 4433, 'accommodation': 4434, 'accomodations': 4436, 'multimedia': 6441, 'accumulation': 4437, 'msg+ticket@kiosk': 6430, 'achan': 4438, 'parade': 6689, 'acid': 4439, 'aftr': 4470, 'adding': 4446, 'adewale': 4448, 'adi': 4449, 'adjustable': 4450, 'admission': 4451, 'adrian': 4454, 'adrink': 4455, 'adsense': 4456, 'adventure': 4458, 'adventuring': 4459, 'noworriesloans': 6554, 'advising': 4460, 'affectionate': 4463, 'afford': 4464, 'africa': 4466, 'pierre': 6765, 'afternon': 4468, 'beverage': 4750, 'afterwards': 4469, 'agent': 4472, 'agidhane': 4473, 'aig': 4478, 'specialisation': 7375, 'mwahs': 6456, 'anyhow': 4541, 'ajith': 4480, 'woah': 8001, 'alaikkum': 4483, 'diseases': 5274, 'alaipayuthe': 4484, 'cuddling': 5138, 'alcohol': 4486, 'loko': 6232, 'alerts': 4487, 'alian': 4490, 'allalo': 4492, 'alle': 4494, 'allows': 4496, 'alot': 4497, 'tata': 7570, 'alwys': 4500, 'amanda': 4501, 'ambrith': 4503, 'ami': 4504, 'amigos': 4505, 'amk': 4506, 'ammo': 4509, 'jog': 6058, 'amrca': 4512, 'ams': 4514, 'amused': 4515, 'andrews-boy': 4522, 'batch': 4698, 'angels': 4524, 'docs': 5288, 'anjola': 4526, 'pushbutton': 6940, 'anniversary': 4527, 'announced': 4529, 'annoyin': 4530, 'anot': 4533, 'answered': 4534, 'gnt': 5689, 'cards': 4911, 'answerin': 4535, 'no-165': 6526, 'apo': 4549, 'antha': 4538, 'anti': 4539, 'antibiotic': 4540, 'w8in': 7891, 'anyplaces': 4543, 'anythingtomorrow': 4545, 'apeshit': 4547, 'apnt': 4548, 'apologetic': 4550, 'apologize': 4551, 'tiz': 7664, 'apology': 4552, 'appeal': 4553, 'appendix': 4555, 'applausestore': 4556, 'whens': 7968, 'applebees': 4557, 'pleasant': 6783, 'borderline': 4796, 'application': 4558, 'appointments': 4561, 'approve': 4562, 'approved': 4563, 'appy': 4564, 'aproach': 4565, 'fifa': 5514, 'arab': 4568, 'leg': 6181, 'battle': 4702, 'arabian': 4569, 'thia': 7633, 'arestaurant': 4571, 'e-ternal': 5352, 'aretaking': 4572, 'str*': 7449, 'argentina': 4574, 'argh': 4575, 'arises': 4576, 'arithmetic': 4577, 'arngd': 4578, 'arnt': 4579, 'arr': 4580, 'arranging': 4581, 'arrival': 4582, 'snowboarding': 7332, 'arrived': 4583, 'arty': 4586, 'arul': 4587, 'golden': 5699, 'asa': 4589, 'n-oble': 6465, 'asda': 4590, 'postal': 6827, 'ashwini': 4591, 'santacalling': 7144, 'outfit': 6649, 'aslamalaikkum': 4595, 'asp': 4596, 'associate': 4602, 'asssssholeeee': 4603, 'assumed': 4604, 'astne': 4606, 'astrology': 4607, 'psxtra': 6918, 'astronomer': 4608, 'asus': 4609, 'everyones': 5440, 'asusual': 4610, 'nose': 6546, 'at/your': 4611, 'jon': 6063, 'atlast': 4613, 'attach': 4615, 'atten': 4616, 'attended': 4617, 'instantly': 5973, 'attention': 4618, 'attraction': 4619, 'inever': 5952, 'determined': 5232, 'audiitions': 4620, 'auntie': 4623, 'supplies': 7514, 'aunts': 4625, 'gumby': 5756, 'australia': 4627, 'chachi': 4936, 'authorise': 4628, 'av': 4630, 'availa': 4632, 'breadstick': 4817, 'avble': 4634, 'sleeps': 7298, 'avenge': 4635, 'browsin': 4840, 'avenue': 4636, 'muhommad': 6439, 'avin': 4637, 'avoid': 4639, 'avoiding': 4640, 'sirji': 7285, 'awkward': 4642, 'awww': 4643, 'hugging': 5885, 'ax': 4644, 'browser': 4839, 'ay': 4646, 'ayo': 4647, 'a£1': 4648, 'a£50': 4649, 'disclose': 5273, 'b*': 4650, 'b-': 4651, 'b-day': 4653, 'b/tooth': 4654, 'womdarfull': 8003, 'baaaaaaaabe': 4658, 'babygoodbye': 4660, 'babysit': 4661, 'sun0819': 7504, 'developed': 5235, 'babysitting': 4662, 'backwards': 4663, 'bad-': 4664, 'shock': 7246, 'badass': 4665, 'badly': 4666, 'badrith': 4667, 'chgs': 4965, 'bull': 4852, 'baig': 4668, 'bailiff': 4669, 'bakrid': 4671, 'ranju': 6968, 'bang': 4676, 'bani': 4679, 'banned': 4680, 'barbie': 4683, 'barcelona': 4684, 'bare': 4685, 'mquiz': 6427, 'bari': 4686, 'barkleys': 4687, 'lately': 6161, 'barolla': 4689, 'ki': 6103, 'hidden': 5831, 'crazyin': 5115, 'barred': 4690, 'barrel': 4691, 'jules': 6070, 'base': 4695, 'mobcudb': 6401, 'basket': 4696, 'bat': 4697, 'bathroom': 4700, 'stuff--why': 7471, 'nursery': 6561, 'batsman': 4701, 'bawling': 4703, 'j89': 6023, 'bbc': 4704, 'bcaz': 4707, 'bcm1896wc1n3xx': 4708, 'bcz': 4711, 'bears': 4714, 'beatings': 4715, 'beauties': 4716, 'bec': 4717, 'bundle': 4854, 'becausethey': 4719, 'unconditionally': 7773, 'becz': 4720, 'leaf/day=no': 6176, 'exhibition': 5458, 'bedreal': 4722, 'bedrm': 4723, 'bedrm-$900': 4724, 'beeen': 4725, 'beendropping': 4727, 'restrict': 7070, 'prevent': 6872, 'heehee': 5808, 'beer-rs': 4728, 'beerage': 4729, 'trishul': 7727, 'beers': 4730, 'beforehand': 4731, 'beggar': 4732, 'soz': 7363, 'begins': 4733, 'polyc': 6811, 'bellearlier': 4736, 'la3': 6135, 'belongs': 4738, 'bend': 4740, 'everythin': 5442, 'beta': 4746, 'beth': 4747, 'bettersn': 4748, 'beyond': 4751, 'bffs': 4752, 'bhaskar': 4754, 'biatch': 4757, 'bills': 4759, 'mone': 6410, 'bimbo': 4762, 'erutupalam': 5425, 'bitching': 4765, 'bits': 4767, 'stoners': 7442, 'blacko': 4768, 'installing': 5971, 'blanket': 4771, 'retard': 7074, 'blankets': 4772, 'blastin': 4773, 'bleak': 4774, 'blessed': 4775, 'confidence': 5056, 'blog': 4778, 'organise': 6636, 'blokes': 4779, 'bluetoothhdset': 4780, 'lyricalladie': 6266, 'bob': 4784, 'losers': 6244, 'boggy': 4785, 'hmph': 5845, 'bognor': 4786, 'bold2': 4787, 'sullivan': 7502, 'bomb': 4789, 'youuuuu': 8080, 'bookedthe': 4791, 'bookshelf': 4793, 'boooo': 4794, 'docks': 5287, 'bothering': 4797, 'bottom': 4798, 'bowls': 4800, 'box1146': 4801, 'box245c2150pm': 4803, 'surya': 7525, 'mailed': 6285, 'box403': 4806, 'uworld': 7831, 'box434sk38wp150ppm18+': 4807, 'mileage': 6364, 'boy-y': 4808, 'boyf': 4809, 'bpo': 4811, 'whore': 7973, 'brainless': 4812, 'ego': 5378, 'brainy': 4813, 'bras': 4814, 'braved': 4816, 'breakin': 4820, 'breathe1': 4822, 'friendships': 5607, 'breather': 4823, 'breathing': 4824, 'breeze': 4825, 'bridge': 4826, 'platt': 6780, 'bridgwater': 4827, 'chapel': 4940, 'brin': 4829, 'brison': 4830, 'britney': 4831, 'brolly': 4832, 'brother‘s': 4834, 'wondarfull': 8005, 'brown': 4835, 'brownies': 4837, 'browse': 4838, 'brum': 4841, 'bsn': 4842, 'bthere': 4844, 'btwn': 4845, 'bubbletext': 4846, 'buddy': 4847, 'buddys': 4848, 'tag': 7553, 'buen': 4849, 'bullshit': 4853, 'groovying': 5739, 'bunkers': 4855, 'burger': 4856, 'burn': 4859, 'burrito': 4860, 'bus8': 4861, 'busetop': 4862, 'busty': 4863, 'w/question': 7887, 'buttheres': 4865, 'buz': 4869, 'buzzzz': 4870, 'petrol': 6749, 'bx': 4872, 'profile': 6896, 'bx526': 4873, 'farm': 5491, 'by\\x94leafcutter': 4875, 'c-in': 4877, 'c-red': 4878, 'cab': 4879, 'cakes': 4882, 'ghodbandar': 5673, 'calculated': 4883, 'cali': 4885, 'call09050000327': 4886, 'call2optout/4qf2': 4888, 'sexiest': 7213, 'call2optout/674&': 4889, 'hdd': 5796, 'call2optout/j': 4890, 'call2optout/lf56': 4891, 'call2optout=j5q': 4892, 'callcost': 4893, 'calls1': 4895, 'virgil': 7867, 'havn': 5795, 'calm': 4896, 'camp': 4897, 'viva': 7877, 'camry': 4898, 'canada': 4899, 'canceled': 4900, 'thanks2': 7607, 'l-oveable': 6131, 'canname': 4901, 'it+both': 6009, 'cantdo': 4902, 'can‘t': 4904, 'causes': 4925, 'capacity': 4905, 'cappuccino*': 4907, 'pro': 6886, 'caps': 4908, 'shortcode': 7252, 'cardin': 4910, 'careabout': 4912, 'hotmix': 5870, 'carly': 4914, 'rugby': 7113, 'carolina': 4915, 'cartons': 4917, 'jjc': 6054, 'casing': 4919, 'okday': 6596, 'manchester': 6294, 'casualty': 4922, 'categories': 4924, 'cc100p/min': 4929, 'sacked': 7127, 'census': 4931, 'cer': 4932, 'ceri': 4934, 'certificate': 4935, 'champneys': 4937, 'whassup': 7961, 'changes': 4938, 'tall': 7565, 'changing': 4939, 'wasn\\x92t': 7918, 'chaps': 4941, 'diddy': 5249, 'charged@150p/msg': 4943, 'nevamind': 6500, 'charlie': 4944, 'urgran': 7820, 'charts': 4945, 'chastity': 4946, 'chatlines': 4948, 'chatter': 4949, 'checkboxes': 4950, 'strewn': 7456, 'checkup': 4953, 'cheered': 4954, 'cheery': 4955, 'yalru': 8052, 'cheesy': 4957, 'cheetos': 4958, 'chef': 4959, 'deluxe': 5202, 'cheque': 4960, 'cherthala': 4961, 'chickened': 4967, 'chief': 4968, 'shitin': 7244, 'childporn': 4969, 'webadres': 7936, 'chile': 4970, 'chinatown': 4972, 'freaked': 5590, 'chinky': 4974, 'chiong': 4976, 'chk': 4978, 'shah': 7221, 'choices': 4980, 'chop': 4981, 'chords': 4982, 'countinlots': 5099, 'chuck': 4985, 'citylink': 4987, 'yoyyooo': 8083, 'cl': 4988, 'clarification': 4989, 'farrell': 5492, 'classmates': 4994, 'clearer': 4996, 'clearly': 4997, 'cliffs': 4999, 'clip': 5000, 'closeby': 5002, 'helpline': 5820, 'clover': 5003, 'prices': 6874, 'club4': 5004, 'club4mobiles': 5005, 'length': 6184, 'club>>': 5006, 'clubmoby': 5007, 'clue': 5008, 'surrender': 7522, 'jocks': 6056, 'hehe': 5809, 'cm': 5009, 'cmon': 5010, 'sucker': 7488, 'cnl': 5011, 'mallika': 6290, 'cnupdates': 5012, 'coccooning': 5015, 'cocksuckers': 5016, 'coco': 5017, 'coincidence': 5019, 'collages': 5021, 'com/enjoy': 5026, 'combination': 5031, 'lambda': 6145, 'comingdown': 5032, 'command': 5033, 'commercial': 5034, 'commit': 5035, 'compass': 5038, 'compliments': 5045, 'compulsory': 5046, 'stripes': 7458, 'computational': 5047, 'rounder': 7103, 'concentrating': 5050, 'confirm/deny': 5058, 'connected': 5060, 'cons': 5062, 'consistently': 5065, 'contains': 5066, 'contented': 5067, 'continue': 5070, 'puzzles': 6943, 'contribute': 5072, 'convenience': 5073, 'spacebucks': 7365, 'pressies': 6868, 'freemsg>fav': 5599, 'conversations': 5074, 'cooked': 5078, 'cool-mob': 5080, 'cooped': 5081, 'copies': 5084, 'corporation': 5086, 'correctly': 5088, 'cosign': 5090, 'costume': 5091, 'cost£3': 5092, 'resolved': 7062, 'couch': 5093, 'invitation': 5989, 'cougar-pen': 5094, 'pity': 6773, 'cough': 5095, 'couldn\\x92t': 5097, 'zac': 8090, 'counts': 5100, 'court': 5103, 'grandmas': 5723, 'craigslist': 5108, 'crash': 5111, 'crashed': 5112, 'crckt': 5116, 'cres': 5120, 'cricket': 5121, 'crickiting': 5122, 'madoke': 6278, 'frog-axel': 5614, 'cro1327': 5124, 'crossing': 5125, 'cruel': 5128, 'crushes': 5130, 'push': 6939, 'crying': 5131, 'cts': 5134, 'cu': 5135, 'cuck': 5136, 'cumin': 5142, 'praveesh': 6848, 'cumming': 5143, 'cupboard': 5144, 'cusoon': 5148, 'customercare': 5149, 'customersqueries@netvision': 5150, 'cutest': 5151, 'cysts': 5154, 'dabbles': 5155, 'toothpaste': 7693, 'dabooks': 5156, 'dads': 5157, 'dammit': 5159, 'dancin': 5160, 'dancing': 5161, 'dane': 5162, 'dumb': 5340, 'dang': 5163, 'dangerous': 5164, 'paces': 6673, 'dao': 5165, 'starring': 7422, 'darkest': 5166, 'darkness': 5167, 'dartboard': 5168, 'data': 5169, 'dawns': 5170, 'daywith': 5172, 'dbuk': 5173, 'gloucesterroad': 5685, 'deals': 5176, 'dear-loving': 5177, 'debating': 5178, 'dec': 5179, 'deck': 5181, 'declare': 5183, 'nytho': 6567, 'decorating': 5184, 'deepak': 5186, 'deepest': 5187, 'deer': 5188, 'defer': 5190, 'guessin': 5752, 'definitly': 5192, 'gudnite': 5749, 'defo': 5193, 'thousands': 7642, 'porn': 6818, 'dehydration': 5196, 'delay': 5197, 'saves': 7160, 'interviw': 5982, 'deltomorrow': 5201, 'innu': 5964, 'dena': 5204, 'wikipedia': 7977, 'dengra': 5205, 'dentist': 5208, 'dentists': 5209, 'tool': 7690, 'department': 5211, 'dependable': 5212, 'dependents': 5213, 'deposited': 5215, 'depression': 5216, 'pocy': 6804, 'derp': 5219, 'deserve': 5222, 'wrench': 8022, 'designation': 5223, 'desires-': 5224, 'nor': 6541, 'desk': 5225, 'desparately': 5226, 'dessert': 5228, 'detailed': 5230, 'develop': 5234, 'uploaded': 7812, 'developer': 5236, 'devils': 5238, 'dha': 5239, 'gudnyt': 5750, 'dhanush': 5240, 'dhorte': 5241, 'dialogue': 5243, 'diamond': 5244, 'diamonds': 5245, 'diapers': 5246, 'dict': 5248, 'didntgive': 5250, 'fletcher': 5537, 'didn‘t': 5251, 'digi': 5255, 'digits': 5256, 'sausage': 7158, 'dileep': 5257, 'locks': 6224, 'dimension': 5258, 'dining': 5262, 'wifes': 7975, 'dino': 5263, 'directors': 5266, 'dirt': 5267, 'disappointment': 5270, 'poly/true/pix/ringtones/games': 6809, 'disaster': 5271, 'disastrous': 5272, 'disk': 5275, 'disturbance': 5278, 'divert': 5280, 'modl': 6406, 'diwali': 5281, 'dizzamn': 5282, 'dled': 5283, 'dlf': 5284, 'dob': 5285, 'dock': 5286, 'dodda': 5289, 'doinat': 5295, 'domain': 5299, 'dontcha': 5302, 'dontignore': 5303, 'dontmatter': 5304, 'dontplease': 5305, 'donyt': 5306, 'dooms': 5307, 'downs': 5316, 'drastic': 5320, 'draws': 5321, 'esaplanade': 5426, 'dreading': 5322, 'dreamz': 5323, 'lux': 6264, 'drizzling': 5324, 'drops': 5325, 'drpd': 5327, 'drunk': 5329, 'drunkard': 5330, 'dryer': 5331, 'dt': 5332, 'sinco': 7281, 'dual': 5333, 'killed': 6107, 'dub': 5334, 'duffer': 5338, 'theater': 7615, 'gnarls': 5688, 'dull': 5339, 'duo': 5342, 'emotion': 5398, 'durham': 5344, 'dusk': 5345, 'habba': 5762, 'dust': 5346, 'duvet': 5347, 'e-mail': 5350, 'eachother': 5353, 'earlier-we': 5354, 'rejected': 7025, 'earn': 5355, 'earning': 5356, 'ears': 5357, 'easiest': 5358, 'eckankar': 5360, 'ecstasy': 5362, 'edge': 5363, 'edhae': 5364, 'edward': 5370, 'edwards': 5371, 'sarcasm': 7149, 'increase': 5948, 'eerulli': 5372, 'efreefone': 5374, 'egbon': 5375, 'eh74rr': 5379, 'el': 5382, 'elaborating': 5384, 'rec': 6998, 'elaya': 5385, 'hypotheticalhuagauahahuagahyuhagga': 5903, 'election': 5386, 'elections': 5387, 'fetching': 5507, 'ello': 5390, 'emailed': 5392, 'embarassing': 5393, 'embarrassed': 5394, 'embassy': 5395, 'wings': 7985, 'enc': 5401, 'enemies': 5403, 'engalnd': 5405, 'enketa': 5406, 'enna': 5407, 'ennal': 5408, 'ente': 5409, 'entertaining': 5410, 'envy': 5414, 'floppy': 5544, 'epi': 5415, 'eppolum': 5416, 'ere': 5418, 'errors': 5423, 'eshxxxxxxxxxxx': 5427, 'essay': 5429, 'events': 5436, 'eventually': 5437, 'evey': 5445, 'srt': 7412, 'evrydy': 5451, 'ew': 5452, 'excited': 5454, 'proove': 6905, 'excused': 5455, 'theirs': 7617, 'satanic': 7153, 'exist': 5459, 'exorcism': 5460, 'exp': 5461, 'expected': 5462, 'experiencehttp': 5463, 'expert': 5464, 'expired': 5465, '£s': 8121, 'exposed': 5467, 'ext': 5469, 'extract': 5471, 'extreme': 5472, 'outgoing': 6651, 'ey': 5473, 'f>>>': 5475, 'pei': 6725, 'faded': 5478, 'faggy': 5479, 'fair': 5482, 'famamus': 5485, 'famous': 5487, 'fancies': 5489, 'fans': 5490, 'fassyole': 5493, 'feathery': 5498, 'feb-april': 5500, 'smarter': 7312, 'feed': 5502, 'feelingood': 5503, 'feet': 5504, 'ffffffffff': 5509, 'ffffuuuuuuu': 5510, 'fieldof': 5513, 'fifth': 5515, 'http//tms': 5879, 'fifty': 5516, 'finds': 5523, 'finest': 5524, 'finishd': 5525, 'finn': 5526, 'fired': 5527, 'sozi': 7364, 'firefox': 5528, 'fizz': 5533, 'flavour': 5535, 'flea': 5536, 'flippin': 5541, 'floating': 5543, 'florida': 5545, 'urmom': 7821, 'flow': 5546, 'notifications': 6549, 'flowers': 5547, 'flowing': 5548, 'fluids': 5549, 'ripped': 7090, 'flung': 5550, 'flurries': 5551, 'sdryb8i': 7183, 'meatballs': 6335, 'fne': 5554, 'follows': 5557, 'foned': 5560, 'fonin': 5562, 'supervisor': 7510, 'footbl': 5564, 'footie': 5565, 'forced': 5566, 'sink': 7283, 'format': 5573, 'formatting': 5574, 'secrets': 7188, 'forwarding': 5577, 'foundurself': 5579, 'foward': 5581, 'fowler': 5582, 'fps': 5584, 'i‘ve': 6022, 'frank': 5585, 'franxx': 5587, 'franyxxxxx': 5588, 'freaky': 5592, 'fredericksburg': 5593, 'free-message': 5594, 'free2day': 5596, 'freeentry': 5597, 'l8er': 6133, 'friend-of-a-friend': 5606, 'frndsship': 5610, 'necessarily': 6484, 'hello-ed': 5814, 'glo': 5681, 'frndz': 5611, 'frnt': 5612, 'fromwrk': 5615, 'frontierville': 5616, 'fudge': 5622, 'ful': 5625, 'mindset': 6373, 'fulfil': 5626, 'fumbling': 5627, 'gravy': 5727, 'functions': 5629, 'funs': 5632, 'fusion': 5633, 'fuuuuck': 5634, 'wasn‘t': 7919, 'fwiw': 5635, 'g2': 5636, 'g696ga': 5637, 'gailxx': 5640, 'gamestar': 5646, 'gandhipuram': 5647, 'ganesh': 5648, 'gang': 5649, 'garments': 5651, 'gauti': 5655, 'shangela': 7225, 'gbp/sms': 5659, 'gbp/week': 5660, 'paths': 6711, 'gbp1': 5661, 'gbp4': 5662, 'we\\x92ve': 7959, 'gdeve': 5663, 'gek1510': 5664, 'george': 5666, 'ger': 5668, 'getiing': 5670, 'spatula': 7372, 'geting': 5671, 'getsleep': 5672, 'gibe': 5674, 'gifts': 5675, 'gigolo': 5676, 'say/ask': 7162, 'gimmi': 5677, 'mylife': 6459, 'girlie': 5678, 'global': 5682, 'grandma': 5722, 'glorious': 5683, 'lovin': 6249, 'gm': 5686, 'gnun': 5690, 'go2sri': 5691, 'goals/team': 5692, 'tirunelvai': 7663, 'tablets': 7551, 'splendid': 7393, 'gobi': 5693, 'ryder': 7122, 'panalam': 6678, 'goggles': 5694, 'goigng': 5695, 'golddigger': 5698, 'golf': 5701, 'gon': 5702, 'gong': 5703, 'goodevening': 5705, 'goodies': 5706, 'prometazine': 6901, 'handsomes': 5775, 'goodtime': 5709, 'gosh': 5711, 'goss': 5712, 'gota': 5713, 'gotany': 5714, 'intrepid': 5984, 'gotto': 5715, 'influx': 5954, 'gprs': 5716, 'pathaya': 6710, 'grab': 5718, 'grace': 5719, 'grams': 5720, 'gran': 5721, 'sorry-i': 7355, 'grasp': 5726, 'gre': 5729, 'uwant': 7830, 'greeting': 5732, 'grinder': 5734, 'grinule': 5735, 'grocers': 5736, 'grooved': 5737, 'grown': 5740, 'gsoh': 5744, 'lifeis': 6192, 'guai': 5745, 'gudni8': 5748, 'restock': 7068, 'guessing': 5753, 'guoyang': 5757, 'gynae': 5760, 'jet': 6047, 'hadn': 5763, 'slurp': 7309, 'probthat': 6892, 'hail': 5764, 'haiz': 5767, 'half8th': 5768, 'hall': 5769, 'halla': 5770, 'ham': 5771, 'hamper': 5772, 'occurs': 6578, 'handing': 5773, 'handsome': 5774, 'rv': 7119, 'hang': 5776, 'hanger': 5777, 'hanging': 5778, 'knee': 6116, 'hanks': 5779, 'hannaford': 5780, 'hanumanji': 5781, 'happenin': 5783, 'happily': 5784, 'hardest': 5785, 'harri': 5789, 'havbeen': 5793, 'heal': 5799, 'his/her': 5839, 'hearing': 5801, 'heat': 5804, 'heaven': 5805, 'hectic': 5807, 'height': 5810, 'nationwide': 6477, 'helen': 5811, 'hello-': 5813, 'help08700621170150p': 5816, 'help08714742804': 5817, 'helpful': 5818, 'helping': 5819, 'helps': 5821, 'heltini': 5822, 'hep': 5824, 'heron': 5827, 'hiding': 5833, 'hillsborough': 5835, 'kochi': 6121, 'himself': 5836, 'hint': 5837, 'hitler': 5840, 'transferred': 7712, 'hitter': 5842, 'hlday': 5843, 'hme': 5844, 'stool': 7443, 'hol': 5849, 'hole': 5850, 'honesty': 5853, 'honeymoon': 5854, 'hont': 5856, 'redeemable': 7011, 'hoo': 5857, 'hoody': 5858, 'hoped': 5861, 'hopeing': 5862, 'unsecured': 7801, 'hopeso': 5863, 'hos': 5867, 'hottest': 5871, 'keen': 6096, 'howard': 5874, 'hp20': 5877, 'hubby': 5882, 'ugo': 7759, 'hudgi': 5883, 'huge': 5884, 'hui': 5887, 'huiming': 5888, 'lnly': 6221, 'hundreds': 5893, 'mums': 6445, 'hungover': 5894, 'hunks': 5895, 'hut': 5899, 'hype': 5901, 'hypertension': 5902, 'mmsto': 6397, 'i-ntimate': 5904, 'ibuprofens': 5906, 'iccha': 5907, 'icicibank': 5908, 'olage': 6600, 'icky': 5909, 'id=1b6a5ecef91ff9*37819&first=true18': 5911, 'idc': 5913, 'ideal': 5914, 'leonardo': 6188, 'ignorant': 5920, 'ignoring': 5921, 'leftovers': 6180, 'ileave': 5923, 'illness': 5924, 'ilol': 5926, 'image': 5927, 'yards': 8054, 'imat': 5929, 'witot': 7996, 'imin': 5931, 'sudden': 7490, 'immunisation': 5933, 'impress': 5938, 'inclu': 5942, 'includes': 5943, 'incomm': 5944, 'regretted': 7024, 'inconvenience': 5945, 'incorrect': 5947, 'malarky': 6289, 'info@ringtoneking': 5955, 'info@txt82228': 5956, 'infra': 5957, 'privacy': 6882, 'ingredients': 5959, 'inner': 5962, 'n-gage': 6464, 'inperialmusic': 5965, 'inpersonation': 5966, 'soonlots': 7350, 'insects': 5967, 'inst': 5969, 'instant': 5972, 'intention': 5975, 'interest': 5977, 'kitty': 6114, 'internal': 5979, 'intha': 5983, 'invest': 5987, 'investigate': 5988, 'invoices': 5990, 'smidgin': 7316, 'involve': 5991, 'smaller': 7310, 'ipaditan': 5993, 'personally': 6742, 'ipads': 5994, 'iraq': 5995, 'irene': 5996, 'iron': 5998, 'is-': 6003, 'isv': 6007, 'it*': 6008, 'iter': 6011, 'itna': 6013, 'shun': 7268, 'it\\x92s': 6015, 'rules': 7115, 'ivatte': 6016, 'iyo': 6018, 'unicef': 7789, 'i\\x92ve': 6021, 'jabo': 6024, 'jacket': 6026, 'jackpot': 6027, 'jackson': 6028, 'jam': 6031, 'visiting': 7872, 'janinexx': 6034, 'jaya': 6037, 'jb': 6039, 'je': 6040, 'vibrate': 7854, 'jeans': 6041, 'marketing': 6306, 'jeevithathile': 6043, 'jenxxx': 6045, 'jersey': 6046, 'nver': 6564, 'jez': 6050, 'sathy': 7154, 'ji': 6051, 'jide': 6053, 'joke--thet': 6060, 'joker': 6061, 'w1a': 7889, 'jokin': 6062, 'jos': 6065, 'jp': 6068, 'juliana': 6071, 'salad': 7131, 'nitz': 6524, 'julianaland': 6072, 'justify': 6076, 'justthought': 6077, 'k61': 6079, 'k718': 6080, 'kaitlyn': 6083, 'kalaachutaarama': 6084, 'kama': 6088, 'kanagu': 6089, 'kane': 6090, 'katexxx': 6093, 'ken': 6099, 'tahan': 7555, 'khelate': 6102, 'kidding': 6106, 'kingdom': 6108, 'kintu': 6109, 'kisses': 6111, 'kissing': 6112, 'kittum': 6113, 'kl341': 6115, 'ko': 6120, 'wouldn': 8019, 'payed2day': 6716, 'kolathupalayam': 6124, 'korche': 6125, 'korte': 6126, 'kotees': 6127, 'ktv': 6128, 'kuch': 6129, 'kvb': 6130, 'l8': 6132, 'plyr': 6791, 'l8rs': 6134, 'la32wu': 6136, 'labor': 6137, 'lacking': 6139, 'lag': 6141, 'lakhs': 6144, 'lamp': 6147, 'lancaster': 6148, 'truck': 7731, 'landlineonly': 6150, 'specific': 7377, 'lanre': 6154, 'lark': 6158, 'latelyxxx': 6162, 'latests': 6163, 'laundry': 6164, 'lautech': 6166, 'lavender': 6167, 'lay': 6168, 'layin': 6169, 'laying': 6170, 'lccltd': 6171, 'ld': 6172, 'leadership': 6173, 'leading': 6174, 'leads': 6175, 'shrink': 7263, 'league': 6177, 'salesman': 7134, 'legitimat': 6182, 'lekdog': 6183, 'lengths': 6185, 'lennon': 6186, 'thriller': 7647, 'leo': 6187, 'lifebook': 6191, 'you\\x92re': 8081, 'shadow': 7218, 'liking': 6197, 'reception': 7002, 'lil': 6198, 'lim': 6199, 'steve': 7436, 'limiting': 6201, 'lindsay': 6203, 'line--you': 6204, 'linear': 6205, 'links': 6208, 'linux': 6209, 'lips': 6210, 'vill': 7864, 'listed': 6212, 'listener': 6213, 'lists': 6216, 'litres': 6218, 'locaxx': 6222, 'lock': 6223, 'lodge': 6225, 'logon': 6229, 'logos+musicnews': 6231, 'lolnice': 6233, 'lololo': 6234, 'londn': 6235, 'yifeng': 8067, 'whatsup': 7962, 'milk/day=no': 6365, 'loo': 6238, 'lool': 6239, 'wocay': 8002, 'loooooool': 6240, 'looovvve': 6241, 'loosing': 6242, 'lotsof': 6246, 'lovly': 6250, 'lower': 6251, 'spin': 7385, 'ls278bb': 6253, 'lttrs': 6256, 'lubly': 6257, 'luckily': 6258, 'lucyxx': 6259, 'lunsford': 6262, 'luvs': 6263, 'riddance': 7082, 'lv': 6265, 'lyrics': 6267, 'm95': 6269, 'maangalyam': 6270, 'savamob-member': 7159, 'macha': 6273, 'machines': 6274, 'scratches': 7176, 'mack': 6275, 'mad2': 6277, 'madstini': 6279, 'madurai': 6280, 'magazine': 6281, 'maggi': 6282, 'w14rg': 7888, 'magic': 6283, 'maintaining': 6286, 'manageable': 6291, 'management': 6293, 'mandan': 6295, 'yalrigu': 8051, 'mandy': 6297, 'manege': 6298, 'slob-': 7305, 'maniac': 6299, 'manual': 6300, 'maps': 6301, 'marandratha': 6303, 'maretare': 6304, 'margin': 6305, 'marrge': 6308, 'marvel': 6309, 'massive': 6314, 'mathews': 6317, 'matra': 6319, 'princes': 6877, 'matters': 6321, 'matthew': 6322, 'max6/month': 6324, 'max£7': 6326, 'mc': 6327, 'meaningful': 6332, 'mecause': 6336, 'stolen': 7441, 'mee': 6337, 'projects': 6900, 'melnite': 6341, 'memories': 6342, 'memory': 6343, 'mens': 6344, 'mental': 6345, 'porridge': 6819, 'mention': 6346, 'wheel': 7965, 'mentioned': 6347, 'merememberin': 6350, 'upgrading': 7810, 'messaged': 6352, 'scenario': 7169, 'messages-text': 6353, 'messy': 6355, 'mfl': 6357, 'mgs': 6358, 'sagamu': 7130, 'mi': 6359, 'michael': 6361, 'presnts': 6867, 'mids': 6362, 'million': 6367, 'strt': 7461, 'silence': 7276, 'millions': 6368, 'milta': 6369, 'mina': 6370, 'minapn': 6371, 'tscs08714740323': 7735, 'mine&all': 6374, 'minor': 6376, 'mint': 6379, 'mirror': 6381, 'mising': 6383, 'misss': 6387, 'mist': 6389, 'mittelschmertz': 6391, 'mk17': 6394, 'mmmmmmm': 6396, 'mns': 6398, 'such': 7487, 'mnth': 6399, 'mnths': 6400, 'mobilesvary': 6402, 't&csc': 7546, 'mobs': 6403, 'yavnt': 8055, 'monkeys': 6414, 'mobsi': 6404, 'mobstorequiz10ppm': 6405, 'mokka': 6408, 'suppliers': 7513, 'molested&someone': 6409, 'monkeespeople': 6411, 'monkey': 6412, 'monkeyaround': 6413, 'monoc': 6416, 'monos': 6417, 'talked': 7562, 'monthlysubscription@50p/msg': 6418, 'mother-in-law': 6419, 'motivating': 6421, 'newport': 6503, 'motor': 6422, 'mountain': 6423, 'mountains': 6424, 'temper': 7588, 'mouth': 6426, 'yeesh': 8058, 'mre': 6428, 'ms': 6429, 'msg/subscription': 6431, 'msg@£1': 6432, 'msgrcvd18+': 6433, 'mt': 6434, 'mtnl': 6435, 'mufti': 6438, 'muht': 6440, 'thesmszone': 7631, 'multis': 6442, 'mumbai': 6443, 'mumhas': 6444, 'mus': 6447, 'parantella': 6692, 'mushy': 6448, 'musical': 6450, 'perfume': 6734, 'musta': 6451, 'mustprovide': 6452, 'mutai': 6453, 'suitemates': 7501, 'mutations': 6454, 'mw': 6455, 'myparents': 6460, 'mys': 6461, 'n-atural': 6463, 'uk-mobile-date': 7763, 'nachos': 6467, 'nalla': 6468, 'nalli': 6469, 'nanny': 6471, 'webeburnin': 7937, 'nasty': 6475, 'nauseous': 6480, 'necessary': 6485, 'necessity': 6486, 'needing': 6487, 'showrooms': 7261, 'needy': 6488, 'neft': 6490, 'neshanth': 6496, 'netflix': 6497, 'netun': 6498, 'networks': 6499, 'nhs': 6507, 'nic': 6508, 'nickey': 6510, 'nicky': 6511, 'nig': 6512, 'nigh': 6513, 'nigpun': 6515, 'nigro': 6516, 'nikiyu4': 6517, 'ninish': 6518, 'nino': 6519, 'nitros': 6522, 'prakesh': 6843, 'nitw': 6523, 'struggling': 7462, 'noisy': 6533, 'noi\\x92m': 6534, 'nokia6650': 6536, 'yourjob': 8079, 'noncomittal': 6538, 'nooooooo': 6540, 'sterm': 7435, 'norcorp': 6542, 'north': 6544, 'notified': 6550, 'nowadays': 6553, 'nri': 6555, 'nte': 6556, 'nuerologist': 6559, 'threw': 7646, 'number-so': 6560, 'tagged': 7554, 'nusstu': 6563, 'ny': 6565, 'sd': 7181, 'ny-usa': 6566, 'nz': 6568, 'transcribing': 7711, 'nìte': 6569, 'o2fwd': 6570, 'treacle': 7718, 'obedient': 6571, 'westonzoyland': 7956, 'weightloss': 7944, 'obey': 6572, 'objection': 6573, 'oblivious': 6574, 'occupy': 6576, 'odalebeku': 6581, 'simonwatson5120': 7277, 'ofcourse': 6582, 'offdam': 6585, 'shaping': 7229, 'offense': 6586, 'officer': 6589, 'ogunrinde': 6594, 'okden': 6597, 'okies': 6598, 'okors': 6599, 'olave': 6601, 'olayiwola': 6602, 'oli': 6603, 'olol': 6604, 'olowoyey@': 6605, 'olympics': 6606, 'on-edge': 6607, 'onion': 6611, 'onion-rs': 6612, 'swashbuckling': 7531, 'oooooh': 6618, 'opener': 6621, 'openin': 6622, 'openings': 6623, 'operate': 6624, 'opponenter': 6625, '£50-£500': 8115, 'opposite': 6627, 'opps': 6628, 'optimistic': 6629, 'tp': 7707, 'oral': 6632, 'orc': 6633, 'xxuk': 8046, 'org': 6635, 'orh': 6638, 'orno': 6639, 'ortxt': 6641, 'ouch': 6645, 'outbid': 6648, 'phonebook': 6756, 'outfor': 6650, 'outreach': 6653, 'outsider': 6655, 'ovarian': 6657, 'overdose': 6659, 'overheating': 6661, 'overtime': 6662, 'ovulation': 6665, 'owe': 6667, 'owl': 6669, 'own--you': 6670, 'owned': 6671, 'oyster': 6672, 'toilet': 7676, 'packing': 6674, 'palm': 6677, 'panasonic': 6679, 'pants': 6685, 'parachute': 6688, 'wrote': 8031, 'parchi': 6693, 'parties': 6699, 'yuou': 8087, 'partnership': 6700, 'secured': 7192, 'passes': 6704, 'pataistha': 6707, 'patent': 6708, 'paul': 6712, 'payasam': 6714, 'pdate_now': 6720, 'weren': 7952, 'peach': 6721, 'pears': 6722, 'pen': 6726, 'penny': 6727, 'peoples': 6728, 'percentages': 6729, 'perform': 6731, 'performance': 6732, 'perhaps': 6735, 'perpetual': 6739, 'persevered': 6740, 'persian': 6741, 'sound\\x92s': 7359, 'pest': 6746, 'petexxx': 6747, 'petey': 6748, 'petrol-rs': 6750, 'phasing': 6751, 'phil': 6753, 'wall': 7906, 'phone750': 6755, 'photoshop': 6759, 'phrase': 6760, 'swhrt': 7534, 'piggy': 6766, 'pints': 6770, 'pillows': 6768, 'pist': 6772, 'placed': 6776, 'plate': 6779, 'playin': 6781, 'pleasured': 6785, 'plum': 6787, 'twinks': 7746, 'plumbers': 6788, 'plumbing': 6789, 'plural': 6790, 'pmt': 6792, 'praises': 6840, 'po19': 6793, 'pobox114/14tcr/w1': 6795, 'pobox365o4w45wq': 6797, 'pobox45w2tg150p': 6798, 'pobox75ldns7': 6799, 'pocked': 6802, 'poking': 6805, 'poly/200p': 6808, 'ponnungale': 6812, 'yorge': 8071, 'poo': 6813, 'pool': 6814, 'poortiyagi': 6815, 'popcorn': 6816, 'popping': 6817, 'portions': 6821, 'pose': 6822, 'posh': 6823, 'positions': 6824, 'possessiveness': 6825, 'possibility': 6826, 'poured': 6831, 'trained': 7709, 'ppt150x3+normal': 6834, 'prabu': 6835, 'pract': 6836, 'practical': 6837, 'practicum': 6838, 'prakasam': 6841, 'prakasamanu': 6842, 'praps': 6844, 'prasad': 6845, 'prasanth': 6846, 'prashanthettan': 6847, 'prayers': 6849, 'praying': 6850, 'prayrs': 6851, 'predict': 6853, 'prediction': 6856, 'prepayment': 6860, 'preschoolco-ordinator': 6862, 'prescribed': 6863, 'president': 6866, 'tlk': 7666, 'pressure': 6869, 'prestige': 6870, 'pretend': 6871, 'printing': 6879, 'prior': 6880, 'priority': 6881, 'problematic': 6887, 'probs': 6891, 'professional': 6895, 'thasa': 7611, 'programs': 6898, 'prone': 6904, 'propose': 6907, 'provider': 6911, 'sarasota': 7148, 'proze': 6913, 'ps3': 6916, 'psychiatrist': 6919, 'pudunga': 6926, 'soooo': 7352, 'pull': 6927, 'tohar': 7675, 'pulls': 6929, 'pura': 6935, 'unfortuntly': 7786, 'studio': 7470, 'responsible': 7066, 'purchases': 6936, 'pure': 6937, 'purple': 6938, 'puts': 6942, 'qbank': 6944, 'qet': 6945, 'qi': 6946, 'qlynnbv': 6948, 'raglan': 6956, 'wedlunch': 7940, 'rahul': 6957, 'raiden': 6958, 'raised': 6959, 'raj': 6960, 'rajini': 6962, 'rajitha': 6963, 'raping': 6969, 'raviyog': 6972, 'tranquility': 7710, 'rayman': 6974, 're-send': 6979, 're-sub': 6980, 'reacting': 6982, 'realising': 6986, 'shouldn‘t': 7255, 'realizes': 6988, 'reapply': 6990, 'reassurance': 6992, 'reassuring': 6993, 'reboot': 6995, 'recd@thirtyeight': 6999, 'receipts—well': 7000, 'receivea': 7001, 'recieve': 7004, 'recorded': 7006, 'recorder': 7007, 'victors': 7857, 'reduce': 7012, 'references': 7014, 'reffering': 7016, 'reformat': 7017, 'refreshed': 7018, 'refund': 7019, 'refunded': 7020, 'related': 7026, 'reliant': 7029, 'relocate': 7031, 'reminded': 7035, 'rencontre': 7037, 'renewing': 7038, 'rents': 7039, 'repair': 7040, 'repent': 7041, 'replacement': 7043, 'replacing': 7044, 'replys150': 7047, 'reppurcussions': 7048, 'requirements': 7050, 'resend': 7051, 'suffer': 7492, 'resent': 7052, 'reservations': 7053, 'reserve': 7054, 'reserved': 7055, 'reserves': 7056, 'sashimi': 7152, 'residency': 7058, 'resizing': 7059, 'resolution': 7061, 'wavering': 7928, 'responce': 7064, 'restocked': 7069, 'restrictions': 7071, 'resuming': 7073, 'rg21': 7079, 'taught': 7573, 'sisters': 7286, 'rightly': 7084, 'riley': 7085, 'ringtone¡': 7088, 'rinu': 7089, 'river': 7093, 'rob': 7094, 'rodger': 7097, 'romcapspam': 7100, 'rr': 7108, 'rt-king': 7109, 'rtf': 7110, 'rto': 7111, 'rubber': 7112, 'rushing': 7118, 'rvx': 7120, 'rwm': 7121, 'swimsuit': 7535, 's*': 7123, 's3xy': 7124, 'sabarish': 7125, 'saeed': 7128, 'tming': 7667, 'sales/pee': 7133, 'videosounds+2': 7862, 'sall': 7135, 'salmon': 7136, 'sambar': 7139, 'samus': 7140, 'sandiago': 7141, 'sang': 7143, 'served': 7207, 'sara': 7147, 'thepub': 7627, 'sariyag': 7150, 'satisfy': 7155, 'savings': 7161, 'scallies': 7166, 'scammers': 7167, 'scenery': 7170, 'supreme': 7517, 'schedule': 7171, 'scoring': 7173, 'scraped': 7174, 'scrappy': 7175, 'sday': 7182, 'sea*': 7184, 'secondary': 7187, 'section': 7189, 'sections': 7190, 'seeking': 7193, 'seh': 7194, 'sehwag': 7195, 'selfindependence': 7197, 'sender': 7201, 'senor': 7202, 'senses': 7203, 'usher': 7824, 'september': 7205, 'serena': 7206, 'server': 7208, 'setting': 7210, 'seventeen': 7212, 'shagged': 7220, 'shakara': 7222, 'shanil': 7227, 'shant': 7228, 'shattered': 7230, 'shaved': 7231, 'sheet': 7232, 'shexy': 7236, 'shhhhh': 7237, 'shifad': 7238, 'shinco': 7239, 'shindig': 7240, 'shiny': 7241, 'ship': 7242, 'shirts': 7243, 'shldxxxx': 7245, 'shocking': 7247, 'shoulders': 7254, 'showers': 7259, 'showr': 7260, 'shrek': 7262, 'shudvetold': 7267, 'sickness': 7269, '\\x96': 8103, 'signal': 7271, 'significant': 7273, 'simpler': 7278, 'simulate': 7280, 'taxt': 7575, 'sitter': 7287, 'situations': 7289, 'skills': 7290, 'skirt': 7293, 'speeding': 7379, 'skyving': 7295, 'slacking': 7296, 'sleepingwith': 7297, 'sleepwell&amp': 7299, 'slices': 7301, 'slide': 7302, 'sliding': 7303, 'slowing': 7308, 'smartcall': 7311, 'smear': 7313, 'smell': 7314, 'smells': 7315, 'smiley': 7319, 'smoked': 7322, 'smsservices': 7323, 'snap': 7324, 'sneham': 7328, 'snickering': 7329, 'snowball': 7331, 'soil': 7335, 'sold': 7337, 'someday': 7338, 'someonone': 7339, 'somerset': 7341, 'sometext': 7342, 'sometme': 7343, 'somewhat': 7344, 'somewhr': 7346, 'sonathaya': 7348, 'sonetimes': 7349, 'sooo': 7351, 'sorts': 7356, 'soundtrack': 7358, 'spam': 7368, 'spares': 7369, 'sparkling': 7371, 'spinout': 7386, 'spirit': 7388, 'spjanuary': 7390, 'split': 7394, 'spoilt': 7396, 'spontaneously': 7397, 'spot': 7402, 'spouse': 7403, 'spreadsheet': 7404, 'sprint': 7405, 'spun-out': 7406, 'squishy': 7411, 'stability': 7413, 'stable': 7414, 'stairs': 7416, 'watches': 7922, 'stalking': 7418, 'starer': 7421, 'stated': 7426, 'stdtxtrate': 7429, 'steamboat': 7430, 'stereo': 7434, 'sticky': 7437, 'stil': 7439, 'stocked': 7440, 'stop2stop': 7444, 'stopcost': 7445, 'stopcs': 7446, 'stories': 7448, 'str8': 7450, 'subject': 7478, 'strange': 7451, 'stressfull': 7454, 'strict': 7457, 'strips': 7459, 'strongly': 7460, 'studdying': 7467, 'stuffed': 7473, 'stuffing': 7474, 'stuffs': 7475, 'subletting': 7479, 'triple': 7726, 'submitting': 7480, 'subscribe6gbp/mnth': 7481, 'subscriptn3gbp/wk': 7483, 'subscrition': 7484, 'subsequent': 7485, 'subtoitles': 7486, 'suddenly': 7491, 'sufficient': 7495, 'sugababes': 7496, 'suganya': 7497, 'sugardad': 7498, 'sundayish': 7505, 'sunroof': 7507, 'sunscreen': 7508, 'surgical': 7519, 'surly': 7520, 'surrounded': 7523, 'svc': 7527, 'swalpa': 7528, 'swap': 7530, 'woozles': 8010, 'swat': 7532, 'swollen': 7536, 'swoop': 7537, 'syllabus': 7539, 'sympathetic': 7540, 'symptoms': 7541, 'synced': 7542, 'syrup': 7543, 'systems': 7544, 't-ruthful': 7547, 'tait': 7557, 'taj': 7558, 'talkbut': 7561, 'talks': 7564, 'tasts': 7569, 'tats': 7571, 'tc-llc': 7577, 'teaching': 7579, 'z': 8089, 'teams': 7580, 'teenager': 7581, 'teju': 7582, 'telediscount': 7583, 'teletext': 7584, 'telugu': 7586, 'wannatell': 7910, 'teresa': 7592, 'testing': 7596, 'texas': 7598, 'vpod': 7884, 'text82228>>': 7600, 'textand': 7601, 'textbook': 7602, 'uk/text': 7766, 'textin': 7603, 'texts/weekend': 7604, 'thanku': 7608, 'thanx4': 7610, 'the4th': 7614, 'themed': 7618, 'themob': 7620, 'themob>': 7621, 'themob>yo': 7623, 'theoretically': 7625, 'theplace': 7626, 'thinked': 7634, 'thinl': 7636, 'thirunelvali': 7637, 'thkin': 7638, 'thm': 7639, 'thnq': 7640, 'thout': 7643, 'threats': 7645, 'throwing': 7648, 'thus': 7649, 'thy': 7650, 'tiempo': 7652, 'yourinclusive': 8078, 'tiger': 7653, 'tigress': 7655, 'time-hope': 7657, 'timings': 7659, 'tip': 7660, 'tips': 7661, 'tnc': 7670, 'tobacco': 7671, 'tocall': 7673, 'token': 7677, 'toking': 7678, 'tolerance': 7680, 'uncut': 7778, 'tolerat': 7681, 'tome': 7682, 'tomorro': 7683, 'uhhhhrmm': 7760, 'tomorrow/today': 7684, 'tomorw': 7685, 'tonght': 7686, 'tongued': 7687, 'tonsolitusaswell': 7688, 'tookplace': 7689, 'toppoly': 7697, 'toss': 7703, 'toyota': 7706, 'transport': 7714, 'wating': 7925, 'treadmill': 7719, 'trebles': 7722, 'trends': 7724, 'tryin': 7734, 'tsunami': 7736, 'tues': 7738, 'tune': 7741, 'twice-': 7745, 'vibrator': 7855, 'twins': 7747, 'twittering': 7748, 'tx': 7749, 'txt250': 7751, 'txt82228': 7752, 'txtx': 7755, 'wheellock': 7966, 'typical': 7756, 'ubandu': 7758, 'ujhhhhhhh': 7762, 'uk/reward': 7765, 'ultimate': 7767, 'uncomfortable': 7772, 'unconsciously': 7775, 'unconvinced': 7776, 'uncountable': 7777, 'underdtand': 7779, 'uneventful': 7783, 'unfolds': 7784, 'unfortunately': 7785, 'unique&i': 7793, 'united': 7794, 'wi': 7974, 'univ': 7796, 'xxsp': 8045, 'unjalur': 7797, 'unmits': 7798, 'unni': 7799, 'unspoken': 7802, 'unsubscribed': 7803, 'unusual': 7804, 'up+not': 7805, 'upping': 7814, 'upset--it': 7815, 'urfeeling': 7817, 'urgoin': 7819, 'usmle': 7825, 'uwana': 7829, 'v-aluable': 7833, 'va': 7834, 'value': 7835, 'varaya': 7838, 'vargu': 7839, 'vasai': 7841, 'vatian': 7843, 'velly': 7848, 'venaam': 7849, 'versus': 7852, 'vibrant': 7853, 'vid': 7858, 'video/pic': 7859, 'vijaykanth': 7863, 'yaxx': 8056, 'violated': 7865, 'virgin': 7868, 'voila': 7879, 'vomitin': 7880, 'voted': 7881, 'vouchers-text': 7883, 'w1t1jy': 7890, 'wa': 7892, 'waaaat': 7893, 'wad': 7894, 'wadebridge': 7895, 'wahala': 7896, 'waheed': 7898, 'waited': 7901, 'wales': 7902, 'wallpaper-all': 7908, 'want2come': 7911, 'waqt': 7912, 'washob': 7916, 'wasnt': 7917, 'wasting': 7920, 'watchin': 7923, 'watevr': 7924, 'watr/day=no': 7926, 'way&this': 7929, 'weaseling': 7933, 'web2mobile': 7935, 'weddin': 7939, 'week+': 7942, 'weeks>': 7943, 'weirdest': 7945, 'weirdy': 7947, 'wenever': 7948, 'wenwecan': 7949, 'were/are': 7950, 'werebored': 7951, 'werethe': 7953, 'wesley': 7954, 'western': 7955, 'westshore': 7957, 'wewa': 7958, 'what‘s': 7963, 'wheat': 7964, 'wherre': 7970, 'wild': 7978, 'wildlife': 7979, 'willpower': 7980, 'ystrday': 8084, 'win150ppmx3age16': 7981, 'wind': 7982, 'windy': 7983, 'wining': 7986, 'winterstone': 7988, 'wishlist': 7992, 'wither': 7994, 'wondar': 8004, 'woodland': 8007, 'workand': 8013, 'worlds': 8015, 'woul': 8018, 'wounds': 8020, 'wrenching': 8023, 'writhing': 8025, 'wrking': 8027, 'wrongly': 8030, 'wuld': 8035, 'wuldnt': 8036, 'x-net': 8037, 'x49': 8040, 'xin': 8042, 'xt': 8044, 'xxxxxxxx': 8048, 'xxxxxxxxxxxxxx': 8049, 'yah': 8050, 'yelow': 8059, 'yes-165': 8061, 'yes-434': 8062, 'yes-762': 8063, 'yo-here': 8070, 'you*': 8072, 'younger': 8077, 'zealand': 8091, 'zeros': 8093, 'zhong': 8094, 'zogtorius': 8095, 'zyada': 8098, '\\x93harry': 8101, '£1/minmobsmorelkpobox177hp51fl': 8104, '£12': 8105, '£125': 8106, '£1250': 8107, '£400': 8110, '£48': 8111, '£54': 8117, '£71': 8119, '£79': 8120, '»10': 8122, '“': 8124, '“harry': 8125}\n"
     ]
    }
   ],
   "source": [
    "# Initialize training data iterator\n",
    "class TextIter(torch.utils.data.Dataset):\n",
    "\n",
    "  def __init__(self, input_data):\n",
    "      self.text = input_data['Message'].values.tolist()\n",
    "  def __len__(self):\n",
    "      return len(self.text)\n",
    "  def __getitem__(self, idx):\n",
    "      return self.text[idx]\n",
    "\n",
    "# Build vocabulary\n",
    "def yield_tokens(data_iter):\n",
    "    for text in data_iter:\n",
    "        yield tokenizer(text)\n",
    "\n",
    "data_iter = TextIter(df_train)\n",
    "vocab = build_vocab_from_iterator(yield_tokens(data_iter), specials=[\"<pad>\", \"<unk>\"])\n",
    "vocab.set_default_index(vocab[\"<unk>\"])\n",
    "print(vocab.get_stoi())"
   ]
  },
  {
   "cell_type": "code",
   "execution_count": 5,
   "metadata": {
    "colab": {
     "base_uri": "https://localhost:8080/"
    },
    "id": "MnMWSA1DxtVT",
    "outputId": "8c029213-3c0b-4ed1-dd59-38406e832733"
   },
   "outputs": [
    {
     "name": "stdout",
     "output_type": "stream",
     "text": [
      "['this', 'is', 'jkjkj']\n",
      "[49, 15, 1]\n"
     ]
    }
   ],
   "source": [
    "text_unk = 'this is jkjkj' # jkjkj is an unknown vocab\n",
    "seq_unk = [vocab[word] for word in tokenizer(text_unk)]\n",
    "\n",
    "print(tokenizer(text_unk))\n",
    "print(seq_unk)"
   ]
  },
  {
   "cell_type": "code",
   "execution_count": 6,
   "metadata": {
    "colab": {
     "base_uri": "https://localhost:8080/"
    },
    "id": "lSvZVqMtyL7Q",
    "outputId": "dac47cd2-3863-4261-e09d-ef3dc3128240"
   },
   "outputs": [
    {
     "name": "stdout",
     "output_type": "stream",
     "text": [
      "['this', 'is', 'text']\n",
      "[49, 15, 81]\n"
     ]
    }
   ],
   "source": [
    "# We will use this example throughout the article\n",
    "text = 'this is text' \n",
    "seq = [vocab[word] for word in tokenizer(text)]\n",
    "\n",
    "print(tokenizer(text))\n",
    "print(seq)"
   ]
  },
  {
   "cell_type": "markdown",
   "metadata": {
    "id": "rqX3dUjSB7vY"
   },
   "source": [
    "# Word Embedding"
   ]
  },
  {
   "cell_type": "code",
   "execution_count": 7,
   "metadata": {
    "id": "PgxpI0J70_Jv"
   },
   "outputs": [],
   "source": [
    "class Embeddings(nn.Module):\n",
    "    def __init__(self, d_model, vocab_size):\n",
    "        super(Embeddings, self).__init__()\n",
    "        self.emb = nn.Embedding(vocab_size, d_model)\n",
    "        self.d_model = d_model\n",
    "\n",
    "    def forward(self, x):\n",
    "        return self.emb(x) * math.sqrt(self.d_model)"
   ]
  },
  {
   "cell_type": "code",
   "execution_count": 8,
   "metadata": {
    "colab": {
     "base_uri": "https://localhost:8080/"
    },
    "id": "aBA7taXf1OTu",
    "outputId": "fe21d55d-d00a-44f2-9aec-e5c5ab5d5dd5"
   },
   "outputs": [
    {
     "name": "stdout",
     "output_type": "stream",
     "text": [
      "Size of token embedding: torch.Size([1, 3, 4])\n"
     ]
    }
   ],
   "source": [
    "hidden_size = 4\n",
    "\n",
    "input_data = torch.LongTensor(seq).unsqueeze(0)\n",
    "emb_model = Embeddings(hidden_size, len(vocab))\n",
    "token_emb = emb_model(input_data) \n",
    "print(f'Size of token embedding: {token_emb.size()}')"
   ]
  },
  {
   "cell_type": "markdown",
   "metadata": {
    "id": "z8sJ8ENsB_D6"
   },
   "source": [
    "# Positional Encoding"
   ]
  },
  {
   "cell_type": "code",
   "execution_count": 9,
   "metadata": {
    "id": "NHeQNov51Sn_"
   },
   "outputs": [],
   "source": [
    "class PositionalEncoding(nn.Module):\n",
    "    def __init__(self, d_model, vocab_size=5000, dropout=0.1):\n",
    "        super().__init__()\n",
    "        self.dropout = nn.Dropout(p=dropout)\n",
    "\n",
    "        pe = torch.zeros(vocab_size, d_model)\n",
    "        position = torch.arange(0, vocab_size, dtype=torch.float).unsqueeze(1)\n",
    "        div_term = torch.exp(\n",
    "            torch.arange(0, d_model, 2).float()\n",
    "            * (-math.log(10000.0) / d_model)\n",
    "        )\n",
    "  \n",
    "        pe[:, 0::2] = torch.sin(position * div_term)\n",
    "        pe[:, 1::2] = torch.cos(position * div_term)\n",
    "        pe = pe.unsqueeze(0)\n",
    "        self.register_buffer(\"pe\", pe)\n",
    "\n",
    "    def forward(self, x):\n",
    "        x = x + self.pe[:, : x.size(1), :]\n",
    "        return self.dropout(x)"
   ]
  },
  {
   "cell_type": "code",
   "execution_count": 10,
   "metadata": {
    "colab": {
     "base_uri": "https://localhost:8080/"
    },
    "id": "HIJkwwsF1nQB",
    "outputId": "724bd5e6-9814-46dd-ce24-f5cf6232e47c"
   },
   "outputs": [
    {
     "name": "stdout",
     "output_type": "stream",
     "text": [
      "Size of output embedding: torch.Size([1, 3, 4])\n"
     ]
    }
   ],
   "source": [
    "pe_model = PositionalEncoding(d_model=4, vocab_size=len(vocab))\n",
    "output_pe = pe_model(token_emb)\n",
    "\n",
    "print(f'Size of output embedding: {output_pe.size()}')"
   ]
  },
  {
   "cell_type": "markdown",
   "metadata": {
    "id": "fn2qzfJbCDJm"
   },
   "source": [
    "# Self-Attention"
   ]
  },
  {
   "cell_type": "code",
   "execution_count": 11,
   "metadata": {
    "id": "UGapGdkS1q-m"
   },
   "outputs": [],
   "source": [
    "class SingleHeadAttention(nn.Module):\n",
    "    def __init__(self, d_model, d_head_size):\n",
    "        super().__init__()\n",
    "        self.lin_key = nn.Linear(d_model, d_head_size, bias=False)\n",
    "        self.lin_query = nn.Linear(d_model, d_head_size, bias=False)\n",
    "        self.lin_value = nn.Linear(d_model, d_head_size, bias=False)\n",
    "        self.d_model = d_model\n",
    "\n",
    "    def forward(self, x):\n",
    "        query = self.lin_query(x)\n",
    "        key = self.lin_key(x)\n",
    "        value = self.lin_value(x)\n",
    "\n",
    "        scores = torch.matmul(query, key.transpose(-2, -1)) / math.sqrt(self.d_model)\n",
    "        p_attn = scores.softmax(dim=-1)\n",
    "        x = torch.matmul(p_attn, value)\n",
    "\n",
    "        return x"
   ]
  },
  {
   "cell_type": "code",
   "execution_count": 12,
   "metadata": {
    "id": "UA3cTsV52A-Z"
   },
   "outputs": [],
   "source": [
    "class MultiHeadAttention(nn.Module):\n",
    "    def __init__(self, h, d_model, dropout=0.1):\n",
    "        super().__init__()\n",
    "        assert d_model % h == 0\n",
    "        d_k = d_model // h\n",
    "        self.multi_head = nn.ModuleList([SingleHeadAttention(d_model, d_k) for _ in range(h)])\n",
    "        self.lin_agg = nn.Linear(d_model, d_model)\n",
    "\n",
    "    def forward(self, x):\n",
    "        x = torch.cat([head(x) for head in self.multi_head], dim=-1)\n",
    "        return self.lin_agg(x)"
   ]
  },
  {
   "cell_type": "code",
   "execution_count": 13,
   "metadata": {
    "colab": {
     "base_uri": "https://localhost:8080/"
    },
    "id": "9EfI6Qud2EkN",
    "outputId": "11dddad4-0a93-4c81-d603-e136b95f381e"
   },
   "outputs": [
    {
     "name": "stdout",
     "output_type": "stream",
     "text": [
      "Size of output embedding after multi-head attention: torch.Size([1, 3, 4])\n"
     ]
    }
   ],
   "source": [
    "mult_att = MultiHeadAttention(h=2, d_model=4)\n",
    "output_mult_att = mult_att(output_pe)\n",
    "\n",
    "print(f'Size of output embedding after multi-head attention: {output_mult_att.size()}')"
   ]
  },
  {
   "cell_type": "markdown",
   "metadata": {
    "id": "3HzDQA8gCGoQ"
   },
   "source": [
    "# Residual Connection"
   ]
  },
  {
   "cell_type": "code",
   "execution_count": 14,
   "metadata": {
    "id": "lh2npT4L2INT"
   },
   "outputs": [],
   "source": [
    "class LayerNorm(nn.Module):\n",
    "    def __init__(self, d_model, eps=1e-6):\n",
    "        super(LayerNorm, self).__init__()\n",
    "        self.a_2 = nn.Parameter(torch.ones(d_model))\n",
    "        self.b_2 = nn.Parameter(torch.zeros(d_model))\n",
    "        self.eps = eps\n",
    "\n",
    "    def forward(self, x):\n",
    "        mean = x.mean(-1, keepdim=True)\n",
    "        std = x.std(-1, keepdim=True)\n",
    "        return self.a_2 * (x - mean) / (std + self.eps) + self.b_2\n",
    "\n",
    "class ResidualConnection(nn.Module):\n",
    "    def __init__(self, d_model, dropout=0.1):\n",
    "        super().__init__()\n",
    "        self.norm = LayerNorm(d_model)\n",
    "        self.dropout = nn.Dropout(dropout)\n",
    "\n",
    "    def forward(self, x1, x2):\n",
    "        return self.dropout(self.norm(x1 + x2))"
   ]
  },
  {
   "cell_type": "code",
   "execution_count": 15,
   "metadata": {
    "colab": {
     "base_uri": "https://localhost:8080/"
    },
    "id": "LaErR02-3TTH",
    "outputId": "690291a0-5923-4c5e-b151-afa4d92b3966"
   },
   "outputs": [
    {
     "name": "stdout",
     "output_type": "stream",
     "text": [
      "Size of output embedding after residual connection: torch.Size([1, 3, 4])\n"
     ]
    }
   ],
   "source": [
    "res_conn_1 = ResidualConnection(d_model=4)\n",
    "output_res_conn_1 = res_conn_1(output_pe, output_mult_att)\n",
    "\n",
    "print(f'Size of output embedding after residual connection: {output_res_conn_1.size()}')"
   ]
  },
  {
   "cell_type": "markdown",
   "metadata": {
    "id": "2fxzwC04CLGu"
   },
   "source": [
    "# Feed-Forward"
   ]
  },
  {
   "cell_type": "code",
   "execution_count": 16,
   "metadata": {
    "id": "-YsYSQ6Z3wN9"
   },
   "outputs": [],
   "source": [
    "class FeedForward(nn.Module):\n",
    "    def __init__(self, d_model, d_ff, dropout=0.1):\n",
    "        super().__init__()\n",
    "        self.w_1 = nn.Linear(d_model, d_ff)\n",
    "        self.w_2 = nn.Linear(d_ff, d_model)\n",
    "        self.dropout = nn.Dropout(dropout)\n",
    "\n",
    "    def forward(self, x):\n",
    "        return self.w_2(self.dropout(self.w_1(x).relu()))"
   ]
  },
  {
   "cell_type": "code",
   "execution_count": 17,
   "metadata": {
    "colab": {
     "base_uri": "https://localhost:8080/"
    },
    "id": "8lHmNlck4G9b",
    "outputId": "2ed37657-84a6-4cba-b1a9-d57ff3416c7f"
   },
   "outputs": [
    {
     "name": "stdout",
     "output_type": "stream",
     "text": [
      "Size of output embedding after feed-forward network: torch.Size([1, 3, 4])\n"
     ]
    }
   ],
   "source": [
    "ff = FeedForward(d_model=4, d_ff=12)\n",
    "output_ff = ff(output_res_conn_1)\n",
    "\n",
    "print(f'Size of output embedding after feed-forward network: {output_ff.size()}')"
   ]
  },
  {
   "cell_type": "code",
   "execution_count": 18,
   "metadata": {
    "colab": {
     "base_uri": "https://localhost:8080/"
    },
    "id": "TppARUcn4Ucd",
    "outputId": "f0d61304-069f-4630-d28b-b4346ae844dc"
   },
   "outputs": [
    {
     "name": "stdout",
     "output_type": "stream",
     "text": [
      "Size of output embedding after second residual: torch.Size([1, 3, 4])\n"
     ]
    }
   ],
   "source": [
    "res_conn_2 = ResidualConnection(d_model=4)\n",
    "output_res_conn_2 = res_conn_2(output_res_conn_1, output_ff)\n",
    "\n",
    "print(f'Size of output embedding after second residual: {output_res_conn_2.size()}')"
   ]
  },
  {
   "cell_type": "markdown",
   "metadata": {
    "id": "-i2ciCjaCOhN"
   },
   "source": [
    "# Encoder Stack"
   ]
  },
  {
   "cell_type": "code",
   "execution_count": 19,
   "metadata": {
    "id": "sf8doruK4wNb"
   },
   "outputs": [],
   "source": [
    "class SingleEncoder(nn.Module):\n",
    "    def __init__(self, d_model, self_attn, feed_forward, dropout):\n",
    "        super().__init__()\n",
    "        self.self_attn = self_attn\n",
    "        self.feed_forward = feed_forward\n",
    "        self.res_1 = ResidualConnection(d_model, dropout)\n",
    "        self.res_2 = ResidualConnection(d_model, dropout)\n",
    "\n",
    "        self.d_model = d_model\n",
    "\n",
    "    def forward(self, x):\n",
    "        x_attn = self.self_attn(x)\n",
    "        x_res_1 = self.res_1(x, x_attn)\n",
    "        x_ff = self.feed_forward(x_res_1)\n",
    "        x_res_2 = self.res_2(x_res_1, x_ff)\n",
    "\n",
    "        return x_res_2"
   ]
  },
  {
   "cell_type": "code",
   "execution_count": 20,
   "metadata": {
    "id": "6TQmMd-Z6r2j"
   },
   "outputs": [],
   "source": [
    "class EncoderBlocks(nn.Module):\n",
    "    def __init__(self, layer, N):\n",
    "        super().__init__()\n",
    "        self.layers = nn.ModuleList([layer for _ in range(N)])\n",
    "        self.norm = LayerNorm(layer.d_model)\n",
    "\n",
    "    def forward(self, x):\n",
    "        for layer in self.layers:\n",
    "            x = layer(x)\n",
    "        return self.norm(x)"
   ]
  },
  {
   "cell_type": "markdown",
   "metadata": {
    "id": "_oX8KeLlCRxI"
   },
   "source": [
    "# Transformer Encoder Model"
   ]
  },
  {
   "cell_type": "code",
   "execution_count": 21,
   "metadata": {
    "id": "6Wttdrk06uvc"
   },
   "outputs": [],
   "source": [
    "class TransformerEncoderModel(nn.Module):\n",
    "    def __init__(self, vocab_size, d_model, nhead, d_ff, N,\n",
    "                dropout=0.1):\n",
    "        super().__init__()\n",
    "        assert d_model % nhead == 0, \"nheads must divide evenly into d_model\"\n",
    "\n",
    "        self.emb = Embeddings(d_model, vocab_size)\n",
    "        self.pos_encoder = PositionalEncoding(d_model=d_model, vocab_size=vocab_size)\n",
    "\n",
    "        attn = MultiHeadAttention(nhead, d_model)\n",
    "        ff = FeedForward(d_model, d_ff, dropout)\n",
    "        self.transformer_encoder = EncoderBlocks(SingleEncoder(d_model, attn, ff, dropout), N)\n",
    "        self.classifier = nn.Linear(d_model, 2)\n",
    "        self.d_model = d_model\n",
    "\n",
    "    def forward(self, x):\n",
    "        x = self.emb(x) * math.sqrt(self.d_model)\n",
    "        x = self.pos_encoder(x)\n",
    "        x = self.transformer_encoder(x)\n",
    "        x = x.mean(dim=1)\n",
    "        x = self.classifier(x)\n",
    "        return x\n",
    "\n",
    "device = torch.device(\"cuda\" if torch.cuda.is_available() else \"cpu\")\n",
    "model = TransformerEncoderModel(len(vocab), d_model=300, nhead=4, d_ff=50, \n",
    "                                    N=6, dropout=0.1).to(device)"
   ]
  },
  {
   "cell_type": "markdown",
   "metadata": {
    "id": "8B8QSPvvCVAD"
   },
   "source": [
    "# Dataloader"
   ]
  },
  {
   "cell_type": "code",
   "execution_count": 22,
   "metadata": {
    "id": "uH1RfYD56yli"
   },
   "outputs": [],
   "source": [
    "class TextDataset(torch.utils.data.Dataset):\n",
    "\n",
    "  def __init__(self, input_data):        \n",
    "      self.text = input_data['Message'].values.tolist()\n",
    "      self.label = [int(label2id[i]) for i in input_data['Category'].values.tolist()]\n",
    "\n",
    "  def __len__(self):\n",
    "      return len(self.label)\n",
    "    \n",
    "  def get_sequence_token(self, idx):\n",
    "      sequence = [vocab[word] for word in tokenizer(self.text[idx])]\n",
    "      len_seq = len(sequence)\n",
    "      return sequence\n",
    "  \n",
    "  def get_labels(self, idx):\n",
    "      return self.label[idx]\n",
    "\n",
    "  def __getitem__(self, idx):\n",
    "      sequence = self.get_sequence_token(idx)\n",
    "      label = self.get_labels(idx)\n",
    "      return sequence, label\n",
    "\n",
    "def collate_fn(batch):\n",
    "    sequences, labels = zip(*batch)\n",
    "    max_len = max(len(seq) for seq in sequences)\n",
    "    \n",
    "    # Initialize tensors with zeros and fill them with sequences and labels\n",
    "    padded_sequences = torch.zeros((len(sequences), max_len), dtype=torch.long)\n",
    "    padded_labels = torch.tensor(labels, dtype=torch.long)\n",
    "    \n",
    "    for i in range(len(sequences)):\n",
    "        sequence = sequences[i]\n",
    "        padded_sequences[i, :len(sequence)] = torch.tensor(sequence, dtype=torch.long)\n",
    "    \n",
    "    return padded_sequences, padded_labels"
   ]
  },
  {
   "cell_type": "markdown",
   "metadata": {
    "id": "4Cyro0LYCXgw"
   },
   "source": [
    "# Model Training"
   ]
  },
  {
   "cell_type": "code",
   "execution_count": null,
   "metadata": {
    "colab": {
     "base_uri": "https://localhost:8080/"
    },
    "id": "gR9iJ5_x63wh",
    "outputId": "ef953f57-6b1d-4ebc-ac5a-8aa80ea056a7"
   },
   "outputs": [
    {
     "name": "stderr",
     "output_type": "stream",
     "text": [
      "100%|██████████████████████████████████████████████████████████████████████████████| 1115/1115 [02:07<00:00,  8.74it/s]\n"
     ]
    },
    {
     "name": "stdout",
     "output_type": "stream",
     "text": [
      "Epochs: 1 | Loss:  0.092 | Accuracy:  0.905\n"
     ]
    },
    {
     "name": "stderr",
     "output_type": "stream",
     "text": [
      "100%|██████████████████████████████████████████████████████████████████████████████| 1115/1115 [02:16<00:00,  8.18it/s]\n"
     ]
    },
    {
     "name": "stdout",
     "output_type": "stream",
     "text": [
      "Epochs: 2 | Loss:  0.075 | Accuracy:  0.936\n"
     ]
    },
    {
     "name": "stderr",
     "output_type": "stream",
     "text": [
      "100%|██████████████████████████████████████████████████████████████████████████████| 1115/1115 [02:15<00:00,  8.21it/s]\n"
     ]
    },
    {
     "name": "stdout",
     "output_type": "stream",
     "text": [
      "Epochs: 3 | Loss:  0.063 | Accuracy:  0.934\n"
     ]
    },
    {
     "name": "stderr",
     "output_type": "stream",
     "text": [
      "100%|██████████████████████████████████████████████████████████████████████████████| 1115/1115 [02:41<00:00,  6.91it/s]\n"
     ]
    },
    {
     "name": "stdout",
     "output_type": "stream",
     "text": [
      "Epochs: 4 | Loss:  0.054 | Accuracy:  0.947\n"
     ]
    },
    {
     "name": "stderr",
     "output_type": "stream",
     "text": [
      "100%|██████████████████████████████████████████████████████████████████████████████| 1115/1115 [02:38<00:00,  7.06it/s]\n"
     ]
    },
    {
     "name": "stdout",
     "output_type": "stream",
     "text": [
      "Epochs: 5 | Loss:  0.048 | Accuracy:  0.944\n"
     ]
    },
    {
     "name": "stderr",
     "output_type": "stream",
     "text": [
      "100%|██████████████████████████████████████████████████████████████████████████████| 1115/1115 [02:39<00:00,  7.00it/s]\n"
     ]
    },
    {
     "name": "stdout",
     "output_type": "stream",
     "text": [
      "Epochs: 6 | Loss:  0.061 | Accuracy:  0.945\n"
     ]
    },
    {
     "name": "stderr",
     "output_type": "stream",
     "text": [
      "100%|██████████████████████████████████████████████████████████████████████████████| 1115/1115 [04:45<00:00,  3.90it/s]\n"
     ]
    },
    {
     "name": "stdout",
     "output_type": "stream",
     "text": [
      "Epochs: 7 | Loss:  0.050 | Accuracy:  0.951\n"
     ]
    },
    {
     "name": "stderr",
     "output_type": "stream",
     "text": [
      "100%|██████████████████████████████████████████████████████████████████████████████| 1115/1115 [02:31<00:00,  7.38it/s]\n"
     ]
    },
    {
     "name": "stdout",
     "output_type": "stream",
     "text": [
      "Epochs: 8 | Loss:  0.045 | Accuracy:  0.953\n"
     ]
    },
    {
     "name": "stderr",
     "output_type": "stream",
     "text": [
      "100%|██████████████████████████████████████████████████████████████████████████████| 1115/1115 [02:24<00:00,  7.69it/s]\n"
     ]
    },
    {
     "name": "stdout",
     "output_type": "stream",
     "text": [
      "Epochs: 9 | Loss:  0.048 | Accuracy:  0.948\n"
     ]
    },
    {
     "name": "stderr",
     "output_type": "stream",
     "text": [
      "100%|██████████████████████████████████████████████████████████████████████████████| 1115/1115 [02:28<00:00,  7.51it/s]\n"
     ]
    },
    {
     "name": "stdout",
     "output_type": "stream",
     "text": [
      "Epochs: 10 | Loss:  0.046 | Accuracy:  0.947\n"
     ]
    },
    {
     "name": "stderr",
     "output_type": "stream",
     "text": [
      "100%|██████████████████████████████████████████████████████████████████████████████| 1115/1115 [02:49<00:00,  6.58it/s]\n"
     ]
    },
    {
     "name": "stdout",
     "output_type": "stream",
     "text": [
      "Epochs: 11 | Loss:  0.050 | Accuracy:  0.946\n"
     ]
    },
    {
     "name": "stderr",
     "output_type": "stream",
     "text": [
      " 91%|███████████████████████████████████████████████████████████████████████▎      | 1019/1115 [02:26<00:15,  6.19it/s]"
     ]
    }
   ],
   "source": [
    "def train(model, dataset, epochs, lr, bs):\n",
    "\n",
    "    criterion = nn.CrossEntropyLoss()\n",
    "    optimizer = torch.optim.Adam((p for p in model.parameters() \n",
    "      if p.requires_grad), lr=lr)\n",
    "    train_dataset = TextDataset(dataset)\n",
    "    train_dataloader = DataLoader(train_dataset, batch_size=bs, collate_fn=collate_fn, shuffle=True)\n",
    "    \n",
    "    # Training loop\n",
    "    for epoch in range(epochs):\n",
    "        total_loss_train = 0\n",
    "        total_acc_train = 0   \n",
    "        for train_sequence, train_label in tqdm(train_dataloader):\n",
    "            \n",
    "            # Model prediction\n",
    "            predictions = model(train_sequence.to(device))\n",
    "            labels = train_label.to(device)\n",
    "            loss = criterion(predictions, labels)\n",
    "\n",
    "            # Calculate accuracy and loss per batch\n",
    "            correct = predictions.argmax(axis=1) == labels\n",
    "            acc = correct.sum().item() / correct.size(0)\n",
    "            total_acc_train += correct.sum().item()\n",
    "            total_loss_train += loss.item()\n",
    "\n",
    "            # Backprop\n",
    "            loss.backward()\n",
    "            torch.nn.utils.clip_grad_norm_(model.parameters(), 0.5)\n",
    "            optimizer.step()\n",
    "\n",
    "        print(f'Epochs: {epoch + 1} | Loss: {total_loss_train / len(train_dataset): .3f} | Accuracy: {total_acc_train / len(train_dataset): .3f}')\n",
    "    \n",
    "epochs = 15\n",
    "lr = 1e-4\n",
    "batch_size = 4\n",
    "train(model, df_train, epochs, lr, batch_size)"
   ]
  },
  {
   "cell_type": "markdown",
   "metadata": {
    "id": "pXG5M_HbCbP3"
   },
   "source": [
    "# Model Prediction"
   ]
  },
  {
   "cell_type": "code",
   "execution_count": null,
   "metadata": {
    "id": "ql2TW9xN7dpm"
   },
   "outputs": [],
   "source": [
    "def predict(text):\n",
    "\n",
    "  sequence = torch.tensor([vocab[word] for word in tokenizer(text)], dtype=torch.long).unsqueeze(0)\n",
    "  output = model(sequence.to(device))\n",
    "  prediction = id2label[output.argmax(axis=1).item()]\n",
    "\n",
    "  return prediction"
   ]
  },
  {
   "cell_type": "code",
   "execution_count": null,
   "metadata": {
    "colab": {
     "base_uri": "https://localhost:8080/"
    },
    "id": "TeavB5CV941C",
    "outputId": "5245a5f3-8175-4abb-e0bb-1ddb14f131d4"
   },
   "outputs": [],
   "source": [
    "idx = 24\n",
    "text = df_test['Message'].values.tolist()[idx]\n",
    "gt = df_test['Category'].values.tolist()[idx]\n",
    "prediction = predict(text)\n",
    "\n",
    "print(f'Text: {text}')\n",
    "print(f'Ground Truth: {gt}')\n",
    "print(f'Prediction: {prediction}')"
   ]
  },
  {
   "cell_type": "code",
   "execution_count": null,
   "metadata": {
    "colab": {
     "base_uri": "https://localhost:8080/"
    },
    "id": "Y48u-0OY-Tz7",
    "outputId": "5910a25e-6ec3-4ce9-9af0-3a066af0e0a2"
   },
   "outputs": [],
   "source": [
    "idx = 35\n",
    "text = df_test['Message'].values.tolist()[idx]\n",
    "gt = df_test['Category'].values.tolist()[idx]\n",
    "prediction = predict(text)\n",
    "\n",
    "print(f'Text: {text}')\n",
    "print(f'Ground Truth: {gt}')\n",
    "print(f'Prediction: {prediction}')"
   ]
  },
  {
   "cell_type": "code",
   "execution_count": null,
   "metadata": {
    "id": "fHBFYGJA-q4W"
   },
   "outputs": [],
   "source": []
  }
 ],
 "metadata": {
  "accelerator": "GPU",
  "colab": {
   "provenance": []
  },
  "gpuClass": "standard",
  "kernelspec": {
   "display_name": "Python 3 (ipykernel)",
   "language": "python",
   "name": "python3"
  },
  "language_info": {
   "codemirror_mode": {
    "name": "ipython",
    "version": 3
   },
   "file_extension": ".py",
   "mimetype": "text/x-python",
   "name": "python",
   "nbconvert_exporter": "python",
   "pygments_lexer": "ipython3",
   "version": "3.9.17"
  }
 },
 "nbformat": 4,
 "nbformat_minor": 4
}
