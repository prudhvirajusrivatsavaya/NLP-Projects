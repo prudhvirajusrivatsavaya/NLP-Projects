{
 "cells": [
  {
   "cell_type": "code",
   "execution_count": null,
   "id": "f5304e77-d67a-484b-b139-8a9d66a8d78f",
   "metadata": {},
   "outputs": [],
   "source": [
    "# Before starting the implementation try understanding this article\n",
    "# https://www.linkedin.com/pulse/understanding-batch-normalization-layer-group-implementing-pasha-s/"
   ]
  },
  {
   "cell_type": "code",
   "execution_count": 2,
   "id": "c1b11761",
   "metadata": {},
   "outputs": [],
   "source": [
    "import pandas as pd"
   ]
  },
  {
   "cell_type": "code",
   "execution_count": 3,
   "id": "359352d5",
   "metadata": {},
   "outputs": [
    {
     "data": {
      "text/html": [
       "<div>\n",
       "<style scoped>\n",
       "    .dataframe tbody tr th:only-of-type {\n",
       "        vertical-align: middle;\n",
       "    }\n",
       "\n",
       "    .dataframe tbody tr th {\n",
       "        vertical-align: top;\n",
       "    }\n",
       "\n",
       "    .dataframe thead th {\n",
       "        text-align: right;\n",
       "    }\n",
       "</style>\n",
       "<table border=\"1\" class=\"dataframe\">\n",
       "  <thead>\n",
       "    <tr style=\"text-align: right;\">\n",
       "      <th></th>\n",
       "      <th>product_name</th>\n",
       "      <th>product_price</th>\n",
       "      <th>Rate</th>\n",
       "      <th>Review</th>\n",
       "      <th>Summary</th>\n",
       "      <th>Sentiment</th>\n",
       "    </tr>\n",
       "  </thead>\n",
       "  <tbody>\n",
       "    <tr>\n",
       "      <th>0</th>\n",
       "      <td>Candes 12 L Room/Personal Air Cooler??????(Whi...</td>\n",
       "      <td>3999</td>\n",
       "      <td>5</td>\n",
       "      <td>super!</td>\n",
       "      <td>great cooler excellent air flow and for this p...</td>\n",
       "      <td>positive</td>\n",
       "    </tr>\n",
       "    <tr>\n",
       "      <th>1</th>\n",
       "      <td>Candes 12 L Room/Personal Air Cooler??????(Whi...</td>\n",
       "      <td>3999</td>\n",
       "      <td>5</td>\n",
       "      <td>awesome</td>\n",
       "      <td>best budget 2 fit cooler nice cooling</td>\n",
       "      <td>positive</td>\n",
       "    </tr>\n",
       "    <tr>\n",
       "      <th>2</th>\n",
       "      <td>Candes 12 L Room/Personal Air Cooler??????(Whi...</td>\n",
       "      <td>3999</td>\n",
       "      <td>3</td>\n",
       "      <td>fair</td>\n",
       "      <td>the quality is good but the power of air is de...</td>\n",
       "      <td>positive</td>\n",
       "    </tr>\n",
       "    <tr>\n",
       "      <th>3</th>\n",
       "      <td>Candes 12 L Room/Personal Air Cooler??????(Whi...</td>\n",
       "      <td>3999</td>\n",
       "      <td>1</td>\n",
       "      <td>useless product</td>\n",
       "      <td>very bad product its a only a fan</td>\n",
       "      <td>negative</td>\n",
       "    </tr>\n",
       "    <tr>\n",
       "      <th>4</th>\n",
       "      <td>Candes 12 L Room/Personal Air Cooler??????(Whi...</td>\n",
       "      <td>3999</td>\n",
       "      <td>3</td>\n",
       "      <td>fair</td>\n",
       "      <td>ok ok product</td>\n",
       "      <td>neutral</td>\n",
       "    </tr>\n",
       "  </tbody>\n",
       "</table>\n",
       "</div>"
      ],
      "text/plain": [
       "                                        product_name product_price Rate  \\\n",
       "0  Candes 12 L Room/Personal Air Cooler??????(Whi...          3999    5   \n",
       "1  Candes 12 L Room/Personal Air Cooler??????(Whi...          3999    5   \n",
       "2  Candes 12 L Room/Personal Air Cooler??????(Whi...          3999    3   \n",
       "3  Candes 12 L Room/Personal Air Cooler??????(Whi...          3999    1   \n",
       "4  Candes 12 L Room/Personal Air Cooler??????(Whi...          3999    3   \n",
       "\n",
       "            Review                                            Summary  \\\n",
       "0           super!  great cooler excellent air flow and for this p...   \n",
       "1          awesome              best budget 2 fit cooler nice cooling   \n",
       "2             fair  the quality is good but the power of air is de...   \n",
       "3  useless product                  very bad product its a only a fan   \n",
       "4             fair                                      ok ok product   \n",
       "\n",
       "  Sentiment  \n",
       "0  positive  \n",
       "1  positive  \n",
       "2  positive  \n",
       "3  negative  \n",
       "4   neutral  "
      ]
     },
     "execution_count": 3,
     "metadata": {},
     "output_type": "execute_result"
    }
   ],
   "source": [
    "df = pd.read_csv(\"Dataset-SA.csv\")\n",
    "df.head()"
   ]
  },
  {
   "cell_type": "code",
   "execution_count": 4,
   "id": "a5af880a",
   "metadata": {},
   "outputs": [
    {
     "data": {
      "text/plain": [
       "(180388, 2)"
      ]
     },
     "execution_count": 4,
     "metadata": {},
     "output_type": "execute_result"
    }
   ],
   "source": [
    "df = df[['Review','Sentiment']]\n",
    "df = df.dropna()\n",
    "df.shape"
   ]
  },
  {
   "cell_type": "code",
   "execution_count": 5,
   "id": "d7b3a418",
   "metadata": {},
   "outputs": [],
   "source": [
    "df['Review'] = [str(text) for text in df['Review']]"
   ]
  },
  {
   "cell_type": "code",
   "execution_count": 6,
   "id": "1747a279",
   "metadata": {},
   "outputs": [],
   "source": [
    "from sklearn.preprocessing import LabelEncoder\n",
    "# Create an instance of LabelEncoder\n",
    "label_encoder = LabelEncoder()\n",
    "# Fit the label encoder on the data and transform the data\n",
    "encoded_data = label_encoder.fit_transform(df['Sentiment'])\n",
    "df['Sentiment_Coded'] = encoded_data"
   ]
  },
  {
   "cell_type": "code",
   "execution_count": 7,
   "id": "04b8b790",
   "metadata": {},
   "outputs": [],
   "source": [
    "# Create Tokenizer\n",
    "from tensorflow.keras.preprocessing.text import Tokenizer\n",
    "tokenizer = Tokenizer(num_words=1000,\n",
    "    filters='!\"#$%&()*+,-./:;<=>?@[\\\\]^_`{|}~\\t\\n',\n",
    "    lower=True,\n",
    "    split=' ',\n",
    "    char_level=False,\n",
    "    #oov_token=\"<OOV>\",\n",
    "    analyzer=None,\n",
    "    )\n",
    "tokenizer.fit_on_texts(df['Review'])"
   ]
  },
  {
   "cell_type": "code",
   "execution_count": 8,
   "id": "f15b5a6c",
   "metadata": {},
   "outputs": [
    {
     "data": {
      "text/plain": [
       "22"
      ]
     },
     "execution_count": 8,
     "metadata": {},
     "output_type": "execute_result"
    }
   ],
   "source": [
    "max_sequence_length = max([len(i.split()) for i in df['Review']])\n",
    "max_sequence_length"
   ]
  },
  {
   "cell_type": "code",
   "execution_count": 9,
   "id": "6fda0718",
   "metadata": {
    "scrolled": true
   },
   "outputs": [],
   "source": [
    "from sklearn.model_selection import train_test_split\n",
    "x_train, x_test, y_train, y_test = train_test_split(df['Review'], df['Sentiment_Coded'], test_size=0.2, random_state=42, stratify=df['Sentiment_Coded'])"
   ]
  },
  {
   "cell_type": "code",
   "execution_count": 10,
   "id": "1b588d00",
   "metadata": {},
   "outputs": [],
   "source": [
    "x_train, x_test, y_train, y_test  = list(x_train), list(x_test), list(y_train), list(y_test)"
   ]
  },
  {
   "cell_type": "code",
   "execution_count": 11,
   "id": "9f02a0ae",
   "metadata": {
    "scrolled": true
   },
   "outputs": [],
   "source": [
    "sequences_train = tokenizer.texts_to_sequences(x_train)\n",
    "sequences_test =  tokenizer.texts_to_sequences(x_test)"
   ]
  },
  {
   "cell_type": "code",
   "execution_count": 12,
   "id": "61a56a29",
   "metadata": {},
   "outputs": [],
   "source": [
    "# Pad Sequences\n",
    "from tensorflow.keras.preprocessing.sequence import pad_sequences\n",
    "pad_sequence_train = pad_sequences(sequences_train, maxlen=max_sequence_length)\n",
    "pad_sequence_test = pad_sequences(sequences_test, maxlen=max_sequence_length)"
   ]
  },
  {
   "cell_type": "code",
   "execution_count": 13,
   "id": "5dae81b6",
   "metadata": {},
   "outputs": [
    {
     "data": {
      "text/plain": [
       "(1320, 3)"
      ]
     },
     "execution_count": 13,
     "metadata": {},
     "output_type": "execute_result"
    }
   ],
   "source": [
    "vocab_size = len(tokenizer.index_word)\n",
    "output_size = len(df['Sentiment'].unique())\n",
    "vocab_size, output_size"
   ]
  },
  {
   "cell_type": "code",
   "execution_count": 14,
   "id": "1bcc6d40",
   "metadata": {},
   "outputs": [],
   "source": [
    "from tensorflow.keras.utils import to_categorical\n",
    "y_train_categorical = to_categorical(y_train)\n",
    "y_test_categorical = to_categorical(y_test)"
   ]
  },
  {
   "cell_type": "code",
   "execution_count": 17,
   "id": "0ebefb1f",
   "metadata": {
    "scrolled": true
   },
   "outputs": [
    {
     "name": "stdout",
     "output_type": "stream",
     "text": [
      "Model: \"sequential_2\"\n",
      "_________________________________________________________________\n",
      " Layer (type)                Output Shape              Param #   \n",
      "=================================================================\n",
      " embedding_1 (Embedding)     (None, 22, 128)           169088    \n",
      "                                                                 \n",
      " bidirectional_2 (Bidirecti  (None, 22, 256)           263168    \n",
      " onal)                                                           \n",
      "                                                                 \n",
      " layer_normalization_1 (Lay  (None, 22, 256)           512       \n",
      " erNormalization)                                                \n",
      "                                                                 \n",
      " dropout_2 (Dropout)         (None, 22, 256)           0         \n",
      "                                                                 \n",
      " bidirectional_3 (Bidirecti  (None, 256)               394240    \n",
      " onal)                                                           \n",
      "                                                                 \n",
      " layer_normalization_2 (Lay  (None, 256)               512       \n",
      " erNormalization)                                                \n",
      "                                                                 \n",
      " dropout_3 (Dropout)         (None, 256)               0         \n",
      "                                                                 \n",
      " dense_3 (Dense)             (None, 64)                16448     \n",
      "                                                                 \n",
      " layer_normalization_3 (Lay  (None, 64)                128       \n",
      " erNormalization)                                                \n",
      "                                                                 \n",
      " dense_4 (Dense)             (None, 32)                2080      \n",
      "                                                                 \n",
      " layer_normalization_4 (Lay  (None, 32)                64        \n",
      " erNormalization)                                                \n",
      "                                                                 \n",
      " dense_5 (Dense)             (None, 3)                 99        \n",
      "                                                                 \n",
      "=================================================================\n",
      "Total params: 846339 (3.23 MB)\n",
      "Trainable params: 846339 (3.23 MB)\n",
      "Non-trainable params: 0 (0.00 Byte)\n",
      "_________________________________________________________________\n"
     ]
    }
   ],
   "source": [
    "from tensorflow.keras.models import Sequential\n",
    "from tensorflow.keras.layers import Input, Embedding, Flatten, Dense, LSTM, Bidirectional, Dropout, LayerNormalization\n",
    "model = Sequential()\n",
    "model.add(Input(shape=(max_sequence_length,)))\n",
    "model.add(Embedding(input_dim=vocab_size+1, output_dim=128, input_length=max_sequence_length))\n",
    "model.add(Bidirectional(LSTM(units=128, return_sequences=True)))\n",
    "model.add(LayerNormalization())\n",
    "model.add(Dropout(0.5))\n",
    "model.add(Bidirectional(LSTM(units=128)))\n",
    "model.add(LayerNormalization())\n",
    "model.add(Dropout(0.5))\n",
    "model.add(Dense(64,activation='relu'))\n",
    "model.add(LayerNormalization())\n",
    "model.add(Dense(32,activation='relu'))\n",
    "model.add(LayerNormalization())\n",
    "model.add(Dense(output_size,activation='sigmoid'))\n",
    "model.compile(optimizer='adam', loss = 'categorical_crossentropy', metrics=['accuracy'])\n",
    "model.summary()"
   ]
  },
  {
   "cell_type": "code",
   "execution_count": 18,
   "id": "9a00dda4",
   "metadata": {
    "scrolled": true
   },
   "outputs": [
    {
     "name": "stdout",
     "output_type": "stream",
     "text": [
      "564/564 [==============================] - 325s 560ms/step - loss: 0.3356 - accuracy: 0.9030 - val_loss: 0.3081 - val_accuracy: 0.9119\n"
     ]
    },
    {
     "data": {
      "text/plain": [
       "<keras.src.callbacks.History at 0x1da021a4df0>"
      ]
     },
     "execution_count": 18,
     "metadata": {},
     "output_type": "execute_result"
    }
   ],
   "source": [
    "model.fit(pad_sequence_train, y_train_categorical, epochs = 1, batch_size = 1028, validation_data=(pad_sequence_test, y_test_categorical))"
   ]
  },
  {
   "cell_type": "code",
   "execution_count": 25,
   "id": "8aeee54b-825f-45dd-b023-fd078e9c791b",
   "metadata": {
    "scrolled": true
   },
   "outputs": [
    {
     "data": {
      "text/plain": [
       "(256,\n",
       " 256,\n",
       " array([0.9830796 , 1.0040729 , 1.0052541 , 0.9913805 , 0.9893744 ,\n",
       "        1.0025591 , 1.0030426 , 0.99195087, 0.9861785 , 0.9868835 ,\n",
       "        1.0084875 , 0.99918526, 0.9638314 , 0.9730602 , 0.9921283 ,\n",
       "        1.0072767 , 0.99206436, 0.9980665 , 0.9926398 , 0.9994466 ,\n",
       "        1.001831  , 1.0024793 , 0.98435956, 1.0052801 , 0.99920976,\n",
       "        1.005541  , 0.99045616, 0.97551155, 0.9957907 , 0.9920549 ,\n",
       "        0.99018294, 0.9830635 , 0.99225795, 0.9745829 , 0.98539305,\n",
       "        0.99470687, 1.0173415 , 0.9943578 , 1.0014411 , 1.0066648 ,\n",
       "        1.0070728 , 0.9875877 , 1.004114  , 1.0267446 , 0.99372685,\n",
       "        0.99419457, 0.9811692 , 1.0055975 , 0.99640775, 0.99704933,\n",
       "        0.99725467, 1.0042762 , 0.9976349 , 1.0143614 , 1.0078384 ,\n",
       "        0.9971726 , 0.985462  , 0.9896487 , 0.9964412 , 0.9838067 ,\n",
       "        1.0044657 , 0.9863792 , 0.993771  , 0.9879603 , 1.0072818 ,\n",
       "        1.0006331 , 0.9744721 , 1.00126   , 0.9967638 , 0.99414104,\n",
       "        0.99642193, 0.9999506 , 0.993695  , 1.0041752 , 1.0140837 ,\n",
       "        0.9992716 , 1.0000807 , 0.99953187, 1.004408  , 0.9838998 ,\n",
       "        0.99288315, 1.0062637 , 0.9910106 , 1.0011243 , 0.9756415 ,\n",
       "        0.999827  , 1.0027444 , 1.0084894 , 0.9911248 , 1.0042588 ,\n",
       "        0.9998641 , 1.0183054 , 0.97409785, 0.9857248 , 0.99217117,\n",
       "        0.9873972 , 0.99935174, 1.0105482 , 0.98598653, 0.98628104,\n",
       "        0.9964709 , 0.9926535 , 0.9947097 , 1.0047785 , 1.0095979 ,\n",
       "        1.0058317 , 0.9972735 , 0.9834932 , 0.99960166, 0.99771255,\n",
       "        0.99692863, 1.0068042 , 1.0047138 , 1.0032569 , 0.99679273,\n",
       "        0.99386275, 1.0016749 , 1.0052612 , 0.9918251 , 1.0019011 ,\n",
       "        1.0111563 , 1.0091364 , 1.0056603 , 0.9946703 , 1.0055861 ,\n",
       "        1.001292  , 1.0262018 , 0.98165965, 1.0359224 , 1.0083647 ,\n",
       "        1.0120428 , 1.0636668 , 1.0097128 , 0.98924816, 0.99511826,\n",
       "        1.0002776 , 0.98895866, 1.0059379 , 0.995324  , 0.9921812 ,\n",
       "        1.0147063 , 1.0089593 , 1.0119637 , 1.0075486 , 0.99601805,\n",
       "        1.0029866 , 1.0518488 , 0.9969369 , 1.0103382 , 1.0009779 ,\n",
       "        1.0102609 , 1.0126752 , 0.9952014 , 0.98909885, 1.0294272 ,\n",
       "        1.0063205 , 0.9896011 , 1.0270281 , 1.0098686 , 1.0295224 ,\n",
       "        1.0174177 , 1.0010784 , 1.0129346 , 1.0056075 , 1.01505   ,\n",
       "        1.0049587 , 1.0032097 , 1.0219492 , 1.0157586 , 1.0168316 ,\n",
       "        0.99172056, 0.992396  , 1.0382434 , 1.0211346 , 1.033502  ,\n",
       "        1.0054454 , 0.9991658 , 1.0027047 , 0.9983911 , 1.0096258 ,\n",
       "        1.0110296 , 1.000381  , 1.0183856 , 1.0085328 , 1.0037228 ,\n",
       "        0.99323386, 0.99908113, 1.030523  , 1.0016357 , 1.0323164 ,\n",
       "        0.99789464, 1.0062405 , 0.9968069 , 1.021985  , 1.0143065 ,\n",
       "        1.0108627 , 0.9937987 , 0.9971544 , 1.0006418 , 1.0057464 ,\n",
       "        1.0009369 , 1.0356079 , 1.0132496 , 0.9924156 , 1.0072905 ,\n",
       "        1.0118601 , 1.0012994 , 1.028712  , 1.0103052 , 1.0074667 ,\n",
       "        1.0210173 , 1.0004796 , 1.0112493 , 0.9978851 , 1.0081124 ,\n",
       "        0.99251205, 1.0107661 , 1.0040352 , 1.0048229 , 0.99629   ,\n",
       "        1.0367877 , 0.99592847, 1.0064557 , 1.0015944 , 1.0112368 ,\n",
       "        1.0096507 , 0.9975421 , 1.0047634 , 1.0277895 , 0.9866631 ,\n",
       "        1.0050323 , 1.0003355 , 1.0062293 , 1.0205961 , 1.0057256 ,\n",
       "        1.0315787 , 1.0273875 , 1.0206107 , 0.99656415, 1.0031128 ,\n",
       "        1.002755  , 1.0127153 , 1.0143596 , 1.0506608 , 0.99158514,\n",
       "        1.006465  , 0.9975601 , 1.0166688 , 0.9975205 , 1.0012417 ,\n",
       "        1.0029492 , 1.0192053 , 1.0381354 , 1.0286227 , 0.99588466,\n",
       "        1.0287772 ], dtype=float32),\n",
       " array([ 0.00018537, -0.00069293, -0.00608854,  0.00656332,  0.0067234 ,\n",
       "        -0.00429245,  0.00072464, -0.00482081, -0.00177621,  0.00680857,\n",
       "         0.00634514,  0.00615207,  0.00213063, -0.00298806, -0.00095571,\n",
       "        -0.00243215,  0.0030174 ,  0.00484625, -0.00170626,  0.00231544,\n",
       "         0.00356769,  0.00564238,  0.00466207,  0.00496566, -0.00122091,\n",
       "        -0.01460707,  0.0009332 , -0.00105234, -0.00061541,  0.00819068,\n",
       "        -0.00476141, -0.0082068 ,  0.003746  , -0.00060499,  0.00708752,\n",
       "         0.00820873, -0.00347933, -0.00975363, -0.00219902,  0.00747198,\n",
       "        -0.0111816 , -0.00887408,  0.00795643, -0.00563903,  0.02368703,\n",
       "         0.00811701,  0.00312409,  0.00497933,  0.00463661, -0.00514173,\n",
       "         0.01775791, -0.00088666,  0.00652336, -0.00039433, -0.00791111,\n",
       "         0.00648841,  0.00262731,  0.00154328, -0.00749262, -0.0054978 ,\n",
       "         0.00122625, -0.00154692, -0.00468001,  0.00895309,  0.00029879,\n",
       "         0.01038107, -0.00212145, -0.00517719,  0.00235685,  0.0020014 ,\n",
       "         0.00250378, -0.00473391, -0.00418863,  0.00728506,  0.00715896,\n",
       "        -0.00568146,  0.00557295, -0.01582596,  0.00295632, -0.00334725,\n",
       "        -0.00405137,  0.00091197, -0.00497454, -0.00052215,  0.00317412,\n",
       "        -0.00574562,  0.00717302, -0.00455213, -0.00667208, -0.00383772,\n",
       "        -0.00523761, -0.00536935,  0.00858696,  0.00671965, -0.00500409,\n",
       "         0.00183164, -0.00543168, -0.00046174,  0.00354834,  0.00454705,\n",
       "        -0.00653923, -0.00358438,  0.00113204,  0.00032094, -0.00588979,\n",
       "        -0.0138776 ,  0.00577476, -0.00122573, -0.00187637,  0.00618861,\n",
       "         0.00515614, -0.00963826,  0.00621309, -0.01302399, -0.01033357,\n",
       "        -0.00409499,  0.00358164,  0.00195879, -0.00146755,  0.00226385,\n",
       "        -0.00643356, -0.0053778 , -0.00150521,  0.00297956, -0.01059293,\n",
       "        -0.00827261, -0.01112006, -0.00368393,  0.00462362, -0.00421677,\n",
       "        -0.01150166, -0.00010438, -0.00542324, -0.00463822, -0.00564816,\n",
       "         0.0058928 ,  0.00159083, -0.02093259,  0.01216882, -0.00767184,\n",
       "        -0.00074164, -0.01392951,  0.01184079, -0.00248143,  0.00661983,\n",
       "        -0.00312508, -0.00038106,  0.00391357,  0.0064619 , -0.00405842,\n",
       "         0.0006673 , -0.00366354,  0.00763918,  0.00165337,  0.00024372,\n",
       "        -0.00251905, -0.00327605, -0.00570282,  0.00376033, -0.01461705,\n",
       "        -0.0036948 ,  0.0048491 ,  0.00207076,  0.00634517, -0.00164196,\n",
       "        -0.00424154, -0.00744936,  0.00377024, -0.00329556, -0.00277969,\n",
       "        -0.00367154, -0.00188028,  0.00618831,  0.00445884,  0.00380445,\n",
       "         0.00523415, -0.00067256,  0.00488524, -0.00780342,  0.00481629,\n",
       "        -0.00486996, -0.01182834,  0.01947944,  0.00770653, -0.01221898,\n",
       "        -0.00496953, -0.01662296,  0.00401707, -0.00282704,  0.0007278 ,\n",
       "         0.00396627, -0.00427122, -0.00687497,  0.00786743, -0.00305502,\n",
       "         0.00176112,  0.00328212, -0.0035118 , -0.00433596, -0.00401741,\n",
       "         0.00331958, -0.00089358,  0.00617697, -0.00619639, -0.00215579,\n",
       "         0.00088498, -0.00227734,  0.00014629, -0.00353516, -0.0067776 ,\n",
       "        -0.0065016 ,  0.01703349, -0.01070947,  0.01022954,  0.00722402,\n",
       "        -0.00564665,  0.00867785,  0.00277605,  0.00043554,  0.01004738,\n",
       "         0.00393915,  0.00491644,  0.00076596,  0.00394825, -0.00794186,\n",
       "         0.00252324, -0.00771182, -0.00513298, -0.00436453,  0.00804123,\n",
       "         0.00012269, -0.00658048,  0.00398062,  0.00491161, -0.00480256,\n",
       "        -0.00398013,  0.01491626, -0.0079716 ,  0.01201608,  0.00251033,\n",
       "        -0.00909487,  0.00913099, -0.00075007,  0.00364349,  0.00408456,\n",
       "         0.01112748, -0.01352014, -0.0002834 , -0.00596592,  0.00817235,\n",
       "         0.00229777,  0.00356519,  0.00304206,  0.00287577, -0.00843205,\n",
       "        -0.00270569], dtype=float32))"
      ]
     },
     "execution_count": 25,
     "metadata": {},
     "output_type": "execute_result"
    }
   ],
   "source": [
    "batch_norm_layer  = model.layers[2]\n",
    "weights_gamma, weights_beta = batch_norm_layer.get_weights()\n",
    "len(weights_gamma), len(weights_beta), weights_gamma, weights_beta"
   ]
  },
  {
   "cell_type": "code",
   "execution_count": 22,
   "id": "a580f788",
   "metadata": {},
   "outputs": [],
   "source": [
    "text= x_test[0]\n",
    "sequences_inference = tokenizer.texts_to_sequences([text])\n",
    "padded_sequences_inference = pad_sequences(sequences_inference,maxlen=max_sequence_length)"
   ]
  },
  {
   "cell_type": "code",
   "execution_count": 23,
   "id": "15e808de",
   "metadata": {},
   "outputs": [
    {
     "data": {
      "text/plain": [
       "[[32, 33, 6]]"
      ]
     },
     "execution_count": 23,
     "metadata": {},
     "output_type": "execute_result"
    }
   ],
   "source": [
    "sequences_inference"
   ]
  },
  {
   "cell_type": "code",
   "execution_count": 24,
   "id": "09bae2f0",
   "metadata": {
    "scrolled": true
   },
   "outputs": [
    {
     "name": "stdout",
     "output_type": "stream",
     "text": [
      "1/1 [==============================] - 2s 2s/step\n"
     ]
    },
    {
     "data": {
      "text/plain": [
       "array([[0.13517539, 0.21910079, 0.9238637 ]], dtype=float32)"
      ]
     },
     "execution_count": 24,
     "metadata": {},
     "output_type": "execute_result"
    }
   ],
   "source": [
    "model.predict(padded_sequences_inference)"
   ]
  },
  {
   "cell_type": "code",
   "execution_count": 25,
   "id": "da8d5e5d",
   "metadata": {},
   "outputs": [
    {
     "name": "stdout",
     "output_type": "stream",
     "text": [
      "1/1 [==============================] - 0s 31ms/step\n"
     ]
    },
    {
     "data": {
      "text/plain": [
       "array([[0.13517539, 0.21910079, 0.9238637 ]], dtype=float32)"
      ]
     },
     "execution_count": 25,
     "metadata": {},
     "output_type": "execute_result"
    }
   ],
   "source": [
    "model.predict(padded_sequences_inference[0].reshape(1,22))"
   ]
  },
  {
   "cell_type": "code",
   "execution_count": null,
   "id": "ede79688",
   "metadata": {},
   "outputs": [],
   "source": []
  }
 ],
 "metadata": {
  "kernelspec": {
   "display_name": "Python 3 (ipykernel)",
   "language": "python",
   "name": "python3"
  },
  "language_info": {
   "codemirror_mode": {
    "name": "ipython",
    "version": 3
   },
   "file_extension": ".py",
   "mimetype": "text/x-python",
   "name": "python",
   "nbconvert_exporter": "python",
   "pygments_lexer": "ipython3",
   "version": "3.9.17"
  }
 },
 "nbformat": 4,
 "nbformat_minor": 5
}
