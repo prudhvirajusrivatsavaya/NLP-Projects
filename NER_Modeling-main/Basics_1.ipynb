{
 "cells": [
  {
   "cell_type": "code",
   "execution_count": 1,
   "id": "3eed77e6-46e9-4a5e-b4bb-15f6c015f1c2",
   "metadata": {},
   "outputs": [],
   "source": [
    "import pandas as pd\n",
    "import spacy\n",
    "import tensorflow as tf\n",
    "import pickle\n",
    "import re\n",
    "from tqdm import tqdm\n",
    "from spacy.training.example import Example"
   ]
  },
  {
   "cell_type": "code",
   "execution_count": 2,
   "id": "65f87a7f-304e-4e05-ab8b-140975b079c0",
   "metadata": {},
   "outputs": [],
   "source": [
    "input = [('thousands of demonstrators have marched through london to protest the war in iraq and demand the withdrawal of british troops from that country .',\n",
    "  {'entities': [(48, 54, 'B-geo'), (77, 81, 'B-geo'), (111, 118, 'B-gpe')]}),\n",
    " ('families of soldiers killed in the conflict joined the protesters who carried banners with such slogans as \" bush number one terrorist \" and \" stop the bombings . \"',\n",
    "  {'entities': [(109, 113, 'B-per')]}),\n",
    " ('they marched from the houses of parliament to a rally in hyde park .',\n",
    "  {'entities': [(57, 61, 'B-geo'), (62, 66, 'I-geo')]}),\n",
    " ('police put the number of marchers at 10,000 while organizers claimed it was 1,00,000 .',\n",
    "  {'entities': []}),\n",
    " (\"the protest comes on the eve of the annual conference of britain 's ruling labor party in the southern english seaside resort of brighton .\",\n",
    "  {'entities': [(57, 64, 'B-geo'),\n",
    "    (75, 80, 'B-org'),\n",
    "    (81, 86, 'I-org'),\n",
    "    (103, 110, 'B-gpe'),\n",
    "    (129, 137, 'B-geo')]}),\n",
    " (\"the party is divided over britain 's participation in the iraq conflict and the continued deployment of 8,500 british troops in that country .\",\n",
    "  {'entities': [(26, 33, 'B-gpe'), (58, 62, 'B-geo'), (110, 117, 'B-gpe')]}),\n",
    " ('the london march came ahead of anti-war protests today in other cities , including rome , paris , and madrid .',\n",
    "  {'entities': [(4, 10, 'B-geo'),\n",
    "    (83, 87, 'B-geo'),\n",
    "    (90, 95, 'B-geo'),\n",
    "    (102, 108, 'B-geo')]}),\n",
    " (\"the international atomic energy agency is to hold second day of talks in vienna wednesday on how to respond to iran 's resumption of low-level uranium conversion .\",\n",
    "  {'entities': [(4, 17, 'B-org'),\n",
    "    (18, 24, 'I-org'),\n",
    "    (25, 31, 'I-org'),\n",
    "    (32, 38, 'I-org'),\n",
    "    (73, 79, 'B-geo'),\n",
    "    (80, 89, 'B-tim'),\n",
    "    (111, 115, 'B-gpe')]}),\n",
    " ('iran this week restarted parts of the conversion process at its isfahan nuclear plant .',\n",
    "  {'entities': [(0, 4, 'B-gpe'), (64, 71, 'B-geo')]}),\n",
    " ('iranian officials say they expect to get access to sealed sensitive parts of the plant wednesday , after an iaea surveillance system begins functioning .',\n",
    "  {'entities': [(0, 7, 'B-gpe'), (87, 96, 'B-tim'), (108, 112, 'B-org')]})]"
   ]
  },
  {
   "cell_type": "code",
   "execution_count": 3,
   "id": "55fca1df-e731-4935-a1e5-06d6b00b1238",
   "metadata": {},
   "outputs": [],
   "source": [
    "# Step 2: Initialize spaCy\n",
    "nlp = spacy.blank(\"en\")"
   ]
  },
  {
   "cell_type": "code",
   "execution_count": 4,
   "id": "b7e713b8-30eb-449d-ae42-ad5abf03b31b",
   "metadata": {},
   "outputs": [],
   "source": [
    "# Step 4: Data Preprocessing\n",
    "def preprocess_data(data):\n",
    "    processed_data = []\n",
    "    for text, entities in data:\n",
    "        doc = nlp.make_doc(text)\n",
    "        example = Example.from_dict(doc, {\"entities\": entities})\n",
    "        processed_data.append(example)\n",
    "    return processed_data"
   ]
  },
  {
   "cell_type": "code",
   "execution_count": 6,
   "id": "6f7abdd6-2b36-479d-a63a-bbef4a6418b4",
   "metadata": {},
   "outputs": [
    {
     "data": {
      "text/plain": [
       "{'doc_annotation': {'cats': {}, 'entities': ['U-B-gpe', 'O', 'O', 'O', 'O', 'O', 'O', 'O', 'O', 'O', 'O', 'U-B-geo', 'O', 'O', 'O'], 'spans': {}, 'links': {}}, 'token_annotation': {'ORTH': ['iran', 'this', 'week', 'restarted', 'parts', 'of', 'the', 'conversion', 'process', 'at', 'its', 'isfahan', 'nuclear', 'plant', '.'], 'SPACY': [True, True, True, True, True, True, True, True, True, True, True, True, True, True, False], 'TAG': ['', '', '', '', '', '', '', '', '', '', '', '', '', '', ''], 'LEMMA': ['', '', '', '', '', '', '', '', '', '', '', '', '', '', ''], 'POS': ['', '', '', '', '', '', '', '', '', '', '', '', '', '', ''], 'MORPH': ['', '', '', '', '', '', '', '', '', '', '', '', '', '', ''], 'HEAD': [0, 1, 2, 3, 4, 5, 6, 7, 8, 9, 10, 11, 12, 13, 14], 'DEP': ['', '', '', '', '', '', '', '', '', '', '', '', '', '', ''], 'SENT_START': [1, 0, 0, 0, 0, 0, 0, 0, 0, 0, 0, 0, 0, 0, 0]}}"
      ]
     },
     "execution_count": 6,
     "metadata": {},
     "output_type": "execute_result"
    }
   ],
   "source": [
    "doc = nlp.make_doc(\"iran this week restarted parts of the conversion process at its isfahan nuclear plant .\")\n",
    "Example.from_dict(doc, {\"entities\": [(0, 4, 'B-gpe'), (64, 71, 'B-geo')]})"
   ]
  },
  {
   "cell_type": "code",
   "execution_count": null,
   "id": "9a78bbeb-ff83-4c7c-9423-d1ac84bc19d7",
   "metadata": {},
   "outputs": [],
   "source": [
    "\n"
   ]
  }
 ],
 "metadata": {
  "kernelspec": {
   "display_name": "Python 3 (ipykernel)",
   "language": "python",
   "name": "python3"
  },
  "language_info": {
   "codemirror_mode": {
    "name": "ipython",
    "version": 3
   },
   "file_extension": ".py",
   "mimetype": "text/x-python",
   "name": "python",
   "nbconvert_exporter": "python",
   "pygments_lexer": "ipython3",
   "version": "3.9.17"
  }
 },
 "nbformat": 4,
 "nbformat_minor": 5
}
