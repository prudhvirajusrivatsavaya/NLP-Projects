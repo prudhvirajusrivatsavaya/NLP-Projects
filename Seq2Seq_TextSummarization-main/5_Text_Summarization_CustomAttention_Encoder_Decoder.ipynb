{
 "cells": [
  {
   "cell_type": "code",
   "execution_count": 27,
   "id": "5cc3a31b-2d55-4b02-8fc0-c8d7a59f2c9c",
   "metadata": {},
   "outputs": [],
   "source": [
    "import numpy as np\n",
    "import tensorflow as tf\n",
    "from tensorflow.keras.preprocessing.text import Tokenizer\n",
    "from tensorflow.keras.preprocessing.sequence import pad_sequences\n",
    "from sklearn.model_selection import train_test_split\n",
    "import pandas as pd\n",
    "from tensorflow.keras.utils import to_categorical\n",
    "from preprocessing import *\n",
    "import re\n",
    "from tensorflow.keras.models import Model"
   ]
  },
  {
   "cell_type": "code",
   "execution_count": 28,
   "id": "629c7fe4-7077-42f8-bab3-4ccdb9c23a3a",
   "metadata": {},
   "outputs": [],
   "source": [
    "data = pd.read_csv(\"C:\\\\Users\\\\User\\\\Downloads\\\\amazonfinereviews\\\\Reviews.csv\")\n",
    "data = data[0:2000]"
   ]
  },
  {
   "cell_type": "code",
   "execution_count": 29,
   "id": "4c7a672b-2fb1-47eb-a8f5-0d8ba0cc6a89",
   "metadata": {},
   "outputs": [],
   "source": [
    "data.drop_duplicates(subset=['Text'],inplace=True)#dropping duplicates\n",
    "data.dropna(axis=0,inplace=True)#dropping na"
   ]
  },
  {
   "cell_type": "code",
   "execution_count": 30,
   "id": "bee0f634-e812-47d9-9205-fb9ab48160b9",
   "metadata": {},
   "outputs": [],
   "source": [
    "text_data  = [str(i) for i in data['Text']]\n",
    "summary_data  = [str(i) for i in data['Summary']]\n",
    "\n",
    "data['Text'] = text_data\n",
    "data['Summary'] = summary_data"
   ]
  },
  {
   "cell_type": "markdown",
   "id": "d542ee1c-2d8d-4970-b8d1-eddf4508a7b0",
   "metadata": {},
   "source": [
    "We will perform the below preprocessing tasks for our data:\n",
    "\n",
    "1.Convert everything to lowercase\n",
    "\n",
    "2.Remove HTML tags\n",
    "\n",
    "3.Contraction mapping\n",
    "\n",
    "4.Remove (‘s)\n",
    "\n",
    "5.Remove any text inside the parenthesis ( )\n",
    "\n",
    "6.Eliminate punctuations and special characters\n",
    "\n",
    "7.Remove stopwords\n",
    "\n",
    "8.Remove short words\n",
    "\n",
    "Let’s define the function:"
   ]
  },
  {
   "cell_type": "code",
   "execution_count": 31,
   "id": "8bfd2ee8-0ce8-4518-b37c-ad2cabb15c61",
   "metadata": {},
   "outputs": [],
   "source": [
    "import nltk\n",
    "#nltk.download('stopwords')\n",
    "from nltk.corpus import stopwords\n",
    "stop_words = set(stopwords.words('english')) \n",
    "from bs4 import BeautifulSoup\n",
    "\n",
    "def text_cleaner(text,num):\n",
    "    newString = text.lower()\n",
    "    newString = BeautifulSoup(newString, \"lxml\").text\n",
    "    newString = re.sub(r'\\([^)]*\\)', '', newString)\n",
    "    newString = re.sub('\"','', newString)\n",
    "    newString = ' '.join([contraction_mapping[t] if t in contraction_mapping else t for t in newString.split(\" \")])    \n",
    "    newString = re.sub(r\"'s\\b\",\"\",newString)\n",
    "    newString = re.sub(\"[^a-zA-Z]\", \" \", newString) \n",
    "    newString = re.sub('[m]{2,}', 'mm', newString)\n",
    "    if(num==0):\n",
    "        tokens = [w for w in newString.split() if not w in stop_words]\n",
    "    else:\n",
    "        tokens=newString.split()\n",
    "    long_words=[]\n",
    "    for i in tokens:\n",
    "        if len(i)>1:                                                 #removing short word\n",
    "            long_words.append(i)   \n",
    "    return (\" \".join(long_words)).strip()"
   ]
  },
  {
   "cell_type": "code",
   "execution_count": 32,
   "id": "6278f85f-391d-4b55-ab03-97999a9e897f",
   "metadata": {
    "scrolled": true
   },
   "outputs": [
    {
     "name": "stderr",
     "output_type": "stream",
     "text": [
      "C:\\Users\\User\\AppData\\Local\\Temp\\ipykernel_7340\\2551379146.py:9: MarkupResemblesLocatorWarning: The input looks more like a filename than markup. You may want to open this file and pass the filehandle into Beautiful Soup.\n",
      "  newString = BeautifulSoup(newString, \"lxml\").text\n"
     ]
    }
   ],
   "source": [
    "#call the function\n",
    "cleaned_text = []\n",
    "for t in data['Text']:\n",
    "    cleaned_text.append(text_cleaner(t,0)) "
   ]
  },
  {
   "cell_type": "code",
   "execution_count": 33,
   "id": "c24d1b12-c6f3-497b-8f06-609c398a6203",
   "metadata": {},
   "outputs": [
    {
     "data": {
      "text/plain": [
       "['bought several vitality canned dog food products found good quality product looks like stew processed meat smells better labrador finicky appreciates product better',\n",
       " 'product arrived labeled jumbo salted peanuts peanuts actually small sized unsalted sure error vendor intended represent product jumbo',\n",
       " 'confection around centuries light pillowy citrus gelatin nuts case filberts cut tiny squares liberally coated powdered sugar tiny mouthful heaven chewy flavorful highly recommend yummy treat familiar story lewis lion witch wardrobe treat seduces edmund selling brother sisters witch',\n",
       " 'looking secret ingredient robitussin believe found got addition root beer extract ordered made cherry soda flavor medicinal',\n",
       " 'great taffy great price wide assortment yummy taffy delivery quick taffy lover deal']"
      ]
     },
     "execution_count": 33,
     "metadata": {},
     "output_type": "execute_result"
    }
   ],
   "source": [
    "cleaned_text[:5]  "
   ]
  },
  {
   "cell_type": "code",
   "execution_count": 34,
   "id": "b65276e9-4d3e-4a8b-80eb-26590fc3135e",
   "metadata": {},
   "outputs": [
    {
     "name": "stderr",
     "output_type": "stream",
     "text": [
      "C:\\Users\\User\\AppData\\Local\\Temp\\ipykernel_7340\\2551379146.py:9: MarkupResemblesLocatorWarning: The input looks more like a filename than markup. You may want to open this file and pass the filehandle into Beautiful Soup.\n",
      "  newString = BeautifulSoup(newString, \"lxml\").text\n"
     ]
    }
   ],
   "source": [
    "#call the function\n",
    "cleaned_summary = []\n",
    "for t in data['Summary']:\n",
    "    cleaned_summary.append(text_cleaner(t,1))"
   ]
  },
  {
   "cell_type": "code",
   "execution_count": 35,
   "id": "e2cfdcec-29fe-4735-b104-0a0f946b07c8",
   "metadata": {},
   "outputs": [
    {
     "data": {
      "text/plain": [
       "['good quality dog food',\n",
       " 'not as advertised',\n",
       " 'delight says it all',\n",
       " 'cough medicine',\n",
       " 'great taffy',\n",
       " 'nice taffy',\n",
       " 'great just as good as the expensive brands',\n",
       " 'wonderful tasty taffy',\n",
       " 'yay barley',\n",
       " 'healthy dog food']"
      ]
     },
     "execution_count": 35,
     "metadata": {},
     "output_type": "execute_result"
    }
   ],
   "source": [
    "cleaned_summary[:10]"
   ]
  },
  {
   "cell_type": "code",
   "execution_count": 36,
   "id": "85a16b02-6816-498b-b142-5f8751591cbb",
   "metadata": {},
   "outputs": [
    {
     "data": {
      "text/plain": [
       "(1996, 1996)"
      ]
     },
     "execution_count": 36,
     "metadata": {},
     "output_type": "execute_result"
    }
   ],
   "source": [
    "len(cleaned_text), len(cleaned_summary)"
   ]
  },
  {
   "cell_type": "code",
   "execution_count": 37,
   "id": "23cf94ad-6186-44cd-b7dd-a87f241805c0",
   "metadata": {},
   "outputs": [],
   "source": [
    "data['cleaned_text']=cleaned_text\n",
    "data['cleaned_summary']=cleaned_summary"
   ]
  },
  {
   "cell_type": "code",
   "execution_count": 38,
   "id": "a46f57ec-6bf4-4686-89af-222e9cb35655",
   "metadata": {},
   "outputs": [],
   "source": [
    "# Drop empty rows\n",
    "data.replace('', np.nan, inplace=True)\n",
    "data.dropna(axis=0,inplace=True)"
   ]
  },
  {
   "cell_type": "code",
   "execution_count": 39,
   "id": "77f1a57f-879f-412f-aead-d6e7bf590089",
   "metadata": {},
   "outputs": [
    {
     "data": {
      "image/png": "[encoded data removed]",
      "text/plain": [
       "<Figure size 640x480 with 2 Axes>"
      ]
     },
     "metadata": {},
     "output_type": "display_data"
    }
   ],
   "source": [
    "# Analyzing and Preparing the Data\n",
    "# We will analyze the length of the reviews and the summary to get an overall idea about the distribution of length of the text to \n",
    "# fix the maximum length of the sequence:\n",
    "import matplotlib.pyplot as plt\n",
    "\n",
    "text_word_count = []\n",
    "summary_word_count = []\n",
    "\n",
    "# populate the lists with sentence lengths\n",
    "for i in data['cleaned_text']:\n",
    "      text_word_count.append(len(i.split()))\n",
    "\n",
    "for i in data['cleaned_summary']:\n",
    "      summary_word_count.append(len(i.split()))\n",
    "\n",
    "length_df = pd.DataFrame({'text':text_word_count, 'summary':summary_word_count})\n",
    "\n",
    "length_df.hist(bins = 30)\n",
    "plt.show()"
   ]
  },
  {
   "cell_type": "code",
   "execution_count": 40,
   "id": "4e8d6335-72b4-4d5d-b25d-c6a4b124cc00",
   "metadata": {},
   "outputs": [
    {
     "name": "stdout",
     "output_type": "stream",
     "text": [
      "0.9468138484696438\n"
     ]
    }
   ],
   "source": [
    "cnt=0\n",
    "for i in data['cleaned_summary']:\n",
    "    if(len(i.split())<=8):\n",
    "        cnt=cnt+1\n",
    "print(cnt/len(data['cleaned_summary']))"
   ]
  },
  {
   "cell_type": "code",
   "execution_count": 41,
   "id": "f7f56bc8-2944-447b-81b0-40051a8abcf8",
   "metadata": {},
   "outputs": [],
   "source": [
    "# We observe that 94% of the summaries have length below 8. So, we can fix maximum length of summary to 8.\n",
    "# Let us fix the maximum length of review to 30"
   ]
  },
  {
   "cell_type": "code",
   "execution_count": 42,
   "id": "7cae8a66-bfa6-4a69-b494-f2b3b30c509f",
   "metadata": {},
   "outputs": [],
   "source": [
    "max_text_len=30\n",
    "max_summary_len=8"
   ]
  },
  {
   "cell_type": "code",
   "execution_count": 43,
   "id": "a37e3904-c3c0-4e43-8880-2ca548813a84",
   "metadata": {},
   "outputs": [],
   "source": [
    "# Select the reviews and summaries whose length falls below or equal to max_text_len and max_summary_len\n",
    "cleaned_text =np.array(data['cleaned_text'])\n",
    "cleaned_summary=np.array(data['cleaned_summary'])\n",
    "\n",
    "short_text=[]\n",
    "short_summary=[]\n",
    "\n",
    "for i in range(len(cleaned_text)):\n",
    "    if(len(cleaned_summary[i].split())<=max_summary_len and len(cleaned_text[i].split())<=max_text_len):\n",
    "        short_text.append(cleaned_text[i])\n",
    "        short_summary.append(cleaned_summary[i])\n",
    "        \n",
    "df=pd.DataFrame({'text':short_text,'summary':short_summary})"
   ]
  },
  {
   "cell_type": "code",
   "execution_count": 44,
   "id": "1fb4494d-c2c7-4279-adc8-aab8be984467",
   "metadata": {},
   "outputs": [],
   "source": [
    "# We have to add the START and END special tokens at the beginning and end of the summary which does not appear anywhere in the summary."
   ]
  },
  {
   "cell_type": "code",
   "execution_count": 45,
   "id": "5fdffe3c-3b73-4741-999c-eaae46c643e8",
   "metadata": {},
   "outputs": [],
   "source": [
    "df['summary'] = df['summary'].apply(lambda x : 'sostok '+ x + ' eostok')"
   ]
  },
  {
   "cell_type": "code",
   "execution_count": 46,
   "id": "84f2d351-d5fa-49b3-9d9b-b3780247cfdc",
   "metadata": {},
   "outputs": [
    {
     "data": {
      "text/plain": [
       "((1993, 12), (1177, 2))"
      ]
     },
     "execution_count": 46,
     "metadata": {},
     "output_type": "execute_result"
    }
   ],
   "source": [
    "data.shape, df.shape"
   ]
  },
  {
   "cell_type": "code",
   "execution_count": 47,
   "id": "dde740f1-e4d3-4269-ba7f-77e9bc823b93",
   "metadata": {},
   "outputs": [],
   "source": [
    "# Splitting the Data\n",
    "# We split our dataset into a training and validation set. We’ll use 90% of the dataset as the training data and 10% as the validation set.\n",
    "from sklearn.model_selection import train_test_split\n",
    "x_tr,x_val,y_tr,y_val=train_test_split(np.array(df['text']),np.array(df['summary']),test_size=0.1,random_state=0,shuffle=True) "
   ]
  },
  {
   "cell_type": "code",
   "execution_count": 48,
   "id": "74f5eb4d-608a-496e-ad83-1c1509409494",
   "metadata": {},
   "outputs": [],
   "source": [
    "# Text Tokenizer\n",
    "# A tokenizer builds the vocabulary and converts a word sequence to an integer sequence.\n",
    "\n",
    "from keras.preprocessing.text import Tokenizer \n",
    "from keras.preprocessing.sequence import pad_sequences\n",
    "\n",
    "#prepare a tokenizer for reviews on training data\n",
    "x_tokenizer = Tokenizer() \n",
    "x_tokenizer.fit_on_texts(list(x_tr))"
   ]
  },
  {
   "cell_type": "code",
   "execution_count": 49,
   "id": "f16a300a-61bb-43d0-8172-fc6b646bcf9c",
   "metadata": {},
   "outputs": [
    {
     "name": "stdout",
     "output_type": "stream",
     "text": [
      "% of rare words in vocabulary: 73.9844184752365\n",
      "Total Coverage of rare words: 19.76879222972973\n"
     ]
    }
   ],
   "source": [
    "# Rarewords and its Coverage\n",
    "# We are taking the threshold of 4 for rare words. We will find proportion and total coverage of rare words in entire text\n",
    "\n",
    "thresh=4\n",
    "\n",
    "cnt=0\n",
    "tot_cnt=0 # Total Number of words\n",
    "freq=0\n",
    "tot_freq=0 # To occurance of words , example, if and occurs 2 times, the 3times then tot_freq is 5\n",
    "\n",
    "for key,value in x_tokenizer.word_counts.items():\n",
    "    tot_cnt=tot_cnt+1\n",
    "    tot_freq=tot_freq+value\n",
    "    if(value<thresh):\n",
    "        cnt=cnt+1\n",
    "        freq=freq+value\n",
    "    \n",
    "print(\"% of rare words in vocabulary:\",(cnt/tot_cnt)*100)\n",
    "print(\"Total Coverage of rare words:\",(freq/tot_freq)*100)"
   ]
  },
  {
   "cell_type": "code",
   "execution_count": 50,
   "id": "4272d55b-04dc-4e99-94de-30b2f7cb2481",
   "metadata": {},
   "outputs": [
    {
     "data": {
      "text/plain": [
       "(2659, 3594, 3745, 18944)"
      ]
     },
     "execution_count": 50,
     "metadata": {},
     "output_type": "execute_result"
    }
   ],
   "source": [
    "cnt, tot_cnt, freq, tot_freq"
   ]
  },
  {
   "cell_type": "code",
   "execution_count": 51,
   "id": "3e109c3e-3229-4274-bcaa-88c4b142b099",
   "metadata": {},
   "outputs": [],
   "source": [
    "#prepare a tokenizer for reviews on training data\n",
    "x_tokenizer = Tokenizer(num_words=tot_cnt-cnt) \n",
    "x_tokenizer.fit_on_texts(list(x_tr))\n",
    "\n",
    "#convert text sequences into integer sequences\n",
    "x_tr_seq    =   x_tokenizer.texts_to_sequences(x_tr) \n",
    "x_val_seq   =   x_tokenizer.texts_to_sequences(x_val)\n",
    "\n",
    "#padding zero upto maximum length\n",
    "x_tr    =   pad_sequences(x_tr_seq,  maxlen=max_text_len, padding='post')\n",
    "x_val   =   pad_sequences(x_val_seq, maxlen=max_text_len, padding='post')\n",
    "\n",
    "#size of vocabulary ( +1 for padding token)\n",
    "x_voc   =  x_tokenizer.num_words + 1"
   ]
  },
  {
   "cell_type": "code",
   "execution_count": 52,
   "id": "248ef4b4-95ef-4758-9afd-b904572edbf8",
   "metadata": {},
   "outputs": [
    {
     "data": {
      "text/plain": [
       "((1059, 30), (118, 30), 936)"
      ]
     },
     "execution_count": 52,
     "metadata": {},
     "output_type": "execute_result"
    }
   ],
   "source": [
    "x_tr.shape, x_val.shape, x_voc"
   ]
  },
  {
   "cell_type": "code",
   "execution_count": 53,
   "id": "3b6ef02c-0618-4e5f-9648-5cb0ca17759e",
   "metadata": {},
   "outputs": [],
   "source": [
    "# Summary Tokenizer\n",
    "\n",
    "#prepare a tokenizer for reviews on training data\n",
    "y_tokenizer = Tokenizer()   \n",
    "y_tokenizer.fit_on_texts(list(y_tr))"
   ]
  },
  {
   "cell_type": "code",
   "execution_count": 54,
   "id": "15c282e2-05de-476c-9d2d-da6a20c34c22",
   "metadata": {},
   "outputs": [
    {
     "name": "stdout",
     "output_type": "stream",
     "text": [
      "% of rare words in vocabulary: 89.7897897897898\n",
      "Total Coverage of rare words: 25.33673097925009\n"
     ]
    }
   ],
   "source": [
    "# Here we are taking the threshold of 6 for rare words. We will find proportion and total coverage of rare words in entire text\n",
    "thresh=6\n",
    "\n",
    "cnt=0\n",
    "tot_cnt=0\n",
    "freq=0\n",
    "tot_freq=0\n",
    "\n",
    "for key,value in y_tokenizer.word_counts.items():\n",
    "    tot_cnt=tot_cnt+1\n",
    "    tot_freq=tot_freq+value\n",
    "    if(value<thresh):\n",
    "        cnt=cnt+1\n",
    "        freq=freq+value\n",
    "    \n",
    "print(\"% of rare words in vocabulary:\",(cnt/tot_cnt)*100)\n",
    "print(\"Total Coverage of rare words:\",(freq/tot_freq)*100)"
   ]
  },
  {
   "cell_type": "code",
   "execution_count": 55,
   "id": "3d9464e0-b821-4a6e-b92e-b81cb7afdaeb",
   "metadata": {},
   "outputs": [],
   "source": [
    "#prepare a tokenizer for reviews on training data\n",
    "y_tokenizer = Tokenizer(num_words=tot_cnt-cnt) \n",
    "y_tokenizer.fit_on_texts(list(y_tr))\n",
    "\n",
    "#convert text sequences into integer sequences\n",
    "y_tr_seq    =   y_tokenizer.texts_to_sequences(y_tr) \n",
    "y_val_seq   =   y_tokenizer.texts_to_sequences(y_val) \n",
    "\n",
    "#padding zero upto maximum length\n",
    "y_tr    =   pad_sequences(y_tr_seq, maxlen=max_summary_len, padding='post')\n",
    "y_val   =   pad_sequences(y_val_seq, maxlen=max_summary_len, padding='post')\n",
    "\n",
    "#size of vocabulary\n",
    "y_voc  =   y_tokenizer.num_words +1"
   ]
  },
  {
   "cell_type": "code",
   "execution_count": 56,
   "id": "ffb692f0-decc-40bd-87bb-2ec6c2afedf0",
   "metadata": {},
   "outputs": [
    {
     "data": {
      "text/plain": [
       "((1059, 8), (118, 8), 103)"
      ]
     },
     "execution_count": 56,
     "metadata": {},
     "output_type": "execute_result"
    }
   ],
   "source": [
    "y_tr.shape, y_val.shape, y_voc"
   ]
  },
  {
   "cell_type": "code",
   "execution_count": 57,
   "id": "f9d4caa0-9a30-4ed5-ba9b-4bffe86b5a64",
   "metadata": {},
   "outputs": [],
   "source": [
    "# Here, I am deleting the rows that contain only START and END tokens because it will not be useful for training.\n",
    "ind=[]\n",
    "for i in range(len(y_tr)):\n",
    "    cnt=0\n",
    "    for j in y_tr[i]:\n",
    "        if j!=0:\n",
    "            cnt=cnt+1\n",
    "    if(cnt==2):\n",
    "        ind.append(i)\n",
    "\n",
    "# ind list will hold the values of the indices where the len of non zeros is equal to 2\n",
    "y_tr=np.delete(y_tr,ind, axis=0)\n",
    "x_tr=np.delete(x_tr,ind, axis=0)"
   ]
  },
  {
   "cell_type": "code",
   "execution_count": 58,
   "id": "70c3343f-bd84-4214-861e-5e33f00182c5",
   "metadata": {},
   "outputs": [],
   "source": [
    "ind=[]\n",
    "for i in range(len(y_val)):\n",
    "    cnt=0\n",
    "    for j in y_val[i]:\n",
    "        if j!=0:\n",
    "            cnt=cnt+1\n",
    "    if(cnt==2):\n",
    "        ind.append(i)\n",
    "\n",
    "y_val=np.delete(y_val,ind, axis=0)\n",
    "x_val=np.delete(x_val,ind, axis=0)"
   ]
  },
  {
   "cell_type": "code",
   "execution_count": 59,
   "id": "7f63ba63-d6ec-4064-8d7f-3166750a327f",
   "metadata": {},
   "outputs": [
    {
     "data": {
      "text/plain": [
       "((902, 30), (902, 8), (97, 30), (97, 8))"
      ]
     },
     "execution_count": 59,
     "metadata": {},
     "output_type": "execute_result"
    }
   ],
   "source": [
    "x_tr.shape, y_tr.shape, x_val.shape, y_val.shape"
   ]
  },
  {
   "cell_type": "code",
   "execution_count": 63,
   "id": "d1afba0d-468c-459d-9423-191e57bfbfa9",
   "metadata": {},
   "outputs": [
    {
     "data": {
      "text/plain": [
       "array([ 1, 15, 46, 47,  2,  0,  0,  0])"
      ]
     },
     "execution_count": 63,
     "metadata": {},
     "output_type": "execute_result"
    }
   ],
   "source": [
    "y_tr[0]"
   ]
  },
  {
   "cell_type": "code",
   "execution_count": 64,
   "id": "202b09ab-6f0b-4c23-b586-6183822cbdf9",
   "metadata": {},
   "outputs": [
    {
     "data": {
      "text/plain": [
       "array([170, 642, 132,  41, 477, 196,   3, 542,   7,   2,   0,   0,   0,\n",
       "         0,   0,   0,   0,   0,   0,   0,   0,   0,   0,   0,   0,   0,\n",
       "         0,   0,   0,   0])"
      ]
     },
     "execution_count": 64,
     "metadata": {},
     "output_type": "execute_result"
    }
   ],
   "source": [
    "x_tr[0]"
   ]
  },
  {
   "cell_type": "code",
   "execution_count": 65,
   "id": "1e926a53-f169-479e-845b-2f7c1710529b",
   "metadata": {},
   "outputs": [],
   "source": [
    "# Model building\n",
    "# Custom Attention Layer\n",
    "# We have to build custom attention layer because keras does not officially support attention layer. We will use third-party implementation of custom attention layer taken from here"
   ]
  },
  {
   "cell_type": "code",
   "execution_count": 66,
   "id": "d4f2aa2a-bc42-471a-a556-a66aaaa19553",
   "metadata": {},
   "outputs": [],
   "source": [
    "# Open a file and use dump()\n",
    "import pickle\n",
    "with open('y_tr_custom_attention.pkl', 'wb') as file:\n",
    "    # A new file will be created\n",
    "    pickle.dump(y_tr, file)\n",
    "with open('x_tr_custom_attention.pkl', 'wb') as file:\n",
    "    # A new file will be created\n",
    "    pickle.dump(x_tr, file)\n",
    "with open('y_val_custom_attention.pkl', 'wb') as file:\n",
    "    # A new file will be created\n",
    "    pickle.dump(y_val, file)\n",
    "with open('x_val_custom_attention.pkl', 'wb') as file:\n",
    "    # A new file will be created\n",
    "    pickle.dump(x_val, file)"
   ]
  },
  {
   "cell_type": "code",
   "execution_count": 67,
   "id": "1f3c447b-bc9c-466b-a2b4-6b8618904b59",
   "metadata": {},
   "outputs": [],
   "source": [
    "from attention import *"
   ]
  },
  {
   "cell_type": "markdown",
   "id": "12d62fba-6f15-4d2a-8d26-eef3943fa61a",
   "metadata": {},
   "source": [
    "We are building model with encoder-deocder architecture having global attention (bahadau attention model).\n",
    "\n",
    "Encoder contains a embedding layer, followed by 3 stacked LSTM layers one after another.\n",
    "\n",
    "Decoder also contains a embedding layer followed by LSTM layers and a Dense layer.\n",
    "\n",
    "Global Attention layer is there which takes in encoder outputs and decoder outputs.\n",
    "\n",
    "Model is reasonably small to reduce traning time and it can easily summarize reviews which of max_length 50"
   ]
  },
  {
   "cell_type": "code",
   "execution_count": 68,
   "id": "cf1c6cf3-0428-41e4-bf2a-8e35be8400de",
   "metadata": {},
   "outputs": [
    {
     "data": {
      "text/plain": [
       "(30, 936, 103)"
      ]
     },
     "execution_count": 68,
     "metadata": {},
     "output_type": "execute_result"
    }
   ],
   "source": [
    "max_text_len, x_voc, y_voc"
   ]
  },
  {
   "cell_type": "code",
   "execution_count": 70,
   "id": "41287ab6-df7e-43e2-981d-13bfb7cf0862",
   "metadata": {
    "scrolled": true
   },
   "outputs": [
    {
     "name": "stdout",
     "output_type": "stream",
     "text": [
      "Model: \"model\"\n",
      "__________________________________________________________________________________________________\n",
      " Layer (type)                Output Shape                 Param #   Connected to                  \n",
      "==================================================================================================\n",
      " input_1 (InputLayer)        [(None, 30)]                 0         []                            \n",
      "                                                                                                  \n",
      " embedding (Embedding)       (None, 30, 100)              93600     ['input_1[0][0]']             \n",
      "                                                                                                  \n",
      " lstm (LSTM)                 [(None, 30, 300),            481200    ['embedding[0][0]']           \n",
      "                              (None, 300),                                                        \n",
      "                              (None, 300)]                                                        \n",
      "                                                                                                  \n",
      " input_2 (InputLayer)        [(None, None)]               0         []                            \n",
      "                                                                                                  \n",
      " lstm_1 (LSTM)               [(None, 30, 300),            721200    ['lstm[0][0]']                \n",
      "                              (None, 300),                                                        \n",
      "                              (None, 300)]                                                        \n",
      "                                                                                                  \n",
      " embedding_1 (Embedding)     (None, None, 100)            10300     ['input_2[0][0]']             \n",
      "                                                                                                  \n",
      " lstm_2 (LSTM)               [(None, 30, 300),            721200    ['lstm_1[0][0]']              \n",
      "                              (None, 300),                                                        \n",
      "                              (None, 300)]                                                        \n",
      "                                                                                                  \n",
      " lstm_3 (LSTM)               [(None, None, 300),          481200    ['embedding_1[0][0]',         \n",
      "                              (None, 300),                           'lstm_2[0][1]',              \n",
      "                              (None, 300)]                           'lstm_2[0][2]']              \n",
      "                                                                                                  \n",
      " attention_layer (Attention  ((None, None, 300),          180300    ['lstm_2[0][0]',              \n",
      " Layer)                       (None, None, 30))                      'lstm_3[0][0]']              \n",
      "                                                                                                  \n",
      " concat_layer (Concatenate)  (None, None, 600)            0         ['lstm_3[0][0]',              \n",
      "                                                                     'attention_layer[0][0]']     \n",
      "                                                                                                  \n",
      " time_distributed (TimeDist  (None, None, 103)            61903     ['concat_layer[0][0]']        \n",
      " ributed)                                                                                         \n",
      "                                                                                                  \n",
      "==================================================================================================\n",
      "Total params: 2750903 (10.49 MB)\n",
      "Trainable params: 2750903 (10.49 MB)\n",
      "Non-trainable params: 0 (0.00 Byte)\n",
      "__________________________________________________________________________________________________\n"
     ]
    }
   ],
   "source": [
    "from keras import backend as K \n",
    "K.clear_session()\n",
    "\n",
    "latent_dim = 300\n",
    "embedding_dim=100\n",
    "\n",
    "# Encoder\n",
    "encoder_inputs = Input(shape=(max_text_len,))\n",
    "\n",
    "#embedding layer\n",
    "enc_emb =  Embedding(x_voc, embedding_dim,trainable=True)(encoder_inputs)\n",
    "\n",
    "#encoder lstm 1\n",
    "encoder_lstm1 = LSTM(latent_dim,return_sequences=True,return_state=True,dropout=0.4,recurrent_dropout=0.4)\n",
    "encoder_output1, state_h1, state_c1 = encoder_lstm1(enc_emb)\n",
    "\n",
    "#encoder lstm 2\n",
    "encoder_lstm2 = LSTM(latent_dim,return_sequences=True,return_state=True,dropout=0.4,recurrent_dropout=0.4)\n",
    "encoder_output2, state_h2, state_c2 = encoder_lstm2(encoder_output1)\n",
    "\n",
    "#encoder lstm 3\n",
    "encoder_lstm3=LSTM(latent_dim, return_state=True, return_sequences=True,dropout=0.4,recurrent_dropout=0.4)\n",
    "encoder_outputs, state_h, state_c= encoder_lstm3(encoder_output2)\n",
    "\n",
    "# Set up the decoder, using `encoder_states` as initial state.\n",
    "decoder_inputs = Input(shape=(None,))\n",
    "\n",
    "#embedding layer\n",
    "dec_emb_layer = Embedding(y_voc, embedding_dim,trainable=True)\n",
    "dec_emb = dec_emb_layer(decoder_inputs)\n",
    "\n",
    "decoder_lstm = LSTM(latent_dim, return_sequences=True, return_state=True,dropout=0.4,recurrent_dropout=0.2)\n",
    "decoder_outputs,decoder_fwd_state, decoder_back_state = decoder_lstm(dec_emb,initial_state=[state_h, state_c])\n",
    "\n",
    "# Attention layer\n",
    "attn_layer = AttentionLayer(name='attention_layer')\n",
    "attn_out, attn_states = attn_layer([encoder_outputs, decoder_outputs])\n",
    "\n",
    "# Concat attention input and decoder LSTM output\n",
    "decoder_concat_input = Concatenate(axis=-1, name='concat_layer')([decoder_outputs, attn_out])\n",
    "\n",
    "#dense layer\n",
    "decoder_dense =  TimeDistributed(Dense(y_voc, activation='softmax'))\n",
    "decoder_outputs = decoder_dense(decoder_concat_input)\n",
    "\n",
    "# Define the model \n",
    "model = Model([encoder_inputs, decoder_inputs], decoder_outputs)\n",
    "\n",
    "model.summary() "
   ]
  },
  {
   "cell_type": "code",
   "execution_count": 71,
   "id": "f33d5c6d-d8de-4c70-9c7d-266ffff09f95",
   "metadata": {},
   "outputs": [],
   "source": [
    "# We are using sparse categorical cross-entropy as the loss function since it converts the integer sequence to a one-hot vector.\n",
    "model.compile(optimizer='adam', loss='sparse_categorical_crossentropy')"
   ]
  },
  {
   "cell_type": "code",
   "execution_count": 74,
   "id": "040daf1c-f5a6-4f5e-8dda-1b5c26c8c6c6",
   "metadata": {},
   "outputs": [],
   "source": [
    "# Training the Model\n",
    "\n",
    "# We are using early stopping to monitor the validation loss metric. Our model will stop traning if the validation loss starts increasing.\n",
    "\n",
    "# We’ll train the model on a batch size of 128 and validate it on the holdout set (which is 10% of our dataset):"
   ]
  },
  {
   "cell_type": "code",
   "execution_count": 72,
   "id": "93757ee2-ee59-4dba-b723-23706e5a07c1",
   "metadata": {},
   "outputs": [],
   "source": [
    "es = EarlyStopping(monitor='val_loss', mode='min', verbose=1,patience=2)"
   ]
  },
  {
   "cell_type": "code",
   "execution_count": 73,
   "id": "51e61656-e154-4ede-b913-ff9d16371b05",
   "metadata": {},
   "outputs": [
    {
     "data": {
      "text/plain": [
       "(902, 8, 1)"
      ]
     },
     "execution_count": 73,
     "metadata": {},
     "output_type": "execute_result"
    }
   ],
   "source": [
    "y_tr.reshape(y_tr.shape[0], y_tr.shape[1],1).shape"
   ]
  },
  {
   "cell_type": "code",
   "execution_count": 75,
   "id": "57b8fed1-1b88-49e9-8fc5-e1f740645d58",
   "metadata": {},
   "outputs": [
    {
     "data": {
      "text/plain": [
       "array([170, 642, 132,  41, 477, 196,   3, 542,   7,   2,   0,   0,   0,\n",
       "         0,   0,   0,   0,   0,   0,   0,   0,   0,   0,   0,   0,   0,\n",
       "         0,   0,   0,   0])"
      ]
     },
     "execution_count": 75,
     "metadata": {},
     "output_type": "execute_result"
    }
   ],
   "source": [
    "x_tr[0]"
   ]
  },
  {
   "cell_type": "code",
   "execution_count": 80,
   "id": "081547d9-90be-4bd9-ab5a-a33bf6b69a69",
   "metadata": {},
   "outputs": [
    {
     "data": {
      "text/plain": [
       "array([ 1, 15, 46, 47,  2,  0,  0,  0])"
      ]
     },
     "execution_count": 80,
     "metadata": {},
     "output_type": "execute_result"
    }
   ],
   "source": [
    "y_tr[0]"
   ]
  },
  {
   "cell_type": "code",
   "execution_count": 81,
   "id": "687703bc-e101-425d-8a39-4985d0009c93",
   "metadata": {},
   "outputs": [
    {
     "data": {
      "text/plain": [
       "array([ 1, 15, 46, 47,  2,  0,  0])"
      ]
     },
     "execution_count": 81,
     "metadata": {},
     "output_type": "execute_result"
    }
   ],
   "source": [
    "y_tr[:,:-1][0]"
   ]
  },
  {
   "cell_type": "code",
   "execution_count": 86,
   "id": "dea900b2-ff95-42fa-bbef-57f7de1e20a5",
   "metadata": {
    "scrolled": true
   },
   "outputs": [
    {
     "data": {
      "text/plain": [
       "array([[ 1],\n",
       "       [15],\n",
       "       [46],\n",
       "       [47],\n",
       "       [ 2],\n",
       "       [ 0],\n",
       "       [ 0],\n",
       "       [ 0]])"
      ]
     },
     "execution_count": 86,
     "metadata": {},
     "output_type": "execute_result"
    }
   ],
   "source": [
    "y_tr.reshape(y_tr.shape[0],y_tr.shape[1], 1)[0]"
   ]
  },
  {
   "cell_type": "code",
   "execution_count": 76,
   "id": "2ab1f238-a5f1-4b82-9705-80340f6f299e",
   "metadata": {
    "scrolled": true
   },
   "outputs": [
    {
     "name": "stdout",
     "output_type": "stream",
     "text": [
      "Epoch 1/20\n",
      "8/8 [==============================] - 25s 2s/step - loss: 3.7618 - val_loss: 2.2800\n",
      "Epoch 2/20\n",
      "8/8 [==============================] - 12s 1s/step - loss: 2.0624 - val_loss: 1.9317\n",
      "Epoch 3/20\n",
      "8/8 [==============================] - 17s 2s/step - loss: 1.8721 - val_loss: 1.7985\n",
      "Epoch 4/20\n",
      "8/8 [==============================] - 16s 2s/step - loss: 1.7988 - val_loss: 1.7591\n",
      "Epoch 5/20\n",
      "8/8 [==============================] - 12s 2s/step - loss: 1.7587 - val_loss: 1.7230\n",
      "Epoch 6/20\n",
      "8/8 [==============================] - 13s 2s/step - loss: 1.7184 - val_loss: 1.6914\n",
      "Epoch 7/20\n",
      "8/8 [==============================] - 14s 2s/step - loss: 1.6850 - val_loss: 1.6541\n",
      "Epoch 8/20\n",
      "8/8 [==============================] - 14s 2s/step - loss: 1.6204 - val_loss: 1.5964\n",
      "Epoch 9/20\n",
      "8/8 [==============================] - 14s 2s/step - loss: 1.5637 - val_loss: 1.5571\n",
      "Epoch 10/20\n",
      "8/8 [==============================] - 14s 2s/step - loss: 1.5337 - val_loss: 1.5343\n",
      "Epoch 11/20\n",
      "8/8 [==============================] - 15s 2s/step - loss: 1.4989 - val_loss: 1.5172\n",
      "Epoch 12/20\n",
      "8/8 [==============================] - 14s 2s/step - loss: 1.4755 - val_loss: 1.5059\n",
      "Epoch 13/20\n",
      "8/8 [==============================] - 15s 2s/step - loss: 1.4587 - val_loss: 1.5104\n",
      "Epoch 14/20\n",
      "8/8 [==============================] - 15s 2s/step - loss: 1.4418 - val_loss: 1.5262\n",
      "Epoch 14: early stopping\n"
     ]
    }
   ],
   "source": [
    "history=model.fit([x_tr,y_tr[:,:-1]], y_tr.reshape(y_tr.shape[0],y_tr.shape[1], 1)[:,1:] ,epochs=20,callbacks=[es],batch_size=128, validation_data=([x_val,y_val[:,:-1]], y_val.reshape(y_val.shape[0],y_val.shape[1], 1)[:,1:]))"
   ]
  },
  {
   "cell_type": "code",
   "execution_count": 77,
   "id": "c513d0b1-1f72-4da9-b518-37db5bc3f1d8",
   "metadata": {},
   "outputs": [
    {
     "data": {
      "image/png": "[encoded data removed]",
      "text/plain": [
       "<Figure size 640x480 with 1 Axes>"
      ]
     },
     "metadata": {},
     "output_type": "display_data"
    }
   ],
   "source": [
    "# Plot of Training and Validation loss\n",
    "from matplotlib import pyplot\n",
    "pyplot.plot(history.history['loss'], label='train')\n",
    "pyplot.plot(history.history['val_loss'], label='test')\n",
    "pyplot.legend()\n",
    "pyplot.show()"
   ]
  },
  {
   "cell_type": "code",
   "execution_count": 41,
   "id": "88cae38a-4870-4989-b8c8-d8bc2db51398",
   "metadata": {},
   "outputs": [],
   "source": [
    "# From the plot, we can infer that validation loss has increased after epoch 14 for 2 successive epochs. Hence, training is stopped at epoch 19."
   ]
  },
  {
   "cell_type": "code",
   "execution_count": 42,
   "id": "bf6da221-a606-4351-9963-9881cab46242",
   "metadata": {},
   "outputs": [],
   "source": [
    "reverse_target_word_index=y_tokenizer.index_word\n",
    "reverse_source_word_index=x_tokenizer.index_word\n",
    "target_word_index=y_tokenizer.word_index "
   ]
  },
  {
   "cell_type": "code",
   "execution_count": 43,
   "id": "5f3d39ae-8c65-4396-b78f-68d02a42e03e",
   "metadata": {},
   "outputs": [],
   "source": [
    "with open('reverse_target_word_index.pkl', 'wb') as file:\n",
    "    # A new file will be created\n",
    "    pickle.dump(reverse_target_word_index, file)\n",
    "with open('reverse_source_word_index.pkl', 'wb') as file:\n",
    "    # A new file will be created\n",
    "    pickle.dump(reverse_source_word_index, file)\n",
    "with open('target_word_index.pkl', 'wb') as file:\n",
    "    # A new file will be created\n",
    "    pickle.dump(target_word_index, file)"
   ]
  },
  {
   "cell_type": "code",
   "execution_count": 56,
   "id": "16536596-8ad9-4ac6-b23d-f134456e56c8",
   "metadata": {},
   "outputs": [],
   "source": [
    "# Inference\n",
    "# Set up the inference for the encoder and decoder:\n",
    "\n",
    "# Encode the input sequence to get the feature vector\n",
    "encoder_model = Model(inputs=encoder_inputs,outputs=[encoder_outputs, state_h, state_c])\n",
    "\n",
    "# Decoder setup\n",
    "# Below tensors will hold the states of the previous time step\n",
    "decoder_state_input_h = Input(shape=(latent_dim,))\n",
    "decoder_state_input_c = Input(shape=(latent_dim,))\n",
    "decoder_hidden_state_input = Input(shape=(max_text_len,latent_dim))\n",
    "\n",
    "# Get the embeddings of the decoder sequence\n",
    "dec_emb2= dec_emb_layer(decoder_inputs) \n",
    "# To predict the next word in the sequence, set the initial states to the states from the previous time step\n",
    "decoder_outputs2, state_h2, state_c2 = decoder_lstm(dec_emb2, initial_state=[decoder_state_input_h, decoder_state_input_c])\n",
    "\n",
    "#attention inference\n",
    "attn_out_inf, attn_states_inf = attn_layer([decoder_hidden_state_input, decoder_outputs2])\n",
    "decoder_inf_concat = Concatenate(axis=-1, name='concat')([decoder_outputs2, attn_out_inf])\n",
    "\n",
    "# A dense softmax layer to generate prob dist. over the target vocabulary\n",
    "decoder_outputs2 = decoder_dense(decoder_inf_concat) \n",
    "\n",
    "# Final decoder model\n",
    "decoder_model = Model(\n",
    "    [decoder_inputs] + [decoder_hidden_state_input,decoder_state_input_h, decoder_state_input_c],\n",
    "    [decoder_outputs2] + [state_h2, state_c2])"
   ]
  },
  {
   "cell_type": "code",
   "execution_count": 45,
   "id": "865de9a7-cb84-4bcf-80e5-9c1150c7b854",
   "metadata": {},
   "outputs": [],
   "source": [
    "with open('encoder_model_custom_attention.pkl', 'wb') as file:\n",
    "    # A new file will be created\n",
    "    pickle.dump(encoder_model, file)"
   ]
  },
  {
   "cell_type": "code",
   "execution_count": 53,
   "id": "84308bfc-02d9-46b7-863d-bf93a0a8a0f2",
   "metadata": {},
   "outputs": [
    {
     "name": "stdout",
     "output_type": "stream",
     "text": [
      "WARNING:tensorflow:Compiled the loaded model, but the compiled metrics have yet to be built. `model.compile_metrics` will be empty until you train or evaluate the model.\n"
     ]
    }
   ],
   "source": [
    "decoder_model.save('decoder_model_custom_attention.h5')"
   ]
  },
  {
   "cell_type": "code",
   "execution_count": 46,
   "id": "dca4ef86-4bd1-424a-9b35-e1bb1d2ff151",
   "metadata": {},
   "outputs": [],
   "source": [
    "def decode_sequence(input_seq):\n",
    "    # Encode the input as state vectors.\n",
    "    e_out, e_h, e_c = encoder_model.predict(input_seq)\n",
    "    \n",
    "    # Generate empty target sequence of length 1.\n",
    "    target_seq = np.zeros((1,1))\n",
    "    \n",
    "    # Populate the first word of target sequence with the start word.\n",
    "    target_seq[0, 0] = target_word_index['sostok']\n",
    "\n",
    "    stop_condition = False\n",
    "    decoded_sentence = ''\n",
    "    while not stop_condition:\n",
    "      \n",
    "        output_tokens, h, c = decoder_model.predict([target_seq] + [e_out, e_h, e_c])\n",
    "\n",
    "        # Sample a token\n",
    "        sampled_token_index = np.argmax(output_tokens[0, -1, :])\n",
    "        sampled_token = reverse_target_word_index[sampled_token_index]\n",
    "        \n",
    "        if(sampled_token!='eostok'):\n",
    "            decoded_sentence += ' '+sampled_token\n",
    "\n",
    "        # Exit condition: either hit max length or find stop word.\n",
    "        if (sampled_token == 'eostok'  or len(decoded_sentence.split()) >= (max_summary_len-1)):\n",
    "            stop_condition = True\n",
    "\n",
    "        # Update the target sequence (of length 1).\n",
    "        target_seq = np.zeros((1,1))\n",
    "        target_seq[0, 0] = sampled_token_index\n",
    "\n",
    "        # Update internal states\n",
    "        e_h, e_c = h, c\n",
    "\n",
    "    return decoded_sentence"
   ]
  },
  {
   "cell_type": "code",
   "execution_count": 47,
   "id": "0773383f-ecd3-45b7-bd03-b6ff82452160",
   "metadata": {},
   "outputs": [],
   "source": [
    "# Let us define the functions to convert an integer sequence to a word sequence for summary as well as the reviews:"
   ]
  },
  {
   "cell_type": "code",
   "execution_count": 48,
   "id": "67fda2f3-259e-40b6-9292-c4976acaac7a",
   "metadata": {},
   "outputs": [],
   "source": [
    "def seq2summary(input_seq):\n",
    "    newString=''\n",
    "    for i in input_seq:\n",
    "        if((i!=0 and i!=target_word_index['sostok']) and i!=target_word_index['eostok']):\n",
    "            newString=newString+reverse_target_word_index[i]+' '\n",
    "    return newString\n",
    "\n",
    "def seq2text(input_seq):\n",
    "    newString=''\n",
    "    for i in input_seq:\n",
    "        if(i!=0):\n",
    "            newString=newString+reverse_source_word_index[i]+' '\n",
    "    return newString"
   ]
  },
  {
   "cell_type": "code",
   "execution_count": 49,
   "id": "6d147b3f-e7e3-4c40-a51b-20f0cc71fe2a",
   "metadata": {},
   "outputs": [],
   "source": [
    "# Summaries generated by the model:"
   ]
  },
  {
   "cell_type": "code",
   "execution_count": 79,
   "id": "47c095ea-b8f8-4a52-8ea4-2ce0dc1c72ce",
   "metadata": {},
   "outputs": [
    {
     "data": {
      "text/plain": [
       "array([ 24,  94, 205, 280, 352,  12, 310, 426, 109,  83,  45,  18, 125,\n",
       "       515,   0,   0,   0,   0,   0,   0,   0,   0,   0,   0,   0,   0,\n",
       "         0,   0,   0,   0])"
      ]
     },
     "execution_count": 79,
     "metadata": {},
     "output_type": "execute_result"
    }
   ],
   "source": [
    "x_tr[i]"
   ]
  },
  {
   "cell_type": "code",
   "execution_count": 50,
   "id": "69bfe838-5ecf-49ef-bd9a-a0692af4958e",
   "metadata": {},
   "outputs": [
    {
     "name": "stdout",
     "output_type": "stream",
     "text": [
      "Review: son allergies item loves convenience feel good giving taste great \n",
      "Original summary: my loves them \n",
      "1/1 [==============================] - 1s 1s/step\n",
      "1/1 [==============================] - 1s 915ms/step\n",
      "1/1 [==============================] - 0s 47ms/step\n",
      "Predicted summary:  great\n",
      "\n",
      "\n",
      "Review: use like asian dishes least week love product fast shipping usual would buy \n",
      "Original summary: sauce \n",
      "1/1 [==============================] - 0s 122ms/step\n",
      "1/1 [==============================] - 0s 47ms/step\n",
      "1/1 [==============================] - 0s 47ms/step\n",
      "Predicted summary:  great\n",
      "\n",
      "\n",
      "Review: reason amazon would ship sent got enjoy good chips amazon shipping thing would order online \n",
      "Original summary: great chips \n",
      "1/1 [==============================] - 0s 119ms/step\n",
      "1/1 [==============================] - 0s 61ms/step\n",
      "1/1 [==============================] - 0s 47ms/step\n",
      "Predicted summary:  great\n",
      "\n",
      "\n",
      "Review: love chips delicious hard eat one bag flavors taste favorite flavor cheese ones go try delicious \n",
      "Original summary: pop delicious \n",
      "1/1 [==============================] - 0s 122ms/step\n",
      "1/1 [==============================] - 0s 47ms/step\n",
      "1/1 [==============================] - 0s 61ms/step\n",
      "Predicted summary:  great\n",
      "\n",
      "\n",
      "Review: expensive worth yet find marinade one add garlic vegetables choice mix sauce whatever meat choose two days believe get worth every \n",
      "Original summary: but it \n",
      "1/1 [==============================] - 0s 112ms/step\n",
      "1/1 [==============================] - 0s 48ms/step\n",
      "1/1 [==============================] - 0s 47ms/step\n",
      "Predicted summary:  great\n",
      "\n",
      "\n",
      "Review: read reviews thought get dog even mix home cooked food like dollar store dog food better amazon let even dog food sold name \n",
      "Original summary: no good \n",
      "1/1 [==============================] - 0s 115ms/step\n",
      "1/1 [==============================] - 0s 47ms/step\n",
      "1/1 [==============================] - 0s 47ms/step\n",
      "Predicted summary:  great\n",
      "\n",
      "\n",
      "Review: even though item says pack received one called see said amazon put still wanted item says instead getting amazon \n",
      "Original summary: not \n",
      "1/1 [==============================] - 0s 112ms/step\n",
      "1/1 [==============================] - 0s 54ms/step\n",
      "1/1 [==============================] - 0s 47ms/step\n",
      "Predicted summary:  great\n",
      "\n",
      "\n",
      "Review: loves treats friend know else say fill \n",
      "Original summary: treats \n",
      "1/1 [==============================] - 0s 196ms/step\n",
      "1/1 [==============================] - 0s 47ms/step\n",
      "1/1 [==============================] - 0s 59ms/step\n",
      "Predicted summary:  great\n",
      "\n",
      "\n",
      "Review: awesome great crunchy texture flavor filling bought variety pack try flavors care salt pepper loved rest definitely buy \n",
      "Original summary: yummy \n",
      "1/1 [==============================] - 0s 179ms/step\n",
      "1/1 [==============================] - 0s 63ms/step\n",
      "1/1 [==============================] - 0s 62ms/step\n",
      "Predicted summary:  great\n",
      "\n",
      "\n",
      "Review: year old loves food good needs pounds trick glad found amazon hard find elsewhere \n",
      "Original summary: happy dog \n",
      "1/1 [==============================] - 0s 106ms/step\n",
      "1/1 [==============================] - 0s 62ms/step\n",
      "1/1 [==============================] - 0s 62ms/step\n",
      "1/1 [==============================] - 0s 47ms/step\n",
      "Predicted summary:  great dog\n",
      "\n",
      "\n",
      "Review: definitely would think would better offered bigger pack kids love great little day gifts great stocking \n",
      "Original summary: great flavor \n",
      "1/1 [==============================] - 0s 184ms/step\n",
      "1/1 [==============================] - 0s 62ms/step\n",
      "1/1 [==============================] - 0s 47ms/step\n",
      "Predicted summary:  great\n",
      "\n",
      "\n",
      "Review: like chips salsa better market even great order long available thank making \n",
      "Original summary: best chips ever \n",
      "1/1 [==============================] - 0s 119ms/step\n",
      "1/1 [==============================] - 0s 49ms/step\n",
      "1/1 [==============================] - 0s 47ms/step\n",
      "Predicted summary:  great\n",
      "\n",
      "\n",
      "Review: great tasting one best ever problem high shipping \n",
      "Original summary: great taste \n",
      "1/1 [==============================] - 0s 116ms/step\n",
      "1/1 [==============================] - 0s 55ms/step\n",
      "1/1 [==============================] - 0s 54ms/step\n",
      "Predicted summary:  great\n",
      "\n",
      "\n",
      "Review: one best teas ever tasted clean fresh great delivery quality try \n",
      "Original summary: the best tea ever \n",
      "1/1 [==============================] - 0s 119ms/step\n",
      "1/1 [==============================] - 0s 53ms/step\n",
      "1/1 [==============================] - 0s 48ms/step\n",
      "Predicted summary:  great\n",
      "\n",
      "\n",
      "Review: best chips nothing beat taste like honey mustard definitely like eat wont stop addicting stuff \n",
      "Original summary: awesome chips \n",
      "1/1 [==============================] - 0s 106ms/step\n",
      "1/1 [==============================] - 0s 45ms/step\n",
      "1/1 [==============================] - 0s 47ms/step\n",
      "Predicted summary:  great\n",
      "\n",
      "\n",
      "Review: purchased pack big soda got immediately like oh quantity though sure red everyone town absolutely loves highly recommend along soda \n",
      "Original summary: taste \n",
      "1/1 [==============================] - 0s 105ms/step\n",
      "1/1 [==============================] - 0s 63ms/step\n",
      "1/1 [==============================] - 0s 63ms/step\n",
      "Predicted summary:  great\n",
      "\n",
      "\n",
      "Review: daughter loves twizzlers shipment six pounds really hit spot exactly would expect six packages strawberry twizzlers \n",
      "Original summary: of just what you \n",
      "1/1 [==============================] - 0s 103ms/step\n",
      "1/1 [==============================] - 0s 52ms/step\n",
      "1/1 [==============================] - 0s 52ms/step\n",
      "Predicted summary:  great\n",
      "\n",
      "\n",
      "Review: bought pack caviar use night decided go use one dip bad could believe flavor terrible aftertaste even taste like caviar threw jar away \n",
      "Original summary: ever \n",
      "1/1 [==============================] - 0s 180ms/step\n",
      "1/1 [==============================] - 0s 56ms/step\n",
      "1/1 [==============================] - 0s 50ms/step\n",
      "Predicted summary:  great\n",
      "\n",
      "\n",
      "Review: popchips great fresh arrived price wish bags chips bucks \n",
      "Original summary: pop chips \n",
      "1/1 [==============================] - 0s 106ms/step\n",
      "1/1 [==============================] - 0s 43ms/step\n",
      "1/1 [==============================] - 0s 16ms/step\n",
      "Predicted summary:  great\n",
      "\n",
      "\n",
      "Review: loved kettle brand sea salt vinegar chips since first time tried fact able find line great price wonderful would definitely make purchase quick simple snack lunch goes great cold sandwich \n",
      "Original summary: delicious \n",
      "1/1 [==============================] - 0s 101ms/step\n",
      "1/1 [==============================] - 0s 47ms/step\n",
      "1/1 [==============================] - 0s 57ms/step\n",
      "Predicted summary:  great\n",
      "\n",
      "\n",
      "Review: great way help tasty crunchy great salad even \n",
      "Original summary: popchips \n",
      "1/1 [==============================] - 0s 101ms/step\n",
      "1/1 [==============================] - 0s 26ms/step\n",
      "1/1 [==============================] - 0s 66ms/step\n",
      "Predicted summary:  great\n",
      "\n",
      "\n",
      "Review: nice alternative apple love fact easy prepare also loved fact make fresh whenever needed \n",
      "Original summary: loved these \n",
      "1/1 [==============================] - 0s 119ms/step\n",
      "1/1 [==============================] - 0s 48ms/step\n",
      "1/1 [==============================] - 0s 50ms/step\n",
      "Predicted summary:  great\n",
      "\n",
      "\n",
      "Review: absolutely loved chips ordering amazon able find target really good flavor would eat even trying loose weight recommended weight watchers \n",
      "Original summary: loved the chips \n",
      "1/1 [==============================] - 0s 93ms/step\n",
      "1/1 [==============================] - 0s 64ms/step\n",
      "1/1 [==============================] - 0s 50ms/step\n",
      "Predicted summary:  great\n",
      "\n",
      "\n",
      "Review: expensive worth tried every iced tea pretty good best many iced teas like terrible great like coffee shop \n",
      "Original summary: best tea \n",
      "1/1 [==============================] - 0s 111ms/step\n",
      "1/1 [==============================] - 0s 55ms/step\n",
      "1/1 [==============================] - 0s 71ms/step\n",
      "Predicted summary:  great\n",
      "\n",
      "\n",
      "Review: son loves rice jars liquid consistency brown rice jars order subscribe save amazon mom always nicely packaged \n",
      "Original summary: loves it \n",
      "1/1 [==============================] - 0s 96ms/step\n",
      "1/1 [==============================] - 0s 51ms/step\n",
      "1/1 [==============================] - 0s 47ms/step\n",
      "Predicted summary:  great\n",
      "\n",
      "\n",
      "Review: disappointed product could see many calories time ordered received see calories per sugar calories per could agave nectar better sugar \n",
      "Original summary: this be good \n",
      "1/1 [==============================] - 0s 73ms/step\n",
      "1/1 [==============================] - 0s 35ms/step\n",
      "1/1 [==============================] - 0s 41ms/step\n",
      "1/1 [==============================] - 0s 33ms/step\n",
      "Predicted summary:  great dog\n",
      "\n",
      "\n",
      "Review: love chocolate locally could find dark chocolate type glad found amazon wonderful \n",
      "Original summary: much better than chocolate \n",
      "1/1 [==============================] - 0s 124ms/step\n",
      "1/1 [==============================] - 0s 59ms/step\n",
      "1/1 [==============================] - 0s 54ms/step\n",
      "1/1 [==============================] - 0s 56ms/step\n",
      "Predicted summary:  great dog\n",
      "\n",
      "\n",
      "Review: item sugar free hard candy give friends loose purchased bags discovered problem cannot return need bags free \n",
      "Original summary: it is \n",
      "1/1 [==============================] - 0s 94ms/step\n",
      "1/1 [==============================] - 0s 72ms/step\n",
      "1/1 [==============================] - 0s 56ms/step\n",
      "Predicted summary:  great\n",
      "\n",
      "\n",
      "Review: product arrived salted peanuts peanuts actually small sized sure product \n",
      "Original summary: not as \n",
      "1/1 [==============================] - 0s 86ms/step\n",
      "1/1 [==============================] - 0s 52ms/step\n",
      "1/1 [==============================] - 0s 63ms/step\n",
      "Predicted summary:  great\n",
      "\n",
      "\n",
      "Review: like vegetables great price cannot beat convenience per package \n",
      "Original summary: for my favorite \n",
      "1/1 [==============================] - 0s 97ms/step\n",
      "1/1 [==============================] - 0s 52ms/step\n",
      "1/1 [==============================] - 0s 45ms/step\n",
      "Predicted summary:  great\n",
      "\n",
      "\n",
      "Review: gravy mix excellent except use water called use milk instead makes better \n",
      "Original summary: wonderful \n",
      "1/1 [==============================] - 0s 158ms/step\n",
      "1/1 [==============================] - 0s 50ms/step\n",
      "1/1 [==============================] - 0s 49ms/step\n",
      "Predicted summary:  great\n",
      "\n",
      "\n",
      "Review: great healthy old loves taste sure \n",
      "Original summary: yummy \n",
      "1/1 [==============================] - 0s 96ms/step\n",
      "1/1 [==============================] - 0s 48ms/step\n",
      "1/1 [==============================] - 0s 55ms/step\n",
      "Predicted summary:  great\n",
      "\n",
      "\n",
      "Review: around amazon looking gifts pleased see favorite sauce order shipped friends favorite love heat tangy also love pineapple go ordering \n",
      "Original summary: best sauce \n",
      "1/1 [==============================] - 0s 94ms/step\n",
      "1/1 [==============================] - 0s 54ms/step\n",
      "1/1 [==============================] - 0s 48ms/step\n",
      "Predicted summary:  great\n",
      "\n",
      "\n",
      "Review: tea breakfast teas tea drinking love really morning right perhaps old favorites taste wonderful without tea choice morning often day \n",
      "Original summary: best tea ever \n",
      "1/1 [==============================] - 0s 92ms/step\n",
      "1/1 [==============================] - 0s 49ms/step\n",
      "1/1 [==============================] - 0s 54ms/step\n",
      "Predicted summary:  great\n",
      "\n",
      "\n",
      "Review: keep regular bags decaf bags home times never drink old coffee best way make iced coffee \n",
      "Original summary: no fresh coffee \n",
      "1/1 [==============================] - 0s 90ms/step\n",
      "1/1 [==============================] - 0s 48ms/step\n",
      "1/1 [==============================] - 0s 54ms/step\n",
      "Predicted summary:  great\n",
      "\n",
      "\n",
      "Review: flavor lasted longer would probably take mouth \n",
      "Original summary: the flavor of the \n",
      "1/1 [==============================] - 0s 90ms/step\n",
      "1/1 [==============================] - 0s 53ms/step\n",
      "1/1 [==============================] - 0s 74ms/step\n",
      "Predicted summary:  great\n",
      "\n",
      "\n",
      "Review: recently started using red baking soda pleased sure thanks \n",
      "Original summary: this is the \n",
      "1/1 [==============================] - 0s 103ms/step\n",
      "1/1 [==============================] - 0s 56ms/step\n",
      "1/1 [==============================] - 0s 47ms/step\n",
      "Predicted summary:  great\n",
      "\n",
      "\n",
      "Review: love popchips great care salt pepper flavors wish would come variety pack flavor flavor purchase make bbq original salt vinegar sour cream onion chips superb \n",
      "Original summary: great chips \n",
      "1/1 [==============================] - 0s 128ms/step\n",
      "1/1 [==============================] - 0s 51ms/step\n",
      "1/1 [==============================] - 0s 47ms/step\n",
      "Predicted summary:  great\n",
      "\n",
      "\n",
      "Review: love coffee wish came already use instead worth many flavored tried seem flavored coffee one \n",
      "Original summary: very tasty \n",
      "1/1 [==============================] - 0s 95ms/step\n",
      "1/1 [==============================] - 0s 47ms/step\n",
      "1/1 [==============================] - 0s 44ms/step\n",
      "Predicted summary:  great\n",
      "\n",
      "\n",
      "Review: allergies dog foods cheap buy anywhere food crazy health problems food works allergies dog loves food \n",
      "Original summary: great dog food dogs love it \n",
      "1/1 [==============================] - 0s 159ms/step\n",
      "1/1 [==============================] - 0s 44ms/step\n",
      "1/1 [==============================] - 0s 54ms/step\n",
      "1/1 [==============================] - 0s 50ms/step\n",
      "1/1 [==============================] - 0s 64ms/step\n",
      "Predicted summary:  my dog dog\n",
      "\n",
      "\n",
      "Review: cold brew tea keep brew lemon ginger ginger lemon tea cup made husband drink cannot get use helped great deal last \n",
      "Original summary: tea that \n",
      "1/1 [==============================] - 0s 88ms/step\n",
      "1/1 [==============================] - 0s 47ms/step\n",
      "1/1 [==============================] - 0s 58ms/step\n",
      "Predicted summary:  great\n",
      "\n",
      "\n",
      "Review: gluten free foods extremely expensive compared regular foods licorice times would like treat candy tree organic licorice tasty treat gluten people amazon seems best \n",
      "Original summary: gluten free \n",
      "1/1 [==============================] - 0s 86ms/step\n",
      "1/1 [==============================] - 0s 52ms/step\n",
      "1/1 [==============================] - 0s 49ms/step\n",
      "Predicted summary:  great\n",
      "\n",
      "\n",
      "Review: brought bottles one carry home fell love couple trick packs flavor hot food \n",
      "Original summary: love it \n",
      "1/1 [==============================] - 0s 88ms/step\n",
      "1/1 [==============================] - 0s 50ms/step\n",
      "1/1 [==============================] - 0s 45ms/step\n",
      "Predicted summary:  great\n",
      "\n",
      "\n",
      "Review: serve potato pancakes sour cream caviar tasty pretty christmas thanks \n",
      "Original summary: great deal love love love it \n",
      "1/1 [==============================] - 0s 91ms/step\n",
      "1/1 [==============================] - 0s 44ms/step\n",
      "1/1 [==============================] - 0s 51ms/step\n",
      "Predicted summary:  great\n",
      "\n",
      "\n",
      "Review: product works issues would buy need \n",
      "Original summary: tea great \n",
      "1/1 [==============================] - 0s 83ms/step\n",
      "1/1 [==============================] - 0s 49ms/step\n",
      "1/1 [==============================] - 0s 53ms/step\n",
      "Predicted summary:  great\n",
      "\n",
      "\n",
      "Review: discovered product couple years ago really liked taste coffee tea fruit oatmeal lot less expensive large oz container price good use sugar helps sweet blood sugar \n",
      "Original summary: best taste ever \n",
      "1/1 [==============================] - 0s 73ms/step\n",
      "1/1 [==============================] - 0s 66ms/step\n",
      "1/1 [==============================] - 0s 58ms/step\n",
      "Predicted summary:  great\n",
      "\n",
      "\n",
      "Review: tasty chips ones salt flavor way salty sure likes much salt chips \n",
      "Original summary: too \n",
      "1/1 [==============================] - 0s 87ms/step\n",
      "1/1 [==============================] - 0s 56ms/step\n",
      "1/1 [==============================] - 0s 48ms/step\n",
      "Predicted summary:  great\n",
      "\n",
      "\n",
      "Review: delicious cannot get ginger live ginger purchased enjoy without \n",
      "Original summary: happy \n",
      "1/1 [==============================] - 0s 88ms/step\n",
      "1/1 [==============================] - 0s 48ms/step\n",
      "1/1 [==============================] - 0s 44ms/step\n",
      "Predicted summary:  great\n",
      "\n",
      "\n",
      "Review: love earth best organic baby food one tried think pretty gross daughter still eats much flavors got decent amount protein us family \n",
      "Original summary: good for you but not best flavor \n",
      "1/1 [==============================] - 0s 82ms/step\n",
      "1/1 [==============================] - 0s 47ms/step\n",
      "1/1 [==============================] - 0s 48ms/step\n",
      "Predicted summary:  great\n",
      "\n",
      "\n",
      "Review: soft smooth texture little one one one best meat found \n",
      "Original summary: favorite \n",
      "1/1 [==============================] - 0s 87ms/step\n",
      "1/1 [==============================] - 0s 44ms/step\n",
      "1/1 [==============================] - 0s 49ms/step\n",
      "Predicted summary:  great\n",
      "\n",
      "\n",
      "Review: dog food dogs problems issues brands healthy food pleased delivery service \n",
      "Original summary: great dog food \n",
      "1/1 [==============================] - 0s 84ms/step\n",
      "1/1 [==============================] - 0s 54ms/step\n",
      "1/1 [==============================] - 0s 49ms/step\n",
      "1/1 [==============================] - 0s 47ms/step\n",
      "Predicted summary:  my dog\n",
      "\n",
      "\n",
      "Review: son food allergies really bars find good taste also nice \n",
      "Original summary: good flavor \n",
      "1/1 [==============================] - 0s 79ms/step\n",
      "1/1 [==============================] - 0s 64ms/step\n",
      "1/1 [==============================] - 0s 47ms/step\n",
      "Predicted summary:  great\n",
      "\n",
      "\n",
      "Review: loves nice high protein treat addition regular diet price reasonable compared local pet store often item \n",
      "Original summary: loves this \n",
      "1/1 [==============================] - 0s 77ms/step\n",
      "1/1 [==============================] - 0s 51ms/step\n",
      "1/1 [==============================] - 0s 50ms/step\n",
      "Predicted summary:  great\n",
      "\n",
      "\n",
      "Review: mouth says love let count ways like apple products must item back shipping cost \n",
      "Original summary: taste it is \n",
      "1/1 [==============================] - 0s 82ms/step\n",
      "1/1 [==============================] - 0s 51ms/step\n",
      "1/1 [==============================] - 0s 49ms/step\n",
      "Predicted summary:  great\n",
      "\n",
      "\n",
      "Review: chocolate nice bought great food us love much lbs eat food looking much better \n",
      "Original summary: good food \n",
      "1/1 [==============================] - 0s 85ms/step\n",
      "1/1 [==============================] - 0s 48ms/step\n",
      "1/1 [==============================] - 0s 56ms/step\n",
      "Predicted summary:  great\n",
      "\n",
      "\n",
      "Review: going give things like easily day love kind carb \n",
      "Original summary: love so my fat \n",
      "1/1 [==============================] - 0s 83ms/step\n",
      "1/1 [==============================] - 0s 52ms/step\n",
      "1/1 [==============================] - 0s 46ms/step\n",
      "Predicted summary:  great\n",
      "\n",
      "\n",
      "Review: bad tasting served sandwich nice crunchy \n",
      "Original summary: pop chips \n",
      "1/1 [==============================] - 0s 93ms/step\n",
      "1/1 [==============================] - 0s 49ms/step\n",
      "1/1 [==============================] - 0s 47ms/step\n",
      "Predicted summary:  great\n",
      "\n",
      "\n",
      "Review: good tasting light chip value nutrition everyone get good alternative eating potato chips \n",
      "Original summary: great healthy snack \n",
      "1/1 [==============================] - 0s 92ms/step\n",
      "1/1 [==============================] - 0s 73ms/step\n",
      "1/1 [==============================] - 0s 51ms/step\n",
      "Predicted summary:  great\n",
      "\n",
      "\n",
      "Review: product many times makes great dirty martini delivery product well packed \n",
      "Original summary: tasty \n",
      "1/1 [==============================] - 0s 132ms/step\n",
      "1/1 [==============================] - 0s 58ms/step\n",
      "1/1 [==============================] - 0s 48ms/step\n",
      "Predicted summary:  great\n",
      "\n",
      "\n",
      "Review: used candy birthday party kids loved full size still cute \n",
      "Original summary: great for \n",
      "1/1 [==============================] - 0s 100ms/step\n",
      "1/1 [==============================] - 0s 49ms/step\n",
      "1/1 [==============================] - 0s 47ms/step\n",
      "Predicted summary:  great\n",
      "\n",
      "\n",
      "Review: tasty convenient bars people celiac seem smaller time taste convenience size \n",
      "Original summary: but good \n",
      "1/1 [==============================] - 0s 82ms/step\n",
      "1/1 [==============================] - 0s 46ms/step\n",
      "1/1 [==============================] - 0s 47ms/step\n",
      "Predicted summary:  great\n",
      "\n",
      "\n",
      "Review: tried chips oz recommended show healthier potato chip alternative whole family loves found flavor like way better baked style chip try disappointed \n",
      "Original summary: great snack \n",
      "1/1 [==============================] - 0s 81ms/step\n",
      "1/1 [==============================] - 0s 48ms/step\n",
      "1/1 [==============================] - 0s 51ms/step\n",
      "Predicted summary:  great\n",
      "\n",
      "\n",
      "Review: bought different flavors one favorites getting soon \n",
      "Original summary: great flavor \n",
      "1/1 [==============================] - 0s 83ms/step\n",
      "1/1 [==============================] - 0s 53ms/step\n",
      "1/1 [==============================] - 0s 47ms/step\n",
      "Predicted summary:  great\n",
      "\n",
      "\n",
      "Review: old cannot get enough good \n",
      "Original summary: best ever \n",
      "1/1 [==============================] - 0s 85ms/step\n",
      "1/1 [==============================] - 0s 40ms/step\n",
      "1/1 [==============================] - 0s 56ms/step\n",
      "Predicted summary:  great\n",
      "\n",
      "\n",
      "Review: delicious sweet enough crunch love quick delivery would order satisfied \n",
      "Original summary: delicious \n",
      "1/1 [==============================] - 0s 98ms/step\n",
      "1/1 [==============================] - 0s 53ms/step\n",
      "1/1 [==============================] - 0s 50ms/step\n",
      "Predicted summary:  great\n",
      "\n",
      "\n",
      "Review: miss better unfortunately less available sure tough right two brands miss better \n",
      "Original summary: ok but are better \n",
      "1/1 [==============================] - 0s 65ms/step\n",
      "1/1 [==============================] - 0s 52ms/step\n",
      "1/1 [==============================] - 0s 62ms/step\n",
      "1/1 [==============================] - 0s 56ms/step\n",
      "Predicted summary:  great dog\n",
      "\n",
      "\n",
      "Review: really liked chips entire family wish could pick choose flavors variety pack would love try sweet potato salt pepper \n",
      "Original summary: loved all the flavor salt and \n",
      "1/1 [==============================] - 0s 80ms/step\n",
      "1/1 [==============================] - 0s 54ms/step\n",
      "1/1 [==============================] - 0s 46ms/step\n",
      "Predicted summary:  great\n",
      "\n",
      "\n",
      "Review: coffee available flavor fantastic favorite \n",
      "Original summary: for \n",
      "1/1 [==============================] - 0s 91ms/step\n",
      "1/1 [==============================] - 0s 42ms/step\n",
      "1/1 [==============================] - 0s 50ms/step\n",
      "Predicted summary:  great\n",
      "\n",
      "\n",
      "Review: glad found reduced taste bad way could cake stuck mess thought bad batch birthday cake looks like would buy mess \n",
      "Original summary: ever \n",
      "1/1 [==============================] - 0s 80ms/step\n",
      "1/1 [==============================] - 0s 49ms/step\n",
      "1/1 [==============================] - 0s 50ms/step\n",
      "Predicted summary:  great\n",
      "\n",
      "\n",
      "Review: nice flavor bitter really like coffee coffee whole family tastes one \n",
      "Original summary: excellent \n",
      "1/1 [==============================] - 0s 85ms/step\n",
      "1/1 [==============================] - 0s 49ms/step\n",
      "1/1 [==============================] - 0s 58ms/step\n",
      "Predicted summary:  great\n",
      "\n",
      "\n",
      "Review: price pretty good given local stores one bottle almost know price gone though \n",
      "Original summary: good \n",
      "1/1 [==============================] - 0s 83ms/step\n",
      "1/1 [==============================] - 0s 47ms/step\n",
      "1/1 [==============================] - 0s 57ms/step\n",
      "Predicted summary:  great\n",
      "\n",
      "\n",
      "Review: great dog food dog allergies brand one feed \n",
      "Original summary: great dog food \n",
      "1/1 [==============================] - 0s 88ms/step\n",
      "1/1 [==============================] - 0s 47ms/step\n",
      "1/1 [==============================] - 0s 31ms/step\n",
      "1/1 [==============================] - 0s 47ms/step\n",
      "Predicted summary:  great dog\n",
      "\n",
      "\n",
      "Review: chips great serving size good especially liked variety pack six flavors \n",
      "Original summary: great chips \n",
      "1/1 [==============================] - 0s 81ms/step\n",
      "1/1 [==============================] - 0s 51ms/step\n",
      "1/1 [==============================] - 0s 48ms/step\n",
      "Predicted summary:  great\n",
      "\n",
      "\n",
      "Review: popchips great alternative need snack much lower calories fat regular chips especially like barbeque flavor salt pepper flavored popchips \n",
      "Original summary: popchips \n",
      "1/1 [==============================] - 0s 78ms/step\n",
      "1/1 [==============================] - 0s 58ms/step\n",
      "1/1 [==============================] - 0s 54ms/step\n",
      "Predicted summary:  great\n",
      "\n",
      "\n",
      "Review: need cut sugar way go love stevia iced tea great cereal also great stuff \n",
      "Original summary: than sugar \n",
      "1/1 [==============================] - 0s 76ms/step\n",
      "1/1 [==============================] - 0s 49ms/step\n",
      "1/1 [==============================] - 0s 55ms/step\n",
      "Predicted summary:  great\n",
      "\n",
      "\n",
      "Review: chips salty hint sweet crisp crunchy best chips ever \n",
      "Original summary: good chips \n",
      "1/1 [==============================] - 0s 78ms/step\n",
      "1/1 [==============================] - 0s 47ms/step\n",
      "1/1 [==============================] - 0s 56ms/step\n",
      "Predicted summary:  great\n",
      "\n",
      "\n",
      "Review: best salt vinegar chips ever salt right vinegar perfectly chips good salt pepper little overwhelming \n",
      "Original summary: and \n",
      "1/1 [==============================] - 0s 83ms/step\n",
      "1/1 [==============================] - 0s 54ms/step\n",
      "1/1 [==============================] - 0s 57ms/step\n",
      "Predicted summary:  great\n",
      "\n",
      "\n",
      "Review: found chips store kind natural yet type grocery store never seen different regular chips oily taste flavorful know could get ordered case \n",
      "Original summary: yum \n",
      "1/1 [==============================] - 0s 82ms/step\n",
      "1/1 [==============================] - 0s 49ms/step\n",
      "1/1 [==============================] - 0s 51ms/step\n",
      "Predicted summary:  great\n",
      "\n",
      "\n",
      "Review: favorite gluten free free flavored chips many salt vinegar chips contain nice find ones eat vinegar flavor really intense good \n",
      "Original summary: best gluten free free chips \n",
      "1/1 [==============================] - 0s 83ms/step\n",
      "1/1 [==============================] - 0s 49ms/step\n",
      "1/1 [==============================] - 0s 44ms/step\n",
      "Predicted summary:  great\n",
      "\n",
      "\n",
      "Review: cookies fun tasty eat kids really care much might fun could eaten really fun \n",
      "Original summary: to \n",
      "1/1 [==============================] - 0s 81ms/step\n",
      "1/1 [==============================] - 0s 51ms/step\n",
      "1/1 [==============================] - 0s 41ms/step\n",
      "Predicted summary:  great\n",
      "\n",
      "\n",
      "Review: favorite hot sauce use give anything extra flavor loved going favorite town great product really enjoy putting breakfast \n",
      "Original summary: great hot sauce \n",
      "1/1 [==============================] - 0s 71ms/step\n",
      "1/1 [==============================] - 0s 54ms/step\n",
      "1/1 [==============================] - 0s 56ms/step\n",
      "Predicted summary:  great\n",
      "\n",
      "\n",
      "Review: chips tasty expected low salt item seem salty regular potato chip also seem greasy reduced fat chips less salty least much potato flavor far less greasy \n",
      "Original summary: not low salt \n",
      "1/1 [==============================] - 0s 68ms/step\n",
      "1/1 [==============================] - 0s 47ms/step\n",
      "1/1 [==============================] - 0s 50ms/step\n",
      "Predicted summary:  great\n",
      "\n",
      "\n",
      "Review: calories bag thing get regular potato chips great crunch flavor \n",
      "Original summary: great low snack \n",
      "1/1 [==============================] - 0s 90ms/step\n",
      "1/1 [==============================] - 0s 47ms/step\n",
      "1/1 [==============================] - 0s 48ms/step\n",
      "Predicted summary:  great\n",
      "\n",
      "\n",
      "Review: found much tastier plain tuna excellent quality need put minute believe little brings flavor \n",
      "Original summary: taste \n",
      "1/1 [==============================] - 0s 68ms/step\n",
      "1/1 [==============================] - 0s 46ms/step\n",
      "1/1 [==============================] - 0s 58ms/step\n",
      "Predicted summary:  great\n",
      "\n",
      "\n",
      "Review: got good stuff house eats quality chocolate \n",
      "Original summary: delicious \n",
      "1/1 [==============================] - 0s 90ms/step\n",
      "1/1 [==============================] - 0s 44ms/step\n",
      "1/1 [==============================] - 0s 48ms/step\n",
      "Predicted summary:  great\n",
      "\n",
      "\n",
      "Review: hot like low star got name oz size people might like flavor fish sauce mix looking hot \n",
      "Original summary: not hot \n",
      "1/1 [==============================] - 0s 85ms/step\n",
      "1/1 [==============================] - 0s 56ms/step\n",
      "1/1 [==============================] - 0s 50ms/step\n",
      "Predicted summary:  great\n",
      "\n",
      "\n",
      "Review: got kids christmas stocking love far delivery product came good condition timely terrific definitely good buy \n",
      "Original summary: these are great \n",
      "1/1 [==============================] - 0s 70ms/step\n",
      "1/1 [==============================] - 0s 48ms/step\n",
      "1/1 [==============================] - 0s 49ms/step\n",
      "Predicted summary:  great\n",
      "\n",
      "\n",
      "Review: received mix along waffle maker gift good keep buying brand mix run cut recipe half enough full size waffle maker easy make tasty \n",
      "Original summary: this is great stuff \n",
      "1/1 [==============================] - 0s 80ms/step\n",
      "1/1 [==============================] - 0s 40ms/step\n",
      "1/1 [==============================] - 0s 47ms/step\n",
      "Predicted summary:  great\n",
      "\n",
      "\n",
      "Review: say salsa different kinds almost every meal free bottles first bottle friends fridge tasted hooked since dont hot sauce \n",
      "Original summary: great hot sauce and it \n",
      "1/1 [==============================] - 0s 108ms/step\n",
      "1/1 [==============================] - 0s 78ms/step\n",
      "1/1 [==============================] - 0s 40ms/step\n",
      "Predicted summary:  great\n",
      "\n",
      "\n",
      "Review: cannot believe actually decent taste awesome love chips great crunch great amount flavor addicted recommend friends keep since keeps eating \n",
      "Original summary: so delicious \n",
      "1/1 [==============================] - 0s 73ms/step\n",
      "1/1 [==============================] - 0s 47ms/step\n",
      "1/1 [==============================] - 0s 71ms/step\n",
      "Predicted summary:  great\n",
      "\n",
      "\n",
      "Review: great value like package size enough order brand great chips otherwise \n",
      "Original summary: salt and vinegar chips \n",
      "1/1 [==============================] - 0s 94ms/step\n",
      "1/1 [==============================] - 0s 79ms/step\n",
      "1/1 [==============================] - 0s 63ms/step\n",
      "Predicted summary:  great\n",
      "\n",
      "\n",
      "Review: chips greasy taste bottom bag chips especially bottom bag even trans fat free need lot less greasy \n",
      "Original summary: chips \n",
      "1/1 [==============================] - 0s 109ms/step\n",
      "1/1 [==============================] - 0s 47ms/step\n",
      "1/1 [==============================] - 0s 64ms/step\n",
      "Predicted summary:  great\n",
      "\n",
      "\n",
      "Review: wanted found small plastic food feeding month old plastic food baby food please careful buy considering daughter loves food actually favorite first time plastic months \n",
      "Original summary: of in the food \n",
      "1/1 [==============================] - 0s 94ms/step\n",
      "1/1 [==============================] - 0s 47ms/step\n",
      "1/1 [==============================] - 0s 62ms/step\n",
      "Predicted summary:  great\n",
      "\n",
      "\n",
      "Review: love chips order every months taste great whole bag calories bag every day sure helped weight little bags eat huge amount \n",
      "Original summary: great \n",
      "1/1 [==============================] - 0s 100ms/step\n",
      "1/1 [==============================] - 0s 47ms/step\n",
      "1/1 [==============================] - 0s 83ms/step\n",
      "Predicted summary:  great\n",
      "\n",
      "\n",
      "Review: unable find favorite cereal grocery stores sure able online thanks \n",
      "Original summary: not in \n",
      "1/1 [==============================] - 0s 94ms/step\n",
      "1/1 [==============================] - 0s 66ms/step\n",
      "1/1 [==============================] - 0s 47ms/step\n",
      "Predicted summary:  great\n",
      "\n",
      "\n",
      "Review: sent tea delicious continue use company great \n",
      "Original summary: of the best \n",
      "1/1 [==============================] - 0s 94ms/step\n",
      "1/1 [==============================] - 0s 78ms/step\n",
      "1/1 [==============================] - 0s 62ms/step\n",
      "Predicted summary:  great\n",
      "\n",
      "\n",
      "Review: low calorie satisfying nice fill want much want hungry hours \n",
      "Original summary: yum \n",
      "1/1 [==============================] - 0s 76ms/step\n",
      "1/1 [==============================] - 0s 48ms/step\n",
      "1/1 [==============================] - 0s 65ms/step\n",
      "Predicted summary:  great\n",
      "\n",
      "\n",
      "Review: bbq chips great liked better regular chips nice crunch kettle chips hard like eating glass definitely buying popchips \n",
      "Original summary: love these chips \n",
      "1/1 [==============================] - 0s 80ms/step\n",
      "1/1 [==============================] - 0s 48ms/step\n",
      "1/1 [==============================] - 0s 48ms/step\n",
      "Predicted summary:  great\n",
      "\n",
      "\n",
      "Review: usually love kettle chips love salt vinegar chips way typical kettle chip crunch flavored taste \n",
      "Original summary: on the vinegar \n",
      "1/1 [==============================] - 0s 77ms/step\n",
      "1/1 [==============================] - 0s 52ms/step\n",
      "1/1 [==============================] - 0s 51ms/step\n",
      "Predicted summary:  great\n",
      "\n",
      "\n",
      "Review: salt vinegar chips definitely favorite type potato chip ones made kettle tasty enjoyed wish healthy option great taste \n",
      "Original summary: very good \n",
      "1/1 [==============================] - 0s 86ms/step\n",
      "1/1 [==============================] - 0s 47ms/step\n",
      "1/1 [==============================] - 0s 47ms/step\n",
      "Predicted summary:  great\n",
      "\n",
      "\n"
     ]
    }
   ],
   "source": [
    "for i in range(0,100):\n",
    "    print(\"Review:\",seq2text(x_tr[i]))\n",
    "    print(\"Original summary:\",seq2summary(y_tr[i]))\n",
    "    print(\"Predicted summary:\",decode_sequence(x_tr[i].reshape(1,max_text_len)))\n",
    "    print(\"\\n\")"
   ]
  },
  {
   "cell_type": "code",
   "execution_count": null,
   "id": "0e535e1d-e180-4ca2-920b-951ed5f37b07",
   "metadata": {},
   "outputs": [],
   "source": []
  }
 ],
 "metadata": {
  "kernelspec": {
   "display_name": "Python 3 (ipykernel)",
   "language": "python",
   "name": "python3"
  },
  "language_info": {
   "codemirror_mode": {
    "name": "ipython",
    "version": 3
   },
   "file_extension": ".py",
   "mimetype": "text/x-python",
   "name": "python",
   "nbconvert_exporter": "python",
   "pygments_lexer": "ipython3",
   "version": "3.9.17"
  }
 },
 "nbformat": 4,
 "nbformat_minor": 5
}
