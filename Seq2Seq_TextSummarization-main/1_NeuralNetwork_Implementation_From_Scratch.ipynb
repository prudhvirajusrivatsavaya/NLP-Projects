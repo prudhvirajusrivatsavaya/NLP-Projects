{
 "cells": [
  {
   "cell_type": "code",
   "execution_count": 1,
   "id": "76e23eb1-dc21-4241-9bd5-29900372aa6a",
   "metadata": {},
   "outputs": [],
   "source": [
    "import numpy as np\n",
    "import matplotlib.pyplot as plt"
   ]
  },
  {
   "cell_type": "code",
   "execution_count": 2,
   "id": "3663eba6-cadd-467d-8f55-ede2394664c2",
   "metadata": {},
   "outputs": [
    {
     "name": "stdout",
     "output_type": "stream",
     "text": [
      "Version of numpy: 1.23.1\n"
     ]
    }
   ],
   "source": [
    "# version of numpy library\n",
    "print(\"Version of numpy:\", np.__version__)"
   ]
  },
  {
   "cell_type": "code",
   "execution_count": 3,
   "id": "7b49d803-582d-4d30-a78b-75e76e723a51",
   "metadata": {},
   "outputs": [
    {
     "name": "stdout",
     "output_type": "stream",
     "text": [
      "Version of matplotlib: 3.7.2\n"
     ]
    }
   ],
   "source": [
    "# version of matplotlib library\n",
    "import matplotlib\n",
    "\n",
    "print(\"Version of matplotlib:\", matplotlib.__version__)"
   ]
  },
  {
   "cell_type": "code",
   "execution_count": 4,
   "id": "211be75c-c478-4b02-ad20-943cd49bf8f9",
   "metadata": {},
   "outputs": [],
   "source": [
    "import pandas as pd"
   ]
  },
  {
   "cell_type": "code",
   "execution_count": 5,
   "id": "cb5625b7-1ed2-40b9-a117-4527cfe174dc",
   "metadata": {},
   "outputs": [],
   "source": [
    "# set random seed\n",
    "np.random.seed(42)"
   ]
  },
  {
   "cell_type": "code",
   "execution_count": 6,
   "id": "ad7bb928-6f04-43f6-a679-702190040ef6",
   "metadata": {},
   "outputs": [
    {
     "name": "stdout",
     "output_type": "stream",
     "text": [
      "Input:\n",
      " [[1 0 0 0]\n",
      " [1 0 1 1]\n",
      " [0 1 0 1]]\n",
      "\n",
      "Shape of Input: (3, 4)\n"
     ]
    },
    {
     "data": {
      "text/html": [
       "<div>\n",
       "<style scoped>\n",
       "    .dataframe tbody tr th:only-of-type {\n",
       "        vertical-align: middle;\n",
       "    }\n",
       "\n",
       "    .dataframe tbody tr th {\n",
       "        vertical-align: top;\n",
       "    }\n",
       "\n",
       "    .dataframe thead th {\n",
       "        text-align: right;\n",
       "    }\n",
       "</style>\n",
       "<table border=\"1\" class=\"dataframe\">\n",
       "  <thead>\n",
       "    <tr style=\"text-align: right;\">\n",
       "      <th></th>\n",
       "      <th>0</th>\n",
       "      <th>1</th>\n",
       "      <th>2</th>\n",
       "      <th>3</th>\n",
       "    </tr>\n",
       "  </thead>\n",
       "  <tbody>\n",
       "    <tr>\n",
       "      <th>0</th>\n",
       "      <td>1</td>\n",
       "      <td>0</td>\n",
       "      <td>0</td>\n",
       "      <td>0</td>\n",
       "    </tr>\n",
       "    <tr>\n",
       "      <th>1</th>\n",
       "      <td>1</td>\n",
       "      <td>0</td>\n",
       "      <td>1</td>\n",
       "      <td>1</td>\n",
       "    </tr>\n",
       "    <tr>\n",
       "      <th>2</th>\n",
       "      <td>0</td>\n",
       "      <td>1</td>\n",
       "      <td>0</td>\n",
       "      <td>1</td>\n",
       "    </tr>\n",
       "  </tbody>\n",
       "</table>\n",
       "</div>"
      ],
      "text/plain": [
       "   0  1  2  3\n",
       "0  1  0  0  0\n",
       "1  1  0  1  1\n",
       "2  0  1  0  1"
      ]
     },
     "execution_count": 6,
     "metadata": {},
     "output_type": "execute_result"
    }
   ],
   "source": [
    "# creating the input array\n",
    "X = np.array([[1, 0, 0, 0], [1, 0, 1, 1], [0, 1, 0, 1]])\n",
    "\n",
    "print(\"Input:\\n\", X)\n",
    "\n",
    "# shape of input array\n",
    "print(\"\\nShape of Input:\", X.shape)\n",
    "\n",
    "pd.DataFrame(X)"
   ]
  },
  {
   "cell_type": "code",
   "execution_count": 7,
   "id": "d8e3bbc6-ec14-4485-9d6b-e3fa39c3d1d4",
   "metadata": {},
   "outputs": [
    {
     "name": "stdout",
     "output_type": "stream",
     "text": [
      "Input in matrix form:\n",
      " [[1 1 0]\n",
      " [0 0 1]\n",
      " [0 1 0]\n",
      " [0 1 1]]\n",
      "\n",
      "Shape of Input Matrix: (4, 3)\n"
     ]
    },
    {
     "data": {
      "text/html": [
       "<div>\n",
       "<style scoped>\n",
       "    .dataframe tbody tr th:only-of-type {\n",
       "        vertical-align: middle;\n",
       "    }\n",
       "\n",
       "    .dataframe tbody tr th {\n",
       "        vertical-align: top;\n",
       "    }\n",
       "\n",
       "    .dataframe thead th {\n",
       "        text-align: right;\n",
       "    }\n",
       "</style>\n",
       "<table border=\"1\" class=\"dataframe\">\n",
       "  <thead>\n",
       "    <tr style=\"text-align: right;\">\n",
       "      <th></th>\n",
       "      <th>0</th>\n",
       "      <th>1</th>\n",
       "      <th>2</th>\n",
       "    </tr>\n",
       "  </thead>\n",
       "  <tbody>\n",
       "    <tr>\n",
       "      <th>0</th>\n",
       "      <td>1</td>\n",
       "      <td>1</td>\n",
       "      <td>0</td>\n",
       "    </tr>\n",
       "    <tr>\n",
       "      <th>1</th>\n",
       "      <td>0</td>\n",
       "      <td>0</td>\n",
       "      <td>1</td>\n",
       "    </tr>\n",
       "    <tr>\n",
       "      <th>2</th>\n",
       "      <td>0</td>\n",
       "      <td>1</td>\n",
       "      <td>0</td>\n",
       "    </tr>\n",
       "    <tr>\n",
       "      <th>3</th>\n",
       "      <td>0</td>\n",
       "      <td>1</td>\n",
       "      <td>1</td>\n",
       "    </tr>\n",
       "  </tbody>\n",
       "</table>\n",
       "</div>"
      ],
      "text/plain": [
       "   0  1  2\n",
       "0  1  1  0\n",
       "1  0  0  1\n",
       "2  0  1  0\n",
       "3  0  1  1"
      ]
     },
     "execution_count": 7,
     "metadata": {},
     "output_type": "execute_result"
    }
   ],
   "source": [
    "# converting the input in matrix form\n",
    "X = X.T\n",
    "print(\"Input in matrix form:\\n\", X)\n",
    "\n",
    "# shape of input matrix\n",
    "print(\"\\nShape of Input Matrix:\", X.shape)\n",
    "\n",
    "pd.DataFrame(X)"
   ]
  },
  {
   "cell_type": "code",
   "execution_count": 8,
   "id": "9f39ba6c-4264-4025-be38-bed853357af9",
   "metadata": {},
   "outputs": [
    {
     "name": "stdout",
     "output_type": "stream",
     "text": [
      "Actual Output:\n",
      " [[1]\n",
      " [1]\n",
      " [0]]\n",
      "\n",
      "Output in matrix form:\n",
      " [[1 1 0]]\n",
      "\n",
      "Shape of Output: (1, 3)\n"
     ]
    }
   ],
   "source": [
    "# creating the output array\n",
    "y = np.array([[1], [1], [0]])\n",
    "\n",
    "print(\"Actual Output:\\n\", y)\n",
    "\n",
    "# output in matrix form\n",
    "y = y.T\n",
    "\n",
    "print(\"\\nOutput in matrix form:\\n\", y)\n",
    "\n",
    "# shape of input array\n",
    "print(\"\\nShape of Output:\", y.shape)"
   ]
  },
  {
   "cell_type": "code",
   "execution_count": 9,
   "id": "e6d940ac-0f4a-4194-b47f-5d03f033aa2e",
   "metadata": {},
   "outputs": [],
   "source": [
    "inputLayer_neurons = X.shape[0]  # number of features in data set\n",
    "hiddenLayer_neurons = 3  # number of hidden layers neurons\n",
    "outputLayer_neurons = 1  # number of neurons at output layer"
   ]
  },
  {
   "cell_type": "code",
   "execution_count": 13,
   "id": "ce4b3996-b824-4245-a1fd-80983df8bc07",
   "metadata": {},
   "outputs": [
    {
     "data": {
      "text/plain": [
       "(4, 3, (4, 3))"
      ]
     },
     "execution_count": 13,
     "metadata": {},
     "output_type": "execute_result"
    }
   ],
   "source": [
    "# initializing weight\n",
    "# Shape of weights_input_hidden should number of neurons at input layer * number of neurons at hidden layer\n",
    "weights_input_hidden = np.random.uniform(size=(inputLayer_neurons, hiddenLayer_neurons))\n",
    "inputLayer_neurons, hiddenLayer_neurons, weights_input_hidden.shape"
   ]
  },
  {
   "cell_type": "code",
   "execution_count": 14,
   "id": "26fa747d-7624-4037-afff-139e7b98a379",
   "metadata": {},
   "outputs": [
    {
     "data": {
      "text/plain": [
       "(3, 1, (3, 1))"
      ]
     },
     "execution_count": 14,
     "metadata": {},
     "output_type": "execute_result"
    }
   ],
   "source": [
    "# Shape of weights_hidden_output should number of neurons at hidden layer * number of neurons at output layer\n",
    "weights_hidden_output = np.random.uniform(size=(hiddenLayer_neurons, outputLayer_neurons))\n",
    "hiddenLayer_neurons, outputLayer_neurons, weights_hidden_output.shape"
   ]
  },
  {
   "cell_type": "code",
   "execution_count": 15,
   "id": "964c348a-975f-41bd-bfad-9e150339850f",
   "metadata": {},
   "outputs": [
    {
     "data": {
      "text/plain": [
       "((4, 3), (3, 4), (3, 1))"
      ]
     },
     "execution_count": 15,
     "metadata": {},
     "output_type": "execute_result"
    }
   ],
   "source": [
    "# shape of weight matrix\n",
    "weights_input_hidden.shape, weights_input_hidden.T.shape, weights_hidden_output.shape# We are using sigmoid as an activation function so defining the sigmoid function here"
   ]
  },
  {
   "cell_type": "code",
   "execution_count": 16,
   "id": "508f2bce-ad7e-4070-9885-2184924c34b6",
   "metadata": {},
   "outputs": [
    {
     "data": {
      "text/plain": [
       "((4, 3), (4, 3))"
      ]
     },
     "execution_count": 16,
     "metadata": {},
     "output_type": "execute_result"
    }
   ],
   "source": [
    "weights_input_hidden.shape,X.shape"
   ]
  },
  {
   "cell_type": "code",
   "execution_count": 18,
   "id": "82b8f257-cb00-4d1c-81d4-ac6716989c34",
   "metadata": {},
   "outputs": [],
   "source": [
    "# We are using sigmoid as an activation function so defining the sigmoid function here\n",
    "\n",
    "# defining the Sigmoid Function\n",
    "def sigmoid(x):\n",
    "    return 1 / (1 + np.exp(-x))"
   ]
  },
  {
   "cell_type": "code",
   "execution_count": 21,
   "id": "11058645-38bc-485b-8183-b5796b1dd526",
   "metadata": {},
   "outputs": [
    {
     "name": "stdout",
     "output_type": "stream",
     "text": [
      "(3, 3)\n",
      "[[0.30461377 1.00152457 1.10267478]\n",
      " [0.09767211 1.31870359 0.43374931]\n",
      " [0.68423303 1.46308103 1.01524493]]\n"
     ]
    }
   ],
   "source": [
    "# hidden layer activations\n",
    "hiddenLayer_linearTransform = np.dot(weights_input_hidden.T, X)\n",
    "print(hiddenLayer_linearTransform.shape)\n",
    "print(hiddenLayer_linearTransform)"
   ]
  },
  {
   "cell_type": "code",
   "execution_count": 23,
   "id": "f3943a03-6cdc-4fd7-bbf9-88ff6696c0ad",
   "metadata": {},
   "outputs": [
    {
     "data": {
      "text/plain": [
       "0.5755700019895433"
      ]
     },
     "execution_count": 23,
     "metadata": {},
     "output_type": "execute_result"
    }
   ],
   "source": [
    "sigmoid(0.30461377)"
   ]
  },
  {
   "cell_type": "code",
   "execution_count": 22,
   "id": "48f605fe-eaaa-448c-b7dc-1a4d4184e20d",
   "metadata": {},
   "outputs": [
    {
     "data": {
      "text/plain": [
       "array([[0.57557   , 0.73135822, 0.75076094],\n",
       "       [0.52439863, 0.78896594, 0.60676861],\n",
       "       [0.66468281, 0.81200346, 0.73404534]])"
      ]
     },
     "execution_count": 22,
     "metadata": {},
     "output_type": "execute_result"
    }
   ],
   "source": [
    "hiddenLayer_activations = sigmoid(hiddenLayer_linearTransform)\n",
    "hiddenLayer_activations"
   ]
  },
  {
   "cell_type": "code",
   "execution_count": 26,
   "id": "e5c23602-1328-4f7c-b8ce-62a1adf4eef9",
   "metadata": {},
   "outputs": [
    {
     "data": {
      "text/plain": [
       "((1, 3), (3, 3))"
      ]
     },
     "execution_count": 26,
     "metadata": {},
     "output_type": "execute_result"
    }
   ],
   "source": [
    "weights_hidden_output.T.shape, hiddenLayer_activations.shape"
   ]
  },
  {
   "cell_type": "code",
   "execution_count": 24,
   "id": "0fb31ea4-45f4-4aae-b48d-80a9f59d5bf1",
   "metadata": {},
   "outputs": [
    {
     "data": {
      "text/plain": [
       "array([[0.74193951, 0.79133495, 0.77457582]])"
      ]
     },
     "execution_count": 24,
     "metadata": {},
     "output_type": "execute_result"
    }
   ],
   "source": [
    "# calculating the output\n",
    "outputLayer_linearTransform = np.dot(weights_hidden_output.T, hiddenLayer_activations)\n",
    "output = sigmoid(outputLayer_linearTransform)\n",
    "output"
   ]
  },
  {
   "cell_type": "code",
   "execution_count": 25,
   "id": "3d296b7b-1cc4-4f33-868f-5a867a180889",
   "metadata": {},
   "outputs": [
    {
     "data": {
      "text/plain": [
       "array([[0.03329761, 0.02177055, 0.29998385]])"
      ]
     },
     "execution_count": 25,
     "metadata": {},
     "output_type": "execute_result"
    }
   ],
   "source": [
    "# calculating error\n",
    "error = np.square(y - output) / 2\n",
    "error"
   ]
  },
  {
   "cell_type": "markdown",
   "id": "046cd254-1fa8-4755-96aa-e9cadf34da9b",
   "metadata": {},
   "source": [
    "##### We have completed our forward propagation step and got the error. Now let’s do a backward propagation to calculate the error with respect to each weight of the neuron and then update these weights using simple gradient descent."
   ]
  },
  {
   "cell_type": "code",
   "execution_count": 32,
   "id": "b0224c2d-09ab-4de6-b9cb-9fd1d5d6120d",
   "metadata": {},
   "outputs": [
    {
     "data": {
      "text/plain": [
       "array([[-0.31665306, -0.27302922,  0.71257368]])"
      ]
     },
     "execution_count": 32,
     "metadata": {},
     "output_type": "execute_result"
    }
   ],
   "source": [
    "# rate of change of error w.r.t. output\n",
    "error_wrt_output = -(y - output)\n",
    "error_wrt_output"
   ]
  },
  {
   "cell_type": "code",
   "execution_count": 33,
   "id": "59021374-4243-4664-9da2-dcb32e27ef61",
   "metadata": {},
   "outputs": [
    {
     "data": {
      "text/plain": [
       "array([[0.2163839 , 0.19848426, 0.20481243]])"
      ]
     },
     "execution_count": 33,
     "metadata": {},
     "output_type": "execute_result"
    }
   ],
   "source": [
    "# rate of change of output w.r.t. Z2\n",
    "output_wrt_outputLayer_LinearTransform = np.multiply(output, (1 - output))\n",
    "output_wrt_outputLayer_LinearTransform"
   ]
  },
  {
   "cell_type": "code",
   "execution_count": 26,
   "id": "b28f2f47-2c12-46fc-aa62-9dd17c4ee383",
   "metadata": {},
   "outputs": [
    {
     "data": {
      "text/plain": [
       "array([[0.57557   , 0.73135822, 0.75076094],\n",
       "       [0.52439863, 0.78896594, 0.60676861],\n",
       "       [0.66468281, 0.81200346, 0.73404534]])"
      ]
     },
     "execution_count": 26,
     "metadata": {},
     "output_type": "execute_result"
    }
   ],
   "source": [
    "# rate of change of Z2 w.r.t. weights between hidden and output layer\n",
    "outputLayer_LinearTransform_wrt_weights_hidden_output = hiddenLayer_activations\n",
    "outputLayer_LinearTransform_wrt_weights_hidden_output"
   ]
  },
  {
   "cell_type": "code",
   "execution_count": 35,
   "id": "4aa4450d-a634-4454-85dc-c4d29f573300",
   "metadata": {},
   "outputs": [
    {
     "data": {
      "text/plain": [
       "((1, 3), (1, 3), (3, 3))"
      ]
     },
     "execution_count": 35,
     "metadata": {},
     "output_type": "execute_result"
    }
   ],
   "source": [
    "# checking the shapes of partial derivatives\n",
    "error_wrt_output.shape, output_wrt_outputLayer_LinearTransform.shape, outputLayer_LinearTransform_wrt_weights_hidden_output.shape"
   ]
  },
  {
   "cell_type": "code",
   "execution_count": 36,
   "id": "5bddaa0a-09cf-4949-8151-215fcd1e3b3a",
   "metadata": {},
   "outputs": [
    {
     "data": {
      "text/plain": [
       "(3, 1)"
      ]
     },
     "execution_count": 36,
     "metadata": {},
     "output_type": "execute_result"
    }
   ],
   "source": [
    "# shape of weights of output layer\n",
    "weights_hidden_output.shape"
   ]
  },
  {
   "cell_type": "code",
   "execution_count": 38,
   "id": "a9f14d00-a8cf-42c1-bf02-5179c1cb1ec8",
   "metadata": {},
   "outputs": [],
   "source": [
    "# rate of change of error w.r.t weight between hidden and output layer\n",
    "error_wrt_weights_hidden_output = np.dot(\n",
    "    outputLayer_LinearTransform_wrt_weights_hidden_output,\n",
    "    (error_wrt_output * output_wrt_outputLayer_LinearTransform).T,\n",
    ")"
   ]
  },
  {
   "cell_type": "code",
   "execution_count": 39,
   "id": "98e05a09-8060-4772-bf1e-f027c4f5fbfb",
   "metadata": {},
   "outputs": [
    {
     "data": {
      "text/plain": [
       "(3, 1)"
      ]
     },
     "execution_count": 39,
     "metadata": {},
     "output_type": "execute_result"
    }
   ],
   "source": [
    "error_wrt_weights_hidden_output.shape"
   ]
  },
  {
   "cell_type": "code",
   "execution_count": 42,
   "id": "2444bbbe-1cf5-40ba-97f2-d48f5c6e2076",
   "metadata": {},
   "outputs": [],
   "source": [
    "# rate of change of error w.r.t. output\n",
    "error_wrt_output = -(y - output)\n",
    "\n",
    "# rate of change of output w.r.t. Z2\n",
    "output_wrt_outputLayer_LinearTransform = np.multiply(output, (1 - output))\n",
    "\n",
    "# rate of change of Z2 w.r.t. hidden layer activations\n",
    "outputLayer_LinearTransform_wrt_hiddenLayer_activations = weights_hidden_output"
   ]
  },
  {
   "cell_type": "code",
   "execution_count": 43,
   "id": "f35de382-3e7a-4a3f-bf30-57e12025ba82",
   "metadata": {},
   "outputs": [],
   "source": [
    "# rate of change of hidden layer activations w.r.t. Z1\n",
    "hiddenLayer_activations_wrt_hiddenLayer_linearTransform = np.multiply(\n",
    "    hiddenLayer_activations, (1 - hiddenLayer_activations)\n",
    ")"
   ]
  },
  {
   "cell_type": "code",
   "execution_count": 44,
   "id": "eed5f8e0-6270-450c-bffc-22e559806725",
   "metadata": {},
   "outputs": [],
   "source": [
    "# rate of change of Z1 w.r.t. weights between input and hidden layer\n",
    "hiddenLayer_linearTransform_wrt_weights_input_hidden = X"
   ]
  },
  {
   "cell_type": "code",
   "execution_count": 45,
   "id": "377a1557-a475-480e-b991-e822a781a43c",
   "metadata": {},
   "outputs": [
    {
     "name": "stdout",
     "output_type": "stream",
     "text": [
      "(1, 3) (1, 3) (3, 1) (3, 3) (4, 3)\n"
     ]
    }
   ],
   "source": [
    "# checking the shapes of partial derivatives\n",
    "print(\n",
    "    error_wrt_output.shape,\n",
    "    output_wrt_outputLayer_LinearTransform.shape,\n",
    "    outputLayer_LinearTransform_wrt_hiddenLayer_activations.shape,\n",
    "    hiddenLayer_activations_wrt_hiddenLayer_linearTransform.shape,\n",
    "    hiddenLayer_linearTransform_wrt_weights_input_hidden.shape,\n",
    ")"
   ]
  },
  {
   "cell_type": "code",
   "execution_count": 46,
   "id": "46737aa9-d1a4-495c-ace6-98b98584fab4",
   "metadata": {},
   "outputs": [
    {
     "data": {
      "text/plain": [
       "(4, 3)"
      ]
     },
     "execution_count": 46,
     "metadata": {},
     "output_type": "execute_result"
    }
   ],
   "source": [
    "# shape of weights of hidden layer\n",
    "weights_input_hidden.shape"
   ]
  },
  {
   "cell_type": "code",
   "execution_count": 47,
   "id": "1a4660e9-2436-49f0-9566-5945f95f7aa8",
   "metadata": {},
   "outputs": [],
   "source": [
    "# rate of change of error w.r.t weights between input and hidden layer\n",
    "error_wrt_weights_input_hidden = np.dot(\n",
    "    hiddenLayer_linearTransform_wrt_weights_input_hidden,\n",
    "    (\n",
    "        hiddenLayer_activations_wrt_hiddenLayer_linearTransform\n",
    "        * np.dot(\n",
    "            outputLayer_LinearTransform_wrt_hiddenLayer_activations,\n",
    "            (output_wrt_outputLayer_LinearTransform * error_wrt_output),\n",
    "        )\n",
    "    ).T,\n",
    ")"
   ]
  },
  {
   "cell_type": "code",
   "execution_count": 48,
   "id": "8815037e-fc8e-4728-8fca-2c1f250de924",
   "metadata": {},
   "outputs": [
    {
     "data": {
      "text/plain": [
       "(4, 3)"
      ]
     },
     "execution_count": 48,
     "metadata": {},
     "output_type": "execute_result"
    }
   ],
   "source": [
    "error_wrt_weights_input_hidden.shape"
   ]
  },
  {
   "cell_type": "code",
   "execution_count": 49,
   "id": "337a1e91-34c3-4da9-9030-97847829e536",
   "metadata": {},
   "outputs": [],
   "source": [
    "# defining the learning rate\n",
    "lr = 0.01"
   ]
  },
  {
   "cell_type": "code",
   "execution_count": 50,
   "id": "d70e877b-084d-4102-acd2-bab94b432cd5",
   "metadata": {},
   "outputs": [
    {
     "data": {
      "text/plain": [
       "array([[0.83244264],\n",
       "       [0.21233911],\n",
       "       [0.18182497]])"
      ]
     },
     "execution_count": 50,
     "metadata": {},
     "output_type": "execute_result"
    }
   ],
   "source": [
    "# initial weights_hidden_output\n",
    "weights_hidden_output"
   ]
  },
  {
   "cell_type": "code",
   "execution_count": 51,
   "id": "a21721b1-a139-4b09-90bf-3e274bb995c8",
   "metadata": {},
   "outputs": [
    {
     "data": {
      "text/plain": [
       "array([[0.37454012, 0.95071431, 0.73199394],\n",
       "       [0.59865848, 0.15601864, 0.15599452],\n",
       "       [0.05808361, 0.86617615, 0.60111501],\n",
       "       [0.70807258, 0.02058449, 0.96990985]])"
      ]
     },
     "execution_count": 51,
     "metadata": {},
     "output_type": "execute_result"
    }
   ],
   "source": [
    "# initial weights_input_hidden\n",
    "weights_input_hidden"
   ]
  },
  {
   "cell_type": "code",
   "execution_count": 52,
   "id": "03f3c678-1a84-4cf8-ab10-a19a28a7f5f9",
   "metadata": {},
   "outputs": [],
   "source": [
    "# updating the weights of output layer\n",
    "weights_hidden_output = weights_hidden_output - lr * error_wrt_weights_hidden_output"
   ]
  },
  {
   "cell_type": "code",
   "execution_count": 53,
   "id": "6a57e473-08a5-43a6-9ec6-57f0c6b5bc53",
   "metadata": {},
   "outputs": [],
   "source": [
    "# updating the weights of hidden layer\n",
    "weights_input_hidden = weights_input_hidden - lr * error_wrt_weights_input_hidden"
   ]
  },
  {
   "cell_type": "code",
   "execution_count": 54,
   "id": "60acfa8b-69a5-48c7-8baf-10d0aa034641",
   "metadata": {},
   "outputs": [
    {
     "data": {
      "text/plain": [
       "array([[0.83211079],\n",
       "       [0.21250681],\n",
       "       [0.18167831]])"
      ]
     },
     "execution_count": 54,
     "metadata": {},
     "output_type": "execute_result"
    }
   ],
   "source": [
    "# updated weights_hidden_output\n",
    "weights_hidden_output"
   ]
  },
  {
   "cell_type": "code",
   "execution_count": 55,
   "id": "d8f47e75-08d9-4aa4-9a37-f35be9b91297",
   "metadata": {},
   "outputs": [
    {
     "data": {
      "text/plain": [
       "array([[0.37476062, 0.95075719, 0.7320294 ],\n",
       "       [0.59845481, 0.15594177, 0.15594545],\n",
       "       [0.05816641, 0.86618978, 0.60112315],\n",
       "       [0.70795169, 0.02052126, 0.96986892]])"
      ]
     },
     "execution_count": 55,
     "metadata": {},
     "output_type": "execute_result"
    }
   ],
   "source": [
    "# updated weights_input_hidden\n",
    "weights_input_hidden"
   ]
  },
  {
   "cell_type": "markdown",
   "id": "5545318e-0376-4aa4-91d6-6edc0a2b04a9",
   "metadata": {},
   "source": [
    "##### Now, this is just one iteration (or epoch) of the forward and backward pass. We have to do it multiple times to make our model perform better. Let’s perform the steps above again for 1000 epochs"
   ]
  },
  {
   "cell_type": "code",
   "execution_count": 56,
   "id": "bc62b904-90f0-4ef8-bf46-d33a127cc9c5",
   "metadata": {},
   "outputs": [],
   "source": [
    "# defining the model architecture\n",
    "inputLayer_neurons = X.shape[0]  # number of features in data set\n",
    "hiddenLayer_neurons = 3  # number of hidden layers neurons\n",
    "outputLayer_neurons = 1  # number of neurons at output layer\n",
    "\n",
    "# initializing weight\n",
    "weights_input_hidden = np.random.uniform(size=(inputLayer_neurons, hiddenLayer_neurons))\n",
    "weights_hidden_output = np.random.uniform(\n",
    "    size=(hiddenLayer_neurons, outputLayer_neurons)\n",
    ")\n",
    "\n",
    "# defining the parameters\n",
    "lr = 0.1\n",
    "epochs = 1000"
   ]
  },
  {
   "cell_type": "code",
   "execution_count": 57,
   "id": "935a8024-c9f3-485d-a679-23855d072b7d",
   "metadata": {},
   "outputs": [
    {
     "name": "stdout",
     "output_type": "stream",
     "text": [
      "Error at epoch 0 is 0.11553\n",
      "Error at epoch 100 is 0.11082\n",
      "Error at epoch 200 is 0.10606\n",
      "Error at epoch 300 is 0.09845\n",
      "Error at epoch 400 is 0.08483\n",
      "Error at epoch 500 is 0.06396\n",
      "Error at epoch 600 is 0.04206\n",
      "Error at epoch 700 is 0.02641\n",
      "Error at epoch 800 is 0.01719\n",
      "Error at epoch 900 is 0.01190\n"
     ]
    }
   ],
   "source": [
    "losses = []\n",
    "for epoch in range(epochs):\n",
    "    ## Forward Propogation\n",
    "    # calculating hidden layer activations\n",
    "    hiddenLayer_linearTransform = np.dot(weights_input_hidden.T, X)\n",
    "    hiddenLayer_activations = sigmoid(hiddenLayer_linearTransform)\n",
    "\n",
    "    # calculating the output\n",
    "    outputLayer_linearTransform = np.dot(\n",
    "        weights_hidden_output.T, hiddenLayer_activations\n",
    "    )\n",
    "    output = sigmoid(outputLayer_linearTransform)\n",
    "\n",
    "    ## Backward Propagation\n",
    "\n",
    "    # calculating error\n",
    "    error = np.square(y - output) / 2\n",
    "\n",
    "    # calculating rate of change of error w.r.t weight between hidden and output layer\n",
    "    error_wrt_output = -(y - output)\n",
    "    output_wrt_outputLayer_LinearTransform = np.multiply(output, (1 - output))\n",
    "    outputLayer_LinearTransform_wrt_weights_hidden_output = hiddenLayer_activations\n",
    "\n",
    "    error_wrt_weights_hidden_output = np.dot(\n",
    "        outputLayer_LinearTransform_wrt_weights_hidden_output,\n",
    "        (error_wrt_output * output_wrt_outputLayer_LinearTransform).T,\n",
    "    )\n",
    "\n",
    "    # calculating rate of change of error w.r.t weights between input and hidden layer\n",
    "    outputLayer_LinearTransform_wrt_hiddenLayer_activations = weights_hidden_output\n",
    "    hiddenLayer_activations_wrt_hiddenLayer_linearTransform = np.multiply(\n",
    "        hiddenLayer_activations, (1 - hiddenLayer_activations)\n",
    "    )\n",
    "    \n",
    "    hiddenLayer_linearTransform_wrt_weights_input_hidden = X\n",
    "    error_wrt_weights_input_hidden = np.dot(\n",
    "        hiddenLayer_linearTransform_wrt_weights_input_hidden,\n",
    "        (\n",
    "            hiddenLayer_activations_wrt_hiddenLayer_linearTransform\n",
    "            * np.dot(\n",
    "                outputLayer_LinearTransform_wrt_hiddenLayer_activations,\n",
    "                (output_wrt_outputLayer_LinearTransform * error_wrt_output),\n",
    "            )\n",
    "        ).T,\n",
    "    )\n",
    "\n",
    "    # updating the weights\n",
    "    weights_hidden_output = weights_hidden_output - lr * error_wrt_weights_hidden_output\n",
    "    weights_input_hidden = weights_input_hidden - lr * error_wrt_weights_input_hidden\n",
    "\n",
    "    # print error at every 100th epoch\n",
    "    epoch_loss = np.average(error)\n",
    "    if epoch % 100 == 0:\n",
    "        print(f\"Error at epoch {epoch} is {epoch_loss:.5f}\")\n",
    "\n",
    "    # appending the error of each epoch\n",
    "    losses.append(epoch_loss)"
   ]
  },
  {
   "cell_type": "code",
   "execution_count": 58,
   "id": "2162b546-277c-41ad-9bed-7ca60939ae6e",
   "metadata": {},
   "outputs": [
    {
     "data": {
      "text/plain": [
       "array([[ 1.25679149,  1.72312858, -0.27336634],\n",
       "       [-1.07615756, -1.73777864,  1.42316207],\n",
       "       [ 0.63053865,  0.88090942, -0.03448117],\n",
       "       [-0.56098781, -0.65506704,  0.61013995]])"
      ]
     },
     "execution_count": 58,
     "metadata": {},
     "output_type": "execute_result"
    }
   ],
   "source": [
    "# updated w_ih\n",
    "weights_input_hidden"
   ]
  },
  {
   "cell_type": "code",
   "execution_count": 59,
   "id": "44e996cb-6cac-4779-9009-30343b2742c2",
   "metadata": {},
   "outputs": [
    {
     "data": {
      "text/plain": [
       "array([[ 1.45176252],\n",
       "       [ 2.59109536],\n",
       "       [-2.18347501]])"
      ]
     },
     "execution_count": 59,
     "metadata": {},
     "output_type": "execute_result"
    }
   ],
   "source": [
    "# updated w_ho\n",
    "weights_hidden_output"
   ]
  },
  {
   "cell_type": "code",
   "execution_count": 60,
   "id": "b56e4e58-2e04-4cc4-844e-ad4052fe88e4",
   "metadata": {},
   "outputs": [
    {
     "data": {
      "text/plain": [
       "[<matplotlib.lines.Line2D at 0x1daf0ff4430>]"
      ]
     },
     "execution_count": 60,
     "metadata": {},
     "output_type": "execute_result"
    },
    {
     "data": {
      "image/png": "[encoded data removed]",
      "text/plain": [
       "<Figure size 640x480 with 1 Axes>"
      ]
     },
     "metadata": {},
     "output_type": "display_data"
    }
   ],
   "source": [
    "# visualizing the error after each epoch\n",
    "plt.plot(np.arange(1, epochs + 1), np.array(losses))"
   ]
  },
  {
   "cell_type": "code",
   "execution_count": 61,
   "id": "8255afc0-e509-4ce4-8457-ca819a7bb70b",
   "metadata": {},
   "outputs": [
    {
     "data": {
      "text/plain": [
       "array([[0.9155779 , 0.89643511, 0.18608711]])"
      ]
     },
     "execution_count": 61,
     "metadata": {},
     "output_type": "execute_result"
    }
   ],
   "source": [
    "# final output from the model\n",
    "output"
   ]
  },
  {
   "cell_type": "code",
   "execution_count": 62,
   "id": "316116b2-121a-45be-9052-001e3861cfe6",
   "metadata": {},
   "outputs": [
    {
     "data": {
      "text/plain": [
       "array([[1, 1, 0]])"
      ]
     },
     "execution_count": 62,
     "metadata": {},
     "output_type": "execute_result"
    }
   ],
   "source": [
    "# actual target\n",
    "y"
   ]
  },
  {
   "cell_type": "code",
   "execution_count": null,
   "id": "e323caa3-9944-44a4-a2a0-c8c982671de0",
   "metadata": {},
   "outputs": [],
   "source": []
  },
  {
   "cell_type": "code",
   "execution_count": null,
   "id": "7610889e-b009-4927-b69b-50cfe30e9d26",
   "metadata": {},
   "outputs": [],
   "source": []
  },
  {
   "cell_type": "code",
   "execution_count": null,
   "id": "8be09025-0f52-46f7-9fcb-d0aaba25b9d6",
   "metadata": {},
   "outputs": [],
   "source": []
  }
 ],
 "metadata": {
  "kernelspec": {
   "display_name": "Python 3 (ipykernel)",
   "language": "python",
   "name": "python3"
  },
  "language_info": {
   "codemirror_mode": {
    "name": "ipython",
    "version": 3
   },
   "file_extension": ".py",
   "mimetype": "text/x-python",
   "name": "python",
   "nbconvert_exporter": "python",
   "pygments_lexer": "ipython3",
   "version": "3.9.17"
  }
 },
 "nbformat": 4,
 "nbformat_minor": 5
}
