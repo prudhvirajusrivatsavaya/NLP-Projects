{
 "cells": [
  {
   "cell_type": "code",
   "execution_count": 16,
   "id": "e74e52ac-47e7-4fc3-8cb8-41b72f1e24ef",
   "metadata": {},
   "outputs": [],
   "source": [
    "import numpy as np\n",
    "import tensorflow as tf\n",
    "from tensorflow.keras.models import Model, load_model\n",
    "from tensorflow.keras.layers import Input, Embedding, LSTM, Dense\n",
    "from tensorflow.keras.utils import to_categorical\n",
    "from sklearn.model_selection import train_test_split\n",
    "from tqdm import tqdm\n",
    "from tensorflow.keras.preprocessing.text import Tokenizer\n",
    "from tensorflow.keras.preprocessing.sequence import pad_sequences\n",
    "import pickle"
   ]
  },
  {
   "cell_type": "code",
   "execution_count": 2,
   "id": "ca33e5f8-946a-484f-ac7e-4e7c721983b3",
   "metadata": {},
   "outputs": [],
   "source": [
    "with open('C:\\\\Users\\\\User\\\\Downloads\\\\fra-eng\\\\fra.txt', 'r',encoding=\"utf-8\") as file:\n",
    "    # Read the entire file content into a string\n",
    "    lines = file.read().split('\\n')"
   ]
  },
  {
   "cell_type": "code",
   "execution_count": 5,
   "id": "0632b918-5b38-47f9-971b-03cab2154dc6",
   "metadata": {},
   "outputs": [],
   "source": [
    "# Create lists to store the French and English sentences\n",
    "french_sentences = []\n",
    "english_sentences = []\n",
    "for line in lines:\n",
    "    if '\\t' in line:\n",
    "        french, english, _ = line.split('\\t')\n",
    "        french_sentences.append(french)\n",
    "        english_sentences.append(english)\n",
    "\n",
    "french_sentences = french_sentences[0:1000]\n",
    "english_sentences = english_sentences[0:1000]"
   ]
  },
  {
   "cell_type": "code",
   "execution_count": 6,
   "id": "c6ea7d12-e1f4-4946-b4bc-18e8b860589a",
   "metadata": {},
   "outputs": [],
   "source": [
    "# Tokenize the French and English sentences\n",
    "french_tokenizer = Tokenizer(filters='')\n",
    "french_tokenizer.fit_on_texts(french_sentences)\n",
    "french_sequences = french_tokenizer.texts_to_sequences(french_sentences)\n",
    "\n",
    "english_tokenizer = Tokenizer(filters='')\n",
    "english_tokenizer.fit_on_texts(english_sentences)\n",
    "english_sequences = english_tokenizer.texts_to_sequences(english_sentences)"
   ]
  },
  {
   "cell_type": "code",
   "execution_count": 7,
   "id": "0868325c-ca69-4092-baa9-fbad4af9bb45",
   "metadata": {},
   "outputs": [],
   "source": [
    "# Pad sequences to a fixed length\n",
    "max_sequence_length = 12  # You can adjust this based on your dataset\n",
    "french_sequences = pad_sequences(french_sequences, maxlen=max_sequence_length, padding='post')\n",
    "english_sequences = pad_sequences(english_sequences, maxlen=max_sequence_length, padding='post')"
   ]
  },
  {
   "cell_type": "code",
   "execution_count": 8,
   "id": "c7168cc6-bb76-49c5-bb27-32d528d0e58d",
   "metadata": {},
   "outputs": [],
   "source": [
    "# Create one-hot encoding for English sequences\n",
    "english_vocab_size = len(english_tokenizer.word_index) + 1\n",
    "english_sequences_one_hot = tf.keras.utils.to_categorical(english_sequences, num_classes=english_vocab_size)"
   ]
  },
  {
   "cell_type": "code",
   "execution_count": 9,
   "id": "edb803c6-e3b7-4c51-a8c3-637829d35b19",
   "metadata": {},
   "outputs": [],
   "source": [
    "# Split the data into training and validation sets\n",
    "X_train_french, X_val_french, X_train_english, X_val_english, y_train, y_val = train_test_split(\n",
    "    french_sequences, english_sequences, english_sequences_one_hot, test_size=0.2, random_state=42)"
   ]
  },
  {
   "cell_type": "code",
   "execution_count": 12,
   "id": "12f36d8f-962b-40c1-bad1-dd86f209aac7",
   "metadata": {},
   "outputs": [],
   "source": [
    "# Define the Seq2Seq model\n",
    "latent_dim = 256  # Adjust as needed\n",
    "\n",
    "# Encoder\n",
    "encoder_inputs = Input(shape=(max_sequence_length,))\n",
    "encoder_embedding = Embedding(input_dim=len(french_tokenizer.word_index) + 1, output_dim=latent_dim)(encoder_inputs)\n",
    "encoder_lstm = LSTM(latent_dim, return_state=True)\n",
    "encoder_outputs, state_h, state_c = encoder_lstm(encoder_embedding)\n",
    "encoder_states = [state_h, state_c]\n",
    "\n",
    "# Decoder\n",
    "decoder_inputs = Input(shape=(max_sequence_length,))\n",
    "decoder_embedding = Embedding(input_dim=len(english_tokenizer.word_index) + 1, output_dim=latent_dim)(decoder_inputs)\n",
    "decoder_lstm = LSTM(latent_dim, return_sequences=True, return_state=True)\n",
    "decoder_outputs, _, _ = decoder_lstm(decoder_embedding, initial_state=encoder_states)\n",
    "decoder_dense = Dense(english_vocab_size, activation='softmax')\n",
    "decoder_outputs = decoder_dense(decoder_outputs)\n",
    "\n",
    "# Define the model\n",
    "model = Model([encoder_inputs, decoder_inputs], decoder_outputs)\n",
    "\n",
    "# Compile the model\n",
    "model.compile(optimizer='adam', loss='categorical_crossentropy', metrics=['accuracy'])"
   ]
  },
  {
   "cell_type": "code",
   "execution_count": 13,
   "id": "84b62ff4-aad8-4d55-abd7-c648881c2826",
   "metadata": {},
   "outputs": [
    {
     "name": "stdout",
     "output_type": "stream",
     "text": [
      "13/13 [==============================] - 6s 185ms/step - loss: 4.1689 - accuracy: 0.7462 - val_loss: 1.3902 - val_accuracy: 0.8079\n"
     ]
    },
    {
     "name": "stderr",
     "output_type": "stream",
     "text": [
      "C:\\Users\\User\\anaconda3\\envs\\nlp_2\\lib\\site-packages\\keras\\src\\engine\\training.py:3000: UserWarning: You are saving your model as an HDF5 file via `model.save()`. This file format is considered legacy. We recommend using instead the native Keras format, e.g. `model.save('my_model.keras')`.\n",
      "  saving_api.save_model(\n"
     ]
    }
   ],
   "source": [
    "# Train the model\n",
    "model.fit([X_train_french, X_train_english], y_train,\n",
    "          validation_data=([X_val_french, X_val_english], y_val),\n",
    "          batch_size=64, epochs=1)\n",
    "# Save the model\n",
    "model.save('seq2seq_translation_model.h5')"
   ]
  },
  {
   "cell_type": "code",
   "execution_count": 14,
   "id": "13e3d417-54da-4e5c-91fd-40f348aded3b",
   "metadata": {},
   "outputs": [],
   "source": [
    "# Save tokenizers, vocab info, and max sequence length for inference\n",
    "with open(\"french_tokenizer.pickle\", \"wb\") as f:\n",
    "    pickle.dump(french_tokenizer, f)\n",
    "\n",
    "with open(\"english_tokenizer.pickle\", \"wb\") as f:\n",
    "    pickle.dump(english_tokenizer, f)\n",
    "\n",
    "vocab_info = {\"start_token\": '<start>', \"end_token\": '<end>'}\n",
    "with open(\"vocab_info.pickle\", \"wb\") as f:\n",
    "    pickle.dump(vocab_info, f)\n",
    "\n",
    "with open(\"max_sequence_length.txt\", \"w\") as f:\n",
    "    f.write(str(max_sequence_length))"
   ]
  },
  {
   "cell_type": "code",
   "execution_count": 17,
   "id": "8b86e877-6f95-498c-a833-00a805decbe7",
   "metadata": {},
   "outputs": [],
   "source": [
    "# Inference\n",
    "model = load_model('seq2seq_translation_model.h5')\n",
    "\n",
    "# Load saved components\n",
    "with open(\"french_tokenizer.pickle\", \"rb\") as f:\n",
    "    french_tokenizer = pickle.load(f)\n",
    "\n",
    "with open(\"english_tokenizer.pickle\", \"rb\") as f:\n",
    "    english_tokenizer = pickle.load(f)\n",
    "\n",
    "with open(\"vocab_info.pickle\", \"rb\") as f:\n",
    "    vocab_info = pickle.load(f)\n",
    "\n",
    "max_sequence_length = int(open(\"max_sequence_length.txt\", \"r\").read())"
   ]
  },
  {
   "cell_type": "code",
   "execution_count": 22,
   "id": "7225af06-8e42-441c-ab66-dce185906bd3",
   "metadata": {},
   "outputs": [],
   "source": [
    "# Manually add the start and end tokens to the English tokenizer's word index\n",
    "english_tokenizer.word_index[start_token] = len(english_tokenizer.word_index) + 1\n",
    "english_tokenizer.word_index[end_token] = len(english_tokenizer.word_index) + 1\n",
    "\n",
    "# Inverse mapping for the word index\n",
    "reverse_word_index = {v: k for k, v in english_tokenizer.word_index.items()}"
   ]
  },
  {
   "cell_type": "code",
   "execution_count": 23,
   "id": "d582889f-570d-4032-a013-fa2244e6c84d",
   "metadata": {},
   "outputs": [],
   "source": [
    "# Example input text\n",
    "input_text = \"Bonjour, comment ça va ?\"\n",
    "\n",
    "# Tokenize and preprocess the input text\n",
    "input_seq = french_tokenizer.texts_to_sequences([input_text])\n",
    "input_seq = pad_sequences(input_seq, maxlen=max_sequence_length, padding='post')"
   ]
  },
  {
   "cell_type": "code",
   "execution_count": 24,
   "id": "1803ab3c-8420-4b34-847f-2d232bb00c4c",
   "metadata": {},
   "outputs": [
    {
     "name": "stdout",
     "output_type": "stream",
     "text": [
      "1/1 [==============================] - 0s 352ms/step\n"
     ]
    }
   ],
   "source": [
    "# Use the encoder model to encode the input sequence\n",
    "encoder_input = input_seq\n",
    "encoder_model = Model(inputs=model.input[0], outputs=model.layers[4].output)  # Encoder is the fifth layer in the model\n",
    "encoder_states = encoder_model.predict(encoder_input)"
   ]
  },
  {
   "cell_type": "code",
   "execution_count": 31,
   "id": "8bcd1f6e-b7ad-46c6-9f97-68f4ac5192f2",
   "metadata": {},
   "outputs": [],
   "source": [
    "# Initialize the decoder input with the start token\n",
    "target_seq = np.zeros((1, 1, 1))  # Reshape target_seq to (1, 1, 1)\n",
    "start_token_index = english_tokenizer.word_index[start_token]\n",
    "target_seq[0, 0, 0] = start_token_index "
   ]
  },
  {
   "cell_type": "code",
   "execution_count": 32,
   "id": "cf213f98-0aaf-4dec-9f25-e8f2ebd921fc",
   "metadata": {},
   "outputs": [],
   "source": [
    "# Create a new model for prediction\n",
    "decoder_input_h = Input(shape=(latent_dim,))\n",
    "decoder_input_c = Input(shape=(latent_dim,))\n",
    "decoder_states_inputs = [decoder_input_h, decoder_input_c]\n",
    "\n",
    "decoder_lstm = model.layers[5]  # Decoder LSTM layer\n",
    "decoder_dense = model.layers[6]  # Dense layer"
   ]
  },
  {
   "cell_type": "code",
   "execution_count": 30,
   "id": "c3acc182-a549-4302-ac73-a7ece69e38da",
   "metadata": {
    "scrolled": true
   },
   "outputs": [
    {
     "ename": "ValueError",
     "evalue": "Exception encountered when calling layer \"lstm_3\" (type LSTM).\n\nShape (1, 1) must have rank at least 3\n\nCall arguments received by layer \"lstm_3\" (type LSTM):\n  • inputs=['tf.Tensor(shape=(1, 1), dtype=float32)', 'tf.Tensor(shape=(None, 256), dtype=float32)', 'tf.Tensor(shape=(None, 256), dtype=float32)']\n  • mask=None\n  • training=None\n  • initial_state=None",
     "output_type": "error",
     "traceback": [
      "\u001b[1;31m---------------------------------------------------------------------------\u001b[0m",
      "\u001b[1;31mValueError\u001b[0m                                Traceback (most recent call last)",
      "Cell \u001b[1;32mIn[30], line 2\u001b[0m\n\u001b[0;32m      1\u001b[0m \u001b[38;5;66;03m# Connect the decoder LSTM layer using the initial states and target_seq\u001b[39;00m\n\u001b[1;32m----> 2\u001b[0m decoder_lstm_outputs, state_h, state_c \u001b[38;5;241m=\u001b[39m \u001b[43mdecoder_lstm\u001b[49m\u001b[43m(\u001b[49m\u001b[43mtarget_seq\u001b[49m\u001b[43m,\u001b[49m\u001b[43m \u001b[49m\u001b[43minitial_state\u001b[49m\u001b[38;5;241;43m=\u001b[39;49m\u001b[43mdecoder_states_inputs\u001b[49m\u001b[43m)\u001b[49m\n\u001b[0;32m      4\u001b[0m \u001b[38;5;66;03m# Reconnect the decoder dense layer\u001b[39;00m\n\u001b[0;32m      5\u001b[0m decoder_outputs \u001b[38;5;241m=\u001b[39m decoder_dense(decoder_lstm_outputs)\n",
      "File \u001b[1;32m~\\anaconda3\\envs\\nlp_2\\lib\\site-packages\\keras\\src\\layers\\rnn\\base_rnn.py:615\u001b[0m, in \u001b[0;36mRNN.__call__\u001b[1;34m(self, inputs, initial_state, constants, **kwargs)\u001b[0m\n\u001b[0;32m    613\u001b[0m \u001b[38;5;66;03m# Perform the call with temporarily replaced input_spec\u001b[39;00m\n\u001b[0;32m    614\u001b[0m \u001b[38;5;28mself\u001b[39m\u001b[38;5;241m.\u001b[39minput_spec \u001b[38;5;241m=\u001b[39m full_input_spec\n\u001b[1;32m--> 615\u001b[0m output \u001b[38;5;241m=\u001b[39m \u001b[38;5;28msuper\u001b[39m()\u001b[38;5;241m.\u001b[39m\u001b[38;5;21m__call__\u001b[39m(full_input, \u001b[38;5;241m*\u001b[39m\u001b[38;5;241m*\u001b[39mkwargs)\n\u001b[0;32m    616\u001b[0m \u001b[38;5;66;03m# Remove the additional_specs from input spec and keep the rest. It\u001b[39;00m\n\u001b[0;32m    617\u001b[0m \u001b[38;5;66;03m# is important to keep since the input spec was populated by\u001b[39;00m\n\u001b[0;32m    618\u001b[0m \u001b[38;5;66;03m# build(), and will be reused in the stateful=True.\u001b[39;00m\n\u001b[0;32m    619\u001b[0m \u001b[38;5;28mself\u001b[39m\u001b[38;5;241m.\u001b[39minput_spec \u001b[38;5;241m=\u001b[39m \u001b[38;5;28mself\u001b[39m\u001b[38;5;241m.\u001b[39minput_spec[: \u001b[38;5;241m-\u001b[39m\u001b[38;5;28mlen\u001b[39m(additional_specs)]\n",
      "File \u001b[1;32m~\\anaconda3\\envs\\nlp_2\\lib\\site-packages\\keras\\src\\utils\\traceback_utils.py:70\u001b[0m, in \u001b[0;36mfilter_traceback.<locals>.error_handler\u001b[1;34m(*args, **kwargs)\u001b[0m\n\u001b[0;32m     67\u001b[0m     filtered_tb \u001b[38;5;241m=\u001b[39m _process_traceback_frames(e\u001b[38;5;241m.\u001b[39m__traceback__)\n\u001b[0;32m     68\u001b[0m     \u001b[38;5;66;03m# To get the full stack trace, call:\u001b[39;00m\n\u001b[0;32m     69\u001b[0m     \u001b[38;5;66;03m# `tf.debugging.disable_traceback_filtering()`\u001b[39;00m\n\u001b[1;32m---> 70\u001b[0m     \u001b[38;5;28;01mraise\u001b[39;00m e\u001b[38;5;241m.\u001b[39mwith_traceback(filtered_tb) \u001b[38;5;28;01mfrom\u001b[39;00m \u001b[38;5;28;01mNone\u001b[39;00m\n\u001b[0;32m     71\u001b[0m \u001b[38;5;28;01mfinally\u001b[39;00m:\n\u001b[0;32m     72\u001b[0m     \u001b[38;5;28;01mdel\u001b[39;00m filtered_tb\n",
      "File \u001b[1;32m~\\anaconda3\\envs\\nlp_2\\lib\\site-packages\\keras\\src\\backend.py:4822\u001b[0m, in \u001b[0;36mrnn\u001b[1;34m(step_function, inputs, initial_states, go_backwards, mask, constants, unroll, input_length, time_major, zero_output_for_mask, return_all_outputs)\u001b[0m\n\u001b[0;32m   4819\u001b[0m time_steps_t \u001b[38;5;241m=\u001b[39m tf\u001b[38;5;241m.\u001b[39mshape(flatted_inputs[\u001b[38;5;241m0\u001b[39m])[\u001b[38;5;241m0\u001b[39m]\n\u001b[0;32m   4821\u001b[0m \u001b[38;5;28;01mfor\u001b[39;00m input_ \u001b[38;5;129;01min\u001b[39;00m flatted_inputs:\n\u001b[1;32m-> 4822\u001b[0m     \u001b[43minput_\u001b[49m\u001b[38;5;241;43m.\u001b[39;49m\u001b[43mshape\u001b[49m\u001b[38;5;241;43m.\u001b[39;49m\u001b[43mwith_rank_at_least\u001b[49m\u001b[43m(\u001b[49m\u001b[38;5;241;43m3\u001b[39;49m\u001b[43m)\u001b[49m\n\u001b[0;32m   4824\u001b[0m \u001b[38;5;28;01mif\u001b[39;00m mask \u001b[38;5;129;01mis\u001b[39;00m \u001b[38;5;129;01mnot\u001b[39;00m \u001b[38;5;28;01mNone\u001b[39;00m:\n\u001b[0;32m   4825\u001b[0m     \u001b[38;5;28;01mif\u001b[39;00m mask\u001b[38;5;241m.\u001b[39mdtype \u001b[38;5;241m!=\u001b[39m tf\u001b[38;5;241m.\u001b[39mbool:\n",
      "\u001b[1;31mValueError\u001b[0m: Exception encountered when calling layer \"lstm_3\" (type LSTM).\n\nShape (1, 1) must have rank at least 3\n\nCall arguments received by layer \"lstm_3\" (type LSTM):\n  • inputs=['tf.Tensor(shape=(1, 1), dtype=float32)', 'tf.Tensor(shape=(None, 256), dtype=float32)', 'tf.Tensor(shape=(None, 256), dtype=float32)']\n  • mask=None\n  • training=None\n  • initial_state=None"
     ]
    }
   ],
   "source": [
    "# Connect the decoder LSTM layer using the initial states and target_seq\n",
    "decoder_lstm_outputs, state_h, state_c = decoder_lstm(target_seq, initial_state=decoder_states_inputs)\n",
    "\n",
    "# Reconnect the decoder dense layer\n",
    "decoder_outputs = decoder_dense(decoder_lstm_outputs)\n",
    "\n",
    "# Create a new prediction model\n",
    "prediction_model = Model(\n",
    "    [target_seq] + decoder_states_inputs,\n",
    "    [decoder_outputs] + [state_h, state_c]\n",
    ")"
   ]
  },
  {
   "cell_type": "code",
   "execution_count": null,
   "id": "0211ffd8-b009-440a-ad05-a8b3616eef80",
   "metadata": {},
   "outputs": [],
   "source": []
  },
  {
   "cell_type": "code",
   "execution_count": null,
   "id": "08200a83-103b-4823-a3ba-49a05c321293",
   "metadata": {},
   "outputs": [],
   "source": []
  }
 ],
 "metadata": {
  "kernelspec": {
   "display_name": "Python 3 (ipykernel)",
   "language": "python",
   "name": "python3"
  },
  "language_info": {
   "codemirror_mode": {
    "name": "ipython",
    "version": 3
   },
   "file_extension": ".py",
   "mimetype": "text/x-python",
   "name": "python",
   "nbconvert_exporter": "python",
   "pygments_lexer": "ipython3",
   "version": "3.9.17"
  }
 },
 "nbformat": 4,
 "nbformat_minor": 5
}
