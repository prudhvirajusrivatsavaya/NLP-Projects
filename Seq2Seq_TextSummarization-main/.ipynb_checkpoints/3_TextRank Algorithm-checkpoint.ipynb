{
 "cells": [
  {
   "cell_type": "code",
   "execution_count": null,
   "id": "3a4dd70f-7988-4fac-adb8-172391101153",
   "metadata": {},
   "outputs": [],
   "source": [
    "# https://www.analyticsvidhya.com/blog/2019/06/comprehensive-guide-text-summarization-using-deep-learning-python/\n",
    "# https://www.analyticsvidhya.com/blog/2018/11/introduction-text-summarization-textrank-python/\n",
    "# https://www.analyticsvidhya.com/blog/2018/09/introduction-graph-theory-applications-python/     ---- Graph Theory"
   ]
  },
  {
   "cell_type": "code",
   "execution_count": 14,
   "id": "0915a951-5297-4588-bd97-ef5b391f0766",
   "metadata": {},
   "outputs": [],
   "source": [
    "import numpy as np\n",
    "import pandas as pd\n",
    "import nltk\n",
    "#nltk.download('punkt') # one time execution\n",
    "import re\n",
    "from nltk.tokenize import sent_tokenize"
   ]
  },
  {
   "cell_type": "code",
   "execution_count": 5,
   "id": "15bc3b2d-3a6b-41a3-a0b3-f83cd8e7cbe6",
   "metadata": {
    "scrolled": true
   },
   "outputs": [],
   "source": [
    "# Read the Data\n",
    "df = pd.read_csv(\"tennis_articles.csv\",encoding='latin-1')"
   ]
  },
  {
   "cell_type": "code",
   "execution_count": 6,
   "id": "e4735faf-cc00-4fe2-9ba0-f7bb03608b2e",
   "metadata": {},
   "outputs": [
    {
     "data": {
      "text/html": [
       "<div>\n",
       "<style scoped>\n",
       "    .dataframe tbody tr th:only-of-type {\n",
       "        vertical-align: middle;\n",
       "    }\n",
       "\n",
       "    .dataframe tbody tr th {\n",
       "        vertical-align: top;\n",
       "    }\n",
       "\n",
       "    .dataframe thead th {\n",
       "        text-align: right;\n",
       "    }\n",
       "</style>\n",
       "<table border=\"1\" class=\"dataframe\">\n",
       "  <thead>\n",
       "    <tr style=\"text-align: right;\">\n",
       "      <th></th>\n",
       "      <th>article_id</th>\n",
       "      <th>article_title</th>\n",
       "      <th>article_text</th>\n",
       "      <th>source</th>\n",
       "    </tr>\n",
       "  </thead>\n",
       "  <tbody>\n",
       "    <tr>\n",
       "      <th>0</th>\n",
       "      <td>1</td>\n",
       "      <td>I do not have friends in tennis, says Maria Sh...</td>\n",
       "      <td>Maria Sharapova has basically no friends as te...</td>\n",
       "      <td>https://www.tennisworldusa.org/tennis/news/Mar...</td>\n",
       "    </tr>\n",
       "    <tr>\n",
       "      <th>1</th>\n",
       "      <td>2</td>\n",
       "      <td>Federer defeats Medvedev to advance to 14th Sw...</td>\n",
       "      <td>BASEL, Switzerland (AP)  Roger Federer advanc...</td>\n",
       "      <td>http://www.tennis.com/pro-game/2018/10/copil-s...</td>\n",
       "    </tr>\n",
       "    <tr>\n",
       "      <th>2</th>\n",
       "      <td>3</td>\n",
       "      <td>Tennis: Roger Federer ignored deadline set by ...</td>\n",
       "      <td>Roger Federer has revealed that organisers of ...</td>\n",
       "      <td>https://scroll.in/field/899938/tennis-roger-fe...</td>\n",
       "    </tr>\n",
       "    <tr>\n",
       "      <th>3</th>\n",
       "      <td>4</td>\n",
       "      <td>Nishikori to face off against Anderson in Vien...</td>\n",
       "      <td>Kei Nishikori will try to end his long losing ...</td>\n",
       "      <td>http://www.tennis.com/pro-game/2018/10/nishiko...</td>\n",
       "    </tr>\n",
       "    <tr>\n",
       "      <th>4</th>\n",
       "      <td>5</td>\n",
       "      <td>Roger Federer has made this huge change to ten...</td>\n",
       "      <td>Federer, 37, first broke through on tour over ...</td>\n",
       "      <td>https://www.express.co.uk/sport/tennis/1036101...</td>\n",
       "    </tr>\n",
       "  </tbody>\n",
       "</table>\n",
       "</div>"
      ],
      "text/plain": [
       "   article_id                                      article_title  \\\n",
       "0           1  I do not have friends in tennis, says Maria Sh...   \n",
       "1           2  Federer defeats Medvedev to advance to 14th Sw...   \n",
       "2           3  Tennis: Roger Federer ignored deadline set by ...   \n",
       "3           4  Nishikori to face off against Anderson in Vien...   \n",
       "4           5  Roger Federer has made this huge change to ten...   \n",
       "\n",
       "                                        article_text  \\\n",
       "0  Maria Sharapova has basically no friends as te...   \n",
       "1  BASEL, Switzerland (AP)  Roger Federer advanc...   \n",
       "2  Roger Federer has revealed that organisers of ...   \n",
       "3  Kei Nishikori will try to end his long losing ...   \n",
       "4  Federer, 37, first broke through on tour over ...   \n",
       "\n",
       "                                              source  \n",
       "0  https://www.tennisworldusa.org/tennis/news/Mar...  \n",
       "1  http://www.tennis.com/pro-game/2018/10/copil-s...  \n",
       "2  https://scroll.in/field/899938/tennis-roger-fe...  \n",
       "3  http://www.tennis.com/pro-game/2018/10/nishiko...  \n",
       "4  https://www.express.co.uk/sport/tennis/1036101...  "
      ]
     },
     "execution_count": 6,
     "metadata": {},
     "output_type": "execute_result"
    }
   ],
   "source": [
    "# Inspect the Data\n",
    "df.head()"
   ]
  },
  {
   "cell_type": "code",
   "execution_count": 7,
   "id": "5defa4a4-226f-4da2-9a71-55f1e5dd8334",
   "metadata": {},
   "outputs": [
    {
     "data": {
      "text/plain": [
       "\"Maria Sharapova has basically no friends as tennis players on the WTA Tour. The Russian player has no problems in openly speaking about it and in a recent interview she said: 'I don't really hide any feelings too much. I think everyone knows this is my job here. When I'm on the courts or when I'm on the court playing, I'm a competitor and I want to beat every single person whether they're in the locker room or across the net. So I'm not the one to strike up a conversation about the weather and know that in the next few minutes I have to go and try to win a tennis match. I'm a pretty competitive girl. I say my hellos, but I'm not sending any players flowers as well. Uhm, I'm not really friendly or close to many players. I have not a lot of friends away from the courts.' When she said she is not really close to a lot of players, is that something strategic that she is doing? Is it different on the men's tour than the women's tour? 'No, not at all. I think just because you're in the same sport doesn't mean that you have to be friends with everyone just because you're categorized, you're a tennis player, so you're going to get along with tennis players. I think every person has different interests. I have friends that have completely different jobs and interests, and I've met them in very different parts of my life. I think everyone just thinks because we're tennis players we should be the greatest of friends. But ultimately tennis is just a very small part of what we do. There are so many other things that we're interested in, that we do.' ALSO READ: Maria Sharapova reveals how tennis keeps her motivated.\""
      ]
     },
     "execution_count": 7,
     "metadata": {},
     "output_type": "execute_result"
    }
   ],
   "source": [
    "df['article_text'][0]"
   ]
  },
  {
   "cell_type": "code",
   "execution_count": 8,
   "id": "1cf30d0c-3a9d-421d-a29f-bb04690fe880",
   "metadata": {},
   "outputs": [
    {
     "data": {
      "text/plain": [
       "\"BASEL, Switzerland (AP) \\x97 Roger Federer advanced to the 14th Swiss Indoors final of his career by beating seventh-seeded Daniil Medvedev 6-1, 6-4 on Saturday. Seeking a ninth title at his hometown event, and a 99th overall, Federer will play 93th-ranked Marius Copil on Sunday. Federer dominated the 20th-ranked Medvedev and had his first match-point chance to break serve again at 5-1. He then dropped his serve to love, and let another match point slip in Medvedev's next service game by netting a backhand. He clinched on his fourth chance when Medvedev netted from the baseline. Copil upset expectations of a Federer final against Alexander Zverev in a 6-3, 6-7 (6), 6-4 win over the fifth-ranked German in the earlier semifinal. The Romanian aims for a first title after arriving at Basel without a career win over a top-10 opponent. Copil has two after also beating No. 6 Marin Cilic in the second round. Copil fired 26 aces past Zverev and never dropped serve, clinching after 2 1/2 hours with a forehand volley winner to break Zverev for the second time in the semifinal. He came through two rounds of qualifying last weekend to reach the Basel main draw, including beating Zverev's older brother, Mischa. Federer had an easier time than in his only previous match against Medvedev, a three-setter at Shanghai two weeks ago.\""
      ]
     },
     "execution_count": 8,
     "metadata": {},
     "output_type": "execute_result"
    }
   ],
   "source": [
    "df['article_text'][1]"
   ]
  },
  {
   "cell_type": "code",
   "execution_count": 9,
   "id": "9a13574c-b00b-4dba-ab22-a7333fd28b4b",
   "metadata": {},
   "outputs": [
    {
     "data": {
      "text/plain": [
       "'Roger Federer has revealed that organisers of the re-launched and condensed Davis Cup gave him three days to decide if he would commit to the controversial competition. Speaking at the Swiss Indoors tournament where he will play in Sunday\\x92s final against Romanian qualifier Marius Copil, the world number three said that given the impossibly short time frame to make a decision, he opted out of any commitment. \\x93They only left me three days to decide,\\x94 Federer said. \\x93I didn\\x92t to have time to consult with all the people I had to consult. \\x93I could not make a decision in that time, so I told them to do what they wanted.\\x94 The 20-time Grand Slam champion has voiced doubts about the wisdom of the one-week format to be introduced by organisers Kosmos, who have promised the International Tennis Federation up to $3 billion in prize money over the next quarter-century. The competition is set to feature 18 countries in the November 18-24 finals in Madrid next year, and will replace the classic home-and-away ties played four times per year for decades. Kosmos is headed by Barcelona footballer Gerard Pique, who is hoping fellow Spaniard Rafael Nadal will play in the upcoming event. Novak Djokovic has said he will give precedence to the ATP\\x92s intended re-launch of the defunct World Team Cup in January 2020, at various Australian venues. Major players feel that a big event in late November combined with one in January before the Australian Open will mean too much tennis and too little rest. Federer said earlier this month in Shanghai in that his chances of playing the Davis Cup were all but non-existent. \\x93I highly doubt it, of course. We\\x92ll see what happens,\\x94 he said. \\x93I don\\x92t think this was designed for me, anyhow. This was designed for the future generation of players.\\x94 Argentina and Britain received wild cards to the new-look event, and will compete along with the four 2018 semi-finalists and the 12 teams who win qualifying rounds next February. \\x93I don\\x92t like being under that kind of pressure,\\x94 Federer said of the deadline Kosmos handed him.'"
      ]
     },
     "execution_count": 9,
     "metadata": {},
     "output_type": "execute_result"
    }
   ],
   "source": [
    "df['article_text'][2]"
   ]
  },
  {
   "cell_type": "code",
   "execution_count": 16,
   "id": "2f7c5d36-4ce0-4968-878a-13a14724f92b",
   "metadata": {},
   "outputs": [],
   "source": [
    "#Sentence tokenization using nltk sent_token\n",
    "sentences = []\n",
    "for i in df['article_text']:\n",
    "    sentences.extend(sent_tokenize(i))"
   ]
  },
  {
   "cell_type": "code",
   "execution_count": 12,
   "id": "e044d720-d9a3-490f-b981-a50d623d14ad",
   "metadata": {},
   "outputs": [
    {
     "data": {
      "text/plain": [
       "400000"
      ]
     },
     "execution_count": 12,
     "metadata": {},
     "output_type": "execute_result"
    }
   ],
   "source": [
    "# Extract word vectors\n",
    "# extract the words embeddings or word vectors.\n",
    "word_embeddings = {}\n",
    "f = open('glove.6B.100d.txt', encoding='utf-8')\n",
    "for line in f:\n",
    "    values = line.split()\n",
    "    word = values[0]\n",
    "    coefs = np.asarray(values[1:], dtype='float32')\n",
    "    word_embeddings[word] = coefs\n",
    "f.close()\n",
    "len(word_embeddings)"
   ]
  },
  {
   "cell_type": "code",
   "execution_count": 18,
   "id": "a47d3cf8-1378-4ed3-abc4-cc6227ec4cff",
   "metadata": {},
   "outputs": [],
   "source": [
    "# Text Preprocessing\n",
    "# It is always a good practice to make your textual data noise-free as much as possible. So, let’s do some basic text cleaning.\n",
    "# remove punctuations, numbers and special characters\n",
    "clean_sentences = pd.Series(sentences).str.replace(\"[^a-zA-Z]\", \" \")\n",
    "\n",
    "# make alphabets lowercase\n",
    "clean_sentences = [s.lower() for s in clean_sentences]"
   ]
  },
  {
   "cell_type": "code",
   "execution_count": 19,
   "id": "d032e668-bc09-48c4-ad73-a2793612e501",
   "metadata": {},
   "outputs": [],
   "source": [
    "from nltk.corpus import stopwords\n",
    "stop_words = stopwords.words('english')"
   ]
  },
  {
   "cell_type": "code",
   "execution_count": 20,
   "id": "91d571ca-21d9-4be4-86a6-6216ac803002",
   "metadata": {},
   "outputs": [],
   "source": [
    "# function to remove stopwords\n",
    "def remove_stopwords(sen):\n",
    "    sen_new = \" \".join([i for i in sen if i not in stop_words])\n",
    "    return sen_new"
   ]
  },
  {
   "cell_type": "code",
   "execution_count": 21,
   "id": "411dc25c-26ca-4360-8945-0882a9eee7bb",
   "metadata": {},
   "outputs": [],
   "source": [
    "# remove stopwords from the sentences\n",
    "clean_sentences = [remove_stopwords(r.split()) for r in clean_sentences]"
   ]
  },
  {
   "cell_type": "code",
   "execution_count": 22,
   "id": "d541b918-1897-49a8-9be3-ec955893762e",
   "metadata": {},
   "outputs": [],
   "source": [
    "#  We will first fetch vectors (each of size 100 elements) for the constituent words in a sentence and  \n",
    "#then take mean/average of those vectors to arrive at a consolidated vector for the sentence.\n",
    "\n",
    "sentence_vectors = []\n",
    "for i in clean_sentences:\n",
    "  if len(i) != 0:\n",
    "    v = sum([word_embeddings.get(w, np.zeros((100,))) for w in i.split()])/(len(i.split())+0.001)\n",
    "  else:\n",
    "    v = np.zeros((100,))\n",
    "  sentence_vectors.append(v)"
   ]
  },
  {
   "cell_type": "code",
   "execution_count": 23,
   "id": "ff137222-eb28-4114-aa02-9ac30b077acb",
   "metadata": {
    "scrolled": true
   },
   "outputs": [
    {
     "data": {
      "text/plain": [
       "array([ 0.09423097,  0.13669517,  0.58544935,  0.20381502, -0.1671801 ,\n",
       "        0.34834924,  0.17839483,  0.37101227, -0.20376579, -0.12805886,\n",
       "        0.36699214,  0.07576428, -0.03720036,  0.22964005, -0.31566828,\n",
       "       -0.0996928 , -0.00833809,  0.27326583, -0.24724656,  0.4564281 ,\n",
       "       -0.12987752,  0.33414586,  0.12960431,  0.72200727,  0.2367894 ,\n",
       "       -0.08360017,  0.1354242 , -0.9088701 ,  0.59379951,  0.1741106 ,\n",
       "       -0.31913759,  0.25016489,  0.22933419, -0.19942921,  0.35909751,\n",
       "       -0.09988502, -0.43280267,  0.33715736, -0.17687914, -0.12392576,\n",
       "       -0.09833796, -0.183877  ,  0.21569655, -0.36719825,  0.11650406,\n",
       "       -0.23125742, -0.18450755, -0.0596488 ,  0.45691286, -0.21181901,\n",
       "       -0.16230433, -0.30980917,  0.14066741,  0.19803775,  0.09769779,\n",
       "       -1.35030617, -0.01634588,  0.26587548,  0.40476317,  0.68378705,\n",
       "       -0.23487752,  0.42370602, -0.24793846,  0.25880627, -0.07375703,\n",
       "       -0.17501676,  0.03179123,  0.43157982,  0.10041995, -0.11738845,\n",
       "        0.15455569, -0.00421435, -0.02567354, -0.21468042, -0.08263141,\n",
       "        0.11976366,  0.38418775,  0.03131333, -0.08140358, -0.04601324,\n",
       "        0.5486488 , -0.25006262, -0.22556229, -0.02792101, -0.91756533,\n",
       "       -0.39202749, -0.58739538,  0.27067744, -0.16677454, -0.13538287,\n",
       "       -0.17462318, -0.02221697,  0.24606599,  0.15373079,  0.05335898,\n",
       "       -0.02966092, -0.27947941, -0.12311589,  0.28091689,  0.48562304])"
      ]
     },
     "execution_count": 23,
     "metadata": {},
     "output_type": "execute_result"
    }
   ],
   "source": [
    "sentence_vectors[0]"
   ]
  },
  {
   "cell_type": "code",
   "execution_count": 25,
   "id": "0042eac9-0436-4c67-bc7b-dc89d8b80141",
   "metadata": {},
   "outputs": [],
   "source": [
    "# similarity matrix\n",
    "sim_mat = np.zeros([len(sentences), len(sentences)])"
   ]
  },
  {
   "cell_type": "code",
   "execution_count": 26,
   "id": "d51ae4f9-2565-4e83-ae97-1b19cfe01fb3",
   "metadata": {},
   "outputs": [],
   "source": [
    "# We will use Cosine Similarity to compute the similarity between a pair of sentences.\n",
    "from sklearn.metrics.pairwise import cosine_similarity"
   ]
  },
  {
   "cell_type": "code",
   "execution_count": 27,
   "id": "05e46de3-1d17-457d-87bc-1377d86e466e",
   "metadata": {},
   "outputs": [],
   "source": [
    "for i in range(len(sentences)):\n",
    "  for j in range(len(sentences)):\n",
    "    if i != j:\n",
    "      sim_mat[i][j] = cosine_similarity(sentence_vectors[i].reshape(1,100), sentence_vectors[j].reshape(1,100))[0,0]"
   ]
  },
  {
   "cell_type": "code",
   "execution_count": 29,
   "id": "28557768-82e6-4827-bd65-83a46b83f904",
   "metadata": {},
   "outputs": [],
   "source": [
    "import networkx as nx\n",
    "nx_graph = nx.from_numpy_array(sim_mat)\n",
    "scores = nx.pagerank(nx_graph)"
   ]
  },
  {
   "cell_type": "code",
   "execution_count": 33,
   "id": "98f57490-8c42-4673-b153-c78ec6c606ba",
   "metadata": {},
   "outputs": [
    {
     "data": {
      "text/plain": [
       "[(0.008798702471018703,\n",
       "  '\\x93I was on a nice trajectorythen,\\x94 Reid recalled.\\x93If I hadn\\x92t got sick, I think I could have started pushing towards the second week at the slams and then who knows.\\x94 Duringa comeback attempt some five years later, Reid added Bernard Tomic and 2018 US Open Federer slayer John Millman to his list of career scalps.'),\n",
       " (0.008749096541587417,\n",
       "  '\\x93Full effort Nick could live out his tennis like a (Tomas) Berdych or (Jo- Wilfried) Tsonga, consistently making second week,quarters, semis, finals of slams - and then hopefully more.'),\n",
       " (0.0087181363423051,\n",
       "  'Major players feel that a big event in late November combined with one in January before the Australian Open will mean too much tennis and too little rest.'),\n",
       " (0.008671127349766841,\n",
       "  \"\\x93I just felt like it really kind of changed where people were a little bit, definitely in the '90s, a lot more quiet, into themselves, and then it started to become better.\\x94 Meanwhile, Federer is hoping he can improve his service game as he hunts his ninth Swiss Indoors title this week.\"),\n",
       " (0.008657489800921132,\n",
       "  '\\x93I felt like the best weeks that I had to get to know players when I was playing were the Fed Cup weeks or the Olympic weeks, not necessarily during the tournaments.'),\n",
       " (0.008653889727497546,\n",
       "  'Exhausted after spending half his round deep in the bushes searching for my ball, as well as those of two other golfers he\\x92d never met before, our incredibly giving designated driver asked if we didn\\x92t mind going straight home after signing off so he could rest up a little before heading to work.'),\n",
       " (0.008653339402971555,\n",
       "  \"So I'm not the one to strike up a conversation about the weather and know that in the next few minutes I have to go and try to win a tennis match.\"),\n",
       " (0.008637406522327636,\n",
       "  'Speaking at the Swiss Indoors tournament where he will play in Sunday\\x92s final against Romanian qualifier Marius Copil, the world number three said that given the impossibly short time frame to make a decision, he opted out of any commitment.'),\n",
       " (0.008588827313835999,\n",
       "  \"The Spaniard broke Anderson twice in the second but didn't get another chance on the South African's serve in the final set.\"),\n",
       " (0.008584718531663172,\n",
       "  'The former Wimbledon junior champion was full of hope, excited about getting his life back together after a troubled few years and a touch-and-go battle with pancreatitis.'),\n",
       " (0.008569800468273806,\n",
       "  '\\x93But my fondest memory is probably him coming back in Spain with his father and Todd trying to order a ham, cheese and tomato sandwich in the most Aussie English I ever heard.\\x94 Among his lesser known achievements - but even more significantto me - was an injured Reid\\x92s effort to reach the final of the Manly Seaside, a prestigious Christmas-time event won backin the day by the likes of legends Rod Laver, Ken Rosewall, Frank Sedgman, John Bromwich, Lew Hoad, Neal Fraser, Fred Stolle, Evonne Goolagong and Australia\\x92s last women\\x92s Australian Open champion, Christine O\\x92Neil.'),\n",
       " (0.008566274757098624,\n",
       "  'Fourteen years after sharing centre court with Roger Federer in the third round of the Australian Open, Reid was now running the counter and coaching kids - but sadly now never mine- in suburban Sydney at the Matraville tennis and squash centre run by his father Bob and beautiful mother Sandra, herselfa former professional.'),\n",
       " (0.008563944584977763,\n",
       "  'Federer had an easier time than in his only previous match against Medvedev, a three-setter at Shanghai two weeks ago.'),\n",
       " (0.008555691691849183,\n",
       "  'Federer said earlier this month in Shanghai in that his chances of playing the Davis Cup were all but non-existent.'),\n",
       " (0.008547496572026038,\n",
       "  'He used his first break point to close out the first set before going up 3-0 in the second and wrapping up the win on his first match point.'),\n",
       " (0.008514743385781138,\n",
       "  \"\\x93Clearly you make your life more difficult, but still I was up 6-2, 3-1, break points, so things could have ended very quickly today, even though I didn't have the best serve percentage stats.\"),\n",
       " (0.008485380415892191,\n",
       "  'Nadal\\x92s appearance in Paris is a big boost to the tournament organisers who could see Roger Federer withdraw.'),\n",
       " (0.008463715328980917,\n",
       "  'Davenport enjoyed most of her success in the late 1990s and her third and final major tournament win came at the 2000 Australian Open.'),\n",
       " (0.008458701558391341,\n",
       "  'Roger Federer has revealed that organisers of the re-launched and condensed Davis Cup gave him three days to decide if he would commit to the controversial competition.'),\n",
       " (0.008450153349392985,\n",
       "  '\\x93Now they won\\x92t even give me tickets (to the Open).\\x94 A Davis Cup pick and on the cusp of the world\\x92s 100 by 18, Reid had few other complaints - just a lingering sense of what might have been.'),\n",
       " (0.008430461416841043,\n",
       "  'Hampered by a shoulder injury, Reid served under-arm - UNDER-ARM - throughout the entire tournament yet still made the decider.'),\n",
       " (0.008427139656493592,\n",
       "  \"He came through two rounds of qualifying last weekend to reach the Basel main draw, including beating Zverev's older brother, Mischa.\"),\n",
       " (0.008426834254978054,\n",
       "  'Currently in ninth place, Nishikori with a win could move to within 125 points of the cut for the eight-man event in London next month.'),\n",
       " (0.008422784198669382,\n",
       "  'Kei Nishikori will try to end his long losing streak in ATP finals and Kevin Anderson will go for his second title of the year at the Erste Bank Open on Sunday.'),\n",
       " (0.00842014724706065,\n",
       "  '\\x93Not always, but I really feel like in the mid-2000 years there was a huge shift of the attitudes of the top players and being more friendly and being more giving, and a lot of that had to do with players like Roger coming up.'),\n",
       " (0.008414223216840223,\n",
       "  'The world No 1 has been forced to miss Spain\\x92s Davis Cup clash with France and the Asian hard court season.'),\n",
       " (0.008411104889129196,\n",
       "  'Federer\\x92s projected route to the Paris final could also lead to matches against Kevin Anderson and Novak Djokovic.'),\n",
       " (0.008378684685734482,\n",
       "  \"He then dropped his serve to love, and let another match point slip in Medvedev's next service game by netting a backhand.\"),\n",
       " (0.008362768596279617,\n",
       "  'Novak Djokovic has said he will give precedence to the ATP\\x92s intended re-launch of the defunct World Team Cup in January 2020, at various Australian venues.'),\n",
       " (0.008316280117925522,\n",
       "  'The epic victory set-up his showdown with Federer, who would go on to win his first Australian Open.'),\n",
       " (0.008309842586284193,\n",
       "  'The Paris Masters draw has been made and Nadal will start his campaign on Tuesday or Wednesday against either Fernando Verdasco or Jeremy Chardy.'),\n",
       " (0.008309395686092012,\n",
       "  'Federer, 37, first broke through on tour over two decades ago and he has since gone on to enjoy a glittering career.'),\n",
       " (0.008304947296641083,\n",
       "  'Anderson has a shot at a fifth career title and second of the year after winning in New York in February.'),\n",
       " (0.008297981501389615,\n",
       "  '\\x93I could not make a decision in that time, so I told them to do what they wanted.\\x94 The 20-time Grand Slam champion has voiced doubts about the wisdom of the one-week format to be introduced by organisers Kosmos, who have promised the International Tennis Federation up to $3 billion in prize money over the next quarter-century.'),\n",
       " (0.00828259509059229, 'I PLAYED golf last week with Todd Reid.'),\n",
       " (0.008274023413997376,\n",
       "  '\\x93He had one of the best backhands, I think, going around,\\x94 Millman told AAP.'),\n",
       " (0.008255276765691495,\n",
       "  'The competition is set to feature 18 countries in the November 18-24 finals in Madrid next year, and will replace the classic home-and-away ties played four times per year for decades.'),\n",
       " (0.008245138253656881,\n",
       "  \"When I'm on the courts or when I'm on the court playing, I'm a competitor and I want to beat every single person whether they're in the locker room or across the net.\"),\n",
       " (0.008241592557948641,\n",
       "  'Federer dominated the 20th-ranked Medvedev and had his first match-point chance to break serve again at 5-1.'),\n",
       " (0.008236723769684415,\n",
       "  'This was designed for the future generation of players.\\x94 Argentina and Britain received wild cards to the new-look event, and will compete along with the four 2018 semi-finalists and the 12 teams who win qualifying rounds next February.'),\n",
       " (0.00823507064484181,\n",
       "  'He could lose 1,400 points in the next few weeks\\x97but instead of focusing on the negative, it can all be about perspective (06:28).'),\n",
       " (0.008221396849958736,\n",
       "  'But she claims the mentality of professional tennis players slowly began to change after the new millennium.'),\n",
       " (0.008213097732054768,\n",
       "  \"I think just because you're in the same sport doesn't mean that you have to be friends with everyone just because you're categorized, you're a tennis player, so you're going to get along with tennis players.\"),\n",
       " (0.008208558268979954,\n",
       "  'The Romanian aims for a first title after arriving at Basel without a career win over a top-10 opponent.'),\n",
       " (0.00817442329943274,\n",
       "  'A big fan and believer in the enigmatic Canberran, Reid didn\\x92t want to see Kyrgios\\x92s career slip away like his did.'),\n",
       " (0.008158519324521907,\n",
       "  'British No 1 Kyle Edmund is the 12th seed in Paris and will get underway in round two against either Karen Khachanov or Filip Krajinovic.'),\n",
       " (0.008157031259084126,\n",
       "  'Two players, Stefanos Tsitsipas and Kyle Edmund, won their first career ATP titles last week (13:26).'),\n",
       " (0.008140578450223588,\n",
       "  '\\x93I think there is a really nice environment and a great atmosphere, especially between some of the veteran players helping some of the younger players out.'),\n",
       " (0.00811412419573196,\n",
       "  \"It's no secret that Jack Sock has struggled on the singles court this year (his record is 7-19).\"),\n",
       " (0.008084758037274292,\n",
       "  'Nadal could then play defending champion Jack Sock in the third round before a potential quarter-final with either Borna Coric or Dominic Thiem.'),\n",
       " (0.008083209205613371,\n",
       "  'The end of the season is finally in sight, and with so many players defending\\x97or losing\\x97huge chunks of points in Singapore, Zhuhai and London, podcast co-hosts Nina Pantic and Irina Falconi discuss the art of defending points (02:14).'),\n",
       " (0.008079637316646838,\n",
       "  'Djokovic could play Marco Cecchinato in the second round.'),\n",
       " (0.008073646046219917,\n",
       "  'To most players of his rare sporting gifts, such a modest return would be unacceptable.'),\n",
       " (0.008071702701698272,\n",
       "  \"Uhm, I'm not really friendly or close to many players.\"),\n",
       " (0.008064593738648268,\n",
       "  '\\x93And even though maybe we had smaller teams, I still think we kept to ourselves quite a bit.'),\n",
       " (0.008055288322413522,\n",
       "  'But ultimately tennis is just a very small part of what we do.'),\n",
       " (0.008046876843776914,\n",
       "  'Nadal flew to Paris on Friday and footage from the Paris Masters official Twitter account shows the Spaniard smiling as he strides onto court for practice.'),\n",
       " (0.00802878702693473,\n",
       "  'Nadal has not played tennis since he was forced to retire from the US Open semi-finals against Juan Martin Del Porto with a knee injury.'),\n",
       " (0.008022606023429368,\n",
       "  '\\x93They only left me three days to decide,\\x94 Federer said.'),\n",
       " (0.008019321855895626,\n",
       "  \"It's a big deal because...you never forget your first.\"),\n",
       " (0.008014121495525791, 'Copil has two after also beating No.'),\n",
       " (0.007998772003818481,\n",
       "  'The life-changing setback hit only weeks after the then-teenage wonder boy announced his arrival as a grand slam threat by throwing up all over Rod Laver Arena during a fighting five-set second-round win over Sargis Sargsian.'),\n",
       " (0.007996038187201605,\n",
       "  'But with the ATP World Tour Finals due to begin next month, Nadal is ready to prove his fitness before the season-ending event at the 02 Arena.'),\n",
       " (0.007978732687741913,\n",
       "  '\\x93I\\x92m pleased with that,\\x94 he said after grinding out an eight-over-par front nine at the not-so-royal Northbridge club in Sydney and smashing down an egg- and-bacon roll at the halfway house.'),\n",
       " (0.007964129979536197,\n",
       "  'Federer is in action at the Swiss Indoors in Basel and if he reaches the final, he could pull out of Paris in a bid to stay fresh for London.'),\n",
       " (0.007954462450997036,\n",
       "  '\\x93It seems pretty friendly right now,\\x94 said Davenport.'),\n",
       " (0.007950350704132778,\n",
       "  '\\x93I don\\x92t like being under that kind of pressure,\\x94 Federer said of the deadline Kosmos handed him.'),\n",
       " (0.007944533933844143, 'Tragically, his time ran out.'),\n",
       " (0.007918456710453091,\n",
       "  'Nishikori held serve throughout against Kukushkin, who came through qualifying.'),\n",
       " (0.007916575126306342,\n",
       "  'Nishikori leads Anderson 4-2 on career matchups, but the South African won their only previous meeting this year.'),\n",
       " (0.007910576937287507, 'He has lost eight straight finals since.'),\n",
       " (0.007910505976348903,\n",
       "  \"I think everyone just thinks because we're tennis players we should be the greatest of friends.\"),\n",
       " (0.007910481278711709,\n",
       "  'Irina looks back at her WTA title win in Bogota in 2016, and tells an unforgettable story about her semifinal drama (14:04).'),\n",
       " (0.007885307995562705,\n",
       "  \"The Russian player has no problems in openly speaking about it and in a recent interview she said: 'I don't really hide any feelings too much.\"),\n",
       " (0.007857790028486784,\n",
       "  \"Let's also not forget his two Grand Slam doubles triumphs this season.\"),\n",
       " (0.007841456093746977,\n",
       "  'When she said she is not really close to a lot of players, is that something strategic that she is doing?'),\n",
       " (0.007838114293739078,\n",
       "  'He picked me up at 5.30am, half an hour early because he couldn\\x92t sleep.'),\n",
       " (0.007835075889619061,\n",
       "  '\\x93I was their golden boy then,\\x94 he said of his relationship with Tennis Australia.'),\n",
       " (0.007815273419282388,\n",
       "  'He\\x92d backed up his last-32 showingat Melbourne Park with a string of wins over elites including French Open champion and then world No.9 Gaston Gaudio and Roland Garros runner-up Martin Verkerk in 2004 before illness struck.'),\n",
       " (0.007814753144440386,\n",
       "  'Nina and Irina give their opinions on what coaching should look like in the future, on both tours (18:55).'),\n",
       " (0.007812292832051039,\n",
       "  'The 20-time Grand Slam winner is chasing his 99th ATP title at the Swiss Indoors this week and he faces Jan-Lennard Struff in the second round on Thursday (6pm BST).'),\n",
       " (0.007792413013277596,\n",
       "  'But as it stands, Federer is in the draw and is scheduled to face either former world No 3 Milos Raonic or Jo-Wilfried Tsonga in the second round.'),\n",
       " (0.007780230248331551,\n",
       "  'Copil fired 26 aces past Zverev and never dropped serve, clinching after 2 1/2 hours with a forehand volley winner to break Zverev for the second time in the semifinal.'),\n",
       " (0.0077671119536164325,\n",
       "  '\\x93I never got over what happened to me when I was 19,\\x94 he told AAP last week.'),\n",
       " (0.0077435732124611235,\n",
       "  '\\x93Time will tell for Nick, but he\\x92s still young.\\x94 Todd Reid was still young, too.'),\n",
       " (0.007688869258594884,\n",
       "  'With sponsors and the world at his feet, Reid was 14 then and being mentored by Nick Bollettieri, who fashioned the likes of Andre Agassi, Maria Sharapova, Monica Seles and Jim Courier into world No.1s.'),\n",
       " (0.00766021150280838,\n",
       "  \"I have friends that have completely different jobs and interests, and I've met them in very different parts of my life.\"),\n",
       " (0.007636257696345818, 'I think every person has different interests.'),\n",
       " (0.0076246992485529685, \"I have not a lot of friends away from the courts.'\"),\n",
       " (0.007605669110019532,\n",
       "  \"I say my hellos, but I'm not sending any players flowers as well.\"),\n",
       " (0.00755014818761577,\n",
       "  \"Is it different on the men's tour than the women's tour?\"),\n",
       " (0.007547497703963783, 'This is where the first rounds can be tricky.\\x94'),\n",
       " (0.0075311939088697506,\n",
       "  'Quite the fall from grace for a prodigious talent once afforded a 3000-word spread in The New York Times.'),\n",
       " (0.007514893428453096,\n",
       "  'To Reid the 15-marker, just being up and at \\x91em was enough; a few bogeys and one well-made par \\x97 broomstick putter and all \\x97 vindication for his recent decision to renew his membership at nearby Bankstown.'),\n",
       " (0.007469870219093287,\n",
       "  'Against Verdasco, Anderson hit nine of his 19 aces in the opening set.'),\n",
       " (0.007461507351723913,\n",
       "  '\\x93I didn\\x92t to have time to consult with all the people I had to consult.'),\n",
       " (0.0074533762239226715,\n",
       "  'He had hoped the mercurial Nick Kyrgios would do the same.'),\n",
       " (0.0074524435908197555, \"It's just getting used to it.\"),\n",
       " (0.00744338394477217,\n",
       "  'Not because he\\x92d been out on a bender or anything \\x97 those days were in the past.'),\n",
       " (0.007422573268373306,\n",
       "  'On the up again after taking salvation in the bottle, Reid was found dead on Tuesday aged just 34.'),\n",
       " (0.007385254137362013, 'I think everyone knows this is my job here.'),\n",
       " (0.007380946436096601,\n",
       "  \"A winner of 11 ATP events, Nishikori hasn't triumphed since winning in Memphis in February 2016.\"),\n",
       " (0.0073776808835349025,\n",
       "  'Maria Sharapova has basically no friends as tennis players on the WTA Tour.'),\n",
       " (0.007357256066827423,\n",
       "  \"There are so many other things that we're interested in, that we do.'\"),\n",
       " (0.007327874116145199,\n",
       "  'Seeking a ninth title at his hometown event, and a 99th overall, Federer will play 93th-ranked Marius Copil on Sunday.'),\n",
       " (0.007241743541832412,\n",
       "  \"\\x93But maybe that's exactly what caught up to me eventually.\"),\n",
       " (0.007235249541111245,\n",
       "  'ALSO READ: Maria Sharapova reveals how tennis keeps her motivated.'),\n",
       " (0.007231373464373582,\n",
       "  'With a victory on Sunday, Anderson will qualify for the ATP Finals.'),\n",
       " (0.0071733274715052725,\n",
       "  '\\x93I don\\x92t think this was designed for me, anyhow.'),\n",
       " (0.007152326396523089,\n",
       "  '\\x93I think I was misfiring the corners, I was not hitting the lines enough.'),\n",
       " (0.007090482176233292,\n",
       "  'Kosmos is headed by Barcelona footballer Gerard Pique, who is hoping fellow Spaniard Rafael Nadal will play in the upcoming event.'),\n",
       " (0.007076514134686431,\n",
       "  'BASEL, Switzerland (AP) \\x97 Roger Federer advanced to the 14th Swiss Indoors final of his career by beating seventh-seeded Daniil Medvedev 6-1, 6-4 on Saturday.'),\n",
       " (0.00704723000398591,\n",
       "  'Just as his senior career got legs, Reid was derailed by a debilitating bout of glandular fever.'),\n",
       " (0.006995578170756947, '\\x93I was always happy to work hard,\\x94 he said.'),\n",
       " (0.00696613664699737,\n",
       "  'He clinched on his fourth chance when Medvedev netted from the baseline.'),\n",
       " (0.006953374923932819,\n",
       "  '\\x93Full effort he wouldn\\x92t fail,\\x94 Reid said of Kyrgios.'),\n",
       " (0.0068957697954534995,\n",
       "  'Copil upset expectations of a Federer final against Alexander Zverev in a 6-3, 6-7 (6), 6-4 win over the fifth-ranked German in the earlier semifinal.'),\n",
       " (0.006857516998410879,\n",
       "  'In Singapore, one of the biggest storylines (aside from the matches, of course) has been the on-court coaching debate.'),\n",
       " (0.006769978060251003, \"I'm a pretty competitive girl.\"),\n",
       " (0.006632039104091261, '\\x93I highly doubt it, of course.'),\n",
       " (0.006478042672951779,\n",
       "  \"\\x93I didn't serve very well [against first-round opponent Filip Kranjovic,\\x94 Federer said.\"),\n",
       " (0.006296326661604753,\n",
       "  \"\\x93It's a very pleasant atmosphere, I'd have to say, around the locker rooms.\"),\n",
       " (0.006065158231465884, '6 Marin Cilic in the second round.'),\n",
       " (0.005996464618049901,\n",
       "  'The fifth-seeded Nishikori reached his third final of 2018 after beating Mikhail Kukushkin of Kazakhstan 6-4, 6-3 in the semifinals.'),\n",
       " (0.005412153485957924,\n",
       "  'Reid, too, was earmarked for the very top, only for injuries and illness to cruel his career.'),\n",
       " (0.004761865373454944,\n",
       "  'The second-seeded Anderson defeated Fernando Verdasco 6-3, 3-6, 6-4.'),\n",
       " (0.004691157482636327, 'We\\x92ll see what happens,\\x94 he said.'),\n",
       " (0.00468934784636595, 'Tennis giveth, and tennis taketh away.'),\n",
       " (0.0011691494275410529, 'Or hadn\\x92t slept, to be specific.'),\n",
       " (0.0011691494275410529, \"'No, not at all.\")]"
      ]
     },
     "execution_count": 33,
     "metadata": {},
     "output_type": "execute_result"
    }
   ],
   "source": [
    "# Finally, it’s time to extract the top N sentences based on their rankings for summary generation.\n",
    "ranked_sentences = sorted(((scores[i],s) for i,s in enumerate(sentences)), reverse=True)\n",
    "ranked_sentences"
   ]
  },
  {
   "cell_type": "code",
   "execution_count": 32,
   "id": "4add91ce-9478-4876-bf24-0e406210c5cc",
   "metadata": {
    "scrolled": true
   },
   "outputs": [
    {
     "name": "stdout",
     "output_type": "stream",
     "text": [
      "I was on a nice trajectorythen, Reid recalled.If I hadnt got sick, I think I could have started pushing towards the second week at the slams and then who knows. Duringa comeback attempt some five years later, Reid added Bernard Tomic and 2018 US Open Federer slayer John Millman to his list of career scalps.\n",
      "Full effort Nick could live out his tennis like a (Tomas) Berdych or (Jo- Wilfried) Tsonga, consistently making second week,quarters, semis, finals of slams - and then hopefully more.\n",
      "Major players feel that a big event in late November combined with one in January before the Australian Open will mean too much tennis and too little rest.\n",
      "I just felt like it really kind of changed where people were a little bit, definitely in the '90s, a lot more quiet, into themselves, and then it started to become better. Meanwhile, Federer is hoping he can improve his service game as he hunts his ninth Swiss Indoors title this week.\n",
      "I felt like the best weeks that I had to get to know players when I was playing were the Fed Cup weeks or the Olympic weeks, not necessarily during the tournaments.\n",
      "Exhausted after spending half his round deep in the bushes searching for my ball, as well as those of two other golfers hed never met before, our incredibly giving designated driver asked if we didnt mind going straight home after signing off so he could rest up a little before heading to work.\n",
      "So I'm not the one to strike up a conversation about the weather and know that in the next few minutes I have to go and try to win a tennis match.\n",
      "Speaking at the Swiss Indoors tournament where he will play in Sundays final against Romanian qualifier Marius Copil, the world number three said that given the impossibly short time frame to make a decision, he opted out of any commitment.\n",
      "The Spaniard broke Anderson twice in the second but didn't get another chance on the South African's serve in the final set.\n",
      "The former Wimbledon junior champion was full of hope, excited about getting his life back together after a troubled few years and a touch-and-go battle with pancreatitis.\n"
     ]
    }
   ],
   "source": [
    "# Extract top 10 sentences as the summary\n",
    "for i in range(10):\n",
    "  print(ranked_sentences[i][1])"
   ]
  },
  {
   "cell_type": "code",
   "execution_count": null,
   "id": "3b05c13f-0eb5-4a81-965e-e31bb765f079",
   "metadata": {},
   "outputs": [],
   "source": []
  },
  {
   "cell_type": "code",
   "execution_count": null,
   "id": "133ddb41-2e36-4cfa-8623-051622e7c083",
   "metadata": {},
   "outputs": [],
   "source": []
  },
  {
   "cell_type": "code",
   "execution_count": null,
   "id": "ed1db7ae-bd7b-4db6-b1ad-88652e023074",
   "metadata": {},
   "outputs": [],
   "source": []
  },
  {
   "cell_type": "code",
   "execution_count": null,
   "id": "c8f9f410-a5e2-41f5-b88f-0aacc6f694e0",
   "metadata": {},
   "outputs": [],
   "source": []
  },
  {
   "cell_type": "code",
   "execution_count": null,
   "id": "4c60515f-6d1b-47ab-a9c9-fd566180170e",
   "metadata": {},
   "outputs": [],
   "source": []
  },
  {
   "cell_type": "code",
   "execution_count": null,
   "id": "642cb7ac-2ea9-4865-bb8f-76e8fd78cb07",
   "metadata": {},
   "outputs": [],
   "source": []
  },
  {
   "cell_type": "code",
   "execution_count": null,
   "id": "ca6d14ec-daef-4ab1-b3c0-70eb03746ad1",
   "metadata": {},
   "outputs": [],
   "source": []
  },
  {
   "cell_type": "code",
   "execution_count": null,
   "id": "178afef6-eaef-440f-b741-a41f3febcc1f",
   "metadata": {},
   "outputs": [],
   "source": []
  }
 ],
 "metadata": {
  "kernelspec": {
   "display_name": "Python 3 (ipykernel)",
   "language": "python",
   "name": "python3"
  },
  "language_info": {
   "codemirror_mode": {
    "name": "ipython",
    "version": 3
   },
   "file_extension": ".py",
   "mimetype": "text/x-python",
   "name": "python",
   "nbconvert_exporter": "python",
   "pygments_lexer": "ipython3",
   "version": "3.9.17"
  }
 },
 "nbformat": 4,
 "nbformat_minor": 5
}
