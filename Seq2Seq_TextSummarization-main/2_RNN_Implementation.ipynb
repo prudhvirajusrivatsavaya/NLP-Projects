{
 "cells": [
  {
   "cell_type": "code",
   "execution_count": 1,
   "id": "a6ce1d48-3389-4de9-a1cb-1ee7e0c019af",
   "metadata": {},
   "outputs": [],
   "source": [
    "# import all libraries\n",
    "import keras\n",
    "from keras.models import Sequential\n",
    "from keras.layers import Dense, Activation, Dropout\n",
    "from keras.layers import Conv1D\n",
    "from keras.preprocessing.text import Tokenizer\n",
    "from keras.preprocessing.sequence import pad_sequences\n",
    "import pandas as pd\n",
    "import numpy as np\n",
    "import spacy\n",
    "nlp=spacy.load(\"en_core_web_sm\")"
   ]
  },
  {
   "cell_type": "code",
   "execution_count": 2,
   "id": "650cdcc5-b58b-4929-a152-ddd36cf3007a",
   "metadata": {},
   "outputs": [],
   "source": [
    "# Download dataset\n",
    "# https://github.com/crwong/cs224u-project/blob/master/data/sentiment/training.1600000.processed.noemoticon.csv"
   ]
  },
  {
   "cell_type": "code",
   "execution_count": 3,
   "id": "351e9c85-7c0e-4810-9230-678af81cb927",
   "metadata": {},
   "outputs": [],
   "source": [
    "#load the dataset\n",
    "train=pd.read_csv(\"training.1600000.processed.noemoticon.csv\" , encoding= \"latin-1\")\n",
    "Y_train = train[train.columns[0]]\n",
    "X_train = train[train.columns[5]]"
   ]
  },
  {
   "cell_type": "code",
   "execution_count": 4,
   "id": "d67ac687-b7e0-4abf-987d-4451ef468d6c",
   "metadata": {},
   "outputs": [],
   "source": [
    "# split the data into test and train\n",
    "from sklearn.model_selection import train_test_split\n",
    "trainset1x, trainset2x, trainset1y, trainset2y = train_test_split(X_train.values, Y_train.values, test_size=0.02,random_state=42 )\n",
    "trainset2y=pd.get_dummies(trainset2y)"
   ]
  },
  {
   "cell_type": "code",
   "execution_count": 5,
   "id": "7adf8d72-f9ae-4d19-9b59-1cae77cac2f7",
   "metadata": {},
   "outputs": [
    {
     "data": {
      "text/plain": [
       "(19599, 400)"
      ]
     },
     "execution_count": 5,
     "metadata": {},
     "output_type": "execute_result"
    }
   ],
   "source": [
    "len(trainset1x), len(trainset2x)"
   ]
  },
  {
   "cell_type": "code",
   "execution_count": 6,
   "id": "341c1fc3-df2f-42c5-8d15-36613d649d3d",
   "metadata": {},
   "outputs": [],
   "source": [
    "# function to remove stopwords\n",
    "def stopwords(sentence):\n",
    "    new=[]\n",
    "    sentence=nlp(sentence)\n",
    "    for w in sentence:\n",
    "        if (w.is_stop == False) & (w.pos_ !=\"PUNCT\"):\n",
    "            new.append(w.string.strip())\n",
    "        c=\" \".join(str(x) for x in new)\n",
    "    return c"
   ]
  },
  {
   "cell_type": "code",
   "execution_count": 7,
   "id": "49125d1e-f329-4382-9b44-072a2b145bed",
   "metadata": {},
   "outputs": [],
   "source": [
    "# function to lemmatize the tweets\n",
    "def lemmatize(sentence):\n",
    "    sentence=nlp(sentence)\n",
    "    str=\"\"\n",
    "    for w in sentence:\n",
    "        str+=\" \"+w.lemma_\n",
    "    return nlp(str)"
   ]
  },
  {
   "cell_type": "code",
   "execution_count": 8,
   "id": "9514f5a3-faaa-4b9f-919a-9a2479039cab",
   "metadata": {},
   "outputs": [],
   "source": [
    "#loading the glove model\n",
    "def loadGloveModel(gloveFile):\n",
    "    print(\"Loading Glove Model\")\n",
    "    f = open(gloveFile,'r', encoding=\"utf8\")\n",
    "    model = {}\n",
    "    for line in f:\n",
    "        splitLine = line.split()\n",
    "        word = splitLine[0]\n",
    "        embedding = [float(val) for val in splitLine[1:]]\n",
    "        model[word] = embedding\n",
    "    print (\"Done.\"),len(model),(\" words loaded!\")\n",
    "    return model"
   ]
  },
  {
   "cell_type": "code",
   "execution_count": 9,
   "id": "50cdde0e-4060-47e5-8525-a5ee760961f2",
   "metadata": {},
   "outputs": [
    {
     "name": "stdout",
     "output_type": "stream",
     "text": [
      "Loading Glove Model\n",
      "Done.\n"
     ]
    }
   ],
   "source": [
    "# save the glove model\n",
    "model=loadGloveModel(\"glove.twitter.27B.200d.txt\")"
   ]
  },
  {
   "cell_type": "code",
   "execution_count": 10,
   "id": "2c0caf8a-a86e-480e-9dde-5600f6744359",
   "metadata": {},
   "outputs": [
    {
     "data": {
      "text/plain": [
       "'The first serial about my city so stupid... '"
      ]
     },
     "execution_count": 10,
     "metadata": {},
     "output_type": "execute_result"
    }
   ],
   "source": [
    "trainset2x[1]"
   ]
  },
  {
   "cell_type": "code",
   "execution_count": 11,
   "id": "8b2b158d-6430-428d-8fb3-5f3694fef752",
   "metadata": {},
   "outputs": [],
   "source": [
    "#vectorising the sentences\n",
    "def sent_vectorizer(sent, model):\n",
    "    sent_vec = np.zeros(200)\n",
    "    numw = 0\n",
    "    for w in sent.split():\n",
    "        try:\n",
    "            sent_vec = np.add(sent_vec, model[str(w)])\n",
    "            numw+=1\n",
    "        except:\n",
    "            pass\n",
    "    return sent_vec"
   ]
  },
  {
   "cell_type": "code",
   "execution_count": 12,
   "id": "46b8c325-5ec7-43e5-b1c2-305e81228052",
   "metadata": {},
   "outputs": [],
   "source": [
    "#obtain a clean vector\n",
    "cleanvector=[]\n",
    "for i in range(trainset2x.shape[0]):\n",
    "    document=trainset2x[i]\n",
    "    document=document.lower()\n",
    "    document=lemmatize(document)\n",
    "    document=str(document)\n",
    "    cleanvector.append(sent_vectorizer(document,model))"
   ]
  },
  {
   "cell_type": "code",
   "execution_count": 13,
   "id": "31909f54-03db-453c-aa7b-9e81060f039a",
   "metadata": {},
   "outputs": [
    {
     "data": {
      "text/plain": [
       "(400, 200)"
      ]
     },
     "execution_count": 13,
     "metadata": {},
     "output_type": "execute_result"
    }
   ],
   "source": [
    "len(cleanvector), len(cleanvector[0])"
   ]
  },
  {
   "cell_type": "code",
   "execution_count": 14,
   "id": "7625970f-6826-4a68-99ab-5c616db10494",
   "metadata": {},
   "outputs": [
    {
     "name": "stdout",
     "output_type": "stream",
     "text": [
      "(400, 200)\n"
     ]
    },
    {
     "data": {
      "text/plain": [
       "200"
      ]
     },
     "execution_count": 14,
     "metadata": {},
     "output_type": "execute_result"
    }
   ],
   "source": [
    "#Getting the input and output in proper shape\n",
    "cleanvector=np.array(cleanvector)\n",
    "print(cleanvector.shape)\n",
    "len(cleanvector[0])"
   ]
  },
  {
   "cell_type": "code",
   "execution_count": 15,
   "id": "19982184-6f65-42bb-afb0-3d2790455976",
   "metadata": {},
   "outputs": [
    {
     "name": "stdout",
     "output_type": "stream",
     "text": [
      "(400, 200, 1)\n"
     ]
    },
    {
     "data": {
      "text/plain": [
       "200"
      ]
     },
     "execution_count": 15,
     "metadata": {},
     "output_type": "execute_result"
    }
   ],
   "source": [
    "#Getting the input and output in proper shape\n",
    "cleanvector =cleanvector.reshape(len(cleanvector),200,1)\n",
    "print(cleanvector.shape)\n",
    "len(cleanvector[0])"
   ]
  },
  {
   "cell_type": "code",
   "execution_count": 16,
   "id": "627c61c1-9cb5-4909-8b6a-166e057e3a13",
   "metadata": {},
   "outputs": [
    {
     "data": {
      "text/plain": [
       "array(['2 more Exams ', 'The first serial about my city so stupid... '],\n",
       "      dtype=object)"
      ]
     },
     "execution_count": 16,
     "metadata": {},
     "output_type": "execute_result"
    }
   ],
   "source": [
    "trainset2x[0:2]"
   ]
  },
  {
   "cell_type": "code",
   "execution_count": 17,
   "id": "6bcc1bce-156c-4633-bcb7-018b2f426c1f",
   "metadata": {},
   "outputs": [
    {
     "name": "stdout",
     "output_type": "stream",
     "text": [
      "Found 1873 unique tokens.\n",
      "(400, 15) 400\n"
     ]
    }
   ],
   "source": [
    "#tokenizing the sequences\n",
    "tokenizer = Tokenizer(num_words=16000)\n",
    "tokenizer.fit_on_texts(trainset2x)\n",
    "sequences = tokenizer.texts_to_sequences(trainset2x)\n",
    "word_index = tokenizer.word_index\n",
    "print('Found %s unique tokens.' % len(word_index))\n",
    "data = pad_sequences(sequences, maxlen=15, padding=\"post\")\n",
    "print(data.shape, len(data))"
   ]
  },
  {
   "cell_type": "code",
   "execution_count": 18,
   "id": "2e46f663-a142-44c5-973a-0ecdc2b819de",
   "metadata": {},
   "outputs": [],
   "source": [
    "#reshape the data and preparing to train\n",
    "data=data.reshape(len(data),15,1)\n",
    "from sklearn.model_selection import train_test_split\n",
    "trainx, validx, trainy, validy = train_test_split(data, trainset2y, test_size=0.3,random_state=42 )"
   ]
  },
  {
   "cell_type": "code",
   "execution_count": 19,
   "id": "0517432f-7ebc-47f1-943a-8524987523bd",
   "metadata": {},
   "outputs": [
    {
     "data": {
      "text/plain": [
       "(280, 15, 1)"
      ]
     },
     "execution_count": 19,
     "metadata": {},
     "output_type": "execute_result"
    }
   ],
   "source": [
    "trainx.shape"
   ]
  },
  {
   "cell_type": "code",
   "execution_count": 20,
   "id": "609edb6d-c0da-486c-9e84-9685605eadc2",
   "metadata": {},
   "outputs": [
    {
     "data": {
      "text/plain": [
       "1874"
      ]
     },
     "execution_count": 20,
     "metadata": {},
     "output_type": "execute_result"
    }
   ],
   "source": [
    "#calculate the number of words\n",
    "nb_words=len(tokenizer.word_index)+1\n",
    "nb_words"
   ]
  },
  {
   "cell_type": "code",
   "execution_count": 21,
   "id": "84338a2c-cee3-4bfc-a02c-5ebc855d50b9",
   "metadata": {},
   "outputs": [
    {
     "name": "stdout",
     "output_type": "stream",
     "text": [
      "Null word embeddings: 346\n"
     ]
    }
   ],
   "source": [
    "#obtain theembedding matrix\n",
    "embedding_matrix = np.zeros((nb_words, 200))\n",
    "for word, i in word_index.items():\n",
    "    embedding_vector = model.get(word)\n",
    "    if embedding_vector is not None:\n",
    "        embedding_matrix[i] = embedding_vector\n",
    "print('Null word embeddings: %d' % np.sum(np.sum(embedding_matrix, axis=1) == 0))"
   ]
  },
  {
   "cell_type": "code",
   "execution_count": 22,
   "id": "516d4de8-117d-4fea-abec-5694b81311d2",
   "metadata": {},
   "outputs": [
    {
     "data": {
      "text/plain": [
       "(1874, 200)"
      ]
     },
     "execution_count": 22,
     "metadata": {},
     "output_type": "execute_result"
    }
   ],
   "source": [
    "embedding_matrix.shape"
   ]
  },
  {
   "cell_type": "code",
   "execution_count": 23,
   "id": "04e0e233-37be-4d83-ad79-3aa6e072b821",
   "metadata": {},
   "outputs": [],
   "source": [
    "trainy=np.array(trainy)\n",
    "validy=np.array(validy)"
   ]
  },
  {
   "cell_type": "code",
   "execution_count": 24,
   "id": "20f5251d-ffb8-4366-a6b9-891799aaf9e1",
   "metadata": {},
   "outputs": [],
   "source": [
    "#building a simple RNN model\n",
    "def modelbuild():\n",
    "    model = Sequential()\n",
    "    model.add(keras.layers.InputLayer(input_shape=(15,1)))\n",
    "    keras.layers.Embedding(input_dim=nb_words, output_dim=15, weights=[embedding_matrix], input_length=15,trainable=False)\n",
    "    model.add(keras.layers.SimpleRNN(units = 100, activation='relu',use_bias=True))\n",
    "    model.add(keras.layers.Dense(units=1000, input_dim = 2000, activation='sigmoid'))\n",
    "    model.add(keras.layers.Dense(units=500, input_dim=1000, activation='relu'))\n",
    "    model.add(keras.layers.Dense(units=2, input_dim=500,activation='softmax'))\n",
    "    model.compile(loss='categorical_crossentropy', optimizer='adam', metrics=['accuracy'])\n",
    "    return model"
   ]
  },
  {
   "cell_type": "code",
   "execution_count": 25,
   "id": "9aa3ed36-3a72-4aa3-a81c-5bd0abf84f04",
   "metadata": {},
   "outputs": [
    {
     "name": "stdout",
     "output_type": "stream",
     "text": [
      "Epoch 1/10\n",
      "3/3 [==============================] - 2s 234ms/step - loss: 2.8442 - accuracy: 0.4750 - val_loss: 1.1160 - val_accuracy: 0.5083\n",
      "Epoch 2/10\n",
      "3/3 [==============================] - 0s 43ms/step - loss: 1.3007 - accuracy: 0.5321 - val_loss: 0.8702 - val_accuracy: 0.5167\n",
      "Epoch 3/10\n",
      "3/3 [==============================] - 0s 36ms/step - loss: 0.7232 - accuracy: 0.5429 - val_loss: 0.9956 - val_accuracy: 0.4917\n",
      "Epoch 4/10\n",
      "3/3 [==============================] - 0s 41ms/step - loss: 0.8889 - accuracy: 0.4679 - val_loss: 0.7325 - val_accuracy: 0.4750\n",
      "Epoch 5/10\n",
      "3/3 [==============================] - 0s 32ms/step - loss: 0.7064 - accuracy: 0.5536 - val_loss: 0.8442 - val_accuracy: 0.5167\n",
      "Epoch 6/10\n",
      "3/3 [==============================] - 0s 43ms/step - loss: 0.7437 - accuracy: 0.5821 - val_loss: 0.7323 - val_accuracy: 0.5167\n",
      "Epoch 7/10\n",
      "3/3 [==============================] - 0s 50ms/step - loss: 0.6425 - accuracy: 0.6464 - val_loss: 0.7377 - val_accuracy: 0.5083\n",
      "Epoch 8/10\n",
      "3/3 [==============================] - 0s 46ms/step - loss: 0.6661 - accuracy: 0.5179 - val_loss: 0.7207 - val_accuracy: 0.5583\n",
      "Epoch 9/10\n",
      "3/3 [==============================] - 0s 54ms/step - loss: 0.6246 - accuracy: 0.6571 - val_loss: 0.7214 - val_accuracy: 0.4833\n",
      "Epoch 10/10\n",
      "3/3 [==============================] - 0s 45ms/step - loss: 0.6147 - accuracy: 0.6393 - val_loss: 0.7255 - val_accuracy: 0.5083\n"
     ]
    },
    {
     "data": {
      "text/plain": [
       "<keras.src.callbacks.History at 0x19a116b8280>"
      ]
     },
     "execution_count": 25,
     "metadata": {},
     "output_type": "execute_result"
    }
   ],
   "source": [
    "#compiling the model\n",
    "finalmodel = modelbuild()\n",
    "finalmodel.fit(trainx, trainy, epochs=10, batch_size=120,validation_data=(validx,validy))"
   ]
  },
  {
   "cell_type": "code",
   "execution_count": null,
   "id": "33a2f727-2a29-4a24-beb7-feab7aa57cb3",
   "metadata": {},
   "outputs": [],
   "source": []
  },
  {
   "cell_type": "code",
   "execution_count": null,
   "id": "9be45591-db28-4710-8e43-273b4b95a3f4",
   "metadata": {},
   "outputs": [],
   "source": []
  },
  {
   "cell_type": "code",
   "execution_count": null,
   "id": "2c3cd611-fc85-4182-b082-66501f0d9da4",
   "metadata": {},
   "outputs": [],
   "source": []
  },
  {
   "cell_type": "code",
   "execution_count": null,
   "id": "105ccb57-fb38-4d7d-bc1f-aa035329ac43",
   "metadata": {},
   "outputs": [],
   "source": []
  },
  {
   "cell_type": "code",
   "execution_count": null,
   "id": "051e4c01-1833-4972-bb24-798c4993d482",
   "metadata": {},
   "outputs": [],
   "source": []
  },
  {
   "cell_type": "code",
   "execution_count": null,
   "id": "fb5903f0-08bb-47d0-a66e-c8afc79420f5",
   "metadata": {},
   "outputs": [],
   "source": []
  }
 ],
 "metadata": {
  "kernelspec": {
   "display_name": "Python 3 (ipykernel)",
   "language": "python",
   "name": "python3"
  },
  "language_info": {
   "codemirror_mode": {
    "name": "ipython",
    "version": 3
   },
   "file_extension": ".py",
   "mimetype": "text/x-python",
   "name": "python",
   "nbconvert_exporter": "python",
   "pygments_lexer": "ipython3",
   "version": "3.9.17"
  }
 },
 "nbformat": 4,
 "nbformat_minor": 5
}
